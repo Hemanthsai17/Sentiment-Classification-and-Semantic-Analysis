{
 "cells": [
  {
   "cell_type": "code",
   "execution_count": 3,
   "metadata": {
    "execution": {
     "iopub.execute_input": "2024-03-12T08:23:07.356930Z",
     "iopub.status.busy": "2024-03-12T08:23:07.356574Z",
     "iopub.status.idle": "2024-03-12T08:23:07.361815Z",
     "shell.execute_reply": "2024-03-12T08:23:07.360863Z",
     "shell.execute_reply.started": "2024-03-12T08:23:07.356901Z"
    }
   },
   "outputs": [],
   "source": [
    "from transformers import AutoTokenizer, AutoModelForSequenceClassification\n",
    "from torch.utils.data import DataLoader\n",
    "from torch.optim import AdamW\n",
    "from torch.nn import BCEWithLogitsLoss"
   ]
  },
  {
   "cell_type": "code",
   "execution_count": 18,
   "metadata": {
    "execution": {
     "iopub.execute_input": "2024-03-12T08:27:09.881062Z",
     "iopub.status.busy": "2024-03-12T08:27:09.880702Z",
     "iopub.status.idle": "2024-03-12T08:27:09.885897Z",
     "shell.execute_reply": "2024-03-12T08:27:09.884850Z",
     "shell.execute_reply.started": "2024-03-12T08:27:09.881034Z"
    }
   },
   "outputs": [],
   "source": [
    "from sklearn.model_selection import train_test_split\n",
    "from torch.utils.data import Dataset, TensorDataset"
   ]
  },
  {
   "cell_type": "code",
   "execution_count": 4,
   "metadata": {
    "execution": {
     "iopub.execute_input": "2024-03-12T08:23:19.979361Z",
     "iopub.status.busy": "2024-03-12T08:23:19.978436Z",
     "iopub.status.idle": "2024-03-12T08:23:20.556351Z",
     "shell.execute_reply": "2024-03-12T08:23:20.555617Z",
     "shell.execute_reply.started": "2024-03-12T08:23:19.979305Z"
    }
   },
   "outputs": [
    {
     "name": "stderr",
     "output_type": "stream",
     "text": [
      "Some weights of BertForSequenceClassification were not initialized from the model checkpoint at sampathlonka/San-BERT and are newly initialized: ['bert.pooler.dense.bias', 'bert.pooler.dense.weight', 'classifier.bias', 'classifier.weight']\n",
      "You should probably TRAIN this model on a down-stream task to be able to use it for predictions and inference.\n"
     ]
    }
   ],
   "source": [
    "# Define model name and number of labels\n",
    "model_name = \"sampathlonka/San-BERT\"\n",
    "num_labels = 21  # Replace with the actual number of labels in your data\n",
    "\n",
    "# Load tokenizer and model\n",
    "tokenizer = AutoTokenizer.from_pretrained(model_name)\n",
    "model = AutoModelForSequenceClassification.from_pretrained(model_name, num_labels=num_labels)"
   ]
  },
  {
   "cell_type": "code",
   "execution_count": 6,
   "metadata": {
    "execution": {
     "iopub.execute_input": "2024-03-12T08:23:50.802658Z",
     "iopub.status.busy": "2024-03-12T08:23:50.802282Z",
     "iopub.status.idle": "2024-03-12T08:23:51.232437Z",
     "shell.execute_reply": "2024-03-12T08:23:51.231482Z",
     "shell.execute_reply.started": "2024-03-12T08:23:50.802629Z"
    }
   },
   "outputs": [],
   "source": [
    "data = pd.read_excel('/kaggle/input/decemtrail/modified_data.xlsx')"
   ]
  },
  {
   "cell_type": "code",
   "execution_count": 10,
   "metadata": {
    "execution": {
     "iopub.execute_input": "2024-03-12T08:24:25.845160Z",
     "iopub.status.busy": "2024-03-12T08:24:25.844790Z",
     "iopub.status.idle": "2024-03-12T08:24:25.853671Z",
     "shell.execute_reply": "2024-03-12T08:24:25.852679Z",
     "shell.execute_reply.started": "2024-03-12T08:24:25.845131Z"
    }
   },
   "outputs": [
    {
     "name": "stdout",
     "output_type": "stream",
     "text": [
      "Number of rows in training set: 824\n",
      "Number of rows in test set: 207\n"
     ]
    }
   ],
   "source": [
    "test_split = 0.2\n",
    "\n",
    "# Initial train and test split.\n",
    "train_df, test_df = train_test_split(\n",
    "    data,\n",
    "    test_size=test_split,\n",
    ")\n",
    "print(f\"Number of rows in training set: {len(train_df)}\")\n",
    "print(f\"Number of rows in test set: {len(test_df)}\")"
   ]
  },
  {
   "cell_type": "code",
   "execution_count": 44,
   "metadata": {
    "execution": {
     "iopub.execute_input": "2024-03-12T08:37:45.558233Z",
     "iopub.status.busy": "2024-03-12T08:37:45.557510Z",
     "iopub.status.idle": "2024-03-12T08:37:45.564503Z",
     "shell.execute_reply": "2024-03-12T08:37:45.563527Z",
     "shell.execute_reply.started": "2024-03-12T08:37:45.558203Z"
    }
   },
   "outputs": [],
   "source": [
    "# Split the data into texts and labels\n",
    "train_texts = train_df['Text'].tolist()\n",
    "train_labels = train_df.iloc[:, 1:].values.tolist()"
   ]
  },
  {
   "cell_type": "code",
   "execution_count": 45,
   "metadata": {
    "execution": {
     "iopub.execute_input": "2024-03-12T08:38:54.261029Z",
     "iopub.status.busy": "2024-03-12T08:38:54.260114Z",
     "iopub.status.idle": "2024-03-12T08:38:54.267215Z",
     "shell.execute_reply": "2024-03-12T08:38:54.266328Z",
     "shell.execute_reply.started": "2024-03-12T08:38:54.260996Z"
    }
   },
   "outputs": [
    {
     "name": "stdout",
     "output_type": "stream",
     "text": [
      "Number of rows in training set: 103\n",
      "Number of rows in test set: 104\n"
     ]
    }
   ],
   "source": [
    "test_split = 0.5\n",
    "\n",
    "# Initial train and test split.\n",
    "val_df, test_df = train_test_split(\n",
    "    test_df,\n",
    "    test_size=test_split,\n",
    ")\n",
    "print(f\"Number of rows in training set: {len(val_df)}\")\n",
    "print(f\"Number of rows in test set: {len(test_df)}\")"
   ]
  },
  {
   "cell_type": "code",
   "execution_count": 46,
   "metadata": {
    "execution": {
     "iopub.execute_input": "2024-03-12T08:39:06.209768Z",
     "iopub.status.busy": "2024-03-12T08:39:06.209063Z",
     "iopub.status.idle": "2024-03-12T08:39:06.215098Z",
     "shell.execute_reply": "2024-03-12T08:39:06.214026Z",
     "shell.execute_reply.started": "2024-03-12T08:39:06.209737Z"
    }
   },
   "outputs": [],
   "source": [
    "# Split the data into texts and labels\n",
    "val_texts = val_df['Text'].tolist()\n",
    "val_labels = val_df.iloc[:, 1:].values.tolist()"
   ]
  },
  {
   "cell_type": "code",
   "execution_count": 14,
   "metadata": {
    "execution": {
     "iopub.execute_input": "2024-03-12T08:25:34.898326Z",
     "iopub.status.busy": "2024-03-12T08:25:34.897572Z",
     "iopub.status.idle": "2024-03-12T08:25:34.902020Z",
     "shell.execute_reply": "2024-03-12T08:25:34.901123Z",
     "shell.execute_reply.started": "2024-03-12T08:25:34.898289Z"
    }
   },
   "outputs": [],
   "source": [
    "#train_texts\n",
    "#train_labels"
   ]
  },
  {
   "cell_type": "code",
   "execution_count": 24,
   "metadata": {
    "execution": {
     "iopub.execute_input": "2024-03-12T08:29:45.566102Z",
     "iopub.status.busy": "2024-03-12T08:29:45.565468Z",
     "iopub.status.idle": "2024-03-12T08:29:45.657645Z",
     "shell.execute_reply": "2024-03-12T08:29:45.656848Z",
     "shell.execute_reply.started": "2024-03-12T08:29:45.566069Z"
    }
   },
   "outputs": [],
   "source": [
    "# Tokenize data\n",
    "train_encodings = tokenizer(train_texts, truncation=True, padding=True, max_length=512)"
   ]
  },
  {
   "cell_type": "code",
   "execution_count": 47,
   "metadata": {
    "execution": {
     "iopub.execute_input": "2024-03-12T08:39:20.744731Z",
     "iopub.status.busy": "2024-03-12T08:39:20.744320Z",
     "iopub.status.idle": "2024-03-12T08:39:20.758954Z",
     "shell.execute_reply": "2024-03-12T08:39:20.758131Z",
     "shell.execute_reply.started": "2024-03-12T08:39:20.744702Z"
    }
   },
   "outputs": [],
   "source": [
    "# Tokenize data\n",
    "val_encodings = tokenizer(val_texts, truncation=True, padding=True, max_length=512)"
   ]
  },
  {
   "cell_type": "code",
   "execution_count": 30,
   "metadata": {
    "execution": {
     "iopub.execute_input": "2024-03-12T08:30:16.136156Z",
     "iopub.status.busy": "2024-03-12T08:30:16.135308Z",
     "iopub.status.idle": "2024-03-12T08:30:16.141759Z",
     "shell.execute_reply": "2024-03-12T08:30:16.140827Z",
     "shell.execute_reply.started": "2024-03-12T08:30:16.136127Z"
    }
   },
   "outputs": [
    {
     "data": {
      "text/plain": [
       "49"
      ]
     },
     "execution_count": 30,
     "metadata": {},
     "output_type": "execute_result"
    }
   ],
   "source": [
    "len(train_encodings[0])"
   ]
  },
  {
   "cell_type": "code",
   "execution_count": 32,
   "metadata": {
    "execution": {
     "iopub.execute_input": "2024-03-12T08:31:54.266727Z",
     "iopub.status.busy": "2024-03-12T08:31:54.265876Z",
     "iopub.status.idle": "2024-03-12T08:31:54.272872Z",
     "shell.execute_reply": "2024-03-12T08:31:54.271974Z",
     "shell.execute_reply.started": "2024-03-12T08:31:54.266697Z"
    }
   },
   "outputs": [],
   "source": [
    "from torch.utils.data import Dataset\n",
    "\n",
    "class CustomDataset(Dataset):\n",
    "    def __init__(self, encodings, labels):\n",
    "        self.encodings = encodings\n",
    "        self.labels = labels\n",
    "    \n",
    "    def __len__(self):\n",
    "        return len(self.encodings[\"input_ids\"])\n",
    "    \n",
    "    def __getitem__(self, idx):\n",
    "        item = {key: val[idx] for key, val in self.encodings.items()}\n",
    "        item[\"labels\"] = self.labels[idx]\n",
    "        return item"
   ]
  },
  {
   "cell_type": "code",
   "execution_count": 65,
   "metadata": {
    "execution": {
     "iopub.execute_input": "2024-03-12T08:49:44.215170Z",
     "iopub.status.busy": "2024-03-12T08:49:44.214572Z",
     "iopub.status.idle": "2024-03-12T08:49:44.219630Z",
     "shell.execute_reply": "2024-03-12T08:49:44.218739Z",
     "shell.execute_reply.started": "2024-03-12T08:49:44.215139Z"
    }
   },
   "outputs": [],
   "source": [
    "# Create custom dataset\n",
    "train_dataset = CustomDataset(train_encodings, train_labels)\n",
    "\n",
    "# Create dataloader\n",
    "train_dataloader = DataLoader(train_dataset, batch_size=4, shuffle=False)"
   ]
  },
  {
   "cell_type": "code",
   "execution_count": 66,
   "metadata": {
    "execution": {
     "iopub.execute_input": "2024-03-12T08:49:44.482496Z",
     "iopub.status.busy": "2024-03-12T08:49:44.482091Z",
     "iopub.status.idle": "2024-03-12T08:49:44.487477Z",
     "shell.execute_reply": "2024-03-12T08:49:44.486520Z",
     "shell.execute_reply.started": "2024-03-12T08:49:44.482466Z"
    }
   },
   "outputs": [],
   "source": [
    "# Create custom dataset\n",
    "val_dataset = CustomDataset(val_encodings, train_labels)\n",
    "\n",
    "# Create dataloader\n",
    "val_dataloader = DataLoader(val_dataset, batch_size=4, shuffle=True)"
   ]
  },
  {
   "cell_type": "code",
   "execution_count": 58,
   "metadata": {
    "execution": {
     "iopub.execute_input": "2024-03-12T08:43:47.729881Z",
     "iopub.status.busy": "2024-03-12T08:43:47.729514Z",
     "iopub.status.idle": "2024-03-12T08:43:47.733931Z",
     "shell.execute_reply": "2024-03-12T08:43:47.732998Z",
     "shell.execute_reply.started": "2024-03-12T08:43:47.729851Z"
    }
   },
   "outputs": [],
   "source": [
    "#next(iter(train_dataloader))\n",
    "#next(iter(train_dataset))"
   ]
  }
 ],
 "metadata": {
  "kaggle": {
   "accelerator": "gpu",
   "dataSources": [
    {
     "datasetId": 4577736,
     "sourceId": 7814608,
     "sourceType": "datasetVersion"
    }
   ],
   "dockerImageVersionId": 30664,
   "isGpuEnabled": true,
   "isInternetEnabled": true,
   "language": "python",
   "sourceType": "notebook"
  },
  "kernelspec": {
   "display_name": "Python 3 (ipykernel)",
   "language": "python",
   "name": "python3"
  },
  "language_info": {
   "codemirror_mode": {
    "name": "ipython",
    "version": 3
   },
   "file_extension": ".py",
   "mimetype": "text/x-python",
   "name": "python",
   "nbconvert_exporter": "python",
   "pygments_lexer": "ipython3",
   "version": "3.11.4"
  }
 },
 "nbformat": 4,
 "nbformat_minor": 4
}

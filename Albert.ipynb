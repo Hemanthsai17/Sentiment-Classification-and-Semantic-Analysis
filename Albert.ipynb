{
 "cells": [
  {
   "cell_type": "code",
   "execution_count": null,
   "metadata": {
    "execution": {
     "iopub.execute_input": "2024-03-05T10:24:47.766985Z",
     "iopub.status.busy": "2024-03-05T10:24:47.766200Z",
     "iopub.status.idle": "2024-03-05T10:24:47.773427Z",
     "shell.execute_reply": "2024-03-05T10:24:47.772217Z",
     "shell.execute_reply.started": "2024-03-05T10:24:47.766946Z"
    }
   },
   "outputs": [],
   "source": [
    "import pandas as pd\n",
    "import seaborn as sns\n",
    "import torch\n",
    "import matplotlib.pyplot as plt\n",
    "from sklearn.model_selection import train_test_split\n",
    "from transformers import TrainingArguments, AutoTokenizer, AutoModelForSequenceClassification, Trainer\n",
    "from torch.utils.data.dataset import Dataset"
   ]
  },
  {
   "cell_type": "code",
   "execution_count": null,
   "metadata": {
    "execution": {
     "iopub.execute_input": "2024-03-05T10:24:47.774926Z",
     "iopub.status.busy": "2024-03-05T10:24:47.774619Z",
     "iopub.status.idle": "2024-03-05T10:24:48.977464Z",
     "shell.execute_reply": "2024-03-05T10:24:48.976657Z",
     "shell.execute_reply.started": "2024-03-05T10:24:47.774900Z"
    }
   },
   "outputs": [],
   "source": [
    "# Read the Excel file into a DataFrame\n",
    "df = pd.read_excel('/kaggle/input/spsyhtdt/manipulated_data.xlsx')"
   ]
  },
  {
   "cell_type": "code",
   "execution_count": null,
   "metadata": {
    "execution": {
     "iopub.execute_input": "2024-03-05T10:25:25.938963Z",
     "iopub.status.busy": "2024-03-05T10:25:25.938615Z",
     "iopub.status.idle": "2024-03-05T10:25:25.943848Z",
     "shell.execute_reply": "2024-03-05T10:25:25.942837Z",
     "shell.execute_reply.started": "2024-03-05T10:25:25.938938Z"
    }
   },
   "outputs": [],
   "source": [
    "# Define a list of columns that should not be chosen as label columns\n",
    "not_chosen_columns = ['Text']\n",
    "\n",
    "# Select label columns that are not in the list of not chosen columns\n",
    "label_columns = [col for col in df.columns if col not in not_chosen_columns]"
   ]
  },
  {
   "cell_type": "code",
   "execution_count": null,
   "metadata": {
    "execution": {
     "iopub.execute_input": "2024-03-05T10:25:26.462942Z",
     "iopub.status.busy": "2024-03-05T10:25:26.462138Z",
     "iopub.status.idle": "2024-03-05T10:25:26.475821Z",
     "shell.execute_reply": "2024-03-05T10:25:26.474767Z",
     "shell.execute_reply.started": "2024-03-05T10:25:26.462904Z"
    }
   },
   "outputs": [],
   "source": [
    "test_split = 0.2\n",
    "\n",
    "# Initial train and test split.\n",
    "train_df, test_df = train_test_split(\n",
    "    df,\n",
    "    test_size=test_split,\n",
    ")\n",
    "print(f\"Number of rows in training set: {len(train_df)}\")\n",
    "print(f\"Number of rows in test set: {len(test_df)}\")"
   ]
  },
  {
   "cell_type": "code",
   "execution_count": null,
   "metadata": {
    "execution": {
     "iopub.execute_input": "2024-03-05T10:25:26.824391Z",
     "iopub.status.busy": "2024-03-05T10:25:26.823693Z",
     "iopub.status.idle": "2024-03-05T10:25:26.830518Z",
     "shell.execute_reply": "2024-03-05T10:25:26.829526Z",
     "shell.execute_reply.started": "2024-03-05T10:25:26.824351Z"
    }
   },
   "outputs": [],
   "source": [
    "test_split = 0.5\n",
    "\n",
    "# Initial train and test split.\n",
    "test_df, eval_df = train_test_split(\n",
    "    test_df,\n",
    "    test_size=test_split,\n",
    ")\n",
    "print(f\"Number of rows in training set: {len(test_df)}\")\n",
    "print(f\"Number of rows in test set: {len(eval_df)}\")"
   ]
  },
  {
   "cell_type": "code",
   "execution_count": null,
   "metadata": {
    "execution": {
     "iopub.execute_input": "2024-03-05T10:25:27.096473Z",
     "iopub.status.busy": "2024-03-05T10:25:27.095665Z",
     "iopub.status.idle": "2024-03-05T10:25:27.102141Z",
     "shell.execute_reply": "2024-03-05T10:25:27.101141Z",
     "shell.execute_reply.started": "2024-03-05T10:25:27.096445Z"
    }
   },
   "outputs": [],
   "source": [
    "# Create a new DataFrame containing only the selected label columns\n",
    "df_labels_train = train_df[label_columns]\n",
    "df_labels_eval = eval_df[label_columns]"
   ]
  },
  {
   "cell_type": "code",
   "execution_count": null,
   "metadata": {
    "execution": {
     "iopub.execute_input": "2024-03-05T10:25:27.424238Z",
     "iopub.status.busy": "2024-03-05T10:25:27.423550Z",
     "iopub.status.idle": "2024-03-05T10:25:27.430741Z",
     "shell.execute_reply": "2024-03-05T10:25:27.429786Z",
     "shell.execute_reply.started": "2024-03-05T10:25:27.424207Z"
    }
   },
   "outputs": [],
   "source": [
    "# Convert the label columns to lists for each row\n",
    "labels_list_train = df_labels_train.values.tolist()\n",
    "labels_list_eval = df_labels_eval.values.tolist()"
   ]
  },
  {
   "cell_type": "code",
   "execution_count": null,
   "metadata": {
    "execution": {
     "iopub.execute_input": "2024-03-05T10:25:28.062435Z",
     "iopub.status.busy": "2024-03-05T10:25:28.061763Z",
     "iopub.status.idle": "2024-03-05T10:25:28.072614Z",
     "shell.execute_reply": "2024-03-05T10:25:28.071713Z",
     "shell.execute_reply.started": "2024-03-05T10:25:28.062401Z"
    }
   },
   "outputs": [],
   "source": [
    "labels_list_train = [[float(label) for label in labels] for labels in labels_list_train]\n",
    "labels_list_eval = [[float(label) for label in labels] for labels in labels_list_eval]"
   ]
  },
  {
   "cell_type": "code",
   "execution_count": null,
   "metadata": {
    "execution": {
     "iopub.execute_input": "2024-03-05T10:25:28.375400Z",
     "iopub.status.busy": "2024-03-05T10:25:28.374549Z",
     "iopub.status.idle": "2024-03-05T10:25:30.597017Z",
     "shell.execute_reply": "2024-03-05T10:25:30.596212Z",
     "shell.execute_reply.started": "2024-03-05T10:25:28.375352Z"
    }
   },
   "outputs": [],
   "source": [
    "train_texts = train_df['Text'].tolist()\n",
    "train_labels = labels_list_train\n",
    "\n",
    "eval_texts = eval_df['Text'].tolist()\n",
    "eval_labels = labels_list_eval\n",
    "\n",
    "tokenizer = AutoTokenizer.from_pretrained('sampathlonka/San-ALBERT')"
   ]
  },
  {
   "cell_type": "code",
   "execution_count": null,
   "metadata": {
    "execution": {
     "iopub.execute_input": "2024-03-05T10:25:30.598850Z",
     "iopub.status.busy": "2024-03-05T10:25:30.598565Z",
     "iopub.status.idle": "2024-03-05T10:25:30.736826Z",
     "shell.execute_reply": "2024-03-05T10:25:30.736013Z",
     "shell.execute_reply.started": "2024-03-05T10:25:30.598826Z"
    }
   },
   "outputs": [],
   "source": [
    "train_encodings = tokenizer(train_texts, padding=\"max_length\", truncation=True, max_length=512)\n",
    "eval_encodings = tokenizer(eval_texts, padding=\"max_length\", truncation=True, max_length=512)"
   ]
  },
  {
   "cell_type": "code",
   "execution_count": null,
   "metadata": {
    "execution": {
     "iopub.execute_input": "2024-03-05T10:25:30.738781Z",
     "iopub.status.busy": "2024-03-05T10:25:30.738093Z",
     "iopub.status.idle": "2024-03-05T10:25:30.745059Z",
     "shell.execute_reply": "2024-03-05T10:25:30.744152Z",
     "shell.execute_reply.started": "2024-03-05T10:25:30.738748Z"
    }
   },
   "outputs": [],
   "source": [
    "class TextClassifierDataset(Dataset):\n",
    "    def __init__(self, encodings, labels):\n",
    "        self.encodings = encodings\n",
    "        self.labels = labels\n",
    "\n",
    "    def __len__(self):\n",
    "        return len(self.labels)\n",
    "\n",
    "    def __getitem__(self, idx):\n",
    "        item = {key: torch.tensor(val[idx]) for key, val in self.encodings.items()}\n",
    "        item[\"labels\"] = torch.tensor(self.labels[idx])\n",
    "        return item"
   ]
  },
  {
   "cell_type": "code",
   "execution_count": null,
   "metadata": {
    "execution": {
     "iopub.execute_input": "2024-03-05T10:25:31.039129Z",
     "iopub.status.busy": "2024-03-05T10:25:31.038429Z",
     "iopub.status.idle": "2024-03-05T10:25:31.043162Z",
     "shell.execute_reply": "2024-03-05T10:25:31.042233Z",
     "shell.execute_reply.started": "2024-03-05T10:25:31.039098Z"
    }
   },
   "outputs": [],
   "source": [
    "train_dataset = TextClassifierDataset(train_encodings, train_labels)\n",
    "eval_dataset = TextClassifierDataset(eval_encodings, eval_labels)"
   ]
  },
  {
   "cell_type": "code",
   "execution_count": null,
   "metadata": {
    "execution": {
     "iopub.execute_input": "2024-03-05T10:25:31.277771Z",
     "iopub.status.busy": "2024-03-05T10:25:31.277413Z",
     "iopub.status.idle": "2024-03-05T10:25:33.485081Z",
     "shell.execute_reply": "2024-03-05T10:25:33.484272Z",
     "shell.execute_reply.started": "2024-03-05T10:25:31.277733Z"
    }
   },
   "outputs": [],
   "source": [
    "model = AutoModelForSequenceClassification.from_pretrained(\n",
    "    \"sampathlonka/San-ALBERT\",\n",
    "    problem_type=\"multi_label_classification\",\n",
    "    num_labels=49\n",
    ")"
   ]
  },
  {
   "cell_type": "code",
   "execution_count": null,
   "metadata": {
    "execution": {
     "iopub.execute_input": "2024-03-05T10:25:33.486991Z",
     "iopub.status.busy": "2024-03-05T10:25:33.486697Z",
     "iopub.status.idle": "2024-03-05T10:25:34.564050Z",
     "shell.execute_reply": "2024-03-05T10:25:34.563319Z",
     "shell.execute_reply.started": "2024-03-05T10:25:33.486965Z"
    }
   },
   "outputs": [],
   "source": [
    "training_arguments = TrainingArguments(\n",
    "    output_dir=\"Trail\",\n",
    "    evaluation_strategy=\"epoch\",\n",
    "    per_device_train_batch_size=4,\n",
    "    per_device_eval_batch_size=4,\n",
    "    num_train_epochs=5,\n",
    "    save_total_limit=2,\n",
    "    save_strategy=\"epoch\",\n",
    ")\n",
    "\n",
    "trainer = Trainer(\n",
    "    model=model,\n",
    "    args=training_arguments,\n",
    "    train_dataset=train_dataset,\n",
    "    eval_dataset=eval_dataset,\n",
    "    tokenizer=tokenizer\n",
    ")"
   ]
  },
  {
   "cell_type": "code",
   "execution_count": null,
   "metadata": {
    "execution": {
     "iopub.execute_input": "2024-03-05T10:25:34.565409Z",
     "iopub.status.busy": "2024-03-05T10:25:34.565100Z",
     "iopub.status.idle": "2024-03-05T10:28:25.462914Z",
     "shell.execute_reply": "2024-03-05T10:28:25.461902Z",
     "shell.execute_reply.started": "2024-03-05T10:25:34.565370Z"
    }
   },
   "outputs": [],
   "source": [
    "trainer.train()"
   ]
  },
  {
   "cell_type": "code",
   "execution_count": null,
   "metadata": {
    "execution": {
     "iopub.execute_input": "2024-03-05T10:29:17.366798Z",
     "iopub.status.busy": "2024-03-05T10:29:17.365962Z",
     "iopub.status.idle": "2024-03-05T10:29:17.469772Z",
     "shell.execute_reply": "2024-03-05T10:29:17.468676Z",
     "shell.execute_reply.started": "2024-03-05T10:29:17.366761Z"
    }
   },
   "outputs": [],
   "source": [
    "from huggingface_hub import login\n",
    "login(\"*******************************\",write_permission=True)"
   ]
  },
  {
   "cell_type": "code",
   "execution_count": null,
   "metadata": {
    "execution": {
     "iopub.execute_input": "2024-03-05T10:29:27.762182Z",
     "iopub.status.busy": "2024-03-05T10:29:27.761801Z",
     "iopub.status.idle": "2024-03-05T10:29:31.611932Z",
     "shell.execute_reply": "2024-03-05T10:29:31.610804Z",
     "shell.execute_reply.started": "2024-03-05T10:29:27.762150Z"
    }
   },
   "outputs": [],
   "source": [
    "trainer.push_to_hub()"
   ]
  },
  {
   "cell_type": "code",
   "execution_count": null,
   "metadata": {
    "execution": {
     "iopub.execute_input": "2024-03-05T10:30:08.887194Z",
     "iopub.status.busy": "2024-03-05T10:30:08.886856Z",
     "iopub.status.idle": "2024-03-05T10:30:11.709541Z",
     "shell.execute_reply": "2024-03-05T10:30:11.707792Z",
     "shell.execute_reply.started": "2024-03-05T10:30:08.887170Z"
    }
   },
   "outputs": [],
   "source": [
    "# Load model directly\n",
    "from transformers import AutoTokenizer, AutoModelForSequenceClassification\n",
    "\n",
    "tokenizer = AutoTokenizer.from_pretrained(\"Hemanth-Sai/Trail\")\n",
    "model = AutoModelForSequenceClassification.from_pretrained(\"Hemanth-Sai/Trail\")"
   ]
  },
  {
   "cell_type": "code",
   "execution_count": null,
   "metadata": {
    "execution": {
     "iopub.execute_input": "2024-03-05T10:32:02.993633Z",
     "iopub.status.busy": "2024-03-05T10:32:02.992950Z",
     "iopub.status.idle": "2024-03-05T10:32:03.247747Z",
     "shell.execute_reply": "2024-03-05T10:32:03.246804Z",
     "shell.execute_reply.started": "2024-03-05T10:32:02.993600Z"
    }
   },
   "outputs": [],
   "source": [
    "# Use a pipeline as a high-level helper\n",
    "from transformers import pipeline\n",
    "\n",
    "pipe = pipeline(\"text-classification\", model=\"Hemanth-Sai/Trail\")\n",
    "\n",
    "results=pipe(\"नमो नमः\")\n",
    "\n",
    "results"
   ]
  },
  {
   "cell_type": "code",
   "execution_count": null,
   "metadata": {},
   "outputs": [],
   "source": []
  }
 ],
 "metadata": {
  "kaggle": {
   "accelerator": "none",
   "dataSources": [
    {
     "datasetId": 4542516,
     "sourceId": 7765971,
     "sourceType": "datasetVersion"
    }
   ],
   "dockerImageVersionId": 30665,
   "isGpuEnabled": false,
   "isInternetEnabled": true,
   "language": "python",
   "sourceType": "notebook"
  },
  "kernelspec": {
   "display_name": "Python [conda env:base] *",
   "language": "python",
   "name": "conda-base-py"
  },
  "language_info": {
   "codemirror_mode": {
    "name": "ipython",
    "version": 3
   },
   "file_extension": ".py",
   "mimetype": "text/x-python",
   "name": "python",
   "nbconvert_exporter": "python",
   "pygments_lexer": "ipython3",
   "version": "3.12.3"
  }
 },
 "nbformat": 4,
 "nbformat_minor": 4
}

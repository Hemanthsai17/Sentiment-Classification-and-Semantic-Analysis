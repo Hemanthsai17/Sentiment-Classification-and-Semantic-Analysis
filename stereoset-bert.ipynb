{
 "cells": [
  {
   "cell_type": "code",
   "execution_count": 1,
   "metadata": {
    "execution": {
     "iopub.execute_input": "2023-05-13T11:45:57.466586Z",
     "iopub.status.busy": "2023-05-13T11:45:57.466078Z",
     "iopub.status.idle": "2023-05-13T11:46:31.673685Z",
     "shell.execute_reply": "2023-05-13T11:46:31.672485Z",
     "shell.execute_reply.started": "2023-05-13T11:45:57.466553Z"
    }
   },
   "outputs": [
    {
     "name": "stdout",
     "output_type": "stream",
     "text": [
      "\u001b[33mWARNING: Running pip as the 'root' user can result in broken permissions and conflicting behaviour with the system package manager. It is recommended to use a virtual environment instead: https://pip.pypa.io/warnings/venv\u001b[0m\u001b[33m\n",
      "\u001b[0m\u001b[33mWARNING: Running pip as the 'root' user can result in broken permissions and conflicting behaviour with the system package manager. It is recommended to use a virtual environment instead: https://pip.pypa.io/warnings/venv\u001b[0m\u001b[33m\n",
      "\u001b[0m\u001b[33mWARNING: Running pip as the 'root' user can result in broken permissions and conflicting behaviour with the system package manager. It is recommended to use a virtual environment instead: https://pip.pypa.io/warnings/venv\u001b[0m\u001b[33m\n",
      "\u001b[0m"
     ]
    }
   ],
   "source": [
    "!pip install datasets -q\n",
    "!pip install transformers -q\n",
    "!pip install sentencepiece -q"
   ]
  },
  {
   "cell_type": "code",
   "execution_count": 2,
   "metadata": {
    "_cell_guid": "b1076dfc-b9ad-4769-8c92-a6c4dae69d19",
    "_uuid": "8f2839f25d086af736a60e9eeb907d3b93b6e0e5",
    "execution": {
     "iopub.execute_input": "2023-05-13T11:46:31.680028Z",
     "iopub.status.busy": "2023-05-13T11:46:31.679192Z",
     "iopub.status.idle": "2023-05-13T11:46:31.686595Z",
     "shell.execute_reply": "2023-05-13T11:46:31.685767Z",
     "shell.execute_reply.started": "2023-05-13T11:46:31.679988Z"
    }
   },
   "outputs": [],
   "source": [
    "import numpy as np\n",
    "import pandas as pd"
   ]
  },
  {
   "cell_type": "markdown",
   "metadata": {},
   "source": [
    "# Stereoset Dataset"
   ]
  },
  {
   "cell_type": "code",
   "execution_count": 3,
   "metadata": {
    "execution": {
     "iopub.execute_input": "2023-05-13T11:46:31.690318Z",
     "iopub.status.busy": "2023-05-13T11:46:31.689681Z",
     "iopub.status.idle": "2023-05-13T11:46:35.233998Z",
     "shell.execute_reply": "2023-05-13T11:46:35.233071Z",
     "shell.execute_reply.started": "2023-05-13T11:46:31.690284Z"
    }
   },
   "outputs": [
    {
     "data": {
      "application/vnd.jupyter.widget-view+json": {
       "model_id": "c58caea4f6e24ff98225ff538dd56602",
       "version_major": 2,
       "version_minor": 0
      },
      "text/plain": [
       "Downloading builder script:   0%|          | 0.00/1.84k [00:00<?, ?B/s]"
      ]
     },
     "metadata": {},
     "output_type": "display_data"
    },
    {
     "data": {
      "application/vnd.jupyter.widget-view+json": {
       "model_id": "170bc03ecb144038920f1a7246f4c25e",
       "version_major": 2,
       "version_minor": 0
      },
      "text/plain": [
       "Downloading metadata:   0%|          | 0.00/873 [00:00<?, ?B/s]"
      ]
     },
     "metadata": {},
     "output_type": "display_data"
    },
    {
     "name": "stdout",
     "output_type": "stream",
     "text": [
      "Downloading and preparing dataset stereoset/intersentence (download: 11.92 MiB, generated: 2.18 MiB, post-processed: Unknown size, total: 14.10 MiB) to /root/.cache/huggingface/datasets/stereoset/intersentence/1.0.0/b188e395e95b37c7a095ebc2de352fbdb249d67d1beb2ff639bb4dc37dfbb090...\n"
     ]
    },
    {
     "data": {
      "application/vnd.jupyter.widget-view+json": {
       "model_id": "50a33e3531eb41ca98701bc1fb2ea2dd",
       "version_major": 2,
       "version_minor": 0
      },
      "text/plain": [
       "Downloading data:   0%|          | 0.00/1.34M [00:00<?, ?B/s]"
      ]
     },
     "metadata": {},
     "output_type": "display_data"
    },
    {
     "data": {
      "application/vnd.jupyter.widget-view+json": {
       "model_id": "",
       "version_major": 2,
       "version_minor": 0
      },
      "text/plain": [
       "Generating validation split:   0%|          | 0/2123 [00:00<?, ? examples/s]"
      ]
     },
     "metadata": {},
     "output_type": "display_data"
    },
    {
     "name": "stdout",
     "output_type": "stream",
     "text": [
      "Dataset stereoset downloaded and prepared to /root/.cache/huggingface/datasets/stereoset/intersentence/1.0.0/b188e395e95b37c7a095ebc2de352fbdb249d67d1beb2ff639bb4dc37dfbb090. Subsequent calls will reuse this data.\n"
     ]
    },
    {
     "data": {
      "application/vnd.jupyter.widget-view+json": {
       "model_id": "74188c90a3f3456b88cf5cceafa777b7",
       "version_major": 2,
       "version_minor": 0
      },
      "text/plain": [
       "  0%|          | 0/1 [00:00<?, ?it/s]"
      ]
     },
     "metadata": {},
     "output_type": "display_data"
    }
   ],
   "source": [
    "from datasets import load_dataset\n",
    "\n",
    "dataset = load_dataset('stereoset', 'intersentence')"
   ]
  },
  {
   "cell_type": "code",
   "execution_count": 4,
   "metadata": {
    "execution": {
     "iopub.execute_input": "2023-05-13T11:46:35.237558Z",
     "iopub.status.busy": "2023-05-13T11:46:35.236670Z",
     "iopub.status.idle": "2023-05-13T11:46:35.245517Z",
     "shell.execute_reply": "2023-05-13T11:46:35.244611Z",
     "shell.execute_reply.started": "2023-05-13T11:46:35.237523Z"
    }
   },
   "outputs": [
    {
     "data": {
      "text/plain": [
       "DatasetDict({\n",
       "    validation: Dataset({\n",
       "        features: ['id', 'target', 'bias_type', 'context', 'sentences'],\n",
       "        num_rows: 2123\n",
       "    })\n",
       "})"
      ]
     },
     "execution_count": 4,
     "metadata": {},
     "output_type": "execute_result"
    }
   ],
   "source": [
    "dataset"
   ]
  },
  {
   "cell_type": "code",
   "execution_count": 5,
   "metadata": {
    "execution": {
     "iopub.execute_input": "2023-05-13T11:46:35.247756Z",
     "iopub.status.busy": "2023-05-13T11:46:35.246995Z",
     "iopub.status.idle": "2023-05-13T11:46:35.259966Z",
     "shell.execute_reply": "2023-05-13T11:46:35.258918Z",
     "shell.execute_reply.started": "2023-05-13T11:46:35.247613Z"
    }
   },
   "outputs": [
    {
     "data": {
      "text/plain": [
       "['The wind is blowing at 80 mph.',\n",
       " 'She does not have to worry about child predators.',\n",
       " 'She is a target for child predators.']"
      ]
     },
     "execution_count": 5,
     "metadata": {},
     "output_type": "execute_result"
    }
   ],
   "source": [
    "dataset['validation'][2:3]['sentences'][0]['sentence']"
   ]
  },
  {
   "cell_type": "code",
   "execution_count": 6,
   "metadata": {
    "execution": {
     "iopub.execute_input": "2023-05-13T11:46:35.262139Z",
     "iopub.status.busy": "2023-05-13T11:46:35.261562Z",
     "iopub.status.idle": "2023-05-13T11:46:35.586129Z",
     "shell.execute_reply": "2023-05-13T11:46:35.585186Z",
     "shell.execute_reply.started": "2023-05-13T11:46:35.262106Z"
    }
   },
   "outputs": [],
   "source": [
    "stereo_sentence = []\n",
    "ster = dataset['validation'][0:]['bias_type']\n",
    "\n",
    "for i in range(len(ster)):\n",
    "    if ster[i] == 'gender':\n",
    "        sent = dataset['validation'][i:i+1]['sentences'][0]['sentence']\n",
    "        gold_label = dataset['validation'][i:i+1]['sentences'][0]['gold_label']\n",
    "        for j in range(len(gold_label)):\n",
    "            if gold_label[j] == 0:\n",
    "                #print(sent[j])\n",
    "                stereo_sentence.append(sent[j])"
   ]
  },
  {
   "cell_type": "code",
   "execution_count": 7,
   "metadata": {
    "execution": {
     "iopub.execute_input": "2023-05-13T11:46:35.587896Z",
     "iopub.status.busy": "2023-05-13T11:46:35.587529Z",
     "iopub.status.idle": "2023-05-13T11:46:35.597393Z",
     "shell.execute_reply": "2023-05-13T11:46:35.596362Z",
     "shell.execute_reply.started": "2023-05-13T11:46:35.587863Z"
    }
   },
   "outputs": [
    {
     "data": {
      "text/plain": [
       "242"
      ]
     },
     "execution_count": 7,
     "metadata": {},
     "output_type": "execute_result"
    }
   ],
   "source": [
    "len(stereo_sentence)"
   ]
  },
  {
   "cell_type": "code",
   "execution_count": 8,
   "metadata": {
    "execution": {
     "iopub.execute_input": "2023-05-13T11:46:35.599569Z",
     "iopub.status.busy": "2023-05-13T11:46:35.598754Z",
     "iopub.status.idle": "2023-05-13T11:46:35.919421Z",
     "shell.execute_reply": "2023-05-13T11:46:35.918426Z",
     "shell.execute_reply.started": "2023-05-13T11:46:35.599536Z"
    }
   },
   "outputs": [],
   "source": [
    "stereo_sent1 = []\n",
    "ster = dataset['validation'][0:]['bias_type']\n",
    "\n",
    "for i in range(len(ster)):\n",
    "    if ster[i] == 'gender':\n",
    "        sent = dataset['validation'][i:i+1]['sentences'][0]['sentence']\n",
    "        gold_label = dataset['validation'][i:i+1]['sentences'][0]['gold_label']\n",
    "        for j in range(len(gold_label)):\n",
    "            if gold_label[j] == 1:\n",
    "                #print(sent[j])\n",
    "                stereo_sent1.append(sent[j])"
   ]
  },
  {
   "cell_type": "code",
   "execution_count": 9,
   "metadata": {
    "execution": {
     "iopub.execute_input": "2023-05-13T11:46:35.921392Z",
     "iopub.status.busy": "2023-05-13T11:46:35.920916Z",
     "iopub.status.idle": "2023-05-13T11:46:35.927512Z",
     "shell.execute_reply": "2023-05-13T11:46:35.926652Z",
     "shell.execute_reply.started": "2023-05-13T11:46:35.921358Z"
    }
   },
   "outputs": [
    {
     "data": {
      "text/plain": [
       "242"
      ]
     },
     "execution_count": 9,
     "metadata": {},
     "output_type": "execute_result"
    }
   ],
   "source": [
    "len(stereo_sent1)"
   ]
  },
  {
   "cell_type": "code",
   "execution_count": 10,
   "metadata": {
    "execution": {
     "iopub.execute_input": "2023-05-13T11:46:35.933131Z",
     "iopub.status.busy": "2023-05-13T11:46:35.932572Z",
     "iopub.status.idle": "2023-05-13T11:46:35.937129Z",
     "shell.execute_reply": "2023-05-13T11:46:35.936259Z",
     "shell.execute_reply.started": "2023-05-13T11:46:35.933092Z"
    }
   },
   "outputs": [],
   "source": [
    "stereo_sentence.append(stereo_sent1)"
   ]
  },
  {
   "cell_type": "code",
   "execution_count": 11,
   "metadata": {
    "execution": {
     "iopub.execute_input": "2023-05-13T11:46:35.939021Z",
     "iopub.status.busy": "2023-05-13T11:46:35.938474Z",
     "iopub.status.idle": "2023-05-13T11:46:35.950177Z",
     "shell.execute_reply": "2023-05-13T11:46:35.949185Z",
     "shell.execute_reply.started": "2023-05-13T11:46:35.938989Z"
    }
   },
   "outputs": [],
   "source": [
    "import pandas as pd\n",
    "\n",
    "df1 = pd.DataFrame(stereo_sentence)"
   ]
  },
  {
   "cell_type": "code",
   "execution_count": 12,
   "metadata": {
    "execution": {
     "iopub.execute_input": "2023-05-13T11:46:35.952381Z",
     "iopub.status.busy": "2023-05-13T11:46:35.951569Z",
     "iopub.status.idle": "2023-05-13T11:46:35.959706Z",
     "shell.execute_reply": "2023-05-13T11:46:35.958641Z",
     "shell.execute_reply.started": "2023-05-13T11:46:35.952342Z"
    }
   },
   "outputs": [],
   "source": [
    "df2 = pd.Series([1 for x in range(len(df1.index))])"
   ]
  },
  {
   "cell_type": "code",
   "execution_count": 13,
   "metadata": {
    "execution": {
     "iopub.execute_input": "2023-05-13T11:46:35.961794Z",
     "iopub.status.busy": "2023-05-13T11:46:35.961442Z",
     "iopub.status.idle": "2023-05-13T11:46:35.971189Z",
     "shell.execute_reply": "2023-05-13T11:46:35.969934Z",
     "shell.execute_reply.started": "2023-05-13T11:46:35.961753Z"
    }
   },
   "outputs": [],
   "source": [
    "df = pd.concat([df1,df2],axis=1,ignore_index=False)"
   ]
  },
  {
   "cell_type": "code",
   "execution_count": 14,
   "metadata": {
    "execution": {
     "iopub.execute_input": "2023-05-13T11:46:35.972957Z",
     "iopub.status.busy": "2023-05-13T11:46:35.972597Z",
     "iopub.status.idle": "2023-05-13T11:46:35.981728Z",
     "shell.execute_reply": "2023-05-13T11:46:35.980880Z",
     "shell.execute_reply.started": "2023-05-13T11:46:35.972927Z"
    }
   },
   "outputs": [],
   "source": [
    "df.columns = ['data','stereotype']"
   ]
  },
  {
   "cell_type": "code",
   "execution_count": 15,
   "metadata": {
    "execution": {
     "iopub.execute_input": "2023-05-13T11:46:35.983668Z",
     "iopub.status.busy": "2023-05-13T11:46:35.983304Z",
     "iopub.status.idle": "2023-05-13T11:46:36.001078Z",
     "shell.execute_reply": "2023-05-13T11:46:35.999947Z",
     "shell.execute_reply.started": "2023-05-13T11:46:35.983637Z"
    }
   },
   "outputs": [
    {
     "data": {
      "text/html": [
       "<div>\n",
       "<style scoped>\n",
       "    .dataframe tbody tr th:only-of-type {\n",
       "        vertical-align: middle;\n",
       "    }\n",
       "\n",
       "    .dataframe tbody tr th {\n",
       "        vertical-align: top;\n",
       "    }\n",
       "\n",
       "    .dataframe thead th {\n",
       "        text-align: right;\n",
       "    }\n",
       "</style>\n",
       "<table border=\"1\" class=\"dataframe\">\n",
       "  <thead>\n",
       "    <tr style=\"text-align: right;\">\n",
       "      <th></th>\n",
       "      <th>data</th>\n",
       "      <th>stereotype</th>\n",
       "    </tr>\n",
       "  </thead>\n",
       "  <tbody>\n",
       "    <tr>\n",
       "      <th>0</th>\n",
       "      <td>She does not have to worry about child predators.</td>\n",
       "      <td>1</td>\n",
       "    </tr>\n",
       "    <tr>\n",
       "      <th>1</th>\n",
       "      <td>She pulled a beer out of the fridge and leaned...</td>\n",
       "      <td>1</td>\n",
       "    </tr>\n",
       "    <tr>\n",
       "      <th>2</th>\n",
       "      <td>She is a lazy, unkind person.</td>\n",
       "      <td>1</td>\n",
       "    </tr>\n",
       "    <tr>\n",
       "      <th>3</th>\n",
       "      <td>She thinks she will be in the top of her pilot...</td>\n",
       "      <td>1</td>\n",
       "    </tr>\n",
       "    <tr>\n",
       "      <th>4</th>\n",
       "      <td>she had blonde hair</td>\n",
       "      <td>1</td>\n",
       "    </tr>\n",
       "  </tbody>\n",
       "</table>\n",
       "</div>"
      ],
      "text/plain": [
       "                                                data  stereotype\n",
       "0  She does not have to worry about child predators.           1\n",
       "1  She pulled a beer out of the fridge and leaned...           1\n",
       "2                      She is a lazy, unkind person.           1\n",
       "3  She thinks she will be in the top of her pilot...           1\n",
       "4                                she had blonde hair           1"
      ]
     },
     "execution_count": 15,
     "metadata": {},
     "output_type": "execute_result"
    }
   ],
   "source": [
    "df.head()"
   ]
  },
  {
   "cell_type": "markdown",
   "metadata": {},
   "source": [
    "# Load the data from G Drive(data.xlsx)"
   ]
  },
  {
   "cell_type": "code",
   "execution_count": 16,
   "metadata": {
    "execution": {
     "iopub.execute_input": "2023-05-13T11:46:36.003441Z",
     "iopub.status.busy": "2023-05-13T11:46:36.003034Z",
     "iopub.status.idle": "2023-05-13T11:46:46.976673Z",
     "shell.execute_reply": "2023-05-13T11:46:46.975461Z",
     "shell.execute_reply.started": "2023-05-13T11:46:36.003376Z"
    }
   },
   "outputs": [
    {
     "name": "stdout",
     "output_type": "stream",
     "text": [
      "\u001b[33mWARNING: Running pip as the 'root' user can result in broken permissions and conflicting behaviour with the system package manager. It is recommended to use a virtual environment instead: https://pip.pypa.io/warnings/venv\u001b[0m\u001b[33m\n",
      "\u001b[0m"
     ]
    }
   ],
   "source": [
    "#Setup Gdrive file download extention \n",
    "!pip install gdown -q"
   ]
  },
  {
   "cell_type": "code",
   "execution_count": 17,
   "metadata": {
    "execution": {
     "iopub.execute_input": "2023-05-13T11:46:46.980295Z",
     "iopub.status.busy": "2023-05-13T11:46:46.979581Z",
     "iopub.status.idle": "2023-05-13T11:46:49.848806Z",
     "shell.execute_reply": "2023-05-13T11:46:49.847609Z",
     "shell.execute_reply.started": "2023-05-13T11:46:46.980254Z"
    }
   },
   "outputs": [
    {
     "name": "stdout",
     "output_type": "stream",
     "text": [
      "Downloading...\n",
      "From: https://drive.google.com/uc?id=1zqzrHcpjqYl6Gkdgj9AGGyVlBbTL93pV\n",
      "To: /kaggle/working/data.xlsx\n",
      "100%|█████████████████████████████████████████| 699k/699k [00:00<00:00, 122MB/s]\n"
     ]
    }
   ],
   "source": [
    "!gdown  1zqzrHcpjqYl6Gkdgj9AGGyVlBbTL93pV"
   ]
  },
  {
   "cell_type": "code",
   "execution_count": 18,
   "metadata": {
    "execution": {
     "iopub.execute_input": "2023-05-13T11:46:49.851476Z",
     "iopub.status.busy": "2023-05-13T11:46:49.850743Z",
     "iopub.status.idle": "2023-05-13T11:46:54.227913Z",
     "shell.execute_reply": "2023-05-13T11:46:54.227008Z",
     "shell.execute_reply.started": "2023-05-13T11:46:49.851434Z"
    }
   },
   "outputs": [
    {
     "data": {
      "text/plain": [
       "(13020, 4)"
      ]
     },
     "execution_count": 18,
     "metadata": {},
     "output_type": "execute_result"
    }
   ],
   "source": [
    "poems_df = pd.read_excel('/kaggle/working/data.xlsx', sheet_name='poems')\n",
    "# Read the 'rhymes' sheet from the Excel file\n",
    "rhymes_df = pd.read_excel('/kaggle/working/data.xlsx', sheet_name='rhymes')\n",
    "#poems_df['poem'] = poems_df['poem']+341\n",
    "combined_df = pd.concat([rhymes_df, poems_df], ignore_index=True)\n",
    "combined_df.shape"
   ]
  },
  {
   "cell_type": "code",
   "execution_count": 19,
   "metadata": {
    "execution": {
     "iopub.execute_input": "2023-05-13T11:46:54.230041Z",
     "iopub.status.busy": "2023-05-13T11:46:54.229439Z",
     "iopub.status.idle": "2023-05-13T11:46:54.238279Z",
     "shell.execute_reply": "2023-05-13T11:46:54.237460Z",
     "shell.execute_reply.started": "2023-05-13T11:46:54.230007Z"
    }
   },
   "outputs": [
    {
     "data": {
      "text/plain": [
       "(13020, 2)"
      ]
     },
     "execution_count": 19,
     "metadata": {},
     "output_type": "execute_result"
    }
   ],
   "source": [
    "comb_df = combined_df.drop(columns=['aug_data','poem'])\n",
    "comb_df.shape"
   ]
  },
  {
   "cell_type": "code",
   "execution_count": 20,
   "metadata": {
    "execution": {
     "iopub.execute_input": "2023-05-13T11:46:54.240301Z",
     "iopub.status.busy": "2023-05-13T11:46:54.239726Z",
     "iopub.status.idle": "2023-05-13T11:46:54.257440Z",
     "shell.execute_reply": "2023-05-13T11:46:54.256369Z",
     "shell.execute_reply.started": "2023-05-13T11:46:54.240270Z"
    }
   },
   "outputs": [
    {
     "data": {
      "text/html": [
       "<div>\n",
       "<style scoped>\n",
       "    .dataframe tbody tr th:only-of-type {\n",
       "        vertical-align: middle;\n",
       "    }\n",
       "\n",
       "    .dataframe tbody tr th {\n",
       "        vertical-align: top;\n",
       "    }\n",
       "\n",
       "    .dataframe thead th {\n",
       "        text-align: right;\n",
       "    }\n",
       "</style>\n",
       "<table border=\"1\" class=\"dataframe\">\n",
       "  <thead>\n",
       "    <tr style=\"text-align: right;\">\n",
       "      <th></th>\n",
       "      <th>data</th>\n",
       "      <th>stereotype</th>\n",
       "    </tr>\n",
       "  </thead>\n",
       "  <tbody>\n",
       "    <tr>\n",
       "      <th>0</th>\n",
       "      <td>Jack and Jill went up the hill, To fetch a pai...</td>\n",
       "      <td>0</td>\n",
       "    </tr>\n",
       "    <tr>\n",
       "      <th>1</th>\n",
       "      <td>Jack fell down and broke his crown, And Jill c...</td>\n",
       "      <td>0</td>\n",
       "    </tr>\n",
       "    <tr>\n",
       "      <th>2</th>\n",
       "      <td>Up Jack got, and home did trot, As fast as he ...</td>\n",
       "      <td>0</td>\n",
       "    </tr>\n",
       "    <tr>\n",
       "      <th>3</th>\n",
       "      <td>He went to bed to mend his head, With vinegar ...</td>\n",
       "      <td>0</td>\n",
       "    </tr>\n",
       "    <tr>\n",
       "      <th>4</th>\n",
       "      <td>Jill came in And she did grin</td>\n",
       "      <td>0</td>\n",
       "    </tr>\n",
       "  </tbody>\n",
       "</table>\n",
       "</div>"
      ],
      "text/plain": [
       "                                                data  stereotype\n",
       "0  Jack and Jill went up the hill, To fetch a pai...           0\n",
       "1  Jack fell down and broke his crown, And Jill c...           0\n",
       "2  Up Jack got, and home did trot, As fast as he ...           0\n",
       "3  He went to bed to mend his head, With vinegar ...           0\n",
       "4                      Jill came in And she did grin           0"
      ]
     },
     "execution_count": 20,
     "metadata": {},
     "output_type": "execute_result"
    }
   ],
   "source": [
    "combo = pd.concat([comb_df,df],ignore_index=False)\n",
    "combo.head()"
   ]
  },
  {
   "cell_type": "code",
   "execution_count": 21,
   "metadata": {
    "execution": {
     "iopub.execute_input": "2023-05-13T11:46:54.259363Z",
     "iopub.status.busy": "2023-05-13T11:46:54.258957Z",
     "iopub.status.idle": "2023-05-13T11:46:54.752342Z",
     "shell.execute_reply": "2023-05-13T11:46:54.751431Z",
     "shell.execute_reply.started": "2023-05-13T11:46:54.259330Z"
    }
   },
   "outputs": [
    {
     "name": "stderr",
     "output_type": "stream",
     "text": [
      "/opt/conda/lib/python3.10/site-packages/scipy/__init__.py:146: UserWarning: A NumPy version >=1.16.5 and <1.23.0 is required for this version of SciPy (detected version 1.23.5\n",
      "  warnings.warn(f\"A NumPy version >={np_minversion} and <{np_maxversion}\"\n"
     ]
    }
   ],
   "source": [
    "# Avoid Printing Warnings\n",
    "import warnings\n",
    "from sklearn.exceptions import UndefinedMetricWarning\n",
    "\n",
    "warnings.filterwarnings(\"ignore\", category=UndefinedMetricWarning)\n"
   ]
  },
  {
   "cell_type": "code",
   "execution_count": 22,
   "metadata": {
    "execution": {
     "iopub.execute_input": "2023-05-13T11:46:54.755087Z",
     "iopub.status.busy": "2023-05-13T11:46:54.754526Z",
     "iopub.status.idle": "2023-05-13T11:46:54.872040Z",
     "shell.execute_reply": "2023-05-13T11:46:54.871125Z",
     "shell.execute_reply.started": "2023-05-13T11:46:54.755053Z"
    }
   },
   "outputs": [],
   "source": [
    "from sklearn.model_selection import train_test_split\n",
    "X_train, X_test, y_train, y_test = train_test_split(combo[\"data\"], combo[\"stereotype\"], test_size=0.30, random_state=42)"
   ]
  },
  {
   "cell_type": "code",
   "execution_count": 23,
   "metadata": {
    "execution": {
     "iopub.execute_input": "2023-05-13T11:46:54.874103Z",
     "iopub.status.busy": "2023-05-13T11:46:54.873704Z",
     "iopub.status.idle": "2023-05-13T11:46:54.894536Z",
     "shell.execute_reply": "2023-05-13T11:46:54.893687Z",
     "shell.execute_reply.started": "2023-05-13T11:46:54.874070Z"
    }
   },
   "outputs": [
    {
     "data": {
      "text/html": [
       "<div>\n",
       "<style scoped>\n",
       "    .dataframe tbody tr th:only-of-type {\n",
       "        vertical-align: middle;\n",
       "    }\n",
       "\n",
       "    .dataframe tbody tr th {\n",
       "        vertical-align: top;\n",
       "    }\n",
       "\n",
       "    .dataframe thead th {\n",
       "        text-align: right;\n",
       "    }\n",
       "</style>\n",
       "<table border=\"1\" class=\"dataframe\">\n",
       "  <thead>\n",
       "    <tr style=\"text-align: right;\">\n",
       "      <th></th>\n",
       "      <th>data</th>\n",
       "    </tr>\n",
       "    <tr>\n",
       "      <th>stereotype</th>\n",
       "      <th></th>\n",
       "    </tr>\n",
       "  </thead>\n",
       "  <tbody>\n",
       "    <tr>\n",
       "      <th>0</th>\n",
       "      <td>8844</td>\n",
       "    </tr>\n",
       "    <tr>\n",
       "      <th>1</th>\n",
       "      <td>440</td>\n",
       "    </tr>\n",
       "  </tbody>\n",
       "</table>\n",
       "</div>"
      ],
      "text/plain": [
       "            data\n",
       "stereotype      \n",
       "0           8844\n",
       "1            440"
      ]
     },
     "execution_count": 23,
     "metadata": {},
     "output_type": "execute_result"
    }
   ],
   "source": [
    "train_df = pd.concat([X_train,y_train],axis=1)\n",
    "train_df.groupby(['stereotype']).count()"
   ]
  },
  {
   "cell_type": "code",
   "execution_count": 24,
   "metadata": {
    "execution": {
     "iopub.execute_input": "2023-05-13T11:46:54.896562Z",
     "iopub.status.busy": "2023-05-13T11:46:54.896206Z",
     "iopub.status.idle": "2023-05-13T11:46:54.910614Z",
     "shell.execute_reply": "2023-05-13T11:46:54.909348Z",
     "shell.execute_reply.started": "2023-05-13T11:46:54.896531Z"
    }
   },
   "outputs": [
    {
     "data": {
      "text/html": [
       "<div>\n",
       "<style scoped>\n",
       "    .dataframe tbody tr th:only-of-type {\n",
       "        vertical-align: middle;\n",
       "    }\n",
       "\n",
       "    .dataframe tbody tr th {\n",
       "        vertical-align: top;\n",
       "    }\n",
       "\n",
       "    .dataframe thead th {\n",
       "        text-align: right;\n",
       "    }\n",
       "</style>\n",
       "<table border=\"1\" class=\"dataframe\">\n",
       "  <thead>\n",
       "    <tr style=\"text-align: right;\">\n",
       "      <th></th>\n",
       "      <th>data</th>\n",
       "    </tr>\n",
       "    <tr>\n",
       "      <th>stereotype</th>\n",
       "      <th></th>\n",
       "    </tr>\n",
       "  </thead>\n",
       "  <tbody>\n",
       "    <tr>\n",
       "      <th>0</th>\n",
       "      <td>3788</td>\n",
       "    </tr>\n",
       "    <tr>\n",
       "      <th>1</th>\n",
       "      <td>191</td>\n",
       "    </tr>\n",
       "  </tbody>\n",
       "</table>\n",
       "</div>"
      ],
      "text/plain": [
       "            data\n",
       "stereotype      \n",
       "0           3788\n",
       "1            191"
      ]
     },
     "execution_count": 24,
     "metadata": {},
     "output_type": "execute_result"
    }
   ],
   "source": [
    "test_df = pd.concat([X_test,y_test],axis=1)\n",
    "test_df.groupby(['stereotype']).count()"
   ]
  },
  {
   "cell_type": "code",
   "execution_count": 25,
   "metadata": {
    "execution": {
     "iopub.execute_input": "2023-05-13T11:46:54.912559Z",
     "iopub.status.busy": "2023-05-13T11:46:54.912195Z",
     "iopub.status.idle": "2023-05-13T11:46:55.791499Z",
     "shell.execute_reply": "2023-05-13T11:46:55.790442Z",
     "shell.execute_reply.started": "2023-05-13T11:46:54.912528Z"
    }
   },
   "outputs": [],
   "source": [
    "ls = []\n",
    "idx = train_df.index.values\n",
    "for i in idx:\n",
    "  if combined_df[i:i+1]['stereotype'].values[0]==1:\n",
    "    ls.append(combined_df[i:i+1][[\"aug_data\",'stereotype']].values[0])"
   ]
  },
  {
   "cell_type": "code",
   "execution_count": 26,
   "metadata": {
    "execution": {
     "iopub.execute_input": "2023-05-13T11:46:55.793573Z",
     "iopub.status.busy": "2023-05-13T11:46:55.792757Z",
     "iopub.status.idle": "2023-05-13T11:46:55.810433Z",
     "shell.execute_reply": "2023-05-13T11:46:55.809431Z",
     "shell.execute_reply.started": "2023-05-13T11:46:55.793539Z"
    }
   },
   "outputs": [
    {
     "data": {
      "text/html": [
       "<div>\n",
       "<style scoped>\n",
       "    .dataframe tbody tr th:only-of-type {\n",
       "        vertical-align: middle;\n",
       "    }\n",
       "\n",
       "    .dataframe tbody tr th {\n",
       "        vertical-align: top;\n",
       "    }\n",
       "\n",
       "    .dataframe thead th {\n",
       "        text-align: right;\n",
       "    }\n",
       "</style>\n",
       "<table border=\"1\" class=\"dataframe\">\n",
       "  <thead>\n",
       "    <tr style=\"text-align: right;\">\n",
       "      <th></th>\n",
       "      <th>data</th>\n",
       "    </tr>\n",
       "    <tr>\n",
       "      <th>stereotype</th>\n",
       "      <th></th>\n",
       "    </tr>\n",
       "  </thead>\n",
       "  <tbody>\n",
       "    <tr>\n",
       "      <th>0</th>\n",
       "      <td>8844</td>\n",
       "    </tr>\n",
       "    <tr>\n",
       "      <th>1</th>\n",
       "      <td>740</td>\n",
       "    </tr>\n",
       "  </tbody>\n",
       "</table>\n",
       "</div>"
      ],
      "text/plain": [
       "            data\n",
       "stereotype      \n",
       "0           8844\n",
       "1            740"
      ]
     },
     "execution_count": 26,
     "metadata": {},
     "output_type": "execute_result"
    }
   ],
   "source": [
    "ls = pd.DataFrame(ls, columns=train_df.columns)\n",
    "train_df2 = pd.concat([train_df,ls])\n",
    "train_df2.groupby(['stereotype']).count()"
   ]
  },
  {
   "cell_type": "code",
   "execution_count": 27,
   "metadata": {
    "execution": {
     "iopub.execute_input": "2023-05-13T11:46:55.812277Z",
     "iopub.status.busy": "2023-05-13T11:46:55.811870Z",
     "iopub.status.idle": "2023-05-13T11:47:06.742561Z",
     "shell.execute_reply": "2023-05-13T11:47:06.741618Z",
     "shell.execute_reply.started": "2023-05-13T11:46:55.812245Z"
    }
   },
   "outputs": [],
   "source": [
    "# Importing the libraries needed\n",
    "import pandas as pd\n",
    "import numpy as np\n",
    "from sklearn.model_selection import train_test_split\n",
    "import torch\n",
    "import seaborn as sns\n",
    "import transformers\n",
    "import json\n",
    "from tqdm import tqdm\n",
    "from torch.utils.data import Dataset, RandomSampler, DataLoader\n",
    "from transformers import RobertaModel, RobertaTokenizer\n",
    "import logging\n",
    "logging.basicConfig(level=logging.ERROR)"
   ]
  },
  {
   "cell_type": "code",
   "execution_count": 28,
   "metadata": {
    "execution": {
     "iopub.execute_input": "2023-05-13T11:47:06.749843Z",
     "iopub.status.busy": "2023-05-13T11:47:06.749550Z",
     "iopub.status.idle": "2023-05-13T11:47:06.766764Z",
     "shell.execute_reply": "2023-05-13T11:47:06.765925Z",
     "shell.execute_reply.started": "2023-05-13T11:47:06.749817Z"
    }
   },
   "outputs": [],
   "source": [
    "from transformers import AutoModelForMaskedLM\n",
    "from transformers import AutoTokenizer, AutoModel\n",
    "import re\n",
    "from transformers import BertTokenizer, BertForSequenceClassification\n",
    "import sklearn"
   ]
  },
  {
   "cell_type": "code",
   "execution_count": 29,
   "metadata": {
    "execution": {
     "iopub.execute_input": "2023-05-13T11:47:06.768492Z",
     "iopub.status.busy": "2023-05-13T11:47:06.768139Z",
     "iopub.status.idle": "2023-05-13T11:47:06.796298Z",
     "shell.execute_reply": "2023-05-13T11:47:06.795341Z",
     "shell.execute_reply.started": "2023-05-13T11:47:06.768461Z"
    }
   },
   "outputs": [],
   "source": [
    "# Setting up the device for GPU usage\n",
    "device = 'cuda' if torch.cuda.is_available() else 'cpu'"
   ]
  },
  {
   "cell_type": "code",
   "execution_count": null,
   "metadata": {},
   "outputs": [],
   "source": [
    "tokenizer = AutoTokenizer.from_pretrained(\"henryscheible/bert-base-uncased_stereoset_finetuned\")\n",
    "#choose appropriate model\n",
    "model = BertForSequenceClassification.from_pretrained('henryscheible/bert-base-uncased_stereoset_finetuned',\n",
    "                                                      num_labels=2)\n",
    "model.to(device)"
   ]
  },
  {
   "cell_type": "code",
   "execution_count": 31,
   "metadata": {
    "execution": {
     "iopub.execute_input": "2023-05-13T11:47:16.336414Z",
     "iopub.status.busy": "2023-05-13T11:47:16.335612Z",
     "iopub.status.idle": "2023-05-13T11:47:16.344850Z",
     "shell.execute_reply": "2023-05-13T11:47:16.343902Z",
     "shell.execute_reply.started": "2023-05-13T11:47:16.336365Z"
    }
   },
   "outputs": [],
   "source": [
    "import random\n",
    "seed_val=3407\n",
    "torch.manual_seed(seed_val)\n",
    "np.random.seed(seed_val)\n",
    "random.seed(seed_val)\n",
    "torch.cuda.manual_seed_all(seed_val)\n",
    "torch.backends.cudnn.deterministic = True\n",
    "torch.backends.cudnn.benchmark = False"
   ]
  },
  {
   "cell_type": "code",
   "execution_count": 32,
   "metadata": {
    "execution": {
     "iopub.execute_input": "2023-05-13T11:47:16.346864Z",
     "iopub.status.busy": "2023-05-13T11:47:16.346447Z",
     "iopub.status.idle": "2023-05-13T11:47:16.363746Z",
     "shell.execute_reply": "2023-05-13T11:47:16.362838Z",
     "shell.execute_reply.started": "2023-05-13T11:47:16.346820Z"
    }
   },
   "outputs": [
    {
     "data": {
      "text/plain": [
       "0    8844\n",
       "1     740\n",
       "Name: stereotype, dtype: int64"
      ]
     },
     "execution_count": 32,
     "metadata": {},
     "output_type": "execute_result"
    }
   ],
   "source": [
    "train_df2.stereotype.value_counts()"
   ]
  },
  {
   "cell_type": "code",
   "execution_count": 33,
   "metadata": {
    "execution": {
     "iopub.execute_input": "2023-05-13T11:47:16.366079Z",
     "iopub.status.busy": "2023-05-13T11:47:16.365327Z",
     "iopub.status.idle": "2023-05-13T11:47:17.098476Z",
     "shell.execute_reply": "2023-05-13T11:47:17.097470Z",
     "shell.execute_reply.started": "2023-05-13T11:47:16.366046Z"
    }
   },
   "outputs": [
    {
     "name": "stdout",
     "output_type": "stream",
     "text": [
      "Max sentence length:  62\n",
      "The number of tokens:  92308\n"
     ]
    }
   ],
   "source": [
    "#maximum length of the sentence\n",
    "max_len = 0\n",
    "num_tokens = 0\n",
    "\n",
    "# For every sentence...\n",
    "for sent in train_df2.data:\n",
    "\n",
    "    # Tokenize the text and add `[CLS]` and `[SEP]` tokens.\n",
    "    input_ids = tokenizer.encode(sent, add_special_tokens=True)\n",
    "    num_tokens += (len(input_ids)-2)\n",
    "\n",
    "    # Update the maximum sentence length.\n",
    "    max_len = max(max_len, len(input_ids))\n",
    "\n",
    "print('Max sentence length: ', max_len)\n",
    "print('The number of tokens: ', num_tokens)"
   ]
  },
  {
   "cell_type": "markdown",
   "metadata": {},
   "source": [
    "# Data Statistics"
   ]
  },
  {
   "cell_type": "code",
   "execution_count": 34,
   "metadata": {
    "execution": {
     "iopub.execute_input": "2023-05-13T11:47:17.100139Z",
     "iopub.status.busy": "2023-05-13T11:47:17.099780Z",
     "iopub.status.idle": "2023-05-13T11:47:17.108949Z",
     "shell.execute_reply": "2023-05-13T11:47:17.107841Z",
     "shell.execute_reply.started": "2023-05-13T11:47:17.100103Z"
    }
   },
   "outputs": [],
   "source": [
    "from sklearn.model_selection import train_test_split\n",
    "\n",
    "#split original DataFrame into training and testing sets\n",
    "#train, test_data = train_test_split(data, test_size=0.2, random_state=seed_val)\n",
    "train_data, val_data = train_test_split(train_df2, test_size=0.1, random_state=seed_val)"
   ]
  },
  {
   "cell_type": "code",
   "execution_count": 35,
   "metadata": {
    "execution": {
     "iopub.execute_input": "2023-05-13T11:47:17.111003Z",
     "iopub.status.busy": "2023-05-13T11:47:17.110651Z",
     "iopub.status.idle": "2023-05-13T11:47:17.118662Z",
     "shell.execute_reply": "2023-05-13T11:47:17.117707Z",
     "shell.execute_reply.started": "2023-05-13T11:47:17.110970Z"
    }
   },
   "outputs": [],
   "source": [
    "test_data = pd.concat([X_test,y_test],axis=1)"
   ]
  },
  {
   "cell_type": "code",
   "execution_count": 36,
   "metadata": {
    "execution": {
     "iopub.execute_input": "2023-05-13T11:47:17.120625Z",
     "iopub.status.busy": "2023-05-13T11:47:17.120270Z",
     "iopub.status.idle": "2023-05-13T11:47:17.127776Z",
     "shell.execute_reply": "2023-05-13T11:47:17.126707Z",
     "shell.execute_reply.started": "2023-05-13T11:47:17.120591Z"
    }
   },
   "outputs": [
    {
     "name": "stdout",
     "output_type": "stream",
     "text": [
      "Training data shape: (8625, 2)\n",
      "Validation data shape: (959, 2)\n",
      "Test data shape: (3979, 2)\n"
     ]
    }
   ],
   "source": [
    "print(f\"Training data shape: {train_data.shape}\")\n",
    "print(f\"Validation data shape: {val_data.shape}\")\n",
    "print(f\"Test data shape: {test_data.shape}\")"
   ]
  },
  {
   "cell_type": "code",
   "execution_count": 37,
   "metadata": {
    "execution": {
     "iopub.execute_input": "2023-05-13T11:47:17.130805Z",
     "iopub.status.busy": "2023-05-13T11:47:17.128984Z",
     "iopub.status.idle": "2023-05-13T11:47:17.141803Z",
     "shell.execute_reply": "2023-05-13T11:47:17.140845Z",
     "shell.execute_reply.started": "2023-05-13T11:47:17.130779Z"
    }
   },
   "outputs": [
    {
     "data": {
      "text/plain": [
       "0    0.92371\n",
       "1    0.07629\n",
       "Name: stereotype, dtype: float64"
      ]
     },
     "execution_count": 37,
     "metadata": {},
     "output_type": "execute_result"
    }
   ],
   "source": [
    "train_data.stereotype.value_counts()/train_data.stereotype.count()"
   ]
  },
  {
   "cell_type": "code",
   "execution_count": 38,
   "metadata": {
    "execution": {
     "iopub.execute_input": "2023-05-13T11:47:17.143713Z",
     "iopub.status.busy": "2023-05-13T11:47:17.143326Z",
     "iopub.status.idle": "2023-05-13T11:47:17.160068Z",
     "shell.execute_reply": "2023-05-13T11:47:17.158814Z",
     "shell.execute_reply.started": "2023-05-13T11:47:17.143680Z"
    }
   },
   "outputs": [
    {
     "data": {
      "text/html": [
       "<div>\n",
       "<style scoped>\n",
       "    .dataframe tbody tr th:only-of-type {\n",
       "        vertical-align: middle;\n",
       "    }\n",
       "\n",
       "    .dataframe tbody tr th {\n",
       "        vertical-align: top;\n",
       "    }\n",
       "\n",
       "    .dataframe thead th {\n",
       "        text-align: right;\n",
       "    }\n",
       "</style>\n",
       "<table border=\"1\" class=\"dataframe\">\n",
       "  <thead>\n",
       "    <tr style=\"text-align: right;\">\n",
       "      <th></th>\n",
       "      <th>data</th>\n",
       "    </tr>\n",
       "    <tr>\n",
       "      <th>stereotype</th>\n",
       "      <th></th>\n",
       "    </tr>\n",
       "  </thead>\n",
       "  <tbody>\n",
       "    <tr>\n",
       "      <th>0</th>\n",
       "      <td>7967</td>\n",
       "    </tr>\n",
       "    <tr>\n",
       "      <th>1</th>\n",
       "      <td>658</td>\n",
       "    </tr>\n",
       "  </tbody>\n",
       "</table>\n",
       "</div>"
      ],
      "text/plain": [
       "            data\n",
       "stereotype      \n",
       "0           7967\n",
       "1            658"
      ]
     },
     "execution_count": 38,
     "metadata": {},
     "output_type": "execute_result"
    }
   ],
   "source": [
    "train_data.groupby(['stereotype']).count()"
   ]
  },
  {
   "cell_type": "code",
   "execution_count": 39,
   "metadata": {
    "execution": {
     "iopub.execute_input": "2023-05-13T11:47:17.162961Z",
     "iopub.status.busy": "2023-05-13T11:47:17.161956Z",
     "iopub.status.idle": "2023-05-13T11:47:17.172933Z",
     "shell.execute_reply": "2023-05-13T11:47:17.171766Z",
     "shell.execute_reply.started": "2023-05-13T11:47:17.162929Z"
    }
   },
   "outputs": [
    {
     "data": {
      "text/plain": [
       "0    0.914494\n",
       "1    0.085506\n",
       "Name: stereotype, dtype: float64"
      ]
     },
     "execution_count": 39,
     "metadata": {},
     "output_type": "execute_result"
    }
   ],
   "source": [
    "val_data.stereotype.value_counts()/val_data.stereotype.count()"
   ]
  },
  {
   "cell_type": "code",
   "execution_count": 40,
   "metadata": {
    "execution": {
     "iopub.execute_input": "2023-05-13T11:47:17.175094Z",
     "iopub.status.busy": "2023-05-13T11:47:17.174472Z",
     "iopub.status.idle": "2023-05-13T11:47:17.188324Z",
     "shell.execute_reply": "2023-05-13T11:47:17.187345Z",
     "shell.execute_reply.started": "2023-05-13T11:47:17.175062Z"
    }
   },
   "outputs": [
    {
     "data": {
      "text/html": [
       "<div>\n",
       "<style scoped>\n",
       "    .dataframe tbody tr th:only-of-type {\n",
       "        vertical-align: middle;\n",
       "    }\n",
       "\n",
       "    .dataframe tbody tr th {\n",
       "        vertical-align: top;\n",
       "    }\n",
       "\n",
       "    .dataframe thead th {\n",
       "        text-align: right;\n",
       "    }\n",
       "</style>\n",
       "<table border=\"1\" class=\"dataframe\">\n",
       "  <thead>\n",
       "    <tr style=\"text-align: right;\">\n",
       "      <th></th>\n",
       "      <th>data</th>\n",
       "    </tr>\n",
       "    <tr>\n",
       "      <th>stereotype</th>\n",
       "      <th></th>\n",
       "    </tr>\n",
       "  </thead>\n",
       "  <tbody>\n",
       "    <tr>\n",
       "      <th>0</th>\n",
       "      <td>877</td>\n",
       "    </tr>\n",
       "    <tr>\n",
       "      <th>1</th>\n",
       "      <td>82</td>\n",
       "    </tr>\n",
       "  </tbody>\n",
       "</table>\n",
       "</div>"
      ],
      "text/plain": [
       "            data\n",
       "stereotype      \n",
       "0            877\n",
       "1             82"
      ]
     },
     "execution_count": 40,
     "metadata": {},
     "output_type": "execute_result"
    }
   ],
   "source": [
    "val_data.groupby(['stereotype']).count()"
   ]
  },
  {
   "cell_type": "code",
   "execution_count": 41,
   "metadata": {
    "execution": {
     "iopub.execute_input": "2023-05-13T11:47:17.190275Z",
     "iopub.status.busy": "2023-05-13T11:47:17.189919Z",
     "iopub.status.idle": "2023-05-13T11:47:17.200289Z",
     "shell.execute_reply": "2023-05-13T11:47:17.199246Z",
     "shell.execute_reply.started": "2023-05-13T11:47:17.190243Z"
    }
   },
   "outputs": [
    {
     "data": {
      "text/plain": [
       "0    0.951998\n",
       "1    0.048002\n",
       "Name: stereotype, dtype: float64"
      ]
     },
     "execution_count": 41,
     "metadata": {},
     "output_type": "execute_result"
    }
   ],
   "source": [
    "test_data.stereotype.value_counts()/test_data.stereotype.count()"
   ]
  },
  {
   "cell_type": "code",
   "execution_count": 42,
   "metadata": {
    "execution": {
     "iopub.execute_input": "2023-05-13T11:47:17.202430Z",
     "iopub.status.busy": "2023-05-13T11:47:17.201859Z",
     "iopub.status.idle": "2023-05-13T11:47:17.215100Z",
     "shell.execute_reply": "2023-05-13T11:47:17.213963Z",
     "shell.execute_reply.started": "2023-05-13T11:47:17.202289Z"
    }
   },
   "outputs": [
    {
     "data": {
      "text/html": [
       "<div>\n",
       "<style scoped>\n",
       "    .dataframe tbody tr th:only-of-type {\n",
       "        vertical-align: middle;\n",
       "    }\n",
       "\n",
       "    .dataframe tbody tr th {\n",
       "        vertical-align: top;\n",
       "    }\n",
       "\n",
       "    .dataframe thead th {\n",
       "        text-align: right;\n",
       "    }\n",
       "</style>\n",
       "<table border=\"1\" class=\"dataframe\">\n",
       "  <thead>\n",
       "    <tr style=\"text-align: right;\">\n",
       "      <th></th>\n",
       "      <th>data</th>\n",
       "    </tr>\n",
       "    <tr>\n",
       "      <th>stereotype</th>\n",
       "      <th></th>\n",
       "    </tr>\n",
       "  </thead>\n",
       "  <tbody>\n",
       "    <tr>\n",
       "      <th>0</th>\n",
       "      <td>3788</td>\n",
       "    </tr>\n",
       "    <tr>\n",
       "      <th>1</th>\n",
       "      <td>191</td>\n",
       "    </tr>\n",
       "  </tbody>\n",
       "</table>\n",
       "</div>"
      ],
      "text/plain": [
       "            data\n",
       "stereotype      \n",
       "0           3788\n",
       "1            191"
      ]
     },
     "execution_count": 42,
     "metadata": {},
     "output_type": "execute_result"
    }
   ],
   "source": [
    "test_data.groupby(['stereotype']).count()"
   ]
  },
  {
   "cell_type": "markdown",
   "metadata": {},
   "source": [
    "# Bert Based Model Fine-tuned"
   ]
  },
  {
   "cell_type": "code",
   "execution_count": 43,
   "metadata": {
    "execution": {
     "iopub.execute_input": "2023-05-13T11:47:17.217139Z",
     "iopub.status.busy": "2023-05-13T11:47:17.216786Z",
     "iopub.status.idle": "2023-05-13T11:47:17.222180Z",
     "shell.execute_reply": "2023-05-13T11:47:17.221167Z",
     "shell.execute_reply.started": "2023-05-13T11:47:17.217106Z"
    }
   },
   "outputs": [],
   "source": [
    "# Defining some key variables that will be used later on in the training\n",
    "MAX_LEN = 75\n",
    "TRAIN_BATCH_SIZE = 64\n",
    "VALID_BATCH_SIZE = 32"
   ]
  },
  {
   "cell_type": "code",
   "execution_count": 44,
   "metadata": {
    "execution": {
     "iopub.execute_input": "2023-05-13T11:47:17.224498Z",
     "iopub.status.busy": "2023-05-13T11:47:17.223456Z",
     "iopub.status.idle": "2023-05-13T11:47:17.235207Z",
     "shell.execute_reply": "2023-05-13T11:47:17.234293Z",
     "shell.execute_reply.started": "2023-05-13T11:47:17.224464Z"
    }
   },
   "outputs": [],
   "source": [
    "class SentimentData(Dataset):\n",
    "    def __init__(self, dataframe, tokenizer, max_len):\n",
    "        self.tokenizer = tokenizer\n",
    "        self.data = dataframe\n",
    "        self.text = dataframe.data.to_list()\n",
    "        self.targets = dataframe.stereotype.to_list()\n",
    "        self.max_len = max_len\n",
    "        \n",
    "    def __len__(self):\n",
    "        return len(self.text)\n",
    "\n",
    "    def __getitem__(self, index):\n",
    "        text = str(self.text[index]) \n",
    "        text = \" \".join(text.split())\n",
    "        targets = self.targets[index]\n",
    "        inputs = self.tokenizer.encode_plus(text,add_special_tokens=True,\n",
    "                                            max_length=self.max_len,\n",
    "                                            pad_to_max_length=True,\n",
    "                                            return_token_type_ids=True,\n",
    "                                            return_attention_mask=True)\n",
    "        ids = inputs['input_ids']\n",
    "        mask = inputs['attention_mask']\n",
    "        token_type_ids = inputs[\"token_type_ids\"]\n",
    "        return {'ids': torch.tensor(ids, dtype=torch.long),\n",
    "                'mask': torch.tensor(mask, dtype=torch.long),\n",
    "                'token_type_ids': torch.tensor(token_type_ids, dtype=torch.long),\n",
    "                'targets': torch.tensor(targets, dtype=torch.float)\n",
    "               }"
   ]
  },
  {
   "cell_type": "code",
   "execution_count": 45,
   "metadata": {
    "execution": {
     "iopub.execute_input": "2023-05-13T11:47:17.237056Z",
     "iopub.status.busy": "2023-05-13T11:47:17.236301Z",
     "iopub.status.idle": "2023-05-13T11:47:17.248658Z",
     "shell.execute_reply": "2023-05-13T11:47:17.247990Z",
     "shell.execute_reply.started": "2023-05-13T11:47:17.237021Z"
    }
   },
   "outputs": [],
   "source": [
    "#create Sentiment Dataset\n",
    "train_data_sent = SentimentData(train_data, tokenizer, MAX_LEN)\n",
    "val_data_sent = SentimentData(val_data, tokenizer, MAX_LEN)\n",
    "test_data_sent = SentimentData(test_data, tokenizer, MAX_LEN)"
   ]
  },
  {
   "cell_type": "code",
   "execution_count": 46,
   "metadata": {
    "execution": {
     "iopub.execute_input": "2023-05-13T11:47:17.250947Z",
     "iopub.status.busy": "2023-05-13T11:47:17.250246Z",
     "iopub.status.idle": "2023-05-13T11:47:17.259330Z",
     "shell.execute_reply": "2023-05-13T11:47:17.258685Z",
     "shell.execute_reply.started": "2023-05-13T11:47:17.250912Z"
    }
   },
   "outputs": [],
   "source": [
    "train_loader= DataLoader(train_data_sent,batch_size=TRAIN_BATCH_SIZE,shuffle=True)#sampler = RandomSampler(train_data_sent),\n",
    "val_loader= DataLoader(val_data_sent, batch_size=TRAIN_BATCH_SIZE,shuffle=True)#,sampler = RandomSampler(val_data_sent),\n",
    "test_loader = DataLoader(test_data_sent, batch_size=VALID_BATCH_SIZE)"
   ]
  },
  {
   "cell_type": "code",
   "execution_count": 47,
   "metadata": {
    "execution": {
     "iopub.execute_input": "2023-05-13T11:47:17.261445Z",
     "iopub.status.busy": "2023-05-13T11:47:17.260777Z",
     "iopub.status.idle": "2023-05-13T11:47:17.278783Z",
     "shell.execute_reply": "2023-05-13T11:47:17.277904Z",
     "shell.execute_reply.started": "2023-05-13T11:47:17.261396Z"
    }
   },
   "outputs": [
    {
     "name": "stderr",
     "output_type": "stream",
     "text": [
      "/opt/conda/lib/python3.10/site-packages/transformers/optimization.py:391: FutureWarning: This implementation of AdamW is deprecated and will be removed in a future version. Use the PyTorch implementation torch.optim.AdamW instead, or set `no_deprecation_warning=True` to disable this warning\n",
      "  warnings.warn(\n"
     ]
    }
   ],
   "source": [
    "from transformers import AdamW\n",
    "optimizer = AdamW(model.parameters(),lr = 5e-5, eps = 1e-8)"
   ]
  },
  {
   "cell_type": "code",
   "execution_count": 48,
   "metadata": {
    "execution": {
     "iopub.execute_input": "2023-05-13T11:47:17.280840Z",
     "iopub.status.busy": "2023-05-13T11:47:17.280145Z",
     "iopub.status.idle": "2023-05-13T11:47:17.293100Z",
     "shell.execute_reply": "2023-05-13T11:47:17.292051Z",
     "shell.execute_reply.started": "2023-05-13T11:47:17.280807Z"
    }
   },
   "outputs": [
    {
     "name": "stdout",
     "output_type": "stream",
     "text": [
      "540\n"
     ]
    }
   ],
   "source": [
    "from transformers import get_linear_schedule_with_warmup\n",
    "\n",
    "epochs = 4\n",
    "\n",
    "# Total number of training steps is [number of batches] x [number of epochs]. \n",
    "# (Note that this is not the same as the number of training samples).\n",
    "total_steps = len(train_loader) * epochs\n",
    "print(total_steps)\n",
    "\n",
    "# Create the learning rate scheduler.\n",
    "scheduler = get_linear_schedule_with_warmup(optimizer, \n",
    "                                            num_warmup_steps = 0, # Default value in run_glue.py\n",
    "                                            num_training_steps = total_steps)"
   ]
  },
  {
   "cell_type": "code",
   "execution_count": 49,
   "metadata": {
    "execution": {
     "iopub.execute_input": "2023-05-13T11:47:17.295429Z",
     "iopub.status.busy": "2023-05-13T11:47:17.294703Z",
     "iopub.status.idle": "2023-05-13T11:47:17.304292Z",
     "shell.execute_reply": "2023-05-13T11:47:17.303354Z",
     "shell.execute_reply.started": "2023-05-13T11:47:17.295375Z"
    }
   },
   "outputs": [],
   "source": [
    "# Function to calculate the accuracy of our predictions vs labels\n",
    "def flat_accuracy(preds, labels):\n",
    "    pred_flat = np.argmax(preds, axis=1).flatten()\n",
    "    labels_flat = labels.flatten()\n",
    "    acc = np.sum(pred_flat == labels_flat) / len(labels_flat)\n",
    "    #cnf_mat = sklearn.metrics.confusion_matrix(labels_flat,pred_flat)\n",
    "    return acc"
   ]
  },
  {
   "cell_type": "code",
   "execution_count": 50,
   "metadata": {
    "execution": {
     "iopub.execute_input": "2023-05-13T11:47:17.308665Z",
     "iopub.status.busy": "2023-05-13T11:47:17.307302Z",
     "iopub.status.idle": "2023-05-13T11:47:17.333338Z",
     "shell.execute_reply": "2023-05-13T11:47:17.332394Z",
     "shell.execute_reply.started": "2023-05-13T11:47:17.308631Z"
    }
   },
   "outputs": [],
   "source": [
    "def train_classifier(model,train_loader,val_loader,optimizer,epochs=4):\n",
    "    print(\"Training...\")\n",
    "    training_stats = []\n",
    "    for epoch in range(epochs):\n",
    "        total_train_loss = 0\n",
    "        total_train_acc = 0\n",
    "        model.train()\n",
    "        #load the batch\n",
    "        for step, batch in tqdm(enumerate(train_loader,0)):#enumerate(train_loader)\n",
    "            input_ids = batch['ids'].to(device, dtype = torch.long)\n",
    "            input_mask = batch['mask'].to(device, dtype = torch.long)\n",
    "            input_token_type_ids = batch['token_type_ids'].to(device, dtype=torch.long)\n",
    "            input_targets = batch['targets'].to(device, dtype = torch.long)\n",
    "            #outputs = model(ids, mask, token_type_ids).squeeze()\n",
    "            #loss = loss_function(outputs, targets)\n",
    "            \n",
    "            optimizer.zero_grad()\n",
    "            outputs = model(input_ids, token_type_ids=None,attention_mask=input_mask,\n",
    "                             labels=input_targets)\n",
    "            loss = outputs.loss\n",
    "            total_train_loss += loss.item()\n",
    "            logits = outputs.logits\n",
    "            # Move logits and labels to CPU\n",
    "            logits = logits.detach().cpu().numpy()\n",
    "            label_ids = input_targets.to('cpu').numpy()\n",
    "            total_train_acc += flat_accuracy(logits, label_ids)\n",
    "            loss.backward()\n",
    "            # Clip the norm of the gradients to 1.0.\n",
    "            # This is to help prevent the \"exploding gradients\" problem.\n",
    "            #torch.nn.utils.clip_grad_norm_(model.parameters(), 1.0)\n",
    "\n",
    "            optimizer.step()\n",
    "            # Update the learning rate.\n",
    "            scheduler.step()\n",
    "        # Calculate the average loss over all of the batches.\n",
    "        avg_train_loss = total_train_loss / len(train_loader)\n",
    "        print(f\"Average training loss: {avg_train_loss: 0.2f}\")\n",
    "        avg_train_acc = total_train_acc / len(train_loader)\n",
    "        print(f\"The training accuracy for the epoch {epoch} is {avg_train_acc}\")\n",
    "\n",
    "        print(\"*****\")\n",
    "        print(\"Validation...!!\")\n",
    "        model.eval()\n",
    "        # Tracking variables \n",
    "        total_eval_accuracy = 0\n",
    "        total_eval_loss = 0\n",
    "        nb_eval_steps = 0\n",
    "        # Evaluate data for one epoch\n",
    "        for _,batch in tqdm(enumerate(val_loader,0)):\n",
    "            val_ids = batch['ids'].to(device, dtype = torch.long)\n",
    "            val_mask = batch['mask'].to(device, dtype = torch.long)\n",
    "            val_token_type_ids = batch['token_type_ids'].to(device, dtype=torch.long)\n",
    "            val_targets = batch['targets'].to(device, dtype = torch.long)\n",
    "            with torch.no_grad(): \n",
    "                val_out = model(val_ids,token_type_ids=None,\n",
    "                                attention_mask=val_mask,labels=val_targets)\n",
    "                loss = val_out.loss\n",
    "                logits = val_out.logits\n",
    "                # Accumulate the validation loss.\n",
    "                total_eval_loss += loss.item()\n",
    "\n",
    "                # Move logits and labels to CPU\n",
    "                logits = logits.detach().cpu().numpy()\n",
    "                label_ids = val_targets.to('cpu').numpy()\n",
    "                total_eval_accuracy += flat_accuracy(logits, label_ids) \n",
    "\n",
    "        # Report the final accuracy for this validation run.\n",
    "        avg_val_accuracy = total_eval_accuracy / len(val_loader)\n",
    "        print(\"Accuracy: {0:.2f}\".format(avg_val_accuracy))\n",
    "\n",
    "        # Calculate the average loss over all of the batches.\n",
    "        avg_val_loss = total_eval_loss / len(val_loader)\n",
    "\n",
    "        print(\"Validation Loss: {0:.2f}\".format(avg_val_loss))\n",
    "\n",
    "        # Record all statistics from this epoch.\n",
    "        training_stats.append(\n",
    "            {\n",
    "                'epoch': epoch + 1,\n",
    "                'Training Loss': avg_train_loss,\n",
    "                'Valid. Loss': avg_val_loss,\n",
    "                \"Train. Accur.\": avg_train_acc,\n",
    "                'Valid. Accur.': avg_val_accuracy\n",
    "            })            \n",
    "    print(\"Training Complete!!\")\n",
    "    return training_stats"
   ]
  },
  {
   "cell_type": "code",
   "execution_count": 51,
   "metadata": {
    "execution": {
     "iopub.execute_input": "2023-05-13T11:47:17.340583Z",
     "iopub.status.busy": "2023-05-13T11:47:17.337967Z",
     "iopub.status.idle": "2023-05-13T11:51:29.363579Z",
     "shell.execute_reply": "2023-05-13T11:51:29.362614Z",
     "shell.execute_reply.started": "2023-05-13T11:47:17.340547Z"
    }
   },
   "outputs": [
    {
     "name": "stdout",
     "output_type": "stream",
     "text": [
      "Training...\n"
     ]
    },
    {
     "name": "stderr",
     "output_type": "stream",
     "text": [
      "0it [00:00, ?it/s]Truncation was not explicitly activated but `max_length` is provided a specific value, please use `truncation=True` to explicitly truncate examples to max length. Defaulting to 'longest_first' truncation strategy. If you encode pairs of sequences (GLUE-style) with the tokenizer you can select this strategy more precisely by providing a specific strategy to `truncation`.\n",
      "/opt/conda/lib/python3.10/site-packages/transformers/tokenization_utils_base.py:2354: FutureWarning: The `pad_to_max_length` argument is deprecated and will be removed in a future version, use `padding=True` or `padding='longest'` to pad to the longest sequence in the batch, or use `padding='max_length'` to pad to a max length. In this case, you can give a specific length with `max_length` (e.g. `max_length=45`) or leave max_length to None to pad to the maximal input size of the model (e.g. 512 for Bert).\n",
      "  warnings.warn(\n",
      "135it [01:01,  2.19it/s]\n"
     ]
    },
    {
     "name": "stdout",
     "output_type": "stream",
     "text": [
      "Average training loss:  0.19\n",
      "The training accuracy for the epoch 0 is 0.9343041383219954\n",
      "*****\n",
      "Validation...!!\n"
     ]
    },
    {
     "name": "stderr",
     "output_type": "stream",
     "text": [
      "15it [00:02,  6.35it/s]\n"
     ]
    },
    {
     "name": "stdout",
     "output_type": "stream",
     "text": [
      "Accuracy: 0.96\n",
      "Validation Loss: 0.11\n"
     ]
    },
    {
     "name": "stderr",
     "output_type": "stream",
     "text": [
      "135it [01:00,  2.24it/s]\n"
     ]
    },
    {
     "name": "stdout",
     "output_type": "stream",
     "text": [
      "Average training loss:  0.06\n",
      "The training accuracy for the epoch 1 is 0.9817932728647014\n",
      "*****\n",
      "Validation...!!\n"
     ]
    },
    {
     "name": "stderr",
     "output_type": "stream",
     "text": [
      "15it [00:02,  6.27it/s]\n"
     ]
    },
    {
     "name": "stdout",
     "output_type": "stream",
     "text": [
      "Accuracy: 0.97\n",
      "Validation Loss: 0.11\n"
     ]
    },
    {
     "name": "stderr",
     "output_type": "stream",
     "text": [
      "135it [01:00,  2.24it/s]\n"
     ]
    },
    {
     "name": "stdout",
     "output_type": "stream",
     "text": [
      "Average training loss:  0.02\n",
      "The training accuracy for the epoch 2 is 0.9951034580498866\n",
      "*****\n",
      "Validation...!!\n"
     ]
    },
    {
     "name": "stderr",
     "output_type": "stream",
     "text": [
      "15it [00:02,  6.36it/s]\n"
     ]
    },
    {
     "name": "stdout",
     "output_type": "stream",
     "text": [
      "Accuracy: 0.97\n",
      "Validation Loss: 0.11\n"
     ]
    },
    {
     "name": "stderr",
     "output_type": "stream",
     "text": [
      "135it [01:00,  2.24it/s]\n"
     ]
    },
    {
     "name": "stdout",
     "output_type": "stream",
     "text": [
      "Average training loss:  0.01\n",
      "The training accuracy for the epoch 3 is 0.9974537037037037\n",
      "*****\n",
      "Validation...!!\n"
     ]
    },
    {
     "name": "stderr",
     "output_type": "stream",
     "text": [
      "15it [00:02,  6.34it/s]"
     ]
    },
    {
     "name": "stdout",
     "output_type": "stream",
     "text": [
      "Accuracy: 0.97\n",
      "Validation Loss: 0.12\n",
      "Training Complete!!\n"
     ]
    },
    {
     "name": "stderr",
     "output_type": "stream",
     "text": [
      "\n"
     ]
    }
   ],
   "source": [
    "#train the model and collect the statistics\n",
    "stats = train_classifier(model,train_loader,val_loader,optimizer)"
   ]
  },
  {
   "cell_type": "code",
   "execution_count": 52,
   "metadata": {
    "execution": {
     "iopub.execute_input": "2023-05-13T11:51:29.365507Z",
     "iopub.status.busy": "2023-05-13T11:51:29.364920Z",
     "iopub.status.idle": "2023-05-13T11:51:29.380429Z",
     "shell.execute_reply": "2023-05-13T11:51:29.379379Z",
     "shell.execute_reply.started": "2023-05-13T11:51:29.365472Z"
    }
   },
   "outputs": [
    {
     "data": {
      "text/html": [
       "<div>\n",
       "<style scoped>\n",
       "    .dataframe tbody tr th:only-of-type {\n",
       "        vertical-align: middle;\n",
       "    }\n",
       "\n",
       "    .dataframe tbody tr th {\n",
       "        vertical-align: top;\n",
       "    }\n",
       "\n",
       "    .dataframe thead th {\n",
       "        text-align: right;\n",
       "    }\n",
       "</style>\n",
       "<table border=\"1\" class=\"dataframe\">\n",
       "  <thead>\n",
       "    <tr style=\"text-align: right;\">\n",
       "      <th></th>\n",
       "      <th>Training Loss</th>\n",
       "      <th>Valid. Loss</th>\n",
       "      <th>Train. Accur.</th>\n",
       "      <th>Valid. Accur.</th>\n",
       "    </tr>\n",
       "    <tr>\n",
       "      <th>epoch</th>\n",
       "      <th></th>\n",
       "      <th></th>\n",
       "      <th></th>\n",
       "      <th></th>\n",
       "    </tr>\n",
       "  </thead>\n",
       "  <tbody>\n",
       "    <tr>\n",
       "      <th>1</th>\n",
       "      <td>0.19</td>\n",
       "      <td>0.11</td>\n",
       "      <td>0.93</td>\n",
       "      <td>0.96</td>\n",
       "    </tr>\n",
       "    <tr>\n",
       "      <th>2</th>\n",
       "      <td>0.06</td>\n",
       "      <td>0.11</td>\n",
       "      <td>0.98</td>\n",
       "      <td>0.97</td>\n",
       "    </tr>\n",
       "    <tr>\n",
       "      <th>3</th>\n",
       "      <td>0.02</td>\n",
       "      <td>0.11</td>\n",
       "      <td>1.00</td>\n",
       "      <td>0.97</td>\n",
       "    </tr>\n",
       "    <tr>\n",
       "      <th>4</th>\n",
       "      <td>0.01</td>\n",
       "      <td>0.12</td>\n",
       "      <td>1.00</td>\n",
       "      <td>0.97</td>\n",
       "    </tr>\n",
       "  </tbody>\n",
       "</table>\n",
       "</div>"
      ],
      "text/plain": [
       "       Training Loss  Valid. Loss  Train. Accur.  Valid. Accur.\n",
       "epoch                                                          \n",
       "1               0.19         0.11           0.93           0.96\n",
       "2               0.06         0.11           0.98           0.97\n",
       "3               0.02         0.11           1.00           0.97\n",
       "4               0.01         0.12           1.00           0.97"
      ]
     },
     "execution_count": 52,
     "metadata": {},
     "output_type": "execute_result"
    }
   ],
   "source": [
    "import pandas as pd\n",
    "\n",
    "# Display floats with two decimal places.\n",
    "pd.set_option('display.precision', 2)\n",
    "\n",
    "# Create a DataFrame from our training statistics.\n",
    "df_stats = pd.DataFrame(data=stats)\n",
    "\n",
    "# Use the 'epoch' as the row index.\n",
    "df_stats = df_stats.set_index('epoch')\n",
    "\n",
    "# Display the table.\n",
    "df_stats"
   ]
  },
  {
   "cell_type": "code",
   "execution_count": 53,
   "metadata": {
    "execution": {
     "iopub.execute_input": "2023-05-13T11:51:29.382590Z",
     "iopub.status.busy": "2023-05-13T11:51:29.381942Z",
     "iopub.status.idle": "2023-05-13T11:51:29.397034Z",
     "shell.execute_reply": "2023-05-13T11:51:29.396050Z",
     "shell.execute_reply.started": "2023-05-13T11:51:29.382556Z"
    }
   },
   "outputs": [],
   "source": [
    "#eval function\n",
    "def eval_model(model,loader):\n",
    "    print(\"Evaluation...!!\")\n",
    "    model.eval()\n",
    "    # Tracking variables \n",
    "    total_eval_accuracy = 0\n",
    "    total_eval_loss = 0\n",
    "    nb_eval_steps = 0\n",
    "    preds = []\n",
    "    labels = []\n",
    "    # Evaluate data for one epoch\n",
    "    for _,batch in tqdm(enumerate(loader,0)):\n",
    "        val_ids = batch['ids'].to(device, dtype = torch.long)\n",
    "        val_mask = batch['mask'].to(device, dtype = torch.long)\n",
    "        val_token_type_ids = batch['token_type_ids'].to(device, dtype=torch.long)\n",
    "        val_targets = batch['targets'].to(device, dtype = torch.long)\n",
    "        with torch.no_grad(): \n",
    "            val_out = model(val_ids,token_type_ids=None,\n",
    "                                attention_mask=val_mask,labels=val_targets)\n",
    "            loss = val_out.loss\n",
    "            logits = val_out.logits\n",
    "            # Accumulate the validation loss.\n",
    "            total_eval_loss += loss.item()\n",
    "\n",
    "            # Move logits and labels to CPU\n",
    "            logits = logits.detach().cpu().numpy()\n",
    "            label_ids = val_targets.to('cpu').numpy()\n",
    "            total_eval_accuracy += flat_accuracy(logits, label_ids) \n",
    "            preds.extend(np.argmax(logits, axis=1).flatten())\n",
    "            labels.extend(label_ids.flatten())\n",
    "\n",
    "        # Report the final accuracy for this validation run.\n",
    "    avg_val_accuracy = total_eval_accuracy / len(loader)\n",
    "    print(\"Accuracy: {0:.2f}\".format(avg_val_accuracy))\n",
    "\n",
    "    # Calculate the average loss over all of the batches.\n",
    "    avg_val_loss = total_eval_loss / len(loader)\n",
    "\n",
    "    print(\"Test Loss: {0:.2f}\".format(avg_val_loss))\n",
    "    df = pd.DataFrame({'labels': labels, 'Preds': preds}) \n",
    "    print(\"Evaluation Complete!!\")\n",
    "    return df"
   ]
  },
  {
   "cell_type": "code",
   "execution_count": 54,
   "metadata": {
    "execution": {
     "iopub.execute_input": "2023-05-13T11:51:29.398645Z",
     "iopub.status.busy": "2023-05-13T11:51:29.398275Z",
     "iopub.status.idle": "2023-05-13T11:51:40.843546Z",
     "shell.execute_reply": "2023-05-13T11:51:40.842617Z",
     "shell.execute_reply.started": "2023-05-13T11:51:29.398614Z"
    }
   },
   "outputs": [
    {
     "name": "stdout",
     "output_type": "stream",
     "text": [
      "Evaluation...!!\n"
     ]
    },
    {
     "name": "stderr",
     "output_type": "stream",
     "text": [
      "0it [00:00, ?it/s]/opt/conda/lib/python3.10/site-packages/transformers/tokenization_utils_base.py:2354: FutureWarning: The `pad_to_max_length` argument is deprecated and will be removed in a future version, use `padding=True` or `padding='longest'` to pad to the longest sequence in the batch, or use `padding='max_length'` to pad to a max length. In this case, you can give a specific length with `max_length` (e.g. `max_length=45`) or leave max_length to None to pad to the maximal input size of the model (e.g. 512 for Bert).\n",
      "  warnings.warn(\n",
      "125it [00:11, 10.97it/s]"
     ]
    },
    {
     "name": "stdout",
     "output_type": "stream",
     "text": [
      "Accuracy: 0.97\n",
      "Test Loss: 0.14\n",
      "Evaluation Complete!!\n"
     ]
    },
    {
     "name": "stderr",
     "output_type": "stream",
     "text": [
      "\n"
     ]
    }
   ],
   "source": [
    "#evaluate the model and collect the outputs, labels and IPO_label\n",
    "df = eval_model(model, test_loader)"
   ]
  },
  {
   "cell_type": "code",
   "execution_count": 55,
   "metadata": {
    "execution": {
     "iopub.execute_input": "2023-05-13T11:51:40.845991Z",
     "iopub.status.busy": "2023-05-13T11:51:40.845293Z",
     "iopub.status.idle": "2023-05-13T11:51:40.852267Z",
     "shell.execute_reply": "2023-05-13T11:51:40.851336Z",
     "shell.execute_reply.started": "2023-05-13T11:51:40.845956Z"
    }
   },
   "outputs": [],
   "source": [
    "# performormance metrics\n",
    "#load the packages for Analysis\n",
    "import sklearn\n",
    "import matplotlib.pyplot as plt\n",
    "import seaborn as sns\n",
    "from sklearn.metrics import precision_recall_fscore_support as score\n",
    "from sklearn.metrics import confusion_matrix, accuracy_score"
   ]
  },
  {
   "cell_type": "code",
   "execution_count": 56,
   "metadata": {
    "execution": {
     "iopub.execute_input": "2023-05-13T11:51:40.854331Z",
     "iopub.status.busy": "2023-05-13T11:51:40.853778Z",
     "iopub.status.idle": "2023-05-13T11:51:40.863583Z",
     "shell.execute_reply": "2023-05-13T11:51:40.862574Z",
     "shell.execute_reply.started": "2023-05-13T11:51:40.854298Z"
    }
   },
   "outputs": [],
   "source": [
    "#some wrapper functions\n",
    "def results_analysis(df):\n",
    "    acc = accuracy_score(df.labels,df.Preds)\n",
    "    print(f'The accuracy is {acc}')\n",
    "    precision, recall, fscore, support = score(df.labels, df.Preds)\n",
    "    results_df = pd.DataFrame({'precision':precision,'recall':recall,\n",
    "                            'fscore':fscore,'support':support})\n",
    "    display(results_df)\n",
    "    \n",
    "def cnf_matrix(df):\n",
    "    #np.set_printoptions(precision=4)\n",
    "    mat = confusion_matrix(df.labels,df.Preds)\n",
    "    df_cm = pd.DataFrame(mat, range(2), range(2))\n",
    "    sns.heatmap(df_cm,annot=True, fmt=\"d\")\n",
    "    plt.show()"
   ]
  },
  {
   "cell_type": "code",
   "execution_count": 57,
   "metadata": {
    "execution": {
     "iopub.execute_input": "2023-05-13T11:51:40.865560Z",
     "iopub.status.busy": "2023-05-13T11:51:40.864749Z",
     "iopub.status.idle": "2023-05-13T11:51:40.888192Z",
     "shell.execute_reply": "2023-05-13T11:51:40.887355Z",
     "shell.execute_reply.started": "2023-05-13T11:51:40.865526Z"
    }
   },
   "outputs": [
    {
     "name": "stdout",
     "output_type": "stream",
     "text": [
      "The accuracy is 0.9668258356370948\n"
     ]
    },
    {
     "data": {
      "text/html": [
       "<div>\n",
       "<style scoped>\n",
       "    .dataframe tbody tr th:only-of-type {\n",
       "        vertical-align: middle;\n",
       "    }\n",
       "\n",
       "    .dataframe tbody tr th {\n",
       "        vertical-align: top;\n",
       "    }\n",
       "\n",
       "    .dataframe thead th {\n",
       "        text-align: right;\n",
       "    }\n",
       "</style>\n",
       "<table border=\"1\" class=\"dataframe\">\n",
       "  <thead>\n",
       "    <tr style=\"text-align: right;\">\n",
       "      <th></th>\n",
       "      <th>precision</th>\n",
       "      <th>recall</th>\n",
       "      <th>fscore</th>\n",
       "      <th>support</th>\n",
       "    </tr>\n",
       "  </thead>\n",
       "  <tbody>\n",
       "    <tr>\n",
       "      <th>0</th>\n",
       "      <td>0.98</td>\n",
       "      <td>0.98</td>\n",
       "      <td>0.98</td>\n",
       "      <td>3788</td>\n",
       "    </tr>\n",
       "    <tr>\n",
       "      <th>1</th>\n",
       "      <td>0.67</td>\n",
       "      <td>0.62</td>\n",
       "      <td>0.64</td>\n",
       "      <td>191</td>\n",
       "    </tr>\n",
       "  </tbody>\n",
       "</table>\n",
       "</div>"
      ],
      "text/plain": [
       "   precision  recall  fscore  support\n",
       "0       0.98    0.98    0.98     3788\n",
       "1       0.67    0.62    0.64      191"
      ]
     },
     "metadata": {},
     "output_type": "display_data"
    }
   ],
   "source": [
    "results_analysis(df)"
   ]
  },
  {
   "cell_type": "code",
   "execution_count": 58,
   "metadata": {
    "execution": {
     "iopub.execute_input": "2023-05-13T11:51:40.889740Z",
     "iopub.status.busy": "2023-05-13T11:51:40.889368Z",
     "iopub.status.idle": "2023-05-13T11:51:41.155608Z",
     "shell.execute_reply": "2023-05-13T11:51:41.154723Z",
     "shell.execute_reply.started": "2023-05-13T11:51:40.889706Z"
    }
   },
   "outputs": [
    {
     "data": {
      "image/png": "[encoded data removed]",
      "text/plain": [
       "<Figure size 640x480 with 2 Axes>"
      ]
     },
     "metadata": {},
     "output_type": "display_data"
    }
   ],
   "source": [
    "cnf_matrix(df)"
   ]
  }
 ],
 "metadata": {
  "kaggle": {
   "accelerator": "gpu",
   "dataSources": [],
   "dockerImageVersionId": 30476,
   "isGpuEnabled": true,
   "isInternetEnabled": true,
   "language": "python",
   "sourceType": "notebook"
  },
  "kernelspec": {
   "display_name": "Python 3 (ipykernel)",
   "language": "python",
   "name": "python3"
  },
  "language_info": {
   "codemirror_mode": {
    "name": "ipython",
    "version": 3
   },
   "file_extension": ".py",
   "mimetype": "text/x-python",
   "name": "python",
   "nbconvert_exporter": "python",
   "pygments_lexer": "ipython3",
   "version": "3.11.4"
  }
 },
 "nbformat": 4,
 "nbformat_minor": 4
}

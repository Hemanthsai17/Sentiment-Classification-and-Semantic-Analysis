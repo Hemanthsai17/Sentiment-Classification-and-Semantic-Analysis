{
 "cells": [
  {
   "cell_type": "code",
   "execution_count": 1,
   "id": "7618db4c",
   "metadata": {
    "_cell_guid": "b1076dfc-b9ad-4769-8c92-a6c4dae69d19",
    "_uuid": "8f2839f25d086af736a60e9eeb907d3b93b6e0e5",
    "execution": {
     "iopub.execute_input": "2023-10-13T06:47:30.461399Z",
     "iopub.status.busy": "2023-10-13T06:47:30.461038Z",
     "iopub.status.idle": "2023-10-13T06:47:49.360692Z",
     "shell.execute_reply": "2023-10-13T06:47:49.359449Z"
    },
    "papermill": {
     "duration": 18.908262,
     "end_time": "2023-10-13T06:47:49.362920",
     "exception": false,
     "start_time": "2023-10-13T06:47:30.454658",
     "status": "completed"
    },
    "tags": []
   },
   "outputs": [],
   "source": [
    "!pip install transformers[torch] -q\n",
    "!pip install numpy matplotlib -q"
   ]
  },
  {
   "cell_type": "code",
   "execution_count": 2,
   "id": "6d6484d2",
   "metadata": {
    "execution": {
     "iopub.execute_input": "2023-10-13T06:47:49.373032Z",
     "iopub.status.busy": "2023-10-13T06:47:49.372744Z",
     "iopub.status.idle": "2023-10-13T06:47:49.377249Z",
     "shell.execute_reply": "2023-10-13T06:47:49.376310Z"
    },
    "papermill": {
     "duration": 0.011489,
     "end_time": "2023-10-13T06:47:49.378983",
     "exception": false,
     "start_time": "2023-10-13T06:47:49.367494",
     "status": "completed"
    },
    "tags": []
   },
   "outputs": [],
   "source": [
    "import warnings\n",
    "warnings.filterwarnings(\"ignore\")"
   ]
  },
  {
   "cell_type": "code",
   "execution_count": 3,
   "id": "ed5ebdaf",
   "metadata": {
    "execution": {
     "iopub.execute_input": "2023-10-13T06:47:49.387845Z",
     "iopub.status.busy": "2023-10-13T06:47:49.387610Z",
     "iopub.status.idle": "2023-10-13T06:48:17.070567Z",
     "shell.execute_reply": "2023-10-13T06:48:17.069634Z"
    },
    "papermill": {
     "duration": 27.689975,
     "end_time": "2023-10-13T06:48:17.072852",
     "exception": false,
     "start_time": "2023-10-13T06:47:49.382877",
     "status": "completed"
    },
    "tags": []
   },
   "outputs": [],
   "source": [
    "import torch\n",
    "import pandas as pd\n",
    "import numpy as np\n",
    "import os\n",
    "from transformers import AutoTokenizer,AutoModelForMaskedLM\n",
    "from transformers import pipeline"
   ]
  },
  {
   "cell_type": "code",
   "execution_count": 4,
   "id": "be8112a1",
   "metadata": {
    "execution": {
     "iopub.execute_input": "2023-10-13T06:48:17.082962Z",
     "iopub.status.busy": "2023-10-13T06:48:17.082306Z",
     "iopub.status.idle": "2023-10-13T06:48:17.086367Z",
     "shell.execute_reply": "2023-10-13T06:48:17.085565Z"
    },
    "papermill": {
     "duration": 0.010739,
     "end_time": "2023-10-13T06:48:17.088134",
     "exception": false,
     "start_time": "2023-10-13T06:48:17.077395",
     "status": "completed"
    },
    "tags": []
   },
   "outputs": [],
   "source": [
    "import re"
   ]
  },
  {
   "cell_type": "markdown",
   "id": "b1ae6270",
   "metadata": {
    "papermill": {
     "duration": 0.003874,
     "end_time": "2023-10-13T06:48:17.096026",
     "exception": false,
     "start_time": "2023-10-13T06:48:17.092152",
     "status": "completed"
    },
    "tags": []
   },
   "source": []
  },
  {
   "cell_type": "code",
   "execution_count": 5,
   "id": "6b00bc8b",
   "metadata": {
    "execution": {
     "iopub.execute_input": "2023-10-13T06:48:17.105677Z",
     "iopub.status.busy": "2023-10-13T06:48:17.104819Z",
     "iopub.status.idle": "2023-10-13T06:48:17.209772Z",
     "shell.execute_reply": "2023-10-13T06:48:17.208935Z"
    },
    "papermill": {
     "duration": 0.111836,
     "end_time": "2023-10-13T06:48:17.211861",
     "exception": false,
     "start_time": "2023-10-13T06:48:17.100025",
     "status": "completed"
    },
    "tags": []
   },
   "outputs": [
    {
     "name": "stdout",
     "output_type": "stream",
     "text": [
      "Using cuda device\n"
     ]
    }
   ],
   "source": [
    "device = (\n",
    "    \"cuda\"\n",
    "    if torch.cuda.is_available()\n",
    "    else \"mps\"\n",
    "    if torch.backends.mps.is_available()\n",
    "    else \"cpu\"\n",
    ")\n",
    "print(f\"Using {device} device\")"
   ]
  },
  {
   "cell_type": "code",
   "execution_count": 6,
   "id": "53ffee22",
   "metadata": {
    "execution": {
     "iopub.execute_input": "2023-10-13T06:48:17.221949Z",
     "iopub.status.busy": "2023-10-13T06:48:17.221097Z",
     "iopub.status.idle": "2023-10-13T06:48:18.561485Z",
     "shell.execute_reply": "2023-10-13T06:48:18.560572Z"
    },
    "papermill": {
     "duration": 1.347345,
     "end_time": "2023-10-13T06:48:18.563436",
     "exception": false,
     "start_time": "2023-10-13T06:48:17.216091",
     "status": "completed"
    },
    "tags": []
   },
   "outputs": [
    {
     "data": {
      "application/vnd.jupyter.widget-view+json": {
       "model_id": "ce875f6d0baf49fc894522a7314d28de",
       "version_major": 2,
       "version_minor": 0
      },
      "text/plain": [
       "Downloading (…)lve/main/config.json:   0%|          | 0.00/786 [00:00<?, ?B/s]"
      ]
     },
     "metadata": {},
     "output_type": "display_data"
    },
    {
     "data": {
      "application/vnd.jupyter.widget-view+json": {
       "model_id": "2a7ce60d2b9e491eb6511527b9da6d6a",
       "version_major": 2,
       "version_minor": 0
      },
      "text/plain": [
       "Downloading pytorch_model.bin:   0%|          | 0.00/45.9M [00:00<?, ?B/s]"
      ]
     },
     "metadata": {},
     "output_type": "display_data"
    },
    {
     "data": {
      "text/plain": [
       "AlbertForMaskedLM(\n",
       "  (albert): AlbertModel(\n",
       "    (embeddings): AlbertEmbeddings(\n",
       "      (word_embeddings): Embedding(32001, 128, padding_idx=0)\n",
       "      (position_embeddings): Embedding(514, 128)\n",
       "      (token_type_embeddings): Embedding(1, 128)\n",
       "      (LayerNorm): LayerNorm((128,), eps=1e-05, elementwise_affine=True)\n",
       "      (dropout): Dropout(p=0.1, inplace=False)\n",
       "    )\n",
       "    (encoder): AlbertTransformer(\n",
       "      (embedding_hidden_mapping_in): Linear(in_features=128, out_features=768, bias=True)\n",
       "      (albert_layer_groups): ModuleList(\n",
       "        (0): AlbertLayerGroup(\n",
       "          (albert_layers): ModuleList(\n",
       "            (0): AlbertLayer(\n",
       "              (full_layer_layer_norm): LayerNorm((768,), eps=1e-05, elementwise_affine=True)\n",
       "              (attention): AlbertAttention(\n",
       "                (query): Linear(in_features=768, out_features=768, bias=True)\n",
       "                (key): Linear(in_features=768, out_features=768, bias=True)\n",
       "                (value): Linear(in_features=768, out_features=768, bias=True)\n",
       "                (attention_dropout): Dropout(p=0.1, inplace=False)\n",
       "                (output_dropout): Dropout(p=0.1, inplace=False)\n",
       "                (dense): Linear(in_features=768, out_features=768, bias=True)\n",
       "                (LayerNorm): LayerNorm((768,), eps=1e-05, elementwise_affine=True)\n",
       "              )\n",
       "              (ffn): Linear(in_features=768, out_features=3072, bias=True)\n",
       "              (ffn_output): Linear(in_features=3072, out_features=768, bias=True)\n",
       "              (activation): GELUActivation()\n",
       "              (dropout): Dropout(p=0.1, inplace=False)\n",
       "            )\n",
       "          )\n",
       "        )\n",
       "      )\n",
       "    )\n",
       "  )\n",
       "  (predictions): AlbertMLMHead(\n",
       "    (LayerNorm): LayerNorm((128,), eps=1e-05, elementwise_affine=True)\n",
       "    (dense): Linear(in_features=768, out_features=128, bias=True)\n",
       "    (decoder): Linear(in_features=128, out_features=32001, bias=True)\n",
       "    (activation): GELUActivation()\n",
       "  )\n",
       ")"
      ]
     },
     "execution_count": 6,
     "metadata": {},
     "output_type": "execute_result"
    }
   ],
   "source": [
    "model1=AutoModelForMaskedLM.from_pretrained('sampathlonka/San-ALBERT') \n",
    "model1"
   ]
  },
  {
   "cell_type": "code",
   "execution_count": 7,
   "id": "bb64c64f",
   "metadata": {
    "execution": {
     "iopub.execute_input": "2023-10-13T06:48:18.573534Z",
     "iopub.status.busy": "2023-10-13T06:48:18.573236Z",
     "iopub.status.idle": "2023-10-13T06:48:19.569317Z",
     "shell.execute_reply": "2023-10-13T06:48:19.568405Z"
    },
    "papermill": {
     "duration": 1.003216,
     "end_time": "2023-10-13T06:48:19.571274",
     "exception": false,
     "start_time": "2023-10-13T06:48:18.568058",
     "status": "completed"
    },
    "tags": []
   },
   "outputs": [
    {
     "data": {
      "application/vnd.jupyter.widget-view+json": {
       "model_id": "2eb0e38b554b4f8bb69ee1b5e32e363b",
       "version_major": 2,
       "version_minor": 0
      },
      "text/plain": [
       "Downloading (…)okenizer_config.json:   0%|          | 0.00/564 [00:00<?, ?B/s]"
      ]
     },
     "metadata": {},
     "output_type": "display_data"
    },
    {
     "data": {
      "application/vnd.jupyter.widget-view+json": {
       "model_id": "185d51457e3e442a81600f3fa087c9a7",
       "version_major": 2,
       "version_minor": 0
      },
      "text/plain": [
       "Downloading spiece.model:   0%|          | 0.00/1.15M [00:00<?, ?B/s]"
      ]
     },
     "metadata": {},
     "output_type": "display_data"
    },
    {
     "data": {
      "application/vnd.jupyter.widget-view+json": {
       "model_id": "48e78bd61f604964a795820553f466e6",
       "version_major": 2,
       "version_minor": 0
      },
      "text/plain": [
       "Downloading (…)/main/tokenizer.json:   0%|          | 0.00/2.76M [00:00<?, ?B/s]"
      ]
     },
     "metadata": {},
     "output_type": "display_data"
    },
    {
     "data": {
      "application/vnd.jupyter.widget-view+json": {
       "model_id": "73d493bf21d24a3e8944d02562ee23e4",
       "version_major": 2,
       "version_minor": 0
      },
      "text/plain": [
       "Downloading (…)in/added_tokens.json:   0%|          | 0.00/21.0 [00:00<?, ?B/s]"
      ]
     },
     "metadata": {},
     "output_type": "display_data"
    },
    {
     "data": {
      "application/vnd.jupyter.widget-view+json": {
       "model_id": "6c83883cb9e14e589a7d2f521b2278fa",
       "version_major": 2,
       "version_minor": 0
      },
      "text/plain": [
       "Downloading (…)cial_tokens_map.json:   0%|          | 0.00/286 [00:00<?, ?B/s]"
      ]
     },
     "metadata": {},
     "output_type": "display_data"
    },
    {
     "data": {
      "text/plain": [
       "AlbertTokenizerFast(name_or_path='sampathlonka/San-ALBERT', vocab_size=32000, model_max_length=512, is_fast=True, padding_side='right', truncation_side='right', special_tokens={'bos_token': '[CLS]', 'eos_token': '[SEP]', 'unk_token': '<unk>', 'sep_token': '[SEP]', 'pad_token': '<pad>', 'cls_token': '[CLS]', 'mask_token': AddedToken(\"[MASK]\", rstrip=False, lstrip=True, single_word=False, normalized=False)}, clean_up_tokenization_spaces=True)"
      ]
     },
     "execution_count": 7,
     "metadata": {},
     "output_type": "execute_result"
    }
   ],
   "source": [
    "tokenizer1=AutoTokenizer.from_pretrained('sampathlonka/San-ALBERT')\n",
    "tokenizer1"
   ]
  },
  {
   "cell_type": "code",
   "execution_count": 8,
   "id": "a9e1f207",
   "metadata": {
    "execution": {
     "iopub.execute_input": "2023-10-13T06:48:19.583044Z",
     "iopub.status.busy": "2023-10-13T06:48:19.582177Z",
     "iopub.status.idle": "2023-10-13T06:48:19.586488Z",
     "shell.execute_reply": "2023-10-13T06:48:19.585689Z"
    },
    "papermill": {
     "duration": 0.011751,
     "end_time": "2023-10-13T06:48:19.588146",
     "exception": false,
     "start_time": "2023-10-13T06:48:19.576395",
     "status": "completed"
    },
    "tags": []
   },
   "outputs": [],
   "source": [
    "folder_names = []\n",
    "texts=[]"
   ]
  },
  {
   "cell_type": "code",
   "execution_count": 9,
   "id": "119dd51c",
   "metadata": {
    "execution": {
     "iopub.execute_input": "2023-10-13T06:48:19.598975Z",
     "iopub.status.busy": "2023-10-13T06:48:19.598617Z",
     "iopub.status.idle": "2023-10-13T06:48:20.703645Z",
     "shell.execute_reply": "2023-10-13T06:48:20.702199Z"
    },
    "papermill": {
     "duration": 1.112531,
     "end_time": "2023-10-13T06:48:20.705427",
     "exception": false,
     "start_time": "2023-10-13T06:48:19.592896",
     "status": "completed"
    },
    "tags": []
   },
   "outputs": [
    {
     "name": "stdout",
     "output_type": "stream",
     "text": [
      "/kaggle/input/mahakavyas/Raghuvamsa/Raghuvamsa/raghuvamsha_sarga_04.xlsx\n",
      "/kaggle/input/mahakavyas/Raghuvamsa/Raghuvamsa/raghuvamsha_sarga_19.xlsx\n",
      "/kaggle/input/mahakavyas/Raghuvamsa/Raghuvamsa/raghuvamsha_sarga_07.xlsx\n",
      "/kaggle/input/mahakavyas/Raghuvamsa/Raghuvamsa/raghuvamsha_sarga_08.xlsx\n",
      "/kaggle/input/mahakavyas/Raghuvamsa/Raghuvamsa/raghuvamsha_sarga_11.xlsx\n",
      "/kaggle/input/mahakavyas/Raghuvamsa/Raghuvamsa/raghuvamsha_sarga_02.xlsx\n",
      "/kaggle/input/mahakavyas/Raghuvamsa/Raghuvamsa/raghuvamsha_sarga_01.xlsx\n",
      "/kaggle/input/mahakavyas/Raghuvamsa/Raghuvamsa/raghuvamsha_sarga_13.xlsx\n",
      "/kaggle/input/mahakavyas/Raghuvamsa/Raghuvamsa/raghuvamsha_sarga_12.xlsx\n",
      "/kaggle/input/mahakavyas/Raghuvamsa/Raghuvamsa/raghuvamsha_sarga_09.xlsx\n",
      "/kaggle/input/mahakavyas/Raghuvamsa/Raghuvamsa/raghuvamsha_sarga_06.xlsx\n",
      "/kaggle/input/mahakavyas/Raghuvamsa/Raghuvamsa/raghuvamsha_sarga_17.xlsx\n",
      "/kaggle/input/mahakavyas/Raghuvamsa/Raghuvamsa/raghuvamsha_sarga_14.xlsx\n",
      "/kaggle/input/mahakavyas/Raghuvamsa/Raghuvamsa/raghuvamsha_sarga_16.xlsx\n",
      "/kaggle/input/mahakavyas/Raghuvamsa/Raghuvamsa/raghuvamsha_sarga_05.xlsx\n",
      "/kaggle/input/mahakavyas/Raghuvamsa/Raghuvamsa/raghuvamsha_sarga_18.xlsx\n",
      "/kaggle/input/mahakavyas/Raghuvamsa/Raghuvamsa/raghuvamsha_sarga_15.xlsx\n",
      "/kaggle/input/mahakavyas/Raghuvamsa/Raghuvamsa/raghuvamsha_sarga_10.xlsx\n",
      "/kaggle/input/mahakavyas/Raghuvamsa/Raghuvamsa/raghuvamsha_sarga_03.xlsx\n"
     ]
    }
   ],
   "source": [
    "folder_path = '/kaggle/input/mahakavyas/Raghuvamsa/Raghuvamsa'\n",
    "\n",
    "# List all files in the folder\n",
    "for folder_name in os.listdir(folder_path):\n",
    "    folder_dir = os.path.join(folder_path, folder_name)\n",
    "    print(folder_dir)\n",
    "    df = pd.read_excel(folder_dir)\n",
    "    # Iterate through each row and store it as a list\n",
    "    for index, row in df.iterrows():\n",
    "        t = row.tolist()\n",
    "        texts.append(t)\n",
    "        folder_names.append(folder_name[:-5])\n",
    "df = pd.DataFrame({'Text': texts, 'FolderName': folder_names})"
   ]
  },
  {
   "cell_type": "code",
   "execution_count": 10,
   "id": "9a206c43",
   "metadata": {
    "execution": {
     "iopub.execute_input": "2023-10-13T06:48:20.717778Z",
     "iopub.status.busy": "2023-10-13T06:48:20.717248Z",
     "iopub.status.idle": "2023-10-13T06:48:20.731002Z",
     "shell.execute_reply": "2023-10-13T06:48:20.730156Z"
    },
    "papermill": {
     "duration": 0.021894,
     "end_time": "2023-10-13T06:48:20.732767",
     "exception": false,
     "start_time": "2023-10-13T06:48:20.710873",
     "status": "completed"
    },
    "tags": []
   },
   "outputs": [
    {
     "data": {
      "text/plain": [
       "'raghuvamsha_sarga_01'"
      ]
     },
     "execution_count": 10,
     "metadata": {},
     "output_type": "execute_result"
    }
   ],
   "source": [
    "len(texts)\n",
    "df.Text[580]\n",
    "df.FolderName[580]"
   ]
  },
  {
   "cell_type": "code",
   "execution_count": 11,
   "id": "6aad9965",
   "metadata": {
    "execution": {
     "iopub.execute_input": "2023-10-13T06:48:20.745151Z",
     "iopub.status.busy": "2023-10-13T06:48:20.744318Z",
     "iopub.status.idle": "2023-10-13T06:48:20.786324Z",
     "shell.execute_reply": "2023-10-13T06:48:20.784734Z"
    },
    "papermill": {
     "duration": 0.05017,
     "end_time": "2023-10-13T06:48:20.788297",
     "exception": false,
     "start_time": "2023-10-13T06:48:20.738127",
     "status": "completed"
    },
    "tags": []
   },
   "outputs": [
    {
     "name": "stdout",
     "output_type": "stream",
     "text": [
      "                                                   Text            FolderName\n",
      "0     [स राज्यं गुरुणा दत्तं प्रतिपद्याधिकं बभौ|दिना...  raghuvamsha_sarga_04\n",
      "1     [दिलीपानन्तरं राज्ये तं निशम्य प्रतिष्ठितम्|पू...  raghuvamsha_sarga_04\n",
      "2     [पुरुहूतध्वजस्येव तस्योन्नयनपङ्क्तयः|नवाभ्युत्...  raghuvamsha_sarga_04\n",
      "3     [सममेव समाक्रान्तं द्वयं द्विरदगामिना|तेन सिंह...  raghuvamsha_sarga_04\n",
      "4     [छायामण्डललक्ष्येण तमदृश्या किल स्वयम्|पद्मा प...  raghuvamsha_sarga_04\n",
      "...                                                 ...                   ...\n",
      "1642            [अथ स विषयव्यावृत्तात्मा यथाविधि सूनवे]  raghuvamsha_sarga_03\n",
      "1643  [नृपतिककुदं दत्त्वा यूने सितातपवारणम्|मुनिवनतर...  raghuvamsha_sarga_03\n",
      "1644            [गलितवयसामिक्ष्वाकूणामिदं हि कुलव्रतम्]  raghuvamsha_sarga_03\n",
      "1645    [इति कालिदास कृत रघुवंश महाकाव्ये तृतीयः सर्गः]  raghuvamsha_sarga_03\n",
      "1646                                               [)(]  raghuvamsha_sarga_03\n",
      "\n",
      "[1647 rows x 2 columns]\n"
     ]
    }
   ],
   "source": [
    "# Define custom functions to process text within a list\n",
    "def process_text(text_list):\n",
    "    processed_text_list = []\n",
    "    for text in text_list:\n",
    "        # Remove newline characters '\\n' and tab characters '\\t'\n",
    "        cleaned_text = text.replace('\\n', '').replace('\\t', '')\n",
    "        cleaned_text = re.sub('[॥.*?॥]|[॥]', '', cleaned_text) # replaces ॥ text ॥ or॥ by a ।\n",
    "        cleaned_text = re.sub('।','',cleaned_text)\n",
    "        cleaned_text = re.sub('१','',cleaned_text)\n",
    "        cleaned_text = re.sub('-','',cleaned_text)\n",
    "        #cleaned_text = re.sub('---)0(--','',cleaned_text)\n",
    "        cleaned_text = re.sub('0','',cleaned_text)\n",
    "        cleaned_text = re.sub('६','',cleaned_text)\n",
    "        cleaned_text = re.sub('२','',cleaned_text)\n",
    "        cleaned_text = re.sub('३', '',cleaned_text)\n",
    "        cleaned_text = re.sub('४', '',cleaned_text)\n",
    "        cleaned_text = re.sub('o','',cleaned_text)\n",
    "        cleaned_text = re.sub('५', '',cleaned_text)\n",
    "        cleaned_text = re.sub('९', '',cleaned_text)\n",
    "        cleaned_text = re.sub('७', '',cleaned_text)\n",
    "        cleaned_text = re.sub('०', '',cleaned_text)\n",
    "        cleaned_text = re.sub('८', '',cleaned_text)\n",
    "        # Split by '||' and keep only the part before it\n",
    "        cleaned_text = cleaned_text.split('||')[0].strip()\n",
    "        processed_text_list.append(cleaned_text)\n",
    "    return processed_text_list\n",
    "\n",
    "# Apply the custom function to each row of the 'Text' column\n",
    "df['Text'] = df['Text'].apply(process_text)\n",
    "\n",
    "# Display the modified DataFrame\n",
    "print(df)"
   ]
  },
  {
   "cell_type": "code",
   "execution_count": 12,
   "id": "3aa5f973",
   "metadata": {
    "execution": {
     "iopub.execute_input": "2023-10-13T06:48:20.800818Z",
     "iopub.status.busy": "2023-10-13T06:48:20.800298Z",
     "iopub.status.idle": "2023-10-13T06:48:20.813404Z",
     "shell.execute_reply": "2023-10-13T06:48:20.812381Z"
    },
    "papermill": {
     "duration": 0.020955,
     "end_time": "2023-10-13T06:48:20.815179",
     "exception": false,
     "start_time": "2023-10-13T06:48:20.794224",
     "status": "completed"
    },
    "tags": []
   },
   "outputs": [
    {
     "data": {
      "text/html": [
       "<div>\n",
       "<style scoped>\n",
       "    .dataframe tbody tr th:only-of-type {\n",
       "        vertical-align: middle;\n",
       "    }\n",
       "\n",
       "    .dataframe tbody tr th {\n",
       "        vertical-align: top;\n",
       "    }\n",
       "\n",
       "    .dataframe thead th {\n",
       "        text-align: right;\n",
       "    }\n",
       "</style>\n",
       "<table border=\"1\" class=\"dataframe\">\n",
       "  <thead>\n",
       "    <tr style=\"text-align: right;\">\n",
       "      <th></th>\n",
       "      <th>Text</th>\n",
       "      <th>FolderName</th>\n",
       "    </tr>\n",
       "  </thead>\n",
       "  <tbody>\n",
       "    <tr>\n",
       "      <th>0</th>\n",
       "      <td>[स राज्यं गुरुणा दत्तं प्रतिपद्याधिकं बभौ|दिना...</td>\n",
       "      <td>raghuvamsha_sarga_04</td>\n",
       "    </tr>\n",
       "    <tr>\n",
       "      <th>1</th>\n",
       "      <td>[दिलीपानन्तरं राज्ये तं निशम्य प्रतिष्ठितम्|पू...</td>\n",
       "      <td>raghuvamsha_sarga_04</td>\n",
       "    </tr>\n",
       "    <tr>\n",
       "      <th>2</th>\n",
       "      <td>[पुरुहूतध्वजस्येव तस्योन्नयनपङ्क्तयः|नवाभ्युत्...</td>\n",
       "      <td>raghuvamsha_sarga_04</td>\n",
       "    </tr>\n",
       "    <tr>\n",
       "      <th>3</th>\n",
       "      <td>[सममेव समाक्रान्तं द्वयं द्विरदगामिना|तेन सिंह...</td>\n",
       "      <td>raghuvamsha_sarga_04</td>\n",
       "    </tr>\n",
       "    <tr>\n",
       "      <th>4</th>\n",
       "      <td>[छायामण्डललक्ष्येण तमदृश्या किल स्वयम्|पद्मा प...</td>\n",
       "      <td>raghuvamsha_sarga_04</td>\n",
       "    </tr>\n",
       "    <tr>\n",
       "      <th>...</th>\n",
       "      <td>...</td>\n",
       "      <td>...</td>\n",
       "    </tr>\n",
       "    <tr>\n",
       "      <th>1642</th>\n",
       "      <td>[अथ स विषयव्यावृत्तात्मा यथाविधि सूनवे]</td>\n",
       "      <td>raghuvamsha_sarga_03</td>\n",
       "    </tr>\n",
       "    <tr>\n",
       "      <th>1643</th>\n",
       "      <td>[नृपतिककुदं दत्त्वा यूने सितातपवारणम्|मुनिवनतर...</td>\n",
       "      <td>raghuvamsha_sarga_03</td>\n",
       "    </tr>\n",
       "    <tr>\n",
       "      <th>1644</th>\n",
       "      <td>[गलितवयसामिक्ष्वाकूणामिदं हि कुलव्रतम्]</td>\n",
       "      <td>raghuvamsha_sarga_03</td>\n",
       "    </tr>\n",
       "    <tr>\n",
       "      <th>1645</th>\n",
       "      <td>[इति कालिदास कृत रघुवंश महाकाव्ये तृतीयः सर्गः]</td>\n",
       "      <td>raghuvamsha_sarga_03</td>\n",
       "    </tr>\n",
       "    <tr>\n",
       "      <th>1646</th>\n",
       "      <td>[)(]</td>\n",
       "      <td>raghuvamsha_sarga_03</td>\n",
       "    </tr>\n",
       "  </tbody>\n",
       "</table>\n",
       "<p>1647 rows × 2 columns</p>\n",
       "</div>"
      ],
      "text/plain": [
       "                                                   Text            FolderName\n",
       "0     [स राज्यं गुरुणा दत्तं प्रतिपद्याधिकं बभौ|दिना...  raghuvamsha_sarga_04\n",
       "1     [दिलीपानन्तरं राज्ये तं निशम्य प्रतिष्ठितम्|पू...  raghuvamsha_sarga_04\n",
       "2     [पुरुहूतध्वजस्येव तस्योन्नयनपङ्क्तयः|नवाभ्युत्...  raghuvamsha_sarga_04\n",
       "3     [सममेव समाक्रान्तं द्वयं द्विरदगामिना|तेन सिंह...  raghuvamsha_sarga_04\n",
       "4     [छायामण्डललक्ष्येण तमदृश्या किल स्वयम्|पद्मा प...  raghuvamsha_sarga_04\n",
       "...                                                 ...                   ...\n",
       "1642            [अथ स विषयव्यावृत्तात्मा यथाविधि सूनवे]  raghuvamsha_sarga_03\n",
       "1643  [नृपतिककुदं दत्त्वा यूने सितातपवारणम्|मुनिवनतर...  raghuvamsha_sarga_03\n",
       "1644            [गलितवयसामिक्ष्वाकूणामिदं हि कुलव्रतम्]  raghuvamsha_sarga_03\n",
       "1645    [इति कालिदास कृत रघुवंश महाकाव्ये तृतीयः सर्गः]  raghuvamsha_sarga_03\n",
       "1646                                               [)(]  raghuvamsha_sarga_03\n",
       "\n",
       "[1647 rows x 2 columns]"
      ]
     },
     "execution_count": 12,
     "metadata": {},
     "output_type": "execute_result"
    }
   ],
   "source": [
    "df"
   ]
  },
  {
   "cell_type": "code",
   "execution_count": 13,
   "id": "07dce062",
   "metadata": {
    "execution": {
     "iopub.execute_input": "2023-10-13T06:48:20.828175Z",
     "iopub.status.busy": "2023-10-13T06:48:20.827489Z",
     "iopub.status.idle": "2023-10-13T06:48:20.831335Z",
     "shell.execute_reply": "2023-10-13T06:48:20.830556Z"
    },
    "papermill": {
     "duration": 0.011874,
     "end_time": "2023-10-13T06:48:20.832864",
     "exception": false,
     "start_time": "2023-10-13T06:48:20.820990",
     "status": "completed"
    },
    "tags": []
   },
   "outputs": [],
   "source": [
    "# for i in range(len(df)):\n",
    "#     print(df.Text[i])"
   ]
  },
  {
   "cell_type": "code",
   "execution_count": 14,
   "id": "7491446b",
   "metadata": {
    "execution": {
     "iopub.execute_input": "2023-10-13T06:48:20.845043Z",
     "iopub.status.busy": "2023-10-13T06:48:20.844290Z",
     "iopub.status.idle": "2023-10-13T06:48:20.848282Z",
     "shell.execute_reply": "2023-10-13T06:48:20.847557Z"
    },
    "papermill": {
     "duration": 0.011668,
     "end_time": "2023-10-13T06:48:20.849912",
     "exception": false,
     "start_time": "2023-10-13T06:48:20.838244",
     "status": "completed"
    },
    "tags": []
   },
   "outputs": [],
   "source": [
    "embedding=[]"
   ]
  },
  {
   "cell_type": "code",
   "execution_count": 15,
   "id": "cbe9a221",
   "metadata": {
    "execution": {
     "iopub.execute_input": "2023-10-13T06:48:20.861860Z",
     "iopub.status.busy": "2023-10-13T06:48:20.861194Z",
     "iopub.status.idle": "2023-10-13T06:49:41.508545Z",
     "shell.execute_reply": "2023-10-13T06:49:41.507651Z"
    },
    "papermill": {
     "duration": 80.655547,
     "end_time": "2023-10-13T06:49:41.510665",
     "exception": false,
     "start_time": "2023-10-13T06:48:20.855118",
     "status": "completed"
    },
    "tags": []
   },
   "outputs": [],
   "source": [
    "for i in range(len(df)):\n",
    "    with torch.no_grad():\n",
    "        t = tokenizer1.encode(df.Text[i][0],max_length=512, padding=True, truncation=True, return_tensors=\"pt\")\n",
    "        model_output = model1.albert(t).last_hidden_state\n",
    "        model_output = model_output.squeeze()\n",
    "        out = torch.mean(model_output,dim=0)\n",
    "        out_numpy = out.numpy()\n",
    "        embedding.append(out_numpy)"
   ]
  },
  {
   "cell_type": "code",
   "execution_count": 16,
   "id": "ec9eb2a3",
   "metadata": {
    "execution": {
     "iopub.execute_input": "2023-10-13T06:49:41.523256Z",
     "iopub.status.busy": "2023-10-13T06:49:41.522975Z",
     "iopub.status.idle": "2023-10-13T06:49:41.528584Z",
     "shell.execute_reply": "2023-10-13T06:49:41.527662Z"
    },
    "papermill": {
     "duration": 0.013603,
     "end_time": "2023-10-13T06:49:41.530268",
     "exception": false,
     "start_time": "2023-10-13T06:49:41.516665",
     "status": "completed"
    },
    "tags": []
   },
   "outputs": [
    {
     "data": {
      "text/plain": [
       "(768,)"
      ]
     },
     "execution_count": 16,
     "metadata": {},
     "output_type": "execute_result"
    }
   ],
   "source": [
    "embedding[500].shape"
   ]
  },
  {
   "cell_type": "code",
   "execution_count": 17,
   "id": "c45b812c",
   "metadata": {
    "execution": {
     "iopub.execute_input": "2023-10-13T06:49:41.542540Z",
     "iopub.status.busy": "2023-10-13T06:49:41.541993Z",
     "iopub.status.idle": "2023-10-13T06:49:41.552242Z",
     "shell.execute_reply": "2023-10-13T06:49:41.551362Z"
    },
    "papermill": {
     "duration": 0.018381,
     "end_time": "2023-10-13T06:49:41.554109",
     "exception": false,
     "start_time": "2023-10-13T06:49:41.535728",
     "status": "completed"
    },
    "tags": []
   },
   "outputs": [
    {
     "data": {
      "text/plain": [
       "array([[ 0.2560084 , -0.88274014, -0.00503492, ...,  1.4362522 ,\n",
       "         0.6730973 , -0.47164947],\n",
       "       [ 0.2560084 , -0.88274014, -0.00503492, ...,  1.4362522 ,\n",
       "         0.6730974 , -0.47164953],\n",
       "       [ 0.2560084 , -0.8827402 , -0.00503492, ...,  1.4362521 ,\n",
       "         0.67309743, -0.4716495 ],\n",
       "       ...,\n",
       "       [ 0.25600842, -0.88274026, -0.00503491, ...,  1.4362518 ,\n",
       "         0.67309725, -0.47164932],\n",
       "       [ 0.25600842, -0.88274014, -0.00503491, ...,  1.4362518 ,\n",
       "         0.6730972 , -0.4716494 ],\n",
       "       [ 0.25600845, -0.88274026, -0.00503491, ...,  1.4362519 ,\n",
       "         0.67309725, -0.4716494 ]], dtype=float32)"
      ]
     },
     "execution_count": 17,
     "metadata": {},
     "output_type": "execute_result"
    }
   ],
   "source": [
    "data= np.array(embedding)\n",
    "data"
   ]
  },
  {
   "cell_type": "code",
   "execution_count": 18,
   "id": "a8b0bd95",
   "metadata": {
    "execution": {
     "iopub.execute_input": "2023-10-13T06:49:41.567543Z",
     "iopub.status.busy": "2023-10-13T06:49:41.566676Z",
     "iopub.status.idle": "2023-10-13T06:49:41.572214Z",
     "shell.execute_reply": "2023-10-13T06:49:41.571383Z"
    },
    "papermill": {
     "duration": 0.013757,
     "end_time": "2023-10-13T06:49:41.573909",
     "exception": false,
     "start_time": "2023-10-13T06:49:41.560152",
     "status": "completed"
    },
    "tags": []
   },
   "outputs": [
    {
     "data": {
      "text/plain": [
       "(1647, 768)"
      ]
     },
     "execution_count": 18,
     "metadata": {},
     "output_type": "execute_result"
    }
   ],
   "source": [
    "data.shape"
   ]
  },
  {
   "cell_type": "markdown",
   "id": "bbcce40b",
   "metadata": {
    "papermill": {
     "duration": 0.00535,
     "end_time": "2023-10-13T06:49:41.584821",
     "exception": false,
     "start_time": "2023-10-13T06:49:41.579471",
     "status": "completed"
    },
    "tags": []
   },
   "source": [
    "# t-SNE Visualization"
   ]
  },
  {
   "cell_type": "code",
   "execution_count": 19,
   "id": "e95265d4",
   "metadata": {
    "execution": {
     "iopub.execute_input": "2023-10-13T06:49:41.599400Z",
     "iopub.status.busy": "2023-10-13T06:49:41.598715Z",
     "iopub.status.idle": "2023-10-13T06:49:42.004285Z",
     "shell.execute_reply": "2023-10-13T06:49:42.003249Z"
    },
    "papermill": {
     "duration": 0.41612,
     "end_time": "2023-10-13T06:49:42.006572",
     "exception": false,
     "start_time": "2023-10-13T06:49:41.590452",
     "status": "completed"
    },
    "tags": []
   },
   "outputs": [],
   "source": [
    "import numpy as np\n",
    "import matplotlib.pyplot as plt\n",
    "from sklearn.manifold import TSNE\n",
    "from sklearn.preprocessing import StandardScaler"
   ]
  },
  {
   "cell_type": "code",
   "execution_count": 20,
   "id": "954e7b07",
   "metadata": {
    "execution": {
     "iopub.execute_input": "2023-10-13T06:49:42.021222Z",
     "iopub.status.busy": "2023-10-13T06:49:42.020522Z",
     "iopub.status.idle": "2023-10-13T06:49:51.314383Z",
     "shell.execute_reply": "2023-10-13T06:49:51.313395Z"
    },
    "papermill": {
     "duration": 9.303557,
     "end_time": "2023-10-13T06:49:51.316534",
     "exception": false,
     "start_time": "2023-10-13T06:49:42.012977",
     "status": "completed"
    },
    "tags": []
   },
   "outputs": [],
   "source": [
    "# Create a t-SNE object\n",
    "tsne = TSNE(n_components=2, perplexity=30, n_iter=300, random_state=0)\n",
    "\n",
    "# Apply t-SNE to the scaled data\n",
    "tsne_result = tsne.fit_transform(data)"
   ]
  },
  {
   "cell_type": "code",
   "execution_count": 21,
   "id": "54811e48",
   "metadata": {
    "execution": {
     "iopub.execute_input": "2023-10-13T06:49:51.329487Z",
     "iopub.status.busy": "2023-10-13T06:49:51.329183Z",
     "iopub.status.idle": "2023-10-13T06:49:51.658583Z",
     "shell.execute_reply": "2023-10-13T06:49:51.657733Z"
    },
    "papermill": {
     "duration": 0.33886,
     "end_time": "2023-10-13T06:49:51.661397",
     "exception": false,
     "start_time": "2023-10-13T06:49:51.322537",
     "status": "completed"
    },
    "tags": []
   },
   "outputs": [
    {
     "data": {
      "image/png": "[encoded data removed]",
      "text/plain": [
       "<Figure size 800x600 with 1 Axes>"
      ]
     },
     "metadata": {},
     "output_type": "display_data"
    }
   ],
   "source": [
    "# Create a scatter plot of the t-SNE results\n",
    "plt.figure(figsize=(8, 6))\n",
    "plt.scatter(tsne_result[:, 0], tsne_result[:, 1], marker='o', c='b', alpha=0.7)\n",
    "plt.title('t-SNE Visualization')\n",
    "plt.xlabel('Dimension 1')\n",
    "plt.ylabel('Dimension 2')\n",
    "plt.show()"
   ]
  },
  {
   "cell_type": "code",
   "execution_count": 22,
   "id": "b5dbc360",
   "metadata": {
    "execution": {
     "iopub.execute_input": "2023-10-13T06:49:51.677122Z",
     "iopub.status.busy": "2023-10-13T06:49:51.676851Z",
     "iopub.status.idle": "2023-10-13T06:50:06.280670Z",
     "shell.execute_reply": "2023-10-13T06:50:06.279131Z"
    },
    "papermill": {
     "duration": 14.615439,
     "end_time": "2023-10-13T06:50:06.284166",
     "exception": false,
     "start_time": "2023-10-13T06:49:51.668727",
     "status": "completed"
    },
    "tags": []
   },
   "outputs": [
    {
     "data": {
      "image/png": "[encoded data removed]",
      "text/plain": [
       "<Figure size 1000x500 with 2 Axes>"
      ]
     },
     "metadata": {},
     "output_type": "display_data"
    },
    {
     "name": "stdout",
     "output_type": "stream",
     "text": [
      "Silhouette Score for 3 clusters: 0.028260216116905212\n"
     ]
    }
   ],
   "source": [
    "import numpy as np\n",
    "from sklearn.cluster import KMeans\n",
    "from sklearn.decomposition import PCA\n",
    "from sklearn.preprocessing import StandardScaler\n",
    "import matplotlib.pyplot as plt\n",
    "from sklearn.metrics import silhouette_score\n",
    "\n",
    "# Generate random data for demonstration (replace with your data)\n",
    "np.random.seed(0)\n",
    "#data = np.random.rand(95, 768)\n",
    "\n",
    "# Step 1: Dimensionality Reduction (PCA)\n",
    "n_components = 50  # Adjust the number of components as needed\n",
    "pca = PCA(n_components=n_components)\n",
    "data_pca = pca.fit_transform(data)\n",
    "\n",
    "# Step 2: Feature Scaling\n",
    "scaler = StandardScaler()\n",
    "data_scaled = scaler.fit_transform(data_pca)\n",
    "\n",
    "# Step 3: Choosing the Number of Clusters (k)\n",
    "k_values = range(2, 33)\n",
    "inertia_values = []\n",
    "silhouette_scores = []\n",
    "\n",
    "for k in k_values:\n",
    "    kmeans = KMeans(n_clusters=k, random_state=0)\n",
    "    kmeans.fit(data_scaled)\n",
    "    inertia_values.append(kmeans.inertia_)\n",
    "    silhouette_scores.append(silhouette_score(data_scaled, kmeans.labels_))\n",
    "\n",
    "# Plot the Elbow Method to choose k\n",
    "plt.figure(figsize=(10, 5))\n",
    "plt.subplot(1, 2, 1)\n",
    "plt.plot(k_values, inertia_values, marker='o')\n",
    "plt.xlabel('Number of Clusters (k)')\n",
    "plt.ylabel('Inertia')\n",
    "plt.title('Elbow Method')\n",
    "\n",
    "# Plot Silhouette Scores\n",
    "plt.subplot(1, 2, 2)\n",
    "plt.plot(k_values, silhouette_scores, marker='o')\n",
    "plt.xlabel('Number of Clusters (k)')\n",
    "plt.ylabel('Silhouette Score')\n",
    "plt.title('Silhouette Score Method')\n",
    "\n",
    "plt.tight_layout()\n",
    "plt.show()\n",
    "\n",
    "# Based on the plots, choose an appropriate value of k\n",
    "\n",
    "# Step 4: K-means clustering with chosen k\n",
    "chosen_k = 3  # Replace with your chosen k\n",
    "kmeans = KMeans(n_clusters=chosen_k, random_state=0)\n",
    "kmeans.fit(data_scaled)\n",
    "\n",
    "# Step 5: Evaluate the Results (Silhouette Score)\n",
    "silhouette_avg = silhouette_score(data_scaled, kmeans.labels_)\n",
    "print(f\"Silhouette Score for {chosen_k} clusters: {silhouette_avg}\")"
   ]
  },
  {
   "cell_type": "code",
   "execution_count": null,
   "id": "e612e2b5",
   "metadata": {
    "papermill": {
     "duration": 0.024517,
     "end_time": "2023-10-13T06:50:06.333353",
     "exception": false,
     "start_time": "2023-10-13T06:50:06.308836",
     "status": "completed"
    },
    "tags": []
   },
   "outputs": [],
   "source": []
  }
 ],
 "metadata": {
  "kernelspec": {
   "display_name": "Python 3 (ipykernel)",
   "language": "python",
   "name": "python3"
  },
  "language_info": {
   "codemirror_mode": {
    "name": "ipython",
    "version": 3
   },
   "file_extension": ".py",
   "mimetype": "text/x-python",
   "name": "python",
   "nbconvert_exporter": "python",
   "pygments_lexer": "ipython3",
   "version": "3.11.4"
  },
  "papermill": {
   "default_parameters": {},
   "duration": 163.300816,
   "end_time": "2023-10-13T06:50:09.578390",
   "environment_variables": {},
   "exception": null,
   "input_path": "__notebook__.ipynb",
   "output_path": "__notebook__.ipynb",
   "parameters": {},
   "start_time": "2023-10-13T06:47:26.277574",
   "version": "2.4.0"
  },
  "widgets": {
   "application/vnd.jupyter.widget-state+json": {
    "state": {
     "056f398c54914c5e9eee98bb0e6744e9": {
      "model_module": "@jupyter-widgets/base",
      "model_module_version": "1.2.0",
      "model_name": "LayoutModel",
      "state": {
       "_model_module": "@jupyter-widgets/base",
       "_model_module_version": "1.2.0",
       "_model_name": "LayoutModel",
       "_view_count": null,
       "_view_module": "@jupyter-widgets/base",
       "_view_module_version": "1.2.0",
       "_view_name": "LayoutView",
       "align_content": null,
       "align_items": null,
       "align_self": null,
       "border": null,
       "bottom": null,
       "display": null,
       "flex": null,
       "flex_flow": null,
       "grid_area": null,
       "grid_auto_columns": null,
       "grid_auto_flow": null,
       "grid_auto_rows": null,
       "grid_column": null,
       "grid_gap": null,
       "grid_row": null,
       "grid_template_areas": null,
       "grid_template_columns": null,
       "grid_template_rows": null,
       "height": null,
       "justify_content": null,
       "justify_items": null,
       "left": null,
       "margin": null,
       "max_height": null,
       "max_width": null,
       "min_height": null,
       "min_width": null,
       "object_fit": null,
       "object_position": null,
       "order": null,
       "overflow": null,
       "overflow_x": null,
       "overflow_y": null,
       "padding": null,
       "right": null,
       "top": null,
       "visibility": null,
       "width": null
      }
     },
     "0d738d3d45ae4358805d941f77c6ad81": {
      "model_module": "@jupyter-widgets/base",
      "model_module_version": "1.2.0",
      "model_name": "LayoutModel",
      "state": {
       "_model_module": "@jupyter-widgets/base",
       "_model_module_version": "1.2.0",
       "_model_name": "LayoutModel",
       "_view_count": null,
       "_view_module": "@jupyter-widgets/base",
       "_view_module_version": "1.2.0",
       "_view_name": "LayoutView",
       "align_content": null,
       "align_items": null,
       "align_self": null,
       "border": null,
       "bottom": null,
       "display": null,
       "flex": null,
       "flex_flow": null,
       "grid_area": null,
       "grid_auto_columns": null,
       "grid_auto_flow": null,
       "grid_auto_rows": null,
       "grid_column": null,
       "grid_gap": null,
       "grid_row": null,
       "grid_template_areas": null,
       "grid_template_columns": null,
       "grid_template_rows": null,
       "height": null,
       "justify_content": null,
       "justify_items": null,
       "left": null,
       "margin": null,
       "max_height": null,
       "max_width": null,
       "min_height": null,
       "min_width": null,
       "object_fit": null,
       "object_position": null,
       "order": null,
       "overflow": null,
       "overflow_x": null,
       "overflow_y": null,
       "padding": null,
       "right": null,
       "top": null,
       "visibility": null,
       "width": null
      }
     },
     "0dc09cb564274d1d9be685e4442d2b7a": {
      "model_module": "@jupyter-widgets/base",
      "model_module_version": "1.2.0",
      "model_name": "LayoutModel",
      "state": {
       "_model_module": "@jupyter-widgets/base",
       "_model_module_version": "1.2.0",
       "_model_name": "LayoutModel",
       "_view_count": null,
       "_view_module": "@jupyter-widgets/base",
       "_view_module_version": "1.2.0",
       "_view_name": "LayoutView",
       "align_content": null,
       "align_items": null,
       "align_self": null,
       "border": null,
       "bottom": null,
       "display": null,
       "flex": null,
       "flex_flow": null,
       "grid_area": null,
       "grid_auto_columns": null,
       "grid_auto_flow": null,
       "grid_auto_rows": null,
       "grid_column": null,
       "grid_gap": null,
       "grid_row": null,
       "grid_template_areas": null,
       "grid_template_columns": null,
       "grid_template_rows": null,
       "height": null,
       "justify_content": null,
       "justify_items": null,
       "left": null,
       "margin": null,
       "max_height": null,
       "max_width": null,
       "min_height": null,
       "min_width": null,
       "object_fit": null,
       "object_position": null,
       "order": null,
       "overflow": null,
       "overflow_x": null,
       "overflow_y": null,
       "padding": null,
       "right": null,
       "top": null,
       "visibility": null,
       "width": null
      }
     },
     "104268979ed2493c8a2887b401a30dc0": {
      "model_module": "@jupyter-widgets/base",
      "model_module_version": "1.2.0",
      "model_name": "LayoutModel",
      "state": {
       "_model_module": "@jupyter-widgets/base",
       "_model_module_version": "1.2.0",
       "_model_name": "LayoutModel",
       "_view_count": null,
       "_view_module": "@jupyter-widgets/base",
       "_view_module_version": "1.2.0",
       "_view_name": "LayoutView",
       "align_content": null,
       "align_items": null,
       "align_self": null,
       "border": null,
       "bottom": null,
       "display": null,
       "flex": null,
       "flex_flow": null,
       "grid_area": null,
       "grid_auto_columns": null,
       "grid_auto_flow": null,
       "grid_auto_rows": null,
       "grid_column": null,
       "grid_gap": null,
       "grid_row": null,
       "grid_template_areas": null,
       "grid_template_columns": null,
       "grid_template_rows": null,
       "height": null,
       "justify_content": null,
       "justify_items": null,
       "left": null,
       "margin": null,
       "max_height": null,
       "max_width": null,
       "min_height": null,
       "min_width": null,
       "object_fit": null,
       "object_position": null,
       "order": null,
       "overflow": null,
       "overflow_x": null,
       "overflow_y": null,
       "padding": null,
       "right": null,
       "top": null,
       "visibility": null,
       "width": null
      }
     },
     "185d51457e3e442a81600f3fa087c9a7": {
      "model_module": "@jupyter-widgets/controls",
      "model_module_version": "1.5.0",
      "model_name": "HBoxModel",
      "state": {
       "_dom_classes": [],
       "_model_module": "@jupyter-widgets/controls",
       "_model_module_version": "1.5.0",
       "_model_name": "HBoxModel",
       "_view_count": null,
       "_view_module": "@jupyter-widgets/controls",
       "_view_module_version": "1.5.0",
       "_view_name": "HBoxView",
       "box_style": "",
       "children": [
        "IPY_MODEL_8957f7ea4a584b54a28bf24c987cd74a",
        "IPY_MODEL_74facf1b295140e2b64645fa4e49b2e0",
        "IPY_MODEL_4675cc71884849f880b5129a813bf9a7"
       ],
       "layout": "IPY_MODEL_4978fbafb3034c5a946aa0a49b6410f5"
      }
     },
     "21af795d905c4fd7959269243ad3173c": {
      "model_module": "@jupyter-widgets/controls",
      "model_module_version": "1.5.0",
      "model_name": "DescriptionStyleModel",
      "state": {
       "_model_module": "@jupyter-widgets/controls",
       "_model_module_version": "1.5.0",
       "_model_name": "DescriptionStyleModel",
       "_view_count": null,
       "_view_module": "@jupyter-widgets/base",
       "_view_module_version": "1.2.0",
       "_view_name": "StyleView",
       "description_width": ""
      }
     },
     "23ab848125894a7098fa7fcef2dff746": {
      "model_module": "@jupyter-widgets/controls",
      "model_module_version": "1.5.0",
      "model_name": "HTMLModel",
      "state": {
       "_dom_classes": [],
       "_model_module": "@jupyter-widgets/controls",
       "_model_module_version": "1.5.0",
       "_model_name": "HTMLModel",
       "_view_count": null,
       "_view_module": "@jupyter-widgets/controls",
       "_view_module_version": "1.5.0",
       "_view_name": "HTMLView",
       "description": "",
       "description_tooltip": null,
       "layout": "IPY_MODEL_bd173eb9a0fa4efc857e78f566f98743",
       "placeholder": "​",
       "style": "IPY_MODEL_bd63fcb9b3db488bb722dc9fa3ab4373",
       "value": "Downloading (…)okenizer_config.json: 100%"
      }
     },
     "24edcb84cdfc4eb19eb887b8e2d1e31b": {
      "model_module": "@jupyter-widgets/controls",
      "model_module_version": "1.5.0",
      "model_name": "ProgressStyleModel",
      "state": {
       "_model_module": "@jupyter-widgets/controls",
       "_model_module_version": "1.5.0",
       "_model_name": "ProgressStyleModel",
       "_view_count": null,
       "_view_module": "@jupyter-widgets/base",
       "_view_module_version": "1.2.0",
       "_view_name": "StyleView",
       "bar_color": null,
       "description_width": ""
      }
     },
     "29256f932b1e49b4b1caffe953a29852": {
      "model_module": "@jupyter-widgets/controls",
      "model_module_version": "1.5.0",
      "model_name": "DescriptionStyleModel",
      "state": {
       "_model_module": "@jupyter-widgets/controls",
       "_model_module_version": "1.5.0",
       "_model_name": "DescriptionStyleModel",
       "_view_count": null,
       "_view_module": "@jupyter-widgets/base",
       "_view_module_version": "1.2.0",
       "_view_name": "StyleView",
       "description_width": ""
      }
     },
     "2a7ce60d2b9e491eb6511527b9da6d6a": {
      "model_module": "@jupyter-widgets/controls",
      "model_module_version": "1.5.0",
      "model_name": "HBoxModel",
      "state": {
       "_dom_classes": [],
       "_model_module": "@jupyter-widgets/controls",
       "_model_module_version": "1.5.0",
       "_model_name": "HBoxModel",
       "_view_count": null,
       "_view_module": "@jupyter-widgets/controls",
       "_view_module_version": "1.5.0",
       "_view_name": "HBoxView",
       "box_style": "",
       "children": [
        "IPY_MODEL_65117fca57eb4e2f89d84e920f4230d5",
        "IPY_MODEL_a8be28b3817d4f75aa504ed92157a04b",
        "IPY_MODEL_8d87b74ad10b4c07a842b7f4ad795ab6"
       ],
       "layout": "IPY_MODEL_104268979ed2493c8a2887b401a30dc0"
      }
     },
     "2d5d713f93c040018a0d99acd233157f": {
      "model_module": "@jupyter-widgets/base",
      "model_module_version": "1.2.0",
      "model_name": "LayoutModel",
      "state": {
       "_model_module": "@jupyter-widgets/base",
       "_model_module_version": "1.2.0",
       "_model_name": "LayoutModel",
       "_view_count": null,
       "_view_module": "@jupyter-widgets/base",
       "_view_module_version": "1.2.0",
       "_view_name": "LayoutView",
       "align_content": null,
       "align_items": null,
       "align_self": null,
       "border": null,
       "bottom": null,
       "display": null,
       "flex": null,
       "flex_flow": null,
       "grid_area": null,
       "grid_auto_columns": null,
       "grid_auto_flow": null,
       "grid_auto_rows": null,
       "grid_column": null,
       "grid_gap": null,
       "grid_row": null,
       "grid_template_areas": null,
       "grid_template_columns": null,
       "grid_template_rows": null,
       "height": null,
       "justify_content": null,
       "justify_items": null,
       "left": null,
       "margin": null,
       "max_height": null,
       "max_width": null,
       "min_height": null,
       "min_width": null,
       "object_fit": null,
       "object_position": null,
       "order": null,
       "overflow": null,
       "overflow_x": null,
       "overflow_y": null,
       "padding": null,
       "right": null,
       "top": null,
       "visibility": null,
       "width": null
      }
     },
     "2eb0e38b554b4f8bb69ee1b5e32e363b": {
      "model_module": "@jupyter-widgets/controls",
      "model_module_version": "1.5.0",
      "model_name": "HBoxModel",
      "state": {
       "_dom_classes": [],
       "_model_module": "@jupyter-widgets/controls",
       "_model_module_version": "1.5.0",
       "_model_name": "HBoxModel",
       "_view_count": null,
       "_view_module": "@jupyter-widgets/controls",
       "_view_module_version": "1.5.0",
       "_view_name": "HBoxView",
       "box_style": "",
       "children": [
        "IPY_MODEL_23ab848125894a7098fa7fcef2dff746",
        "IPY_MODEL_d7143c11d8ba4b2590bbb6cf61ee7559",
        "IPY_MODEL_4b28ebaeff4a45a5a8e625bf5c5d60b8"
       ],
       "layout": "IPY_MODEL_c511038a14fb475b8ff15e4bada67372"
      }
     },
     "37a285780ca94cd4aa252fb404744adb": {
      "model_module": "@jupyter-widgets/base",
      "model_module_version": "1.2.0",
      "model_name": "LayoutModel",
      "state": {
       "_model_module": "@jupyter-widgets/base",
       "_model_module_version": "1.2.0",
       "_model_name": "LayoutModel",
       "_view_count": null,
       "_view_module": "@jupyter-widgets/base",
       "_view_module_version": "1.2.0",
       "_view_name": "LayoutView",
       "align_content": null,
       "align_items": null,
       "align_self": null,
       "border": null,
       "bottom": null,
       "display": null,
       "flex": null,
       "flex_flow": null,
       "grid_area": null,
       "grid_auto_columns": null,
       "grid_auto_flow": null,
       "grid_auto_rows": null,
       "grid_column": null,
       "grid_gap": null,
       "grid_row": null,
       "grid_template_areas": null,
       "grid_template_columns": null,
       "grid_template_rows": null,
       "height": null,
       "justify_content": null,
       "justify_items": null,
       "left": null,
       "margin": null,
       "max_height": null,
       "max_width": null,
       "min_height": null,
       "min_width": null,
       "object_fit": null,
       "object_position": null,
       "order": null,
       "overflow": null,
       "overflow_x": null,
       "overflow_y": null,
       "padding": null,
       "right": null,
       "top": null,
       "visibility": null,
       "width": null
      }
     },
     "38de651e90814a10ab3155248cd0d440": {
      "model_module": "@jupyter-widgets/controls",
      "model_module_version": "1.5.0",
      "model_name": "HTMLModel",
      "state": {
       "_dom_classes": [],
       "_model_module": "@jupyter-widgets/controls",
       "_model_module_version": "1.5.0",
       "_model_name": "HTMLModel",
       "_view_count": null,
       "_view_module": "@jupyter-widgets/controls",
       "_view_module_version": "1.5.0",
       "_view_name": "HTMLView",
       "description": "",
       "description_tooltip": null,
       "layout": "IPY_MODEL_2d5d713f93c040018a0d99acd233157f",
       "placeholder": "​",
       "style": "IPY_MODEL_e30023f21d7f44c0bbc67f0f243de54d",
       "value": "Downloading (…)in/added_tokens.json: 100%"
      }
     },
     "3b60e572aba444da9009dd869b3c56b2": {
      "model_module": "@jupyter-widgets/base",
      "model_module_version": "1.2.0",
      "model_name": "LayoutModel",
      "state": {
       "_model_module": "@jupyter-widgets/base",
       "_model_module_version": "1.2.0",
       "_model_name": "LayoutModel",
       "_view_count": null,
       "_view_module": "@jupyter-widgets/base",
       "_view_module_version": "1.2.0",
       "_view_name": "LayoutView",
       "align_content": null,
       "align_items": null,
       "align_self": null,
       "border": null,
       "bottom": null,
       "display": null,
       "flex": null,
       "flex_flow": null,
       "grid_area": null,
       "grid_auto_columns": null,
       "grid_auto_flow": null,
       "grid_auto_rows": null,
       "grid_column": null,
       "grid_gap": null,
       "grid_row": null,
       "grid_template_areas": null,
       "grid_template_columns": null,
       "grid_template_rows": null,
       "height": null,
       "justify_content": null,
       "justify_items": null,
       "left": null,
       "margin": null,
       "max_height": null,
       "max_width": null,
       "min_height": null,
       "min_width": null,
       "object_fit": null,
       "object_position": null,
       "order": null,
       "overflow": null,
       "overflow_x": null,
       "overflow_y": null,
       "padding": null,
       "right": null,
       "top": null,
       "visibility": null,
       "width": null
      }
     },
     "45b9b1b0824042eb85c0d27da003640a": {
      "model_module": "@jupyter-widgets/base",
      "model_module_version": "1.2.0",
      "model_name": "LayoutModel",
      "state": {
       "_model_module": "@jupyter-widgets/base",
       "_model_module_version": "1.2.0",
       "_model_name": "LayoutModel",
       "_view_count": null,
       "_view_module": "@jupyter-widgets/base",
       "_view_module_version": "1.2.0",
       "_view_name": "LayoutView",
       "align_content": null,
       "align_items": null,
       "align_self": null,
       "border": null,
       "bottom": null,
       "display": null,
       "flex": null,
       "flex_flow": null,
       "grid_area": null,
       "grid_auto_columns": null,
       "grid_auto_flow": null,
       "grid_auto_rows": null,
       "grid_column": null,
       "grid_gap": null,
       "grid_row": null,
       "grid_template_areas": null,
       "grid_template_columns": null,
       "grid_template_rows": null,
       "height": null,
       "justify_content": null,
       "justify_items": null,
       "left": null,
       "margin": null,
       "max_height": null,
       "max_width": null,
       "min_height": null,
       "min_width": null,
       "object_fit": null,
       "object_position": null,
       "order": null,
       "overflow": null,
       "overflow_x": null,
       "overflow_y": null,
       "padding": null,
       "right": null,
       "top": null,
       "visibility": null,
       "width": null
      }
     },
     "4675cc71884849f880b5129a813bf9a7": {
      "model_module": "@jupyter-widgets/controls",
      "model_module_version": "1.5.0",
      "model_name": "HTMLModel",
      "state": {
       "_dom_classes": [],
       "_model_module": "@jupyter-widgets/controls",
       "_model_module_version": "1.5.0",
       "_model_name": "HTMLModel",
       "_view_count": null,
       "_view_module": "@jupyter-widgets/controls",
       "_view_module_version": "1.5.0",
       "_view_name": "HTMLView",
       "description": "",
       "description_tooltip": null,
       "layout": "IPY_MODEL_3b60e572aba444da9009dd869b3c56b2",
       "placeholder": "​",
       "style": "IPY_MODEL_29256f932b1e49b4b1caffe953a29852",
       "value": " 1.15M/1.15M [00:00&lt;00:00, 43.7MB/s]"
      }
     },
     "48e78bd61f604964a795820553f466e6": {
      "model_module": "@jupyter-widgets/controls",
      "model_module_version": "1.5.0",
      "model_name": "HBoxModel",
      "state": {
       "_dom_classes": [],
       "_model_module": "@jupyter-widgets/controls",
       "_model_module_version": "1.5.0",
       "_model_name": "HBoxModel",
       "_view_count": null,
       "_view_module": "@jupyter-widgets/controls",
       "_view_module_version": "1.5.0",
       "_view_name": "HBoxView",
       "box_style": "",
       "children": [
        "IPY_MODEL_cf73603f5bff4d628d42f1c83c853d3e",
        "IPY_MODEL_9f7cba5a8906418c97bbfa6d00012b13",
        "IPY_MODEL_b693e6b5dd7543668363c67516d5a805"
       ],
       "layout": "IPY_MODEL_86361102df9446efbe27a8ff61594055"
      }
     },
     "4978fbafb3034c5a946aa0a49b6410f5": {
      "model_module": "@jupyter-widgets/base",
      "model_module_version": "1.2.0",
      "model_name": "LayoutModel",
      "state": {
       "_model_module": "@jupyter-widgets/base",
       "_model_module_version": "1.2.0",
       "_model_name": "LayoutModel",
       "_view_count": null,
       "_view_module": "@jupyter-widgets/base",
       "_view_module_version": "1.2.0",
       "_view_name": "LayoutView",
       "align_content": null,
       "align_items": null,
       "align_self": null,
       "border": null,
       "bottom": null,
       "display": null,
       "flex": null,
       "flex_flow": null,
       "grid_area": null,
       "grid_auto_columns": null,
       "grid_auto_flow": null,
       "grid_auto_rows": null,
       "grid_column": null,
       "grid_gap": null,
       "grid_row": null,
       "grid_template_areas": null,
       "grid_template_columns": null,
       "grid_template_rows": null,
       "height": null,
       "justify_content": null,
       "justify_items": null,
       "left": null,
       "margin": null,
       "max_height": null,
       "max_width": null,
       "min_height": null,
       "min_width": null,
       "object_fit": null,
       "object_position": null,
       "order": null,
       "overflow": null,
       "overflow_x": null,
       "overflow_y": null,
       "padding": null,
       "right": null,
       "top": null,
       "visibility": null,
       "width": null
      }
     },
     "4b28ebaeff4a45a5a8e625bf5c5d60b8": {
      "model_module": "@jupyter-widgets/controls",
      "model_module_version": "1.5.0",
      "model_name": "HTMLModel",
      "state": {
       "_dom_classes": [],
       "_model_module": "@jupyter-widgets/controls",
       "_model_module_version": "1.5.0",
       "_model_name": "HTMLModel",
       "_view_count": null,
       "_view_module": "@jupyter-widgets/controls",
       "_view_module_version": "1.5.0",
       "_view_name": "HTMLView",
       "description": "",
       "description_tooltip": null,
       "layout": "IPY_MODEL_afb47697712e42e78a23b766cad5bc15",
       "placeholder": "​",
       "style": "IPY_MODEL_a1aacc21153a4a96b120d4c7cd6f40a8",
       "value": " 564/564 [00:00&lt;00:00, 54.1kB/s]"
      }
     },
     "4bde1c53b1b040839f700469f8368985": {
      "model_module": "@jupyter-widgets/controls",
      "model_module_version": "1.5.0",
      "model_name": "HTMLModel",
      "state": {
       "_dom_classes": [],
       "_model_module": "@jupyter-widgets/controls",
       "_model_module_version": "1.5.0",
       "_model_name": "HTMLModel",
       "_view_count": null,
       "_view_module": "@jupyter-widgets/controls",
       "_view_module_version": "1.5.0",
       "_view_name": "HTMLView",
       "description": "",
       "description_tooltip": null,
       "layout": "IPY_MODEL_9d78de933d994082b87c2dfdcf39e306",
       "placeholder": "​",
       "style": "IPY_MODEL_741d4fea60c74ce3a4498ba2dbc06708",
       "value": " 286/286 [00:00&lt;00:00, 27.8kB/s]"
      }
     },
     "4ef42b6fd1d047f49a85a1a0e4d0d52c": {
      "model_module": "@jupyter-widgets/base",
      "model_module_version": "1.2.0",
      "model_name": "LayoutModel",
      "state": {
       "_model_module": "@jupyter-widgets/base",
       "_model_module_version": "1.2.0",
       "_model_name": "LayoutModel",
       "_view_count": null,
       "_view_module": "@jupyter-widgets/base",
       "_view_module_version": "1.2.0",
       "_view_name": "LayoutView",
       "align_content": null,
       "align_items": null,
       "align_self": null,
       "border": null,
       "bottom": null,
       "display": null,
       "flex": null,
       "flex_flow": null,
       "grid_area": null,
       "grid_auto_columns": null,
       "grid_auto_flow": null,
       "grid_auto_rows": null,
       "grid_column": null,
       "grid_gap": null,
       "grid_row": null,
       "grid_template_areas": null,
       "grid_template_columns": null,
       "grid_template_rows": null,
       "height": null,
       "justify_content": null,
       "justify_items": null,
       "left": null,
       "margin": null,
       "max_height": null,
       "max_width": null,
       "min_height": null,
       "min_width": null,
       "object_fit": null,
       "object_position": null,
       "order": null,
       "overflow": null,
       "overflow_x": null,
       "overflow_y": null,
       "padding": null,
       "right": null,
       "top": null,
       "visibility": null,
       "width": null
      }
     },
     "54ad033551f047b0b6e5b39f7cbeb3bc": {
      "model_module": "@jupyter-widgets/base",
      "model_module_version": "1.2.0",
      "model_name": "LayoutModel",
      "state": {
       "_model_module": "@jupyter-widgets/base",
       "_model_module_version": "1.2.0",
       "_model_name": "LayoutModel",
       "_view_count": null,
       "_view_module": "@jupyter-widgets/base",
       "_view_module_version": "1.2.0",
       "_view_name": "LayoutView",
       "align_content": null,
       "align_items": null,
       "align_self": null,
       "border": null,
       "bottom": null,
       "display": null,
       "flex": null,
       "flex_flow": null,
       "grid_area": null,
       "grid_auto_columns": null,
       "grid_auto_flow": null,
       "grid_auto_rows": null,
       "grid_column": null,
       "grid_gap": null,
       "grid_row": null,
       "grid_template_areas": null,
       "grid_template_columns": null,
       "grid_template_rows": null,
       "height": null,
       "justify_content": null,
       "justify_items": null,
       "left": null,
       "margin": null,
       "max_height": null,
       "max_width": null,
       "min_height": null,
       "min_width": null,
       "object_fit": null,
       "object_position": null,
       "order": null,
       "overflow": null,
       "overflow_x": null,
       "overflow_y": null,
       "padding": null,
       "right": null,
       "top": null,
       "visibility": null,
       "width": null
      }
     },
     "5651bbb2ecdb4320977c7224ce8419a8": {
      "model_module": "@jupyter-widgets/controls",
      "model_module_version": "1.5.0",
      "model_name": "DescriptionStyleModel",
      "state": {
       "_model_module": "@jupyter-widgets/controls",
       "_model_module_version": "1.5.0",
       "_model_name": "DescriptionStyleModel",
       "_view_count": null,
       "_view_module": "@jupyter-widgets/base",
       "_view_module_version": "1.2.0",
       "_view_name": "StyleView",
       "description_width": ""
      }
     },
     "5ce15ec269184e6bab8c9af6e6db162f": {
      "model_module": "@jupyter-widgets/controls",
      "model_module_version": "1.5.0",
      "model_name": "DescriptionStyleModel",
      "state": {
       "_model_module": "@jupyter-widgets/controls",
       "_model_module_version": "1.5.0",
       "_model_name": "DescriptionStyleModel",
       "_view_count": null,
       "_view_module": "@jupyter-widgets/base",
       "_view_module_version": "1.2.0",
       "_view_name": "StyleView",
       "description_width": ""
      }
     },
     "65117fca57eb4e2f89d84e920f4230d5": {
      "model_module": "@jupyter-widgets/controls",
      "model_module_version": "1.5.0",
      "model_name": "HTMLModel",
      "state": {
       "_dom_classes": [],
       "_model_module": "@jupyter-widgets/controls",
       "_model_module_version": "1.5.0",
       "_model_name": "HTMLModel",
       "_view_count": null,
       "_view_module": "@jupyter-widgets/controls",
       "_view_module_version": "1.5.0",
       "_view_name": "HTMLView",
       "description": "",
       "description_tooltip": null,
       "layout": "IPY_MODEL_e273d8cc929b4681a14989c34b18f081",
       "placeholder": "​",
       "style": "IPY_MODEL_8bb57be563754426bd036515582508de",
       "value": "Downloading pytorch_model.bin: 100%"
      }
     },
     "6c6a4156d8e446f0915a24974e84da15": {
      "model_module": "@jupyter-widgets/controls",
      "model_module_version": "1.5.0",
      "model_name": "FloatProgressModel",
      "state": {
       "_dom_classes": [],
       "_model_module": "@jupyter-widgets/controls",
       "_model_module_version": "1.5.0",
       "_model_name": "FloatProgressModel",
       "_view_count": null,
       "_view_module": "@jupyter-widgets/controls",
       "_view_module_version": "1.5.0",
       "_view_name": "ProgressView",
       "bar_style": "success",
       "description": "",
       "description_tooltip": null,
       "layout": "IPY_MODEL_e201ef1825b6430e945cd479a8cd117f",
       "max": 786,
       "min": 0,
       "orientation": "horizontal",
       "style": "IPY_MODEL_b50fb4c04d834995b1ec490dca74664b",
       "value": 786
      }
     },
     "6c83883cb9e14e589a7d2f521b2278fa": {
      "model_module": "@jupyter-widgets/controls",
      "model_module_version": "1.5.0",
      "model_name": "HBoxModel",
      "state": {
       "_dom_classes": [],
       "_model_module": "@jupyter-widgets/controls",
       "_model_module_version": "1.5.0",
       "_model_name": "HBoxModel",
       "_view_count": null,
       "_view_module": "@jupyter-widgets/controls",
       "_view_module_version": "1.5.0",
       "_view_name": "HBoxView",
       "box_style": "",
       "children": [
        "IPY_MODEL_8e11fe6fd5b44e0286748fde7ddc9fb9",
        "IPY_MODEL_c7ff3ff5048845f79327016647cdfe8a",
        "IPY_MODEL_4bde1c53b1b040839f700469f8368985"
       ],
       "layout": "IPY_MODEL_4ef42b6fd1d047f49a85a1a0e4d0d52c"
      }
     },
     "6f92ca84816c4d189fb4ca50e441bc73": {
      "model_module": "@jupyter-widgets/base",
      "model_module_version": "1.2.0",
      "model_name": "LayoutModel",
      "state": {
       "_model_module": "@jupyter-widgets/base",
       "_model_module_version": "1.2.0",
       "_model_name": "LayoutModel",
       "_view_count": null,
       "_view_module": "@jupyter-widgets/base",
       "_view_module_version": "1.2.0",
       "_view_name": "LayoutView",
       "align_content": null,
       "align_items": null,
       "align_self": null,
       "border": null,
       "bottom": null,
       "display": null,
       "flex": null,
       "flex_flow": null,
       "grid_area": null,
       "grid_auto_columns": null,
       "grid_auto_flow": null,
       "grid_auto_rows": null,
       "grid_column": null,
       "grid_gap": null,
       "grid_row": null,
       "grid_template_areas": null,
       "grid_template_columns": null,
       "grid_template_rows": null,
       "height": null,
       "justify_content": null,
       "justify_items": null,
       "left": null,
       "margin": null,
       "max_height": null,
       "max_width": null,
       "min_height": null,
       "min_width": null,
       "object_fit": null,
       "object_position": null,
       "order": null,
       "overflow": null,
       "overflow_x": null,
       "overflow_y": null,
       "padding": null,
       "right": null,
       "top": null,
       "visibility": null,
       "width": null
      }
     },
     "7213a6368bd84d81abbf6b5194920d4e": {
      "model_module": "@jupyter-widgets/controls",
      "model_module_version": "1.5.0",
      "model_name": "ProgressStyleModel",
      "state": {
       "_model_module": "@jupyter-widgets/controls",
       "_model_module_version": "1.5.0",
       "_model_name": "ProgressStyleModel",
       "_view_count": null,
       "_view_module": "@jupyter-widgets/base",
       "_view_module_version": "1.2.0",
       "_view_name": "StyleView",
       "bar_color": null,
       "description_width": ""
      }
     },
     "73d493bf21d24a3e8944d02562ee23e4": {
      "model_module": "@jupyter-widgets/controls",
      "model_module_version": "1.5.0",
      "model_name": "HBoxModel",
      "state": {
       "_dom_classes": [],
       "_model_module": "@jupyter-widgets/controls",
       "_model_module_version": "1.5.0",
       "_model_name": "HBoxModel",
       "_view_count": null,
       "_view_module": "@jupyter-widgets/controls",
       "_view_module_version": "1.5.0",
       "_view_name": "HBoxView",
       "box_style": "",
       "children": [
        "IPY_MODEL_38de651e90814a10ab3155248cd0d440",
        "IPY_MODEL_baa0a9dff4db425995ed7617b98f51b6",
        "IPY_MODEL_924ebd90bc034b339c163e3612b83261"
       ],
       "layout": "IPY_MODEL_0d738d3d45ae4358805d941f77c6ad81"
      }
     },
     "741d4fea60c74ce3a4498ba2dbc06708": {
      "model_module": "@jupyter-widgets/controls",
      "model_module_version": "1.5.0",
      "model_name": "DescriptionStyleModel",
      "state": {
       "_model_module": "@jupyter-widgets/controls",
       "_model_module_version": "1.5.0",
       "_model_name": "DescriptionStyleModel",
       "_view_count": null,
       "_view_module": "@jupyter-widgets/base",
       "_view_module_version": "1.2.0",
       "_view_name": "StyleView",
       "description_width": ""
      }
     },
     "74facf1b295140e2b64645fa4e49b2e0": {
      "model_module": "@jupyter-widgets/controls",
      "model_module_version": "1.5.0",
      "model_name": "FloatProgressModel",
      "state": {
       "_dom_classes": [],
       "_model_module": "@jupyter-widgets/controls",
       "_model_module_version": "1.5.0",
       "_model_name": "FloatProgressModel",
       "_view_count": null,
       "_view_module": "@jupyter-widgets/controls",
       "_view_module_version": "1.5.0",
       "_view_name": "ProgressView",
       "bar_style": "success",
       "description": "",
       "description_tooltip": null,
       "layout": "IPY_MODEL_056f398c54914c5e9eee98bb0e6744e9",
       "max": 1154837,
       "min": 0,
       "orientation": "horizontal",
       "style": "IPY_MODEL_7213a6368bd84d81abbf6b5194920d4e",
       "value": 1154837
      }
     },
     "8273e25d17774297ad06a360a9414495": {
      "model_module": "@jupyter-widgets/base",
      "model_module_version": "1.2.0",
      "model_name": "LayoutModel",
      "state": {
       "_model_module": "@jupyter-widgets/base",
       "_model_module_version": "1.2.0",
       "_model_name": "LayoutModel",
       "_view_count": null,
       "_view_module": "@jupyter-widgets/base",
       "_view_module_version": "1.2.0",
       "_view_name": "LayoutView",
       "align_content": null,
       "align_items": null,
       "align_self": null,
       "border": null,
       "bottom": null,
       "display": null,
       "flex": null,
       "flex_flow": null,
       "grid_area": null,
       "grid_auto_columns": null,
       "grid_auto_flow": null,
       "grid_auto_rows": null,
       "grid_column": null,
       "grid_gap": null,
       "grid_row": null,
       "grid_template_areas": null,
       "grid_template_columns": null,
       "grid_template_rows": null,
       "height": null,
       "justify_content": null,
       "justify_items": null,
       "left": null,
       "margin": null,
       "max_height": null,
       "max_width": null,
       "min_height": null,
       "min_width": null,
       "object_fit": null,
       "object_position": null,
       "order": null,
       "overflow": null,
       "overflow_x": null,
       "overflow_y": null,
       "padding": null,
       "right": null,
       "top": null,
       "visibility": null,
       "width": null
      }
     },
     "8275b955a9e64e40bc32c499aea3bbc5": {
      "model_module": "@jupyter-widgets/controls",
      "model_module_version": "1.5.0",
      "model_name": "ProgressStyleModel",
      "state": {
       "_model_module": "@jupyter-widgets/controls",
       "_model_module_version": "1.5.0",
       "_model_name": "ProgressStyleModel",
       "_view_count": null,
       "_view_module": "@jupyter-widgets/base",
       "_view_module_version": "1.2.0",
       "_view_name": "StyleView",
       "bar_color": null,
       "description_width": ""
      }
     },
     "86361102df9446efbe27a8ff61594055": {
      "model_module": "@jupyter-widgets/base",
      "model_module_version": "1.2.0",
      "model_name": "LayoutModel",
      "state": {
       "_model_module": "@jupyter-widgets/base",
       "_model_module_version": "1.2.0",
       "_model_name": "LayoutModel",
       "_view_count": null,
       "_view_module": "@jupyter-widgets/base",
       "_view_module_version": "1.2.0",
       "_view_name": "LayoutView",
       "align_content": null,
       "align_items": null,
       "align_self": null,
       "border": null,
       "bottom": null,
       "display": null,
       "flex": null,
       "flex_flow": null,
       "grid_area": null,
       "grid_auto_columns": null,
       "grid_auto_flow": null,
       "grid_auto_rows": null,
       "grid_column": null,
       "grid_gap": null,
       "grid_row": null,
       "grid_template_areas": null,
       "grid_template_columns": null,
       "grid_template_rows": null,
       "height": null,
       "justify_content": null,
       "justify_items": null,
       "left": null,
       "margin": null,
       "max_height": null,
       "max_width": null,
       "min_height": null,
       "min_width": null,
       "object_fit": null,
       "object_position": null,
       "order": null,
       "overflow": null,
       "overflow_x": null,
       "overflow_y": null,
       "padding": null,
       "right": null,
       "top": null,
       "visibility": null,
       "width": null
      }
     },
     "89335b8e9c1047a8ab22db88277082bf": {
      "model_module": "@jupyter-widgets/controls",
      "model_module_version": "1.5.0",
      "model_name": "ProgressStyleModel",
      "state": {
       "_model_module": "@jupyter-widgets/controls",
       "_model_module_version": "1.5.0",
       "_model_name": "ProgressStyleModel",
       "_view_count": null,
       "_view_module": "@jupyter-widgets/base",
       "_view_module_version": "1.2.0",
       "_view_name": "StyleView",
       "bar_color": null,
       "description_width": ""
      }
     },
     "8957f7ea4a584b54a28bf24c987cd74a": {
      "model_module": "@jupyter-widgets/controls",
      "model_module_version": "1.5.0",
      "model_name": "HTMLModel",
      "state": {
       "_dom_classes": [],
       "_model_module": "@jupyter-widgets/controls",
       "_model_module_version": "1.5.0",
       "_model_name": "HTMLModel",
       "_view_count": null,
       "_view_module": "@jupyter-widgets/controls",
       "_view_module_version": "1.5.0",
       "_view_name": "HTMLView",
       "description": "",
       "description_tooltip": null,
       "layout": "IPY_MODEL_dd827040ad074e7e9970faa103e7557e",
       "placeholder": "​",
       "style": "IPY_MODEL_21af795d905c4fd7959269243ad3173c",
       "value": "Downloading spiece.model: 100%"
      }
     },
     "8ac2ad7c365347d8b0b2b91fb3c682f9": {
      "model_module": "@jupyter-widgets/controls",
      "model_module_version": "1.5.0",
      "model_name": "DescriptionStyleModel",
      "state": {
       "_model_module": "@jupyter-widgets/controls",
       "_model_module_version": "1.5.0",
       "_model_name": "DescriptionStyleModel",
       "_view_count": null,
       "_view_module": "@jupyter-widgets/base",
       "_view_module_version": "1.2.0",
       "_view_name": "StyleView",
       "description_width": ""
      }
     },
     "8bb57be563754426bd036515582508de": {
      "model_module": "@jupyter-widgets/controls",
      "model_module_version": "1.5.0",
      "model_name": "DescriptionStyleModel",
      "state": {
       "_model_module": "@jupyter-widgets/controls",
       "_model_module_version": "1.5.0",
       "_model_name": "DescriptionStyleModel",
       "_view_count": null,
       "_view_module": "@jupyter-widgets/base",
       "_view_module_version": "1.2.0",
       "_view_name": "StyleView",
       "description_width": ""
      }
     },
     "8d87b74ad10b4c07a842b7f4ad795ab6": {
      "model_module": "@jupyter-widgets/controls",
      "model_module_version": "1.5.0",
      "model_name": "HTMLModel",
      "state": {
       "_dom_classes": [],
       "_model_module": "@jupyter-widgets/controls",
       "_model_module_version": "1.5.0",
       "_model_name": "HTMLModel",
       "_view_count": null,
       "_view_module": "@jupyter-widgets/controls",
       "_view_module_version": "1.5.0",
       "_view_name": "HTMLView",
       "description": "",
       "description_tooltip": null,
       "layout": "IPY_MODEL_0dc09cb564274d1d9be685e4442d2b7a",
       "placeholder": "​",
       "style": "IPY_MODEL_8ac2ad7c365347d8b0b2b91fb3c682f9",
       "value": " 45.9M/45.9M [00:00&lt;00:00, 109MB/s]"
      }
     },
     "8e11fe6fd5b44e0286748fde7ddc9fb9": {
      "model_module": "@jupyter-widgets/controls",
      "model_module_version": "1.5.0",
      "model_name": "HTMLModel",
      "state": {
       "_dom_classes": [],
       "_model_module": "@jupyter-widgets/controls",
       "_model_module_version": "1.5.0",
       "_model_name": "HTMLModel",
       "_view_count": null,
       "_view_module": "@jupyter-widgets/controls",
       "_view_module_version": "1.5.0",
       "_view_name": "HTMLView",
       "description": "",
       "description_tooltip": null,
       "layout": "IPY_MODEL_f22322dc2434450a860c589ae4b9bbf4",
       "placeholder": "​",
       "style": "IPY_MODEL_9f19b3130fbc4f95b811f49e47250743",
       "value": "Downloading (…)cial_tokens_map.json: 100%"
      }
     },
     "924ebd90bc034b339c163e3612b83261": {
      "model_module": "@jupyter-widgets/controls",
      "model_module_version": "1.5.0",
      "model_name": "HTMLModel",
      "state": {
       "_dom_classes": [],
       "_model_module": "@jupyter-widgets/controls",
       "_model_module_version": "1.5.0",
       "_model_name": "HTMLModel",
       "_view_count": null,
       "_view_module": "@jupyter-widgets/controls",
       "_view_module_version": "1.5.0",
       "_view_name": "HTMLView",
       "description": "",
       "description_tooltip": null,
       "layout": "IPY_MODEL_45b9b1b0824042eb85c0d27da003640a",
       "placeholder": "​",
       "style": "IPY_MODEL_f1d29a82f4a6497aa3b0eaef74388d13",
       "value": " 21.0/21.0 [00:00&lt;00:00, 1.95kB/s]"
      }
     },
     "964e8a72288a4a27b6fec54fa255ea6c": {
      "model_module": "@jupyter-widgets/controls",
      "model_module_version": "1.5.0",
      "model_name": "HTMLModel",
      "state": {
       "_dom_classes": [],
       "_model_module": "@jupyter-widgets/controls",
       "_model_module_version": "1.5.0",
       "_model_name": "HTMLModel",
       "_view_count": null,
       "_view_module": "@jupyter-widgets/controls",
       "_view_module_version": "1.5.0",
       "_view_name": "HTMLView",
       "description": "",
       "description_tooltip": null,
       "layout": "IPY_MODEL_a7fa738291b84af8bad43b34a9a4bf67",
       "placeholder": "​",
       "style": "IPY_MODEL_5651bbb2ecdb4320977c7224ce8419a8",
       "value": "Downloading (…)lve/main/config.json: 100%"
      }
     },
     "96d5b8cce45440498c3dfb74d083ce49": {
      "model_module": "@jupyter-widgets/controls",
      "model_module_version": "1.5.0",
      "model_name": "DescriptionStyleModel",
      "state": {
       "_model_module": "@jupyter-widgets/controls",
       "_model_module_version": "1.5.0",
       "_model_name": "DescriptionStyleModel",
       "_view_count": null,
       "_view_module": "@jupyter-widgets/base",
       "_view_module_version": "1.2.0",
       "_view_name": "StyleView",
       "description_width": ""
      }
     },
     "99f1d6bc395e48dab91030ad1f1d9a58": {
      "model_module": "@jupyter-widgets/base",
      "model_module_version": "1.2.0",
      "model_name": "LayoutModel",
      "state": {
       "_model_module": "@jupyter-widgets/base",
       "_model_module_version": "1.2.0",
       "_model_name": "LayoutModel",
       "_view_count": null,
       "_view_module": "@jupyter-widgets/base",
       "_view_module_version": "1.2.0",
       "_view_name": "LayoutView",
       "align_content": null,
       "align_items": null,
       "align_self": null,
       "border": null,
       "bottom": null,
       "display": null,
       "flex": null,
       "flex_flow": null,
       "grid_area": null,
       "grid_auto_columns": null,
       "grid_auto_flow": null,
       "grid_auto_rows": null,
       "grid_column": null,
       "grid_gap": null,
       "grid_row": null,
       "grid_template_areas": null,
       "grid_template_columns": null,
       "grid_template_rows": null,
       "height": null,
       "justify_content": null,
       "justify_items": null,
       "left": null,
       "margin": null,
       "max_height": null,
       "max_width": null,
       "min_height": null,
       "min_width": null,
       "object_fit": null,
       "object_position": null,
       "order": null,
       "overflow": null,
       "overflow_x": null,
       "overflow_y": null,
       "padding": null,
       "right": null,
       "top": null,
       "visibility": null,
       "width": null
      }
     },
     "9d78de933d994082b87c2dfdcf39e306": {
      "model_module": "@jupyter-widgets/base",
      "model_module_version": "1.2.0",
      "model_name": "LayoutModel",
      "state": {
       "_model_module": "@jupyter-widgets/base",
       "_model_module_version": "1.2.0",
       "_model_name": "LayoutModel",
       "_view_count": null,
       "_view_module": "@jupyter-widgets/base",
       "_view_module_version": "1.2.0",
       "_view_name": "LayoutView",
       "align_content": null,
       "align_items": null,
       "align_self": null,
       "border": null,
       "bottom": null,
       "display": null,
       "flex": null,
       "flex_flow": null,
       "grid_area": null,
       "grid_auto_columns": null,
       "grid_auto_flow": null,
       "grid_auto_rows": null,
       "grid_column": null,
       "grid_gap": null,
       "grid_row": null,
       "grid_template_areas": null,
       "grid_template_columns": null,
       "grid_template_rows": null,
       "height": null,
       "justify_content": null,
       "justify_items": null,
       "left": null,
       "margin": null,
       "max_height": null,
       "max_width": null,
       "min_height": null,
       "min_width": null,
       "object_fit": null,
       "object_position": null,
       "order": null,
       "overflow": null,
       "overflow_x": null,
       "overflow_y": null,
       "padding": null,
       "right": null,
       "top": null,
       "visibility": null,
       "width": null
      }
     },
     "9f19b3130fbc4f95b811f49e47250743": {
      "model_module": "@jupyter-widgets/controls",
      "model_module_version": "1.5.0",
      "model_name": "DescriptionStyleModel",
      "state": {
       "_model_module": "@jupyter-widgets/controls",
       "_model_module_version": "1.5.0",
       "_model_name": "DescriptionStyleModel",
       "_view_count": null,
       "_view_module": "@jupyter-widgets/base",
       "_view_module_version": "1.2.0",
       "_view_name": "StyleView",
       "description_width": ""
      }
     },
     "9f7cba5a8906418c97bbfa6d00012b13": {
      "model_module": "@jupyter-widgets/controls",
      "model_module_version": "1.5.0",
      "model_name": "FloatProgressModel",
      "state": {
       "_dom_classes": [],
       "_model_module": "@jupyter-widgets/controls",
       "_model_module_version": "1.5.0",
       "_model_name": "FloatProgressModel",
       "_view_count": null,
       "_view_module": "@jupyter-widgets/controls",
       "_view_module_version": "1.5.0",
       "_view_name": "ProgressView",
       "bar_style": "success",
       "description": "",
       "description_tooltip": null,
       "layout": "IPY_MODEL_f7cf87a20962440cb5e2577c3b59f07a",
       "max": 2763599,
       "min": 0,
       "orientation": "horizontal",
       "style": "IPY_MODEL_24edcb84cdfc4eb19eb887b8e2d1e31b",
       "value": 2763599
      }
     },
     "a1aacc21153a4a96b120d4c7cd6f40a8": {
      "model_module": "@jupyter-widgets/controls",
      "model_module_version": "1.5.0",
      "model_name": "DescriptionStyleModel",
      "state": {
       "_model_module": "@jupyter-widgets/controls",
       "_model_module_version": "1.5.0",
       "_model_name": "DescriptionStyleModel",
       "_view_count": null,
       "_view_module": "@jupyter-widgets/base",
       "_view_module_version": "1.2.0",
       "_view_name": "StyleView",
       "description_width": ""
      }
     },
     "a2ad595550a340aab0c04bc997b93eab": {
      "model_module": "@jupyter-widgets/base",
      "model_module_version": "1.2.0",
      "model_name": "LayoutModel",
      "state": {
       "_model_module": "@jupyter-widgets/base",
       "_model_module_version": "1.2.0",
       "_model_name": "LayoutModel",
       "_view_count": null,
       "_view_module": "@jupyter-widgets/base",
       "_view_module_version": "1.2.0",
       "_view_name": "LayoutView",
       "align_content": null,
       "align_items": null,
       "align_self": null,
       "border": null,
       "bottom": null,
       "display": null,
       "flex": null,
       "flex_flow": null,
       "grid_area": null,
       "grid_auto_columns": null,
       "grid_auto_flow": null,
       "grid_auto_rows": null,
       "grid_column": null,
       "grid_gap": null,
       "grid_row": null,
       "grid_template_areas": null,
       "grid_template_columns": null,
       "grid_template_rows": null,
       "height": null,
       "justify_content": null,
       "justify_items": null,
       "left": null,
       "margin": null,
       "max_height": null,
       "max_width": null,
       "min_height": null,
       "min_width": null,
       "object_fit": null,
       "object_position": null,
       "order": null,
       "overflow": null,
       "overflow_x": null,
       "overflow_y": null,
       "padding": null,
       "right": null,
       "top": null,
       "visibility": null,
       "width": null
      }
     },
     "a394c83fcd8f46a3b5bfcfbda3b3a720": {
      "model_module": "@jupyter-widgets/controls",
      "model_module_version": "1.5.0",
      "model_name": "DescriptionStyleModel",
      "state": {
       "_model_module": "@jupyter-widgets/controls",
       "_model_module_version": "1.5.0",
       "_model_name": "DescriptionStyleModel",
       "_view_count": null,
       "_view_module": "@jupyter-widgets/base",
       "_view_module_version": "1.2.0",
       "_view_name": "StyleView",
       "description_width": ""
      }
     },
     "a7fa738291b84af8bad43b34a9a4bf67": {
      "model_module": "@jupyter-widgets/base",
      "model_module_version": "1.2.0",
      "model_name": "LayoutModel",
      "state": {
       "_model_module": "@jupyter-widgets/base",
       "_model_module_version": "1.2.0",
       "_model_name": "LayoutModel",
       "_view_count": null,
       "_view_module": "@jupyter-widgets/base",
       "_view_module_version": "1.2.0",
       "_view_name": "LayoutView",
       "align_content": null,
       "align_items": null,
       "align_self": null,
       "border": null,
       "bottom": null,
       "display": null,
       "flex": null,
       "flex_flow": null,
       "grid_area": null,
       "grid_auto_columns": null,
       "grid_auto_flow": null,
       "grid_auto_rows": null,
       "grid_column": null,
       "grid_gap": null,
       "grid_row": null,
       "grid_template_areas": null,
       "grid_template_columns": null,
       "grid_template_rows": null,
       "height": null,
       "justify_content": null,
       "justify_items": null,
       "left": null,
       "margin": null,
       "max_height": null,
       "max_width": null,
       "min_height": null,
       "min_width": null,
       "object_fit": null,
       "object_position": null,
       "order": null,
       "overflow": null,
       "overflow_x": null,
       "overflow_y": null,
       "padding": null,
       "right": null,
       "top": null,
       "visibility": null,
       "width": null
      }
     },
     "a8be28b3817d4f75aa504ed92157a04b": {
      "model_module": "@jupyter-widgets/controls",
      "model_module_version": "1.5.0",
      "model_name": "FloatProgressModel",
      "state": {
       "_dom_classes": [],
       "_model_module": "@jupyter-widgets/controls",
       "_model_module_version": "1.5.0",
       "_model_name": "FloatProgressModel",
       "_view_count": null,
       "_view_module": "@jupyter-widgets/controls",
       "_view_module_version": "1.5.0",
       "_view_name": "ProgressView",
       "bar_style": "success",
       "description": "",
       "description_tooltip": null,
       "layout": "IPY_MODEL_8273e25d17774297ad06a360a9414495",
       "max": 45929157,
       "min": 0,
       "orientation": "horizontal",
       "style": "IPY_MODEL_e0f7f407a1594fbb936af90ade57cc6d",
       "value": 45929157
      }
     },
     "afb47697712e42e78a23b766cad5bc15": {
      "model_module": "@jupyter-widgets/base",
      "model_module_version": "1.2.0",
      "model_name": "LayoutModel",
      "state": {
       "_model_module": "@jupyter-widgets/base",
       "_model_module_version": "1.2.0",
       "_model_name": "LayoutModel",
       "_view_count": null,
       "_view_module": "@jupyter-widgets/base",
       "_view_module_version": "1.2.0",
       "_view_name": "LayoutView",
       "align_content": null,
       "align_items": null,
       "align_self": null,
       "border": null,
       "bottom": null,
       "display": null,
       "flex": null,
       "flex_flow": null,
       "grid_area": null,
       "grid_auto_columns": null,
       "grid_auto_flow": null,
       "grid_auto_rows": null,
       "grid_column": null,
       "grid_gap": null,
       "grid_row": null,
       "grid_template_areas": null,
       "grid_template_columns": null,
       "grid_template_rows": null,
       "height": null,
       "justify_content": null,
       "justify_items": null,
       "left": null,
       "margin": null,
       "max_height": null,
       "max_width": null,
       "min_height": null,
       "min_width": null,
       "object_fit": null,
       "object_position": null,
       "order": null,
       "overflow": null,
       "overflow_x": null,
       "overflow_y": null,
       "padding": null,
       "right": null,
       "top": null,
       "visibility": null,
       "width": null
      }
     },
     "b1275ae467d04376bd2058d71edaec38": {
      "model_module": "@jupyter-widgets/controls",
      "model_module_version": "1.5.0",
      "model_name": "ProgressStyleModel",
      "state": {
       "_model_module": "@jupyter-widgets/controls",
       "_model_module_version": "1.5.0",
       "_model_name": "ProgressStyleModel",
       "_view_count": null,
       "_view_module": "@jupyter-widgets/base",
       "_view_module_version": "1.2.0",
       "_view_name": "StyleView",
       "bar_color": null,
       "description_width": ""
      }
     },
     "b50fb4c04d834995b1ec490dca74664b": {
      "model_module": "@jupyter-widgets/controls",
      "model_module_version": "1.5.0",
      "model_name": "ProgressStyleModel",
      "state": {
       "_model_module": "@jupyter-widgets/controls",
       "_model_module_version": "1.5.0",
       "_model_name": "ProgressStyleModel",
       "_view_count": null,
       "_view_module": "@jupyter-widgets/base",
       "_view_module_version": "1.2.0",
       "_view_name": "StyleView",
       "bar_color": null,
       "description_width": ""
      }
     },
     "b693e6b5dd7543668363c67516d5a805": {
      "model_module": "@jupyter-widgets/controls",
      "model_module_version": "1.5.0",
      "model_name": "HTMLModel",
      "state": {
       "_dom_classes": [],
       "_model_module": "@jupyter-widgets/controls",
       "_model_module_version": "1.5.0",
       "_model_name": "HTMLModel",
       "_view_count": null,
       "_view_module": "@jupyter-widgets/controls",
       "_view_module_version": "1.5.0",
       "_view_name": "HTMLView",
       "description": "",
       "description_tooltip": null,
       "layout": "IPY_MODEL_b7a4e1916d244187af82ddb245dba3c0",
       "placeholder": "​",
       "style": "IPY_MODEL_96d5b8cce45440498c3dfb74d083ce49",
       "value": " 2.76M/2.76M [00:00&lt;00:00, 33.0MB/s]"
      }
     },
     "b7a4e1916d244187af82ddb245dba3c0": {
      "model_module": "@jupyter-widgets/base",
      "model_module_version": "1.2.0",
      "model_name": "LayoutModel",
      "state": {
       "_model_module": "@jupyter-widgets/base",
       "_model_module_version": "1.2.0",
       "_model_name": "LayoutModel",
       "_view_count": null,
       "_view_module": "@jupyter-widgets/base",
       "_view_module_version": "1.2.0",
       "_view_name": "LayoutView",
       "align_content": null,
       "align_items": null,
       "align_self": null,
       "border": null,
       "bottom": null,
       "display": null,
       "flex": null,
       "flex_flow": null,
       "grid_area": null,
       "grid_auto_columns": null,
       "grid_auto_flow": null,
       "grid_auto_rows": null,
       "grid_column": null,
       "grid_gap": null,
       "grid_row": null,
       "grid_template_areas": null,
       "grid_template_columns": null,
       "grid_template_rows": null,
       "height": null,
       "justify_content": null,
       "justify_items": null,
       "left": null,
       "margin": null,
       "max_height": null,
       "max_width": null,
       "min_height": null,
       "min_width": null,
       "object_fit": null,
       "object_position": null,
       "order": null,
       "overflow": null,
       "overflow_x": null,
       "overflow_y": null,
       "padding": null,
       "right": null,
       "top": null,
       "visibility": null,
       "width": null
      }
     },
     "baa0a9dff4db425995ed7617b98f51b6": {
      "model_module": "@jupyter-widgets/controls",
      "model_module_version": "1.5.0",
      "model_name": "FloatProgressModel",
      "state": {
       "_dom_classes": [],
       "_model_module": "@jupyter-widgets/controls",
       "_model_module_version": "1.5.0",
       "_model_name": "FloatProgressModel",
       "_view_count": null,
       "_view_module": "@jupyter-widgets/controls",
       "_view_module_version": "1.5.0",
       "_view_name": "ProgressView",
       "bar_style": "success",
       "description": "",
       "description_tooltip": null,
       "layout": "IPY_MODEL_6f92ca84816c4d189fb4ca50e441bc73",
       "max": 21,
       "min": 0,
       "orientation": "horizontal",
       "style": "IPY_MODEL_89335b8e9c1047a8ab22db88277082bf",
       "value": 21
      }
     },
     "bd173eb9a0fa4efc857e78f566f98743": {
      "model_module": "@jupyter-widgets/base",
      "model_module_version": "1.2.0",
      "model_name": "LayoutModel",
      "state": {
       "_model_module": "@jupyter-widgets/base",
       "_model_module_version": "1.2.0",
       "_model_name": "LayoutModel",
       "_view_count": null,
       "_view_module": "@jupyter-widgets/base",
       "_view_module_version": "1.2.0",
       "_view_name": "LayoutView",
       "align_content": null,
       "align_items": null,
       "align_self": null,
       "border": null,
       "bottom": null,
       "display": null,
       "flex": null,
       "flex_flow": null,
       "grid_area": null,
       "grid_auto_columns": null,
       "grid_auto_flow": null,
       "grid_auto_rows": null,
       "grid_column": null,
       "grid_gap": null,
       "grid_row": null,
       "grid_template_areas": null,
       "grid_template_columns": null,
       "grid_template_rows": null,
       "height": null,
       "justify_content": null,
       "justify_items": null,
       "left": null,
       "margin": null,
       "max_height": null,
       "max_width": null,
       "min_height": null,
       "min_width": null,
       "object_fit": null,
       "object_position": null,
       "order": null,
       "overflow": null,
       "overflow_x": null,
       "overflow_y": null,
       "padding": null,
       "right": null,
       "top": null,
       "visibility": null,
       "width": null
      }
     },
     "bd63fcb9b3db488bb722dc9fa3ab4373": {
      "model_module": "@jupyter-widgets/controls",
      "model_module_version": "1.5.0",
      "model_name": "DescriptionStyleModel",
      "state": {
       "_model_module": "@jupyter-widgets/controls",
       "_model_module_version": "1.5.0",
       "_model_name": "DescriptionStyleModel",
       "_view_count": null,
       "_view_module": "@jupyter-widgets/base",
       "_view_module_version": "1.2.0",
       "_view_name": "StyleView",
       "description_width": ""
      }
     },
     "c511038a14fb475b8ff15e4bada67372": {
      "model_module": "@jupyter-widgets/base",
      "model_module_version": "1.2.0",
      "model_name": "LayoutModel",
      "state": {
       "_model_module": "@jupyter-widgets/base",
       "_model_module_version": "1.2.0",
       "_model_name": "LayoutModel",
       "_view_count": null,
       "_view_module": "@jupyter-widgets/base",
       "_view_module_version": "1.2.0",
       "_view_name": "LayoutView",
       "align_content": null,
       "align_items": null,
       "align_self": null,
       "border": null,
       "bottom": null,
       "display": null,
       "flex": null,
       "flex_flow": null,
       "grid_area": null,
       "grid_auto_columns": null,
       "grid_auto_flow": null,
       "grid_auto_rows": null,
       "grid_column": null,
       "grid_gap": null,
       "grid_row": null,
       "grid_template_areas": null,
       "grid_template_columns": null,
       "grid_template_rows": null,
       "height": null,
       "justify_content": null,
       "justify_items": null,
       "left": null,
       "margin": null,
       "max_height": null,
       "max_width": null,
       "min_height": null,
       "min_width": null,
       "object_fit": null,
       "object_position": null,
       "order": null,
       "overflow": null,
       "overflow_x": null,
       "overflow_y": null,
       "padding": null,
       "right": null,
       "top": null,
       "visibility": null,
       "width": null
      }
     },
     "c7ff3ff5048845f79327016647cdfe8a": {
      "model_module": "@jupyter-widgets/controls",
      "model_module_version": "1.5.0",
      "model_name": "FloatProgressModel",
      "state": {
       "_dom_classes": [],
       "_model_module": "@jupyter-widgets/controls",
       "_model_module_version": "1.5.0",
       "_model_name": "FloatProgressModel",
       "_view_count": null,
       "_view_module": "@jupyter-widgets/controls",
       "_view_module_version": "1.5.0",
       "_view_name": "ProgressView",
       "bar_style": "success",
       "description": "",
       "description_tooltip": null,
       "layout": "IPY_MODEL_99f1d6bc395e48dab91030ad1f1d9a58",
       "max": 286,
       "min": 0,
       "orientation": "horizontal",
       "style": "IPY_MODEL_b1275ae467d04376bd2058d71edaec38",
       "value": 286
      }
     },
     "ce875f6d0baf49fc894522a7314d28de": {
      "model_module": "@jupyter-widgets/controls",
      "model_module_version": "1.5.0",
      "model_name": "HBoxModel",
      "state": {
       "_dom_classes": [],
       "_model_module": "@jupyter-widgets/controls",
       "_model_module_version": "1.5.0",
       "_model_name": "HBoxModel",
       "_view_count": null,
       "_view_module": "@jupyter-widgets/controls",
       "_view_module_version": "1.5.0",
       "_view_name": "HBoxView",
       "box_style": "",
       "children": [
        "IPY_MODEL_964e8a72288a4a27b6fec54fa255ea6c",
        "IPY_MODEL_6c6a4156d8e446f0915a24974e84da15",
        "IPY_MODEL_d0d0e13bc4b74747afad64018f273343"
       ],
       "layout": "IPY_MODEL_54ad033551f047b0b6e5b39f7cbeb3bc"
      }
     },
     "cedc7bbbc9df4a89b529d3d3c6986be2": {
      "model_module": "@jupyter-widgets/base",
      "model_module_version": "1.2.0",
      "model_name": "LayoutModel",
      "state": {
       "_model_module": "@jupyter-widgets/base",
       "_model_module_version": "1.2.0",
       "_model_name": "LayoutModel",
       "_view_count": null,
       "_view_module": "@jupyter-widgets/base",
       "_view_module_version": "1.2.0",
       "_view_name": "LayoutView",
       "align_content": null,
       "align_items": null,
       "align_self": null,
       "border": null,
       "bottom": null,
       "display": null,
       "flex": null,
       "flex_flow": null,
       "grid_area": null,
       "grid_auto_columns": null,
       "grid_auto_flow": null,
       "grid_auto_rows": null,
       "grid_column": null,
       "grid_gap": null,
       "grid_row": null,
       "grid_template_areas": null,
       "grid_template_columns": null,
       "grid_template_rows": null,
       "height": null,
       "justify_content": null,
       "justify_items": null,
       "left": null,
       "margin": null,
       "max_height": null,
       "max_width": null,
       "min_height": null,
       "min_width": null,
       "object_fit": null,
       "object_position": null,
       "order": null,
       "overflow": null,
       "overflow_x": null,
       "overflow_y": null,
       "padding": null,
       "right": null,
       "top": null,
       "visibility": null,
       "width": null
      }
     },
     "cf73603f5bff4d628d42f1c83c853d3e": {
      "model_module": "@jupyter-widgets/controls",
      "model_module_version": "1.5.0",
      "model_name": "HTMLModel",
      "state": {
       "_dom_classes": [],
       "_model_module": "@jupyter-widgets/controls",
       "_model_module_version": "1.5.0",
       "_model_name": "HTMLModel",
       "_view_count": null,
       "_view_module": "@jupyter-widgets/controls",
       "_view_module_version": "1.5.0",
       "_view_name": "HTMLView",
       "description": "",
       "description_tooltip": null,
       "layout": "IPY_MODEL_37a285780ca94cd4aa252fb404744adb",
       "placeholder": "​",
       "style": "IPY_MODEL_a394c83fcd8f46a3b5bfcfbda3b3a720",
       "value": "Downloading (…)/main/tokenizer.json: 100%"
      }
     },
     "d0d0e13bc4b74747afad64018f273343": {
      "model_module": "@jupyter-widgets/controls",
      "model_module_version": "1.5.0",
      "model_name": "HTMLModel",
      "state": {
       "_dom_classes": [],
       "_model_module": "@jupyter-widgets/controls",
       "_model_module_version": "1.5.0",
       "_model_name": "HTMLModel",
       "_view_count": null,
       "_view_module": "@jupyter-widgets/controls",
       "_view_module_version": "1.5.0",
       "_view_name": "HTMLView",
       "description": "",
       "description_tooltip": null,
       "layout": "IPY_MODEL_a2ad595550a340aab0c04bc997b93eab",
       "placeholder": "​",
       "style": "IPY_MODEL_5ce15ec269184e6bab8c9af6e6db162f",
       "value": " 786/786 [00:00&lt;00:00, 68.1kB/s]"
      }
     },
     "d7143c11d8ba4b2590bbb6cf61ee7559": {
      "model_module": "@jupyter-widgets/controls",
      "model_module_version": "1.5.0",
      "model_name": "FloatProgressModel",
      "state": {
       "_dom_classes": [],
       "_model_module": "@jupyter-widgets/controls",
       "_model_module_version": "1.5.0",
       "_model_name": "FloatProgressModel",
       "_view_count": null,
       "_view_module": "@jupyter-widgets/controls",
       "_view_module_version": "1.5.0",
       "_view_name": "ProgressView",
       "bar_style": "success",
       "description": "",
       "description_tooltip": null,
       "layout": "IPY_MODEL_cedc7bbbc9df4a89b529d3d3c6986be2",
       "max": 564,
       "min": 0,
       "orientation": "horizontal",
       "style": "IPY_MODEL_8275b955a9e64e40bc32c499aea3bbc5",
       "value": 564
      }
     },
     "dd827040ad074e7e9970faa103e7557e": {
      "model_module": "@jupyter-widgets/base",
      "model_module_version": "1.2.0",
      "model_name": "LayoutModel",
      "state": {
       "_model_module": "@jupyter-widgets/base",
       "_model_module_version": "1.2.0",
       "_model_name": "LayoutModel",
       "_view_count": null,
       "_view_module": "@jupyter-widgets/base",
       "_view_module_version": "1.2.0",
       "_view_name": "LayoutView",
       "align_content": null,
       "align_items": null,
       "align_self": null,
       "border": null,
       "bottom": null,
       "display": null,
       "flex": null,
       "flex_flow": null,
       "grid_area": null,
       "grid_auto_columns": null,
       "grid_auto_flow": null,
       "grid_auto_rows": null,
       "grid_column": null,
       "grid_gap": null,
       "grid_row": null,
       "grid_template_areas": null,
       "grid_template_columns": null,
       "grid_template_rows": null,
       "height": null,
       "justify_content": null,
       "justify_items": null,
       "left": null,
       "margin": null,
       "max_height": null,
       "max_width": null,
       "min_height": null,
       "min_width": null,
       "object_fit": null,
       "object_position": null,
       "order": null,
       "overflow": null,
       "overflow_x": null,
       "overflow_y": null,
       "padding": null,
       "right": null,
       "top": null,
       "visibility": null,
       "width": null
      }
     },
     "e0f7f407a1594fbb936af90ade57cc6d": {
      "model_module": "@jupyter-widgets/controls",
      "model_module_version": "1.5.0",
      "model_name": "ProgressStyleModel",
      "state": {
       "_model_module": "@jupyter-widgets/controls",
       "_model_module_version": "1.5.0",
       "_model_name": "ProgressStyleModel",
       "_view_count": null,
       "_view_module": "@jupyter-widgets/base",
       "_view_module_version": "1.2.0",
       "_view_name": "StyleView",
       "bar_color": null,
       "description_width": ""
      }
     },
     "e201ef1825b6430e945cd479a8cd117f": {
      "model_module": "@jupyter-widgets/base",
      "model_module_version": "1.2.0",
      "model_name": "LayoutModel",
      "state": {
       "_model_module": "@jupyter-widgets/base",
       "_model_module_version": "1.2.0",
       "_model_name": "LayoutModel",
       "_view_count": null,
       "_view_module": "@jupyter-widgets/base",
       "_view_module_version": "1.2.0",
       "_view_name": "LayoutView",
       "align_content": null,
       "align_items": null,
       "align_self": null,
       "border": null,
       "bottom": null,
       "display": null,
       "flex": null,
       "flex_flow": null,
       "grid_area": null,
       "grid_auto_columns": null,
       "grid_auto_flow": null,
       "grid_auto_rows": null,
       "grid_column": null,
       "grid_gap": null,
       "grid_row": null,
       "grid_template_areas": null,
       "grid_template_columns": null,
       "grid_template_rows": null,
       "height": null,
       "justify_content": null,
       "justify_items": null,
       "left": null,
       "margin": null,
       "max_height": null,
       "max_width": null,
       "min_height": null,
       "min_width": null,
       "object_fit": null,
       "object_position": null,
       "order": null,
       "overflow": null,
       "overflow_x": null,
       "overflow_y": null,
       "padding": null,
       "right": null,
       "top": null,
       "visibility": null,
       "width": null
      }
     },
     "e273d8cc929b4681a14989c34b18f081": {
      "model_module": "@jupyter-widgets/base",
      "model_module_version": "1.2.0",
      "model_name": "LayoutModel",
      "state": {
       "_model_module": "@jupyter-widgets/base",
       "_model_module_version": "1.2.0",
       "_model_name": "LayoutModel",
       "_view_count": null,
       "_view_module": "@jupyter-widgets/base",
       "_view_module_version": "1.2.0",
       "_view_name": "LayoutView",
       "align_content": null,
       "align_items": null,
       "align_self": null,
       "border": null,
       "bottom": null,
       "display": null,
       "flex": null,
       "flex_flow": null,
       "grid_area": null,
       "grid_auto_columns": null,
       "grid_auto_flow": null,
       "grid_auto_rows": null,
       "grid_column": null,
       "grid_gap": null,
       "grid_row": null,
       "grid_template_areas": null,
       "grid_template_columns": null,
       "grid_template_rows": null,
       "height": null,
       "justify_content": null,
       "justify_items": null,
       "left": null,
       "margin": null,
       "max_height": null,
       "max_width": null,
       "min_height": null,
       "min_width": null,
       "object_fit": null,
       "object_position": null,
       "order": null,
       "overflow": null,
       "overflow_x": null,
       "overflow_y": null,
       "padding": null,
       "right": null,
       "top": null,
       "visibility": null,
       "width": null
      }
     },
     "e30023f21d7f44c0bbc67f0f243de54d": {
      "model_module": "@jupyter-widgets/controls",
      "model_module_version": "1.5.0",
      "model_name": "DescriptionStyleModel",
      "state": {
       "_model_module": "@jupyter-widgets/controls",
       "_model_module_version": "1.5.0",
       "_model_name": "DescriptionStyleModel",
       "_view_count": null,
       "_view_module": "@jupyter-widgets/base",
       "_view_module_version": "1.2.0",
       "_view_name": "StyleView",
       "description_width": ""
      }
     },
     "f1d29a82f4a6497aa3b0eaef74388d13": {
      "model_module": "@jupyter-widgets/controls",
      "model_module_version": "1.5.0",
      "model_name": "DescriptionStyleModel",
      "state": {
       "_model_module": "@jupyter-widgets/controls",
       "_model_module_version": "1.5.0",
       "_model_name": "DescriptionStyleModel",
       "_view_count": null,
       "_view_module": "@jupyter-widgets/base",
       "_view_module_version": "1.2.0",
       "_view_name": "StyleView",
       "description_width": ""
      }
     },
     "f22322dc2434450a860c589ae4b9bbf4": {
      "model_module": "@jupyter-widgets/base",
      "model_module_version": "1.2.0",
      "model_name": "LayoutModel",
      "state": {
       "_model_module": "@jupyter-widgets/base",
       "_model_module_version": "1.2.0",
       "_model_name": "LayoutModel",
       "_view_count": null,
       "_view_module": "@jupyter-widgets/base",
       "_view_module_version": "1.2.0",
       "_view_name": "LayoutView",
       "align_content": null,
       "align_items": null,
       "align_self": null,
       "border": null,
       "bottom": null,
       "display": null,
       "flex": null,
       "flex_flow": null,
       "grid_area": null,
       "grid_auto_columns": null,
       "grid_auto_flow": null,
       "grid_auto_rows": null,
       "grid_column": null,
       "grid_gap": null,
       "grid_row": null,
       "grid_template_areas": null,
       "grid_template_columns": null,
       "grid_template_rows": null,
       "height": null,
       "justify_content": null,
       "justify_items": null,
       "left": null,
       "margin": null,
       "max_height": null,
       "max_width": null,
       "min_height": null,
       "min_width": null,
       "object_fit": null,
       "object_position": null,
       "order": null,
       "overflow": null,
       "overflow_x": null,
       "overflow_y": null,
       "padding": null,
       "right": null,
       "top": null,
       "visibility": null,
       "width": null
      }
     },
     "f7cf87a20962440cb5e2577c3b59f07a": {
      "model_module": "@jupyter-widgets/base",
      "model_module_version": "1.2.0",
      "model_name": "LayoutModel",
      "state": {
       "_model_module": "@jupyter-widgets/base",
       "_model_module_version": "1.2.0",
       "_model_name": "LayoutModel",
       "_view_count": null,
       "_view_module": "@jupyter-widgets/base",
       "_view_module_version": "1.2.0",
       "_view_name": "LayoutView",
       "align_content": null,
       "align_items": null,
       "align_self": null,
       "border": null,
       "bottom": null,
       "display": null,
       "flex": null,
       "flex_flow": null,
       "grid_area": null,
       "grid_auto_columns": null,
       "grid_auto_flow": null,
       "grid_auto_rows": null,
       "grid_column": null,
       "grid_gap": null,
       "grid_row": null,
       "grid_template_areas": null,
       "grid_template_columns": null,
       "grid_template_rows": null,
       "height": null,
       "justify_content": null,
       "justify_items": null,
       "left": null,
       "margin": null,
       "max_height": null,
       "max_width": null,
       "min_height": null,
       "min_width": null,
       "object_fit": null,
       "object_position": null,
       "order": null,
       "overflow": null,
       "overflow_x": null,
       "overflow_y": null,
       "padding": null,
       "right": null,
       "top": null,
       "visibility": null,
       "width": null
      }
     }
    },
    "version_major": 2,
    "version_minor": 0
   }
  }
 },
 "nbformat": 4,
 "nbformat_minor": 5
}

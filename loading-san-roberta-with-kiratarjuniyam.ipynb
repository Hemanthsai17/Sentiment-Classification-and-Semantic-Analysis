{
 "cells": [
  {
   "cell_type": "code",
   "execution_count": 1,
   "id": "41743796",
   "metadata": {
    "execution": {
     "iopub.execute_input": "2023-10-13T07:24:17.115754Z",
     "iopub.status.busy": "2023-10-13T07:24:17.115375Z",
     "iopub.status.idle": "2023-10-13T07:24:36.261684Z",
     "shell.execute_reply": "2023-10-13T07:24:36.260488Z"
    },
    "papermill": {
     "duration": 19.159878,
     "end_time": "2023-10-13T07:24:36.263956",
     "exception": false,
     "start_time": "2023-10-13T07:24:17.104078",
     "status": "completed"
    },
    "tags": []
   },
   "outputs": [],
   "source": [
    "!pip install transformers[torch] -q\n",
    "!pip install numpy matplotlib -q"
   ]
  },
  {
   "cell_type": "code",
   "execution_count": 2,
   "id": "200f939a",
   "metadata": {
    "execution": {
     "iopub.execute_input": "2023-10-13T07:24:36.276011Z",
     "iopub.status.busy": "2023-10-13T07:24:36.275611Z",
     "iopub.status.idle": "2023-10-13T07:24:36.279923Z",
     "shell.execute_reply": "2023-10-13T07:24:36.279039Z"
    },
    "papermill": {
     "duration": 0.011286,
     "end_time": "2023-10-13T07:24:36.281590",
     "exception": false,
     "start_time": "2023-10-13T07:24:36.270304",
     "status": "completed"
    },
    "tags": []
   },
   "outputs": [],
   "source": [
    "import warnings\n",
    "warnings.filterwarnings(\"ignore\")"
   ]
  },
  {
   "cell_type": "code",
   "execution_count": 3,
   "id": "c1be67ea",
   "metadata": {
    "execution": {
     "iopub.execute_input": "2023-10-13T07:24:36.290769Z",
     "iopub.status.busy": "2023-10-13T07:24:36.290005Z",
     "iopub.status.idle": "2023-10-13T07:25:03.317994Z",
     "shell.execute_reply": "2023-10-13T07:25:03.317032Z"
    },
    "papermill": {
     "duration": 27.034829,
     "end_time": "2023-10-13T07:25:03.320096",
     "exception": false,
     "start_time": "2023-10-13T07:24:36.285267",
     "status": "completed"
    },
    "tags": []
   },
   "outputs": [],
   "source": [
    "import torch\n",
    "import pandas as pd\n",
    "import numpy as np\n",
    "import os\n",
    "from transformers import AutoTokenizer,AutoModelForMaskedLM\n",
    "from transformers import pipeline\n",
    "import re"
   ]
  },
  {
   "cell_type": "code",
   "execution_count": 4,
   "id": "9b40b330",
   "metadata": {
    "execution": {
     "iopub.execute_input": "2023-10-13T07:25:03.329818Z",
     "iopub.status.busy": "2023-10-13T07:25:03.329558Z",
     "iopub.status.idle": "2023-10-13T07:25:03.441626Z",
     "shell.execute_reply": "2023-10-13T07:25:03.440742Z"
    },
    "papermill": {
     "duration": 0.119228,
     "end_time": "2023-10-13T07:25:03.443859",
     "exception": false,
     "start_time": "2023-10-13T07:25:03.324631",
     "status": "completed"
    },
    "tags": []
   },
   "outputs": [
    {
     "name": "stdout",
     "output_type": "stream",
     "text": [
      "Using cuda device\n"
     ]
    }
   ],
   "source": [
    "device = (\n",
    "    \"cuda\"\n",
    "    if torch.cuda.is_available()\n",
    "    else \"mps\"\n",
    "    if torch.backends.mps.is_available()\n",
    "    else \"cpu\"\n",
    ")\n",
    "print(f\"Using {device} device\")"
   ]
  },
  {
   "cell_type": "code",
   "execution_count": 5,
   "id": "faba05b7",
   "metadata": {
    "execution": {
     "iopub.execute_input": "2023-10-13T07:25:03.453218Z",
     "iopub.status.busy": "2023-10-13T07:25:03.452985Z",
     "iopub.status.idle": "2023-10-13T07:25:13.928212Z",
     "shell.execute_reply": "2023-10-13T07:25:13.927319Z"
    },
    "papermill": {
     "duration": 10.482281,
     "end_time": "2023-10-13T07:25:13.930147",
     "exception": false,
     "start_time": "2023-10-13T07:25:03.447866",
     "status": "completed"
    },
    "tags": []
   },
   "outputs": [
    {
     "data": {
      "application/vnd.jupyter.widget-view+json": {
       "model_id": "cb1c94d0c2fa49f8b510c8e8c7c578f0",
       "version_major": 2,
       "version_minor": 0
      },
      "text/plain": [
       "Downloading (…)lve/main/config.json:   0%|          | 0.00/729 [00:00<?, ?B/s]"
      ]
     },
     "metadata": {},
     "output_type": "display_data"
    },
    {
     "data": {
      "application/vnd.jupyter.widget-view+json": {
       "model_id": "5cec7bf58e424690ad97dae76b52f4a7",
       "version_major": 2,
       "version_minor": 0
      },
      "text/plain": [
       "Downloading pytorch_model.bin:   0%|          | 0.00/268M [00:00<?, ?B/s]"
      ]
     },
     "metadata": {},
     "output_type": "display_data"
    },
    {
     "data": {
      "text/plain": [
       "RobertaForMaskedLM(\n",
       "  (roberta): RobertaModel(\n",
       "    (embeddings): RobertaEmbeddings(\n",
       "      (word_embeddings): Embedding(30522, 768, padding_idx=1)\n",
       "      (position_embeddings): Embedding(514, 768, padding_idx=1)\n",
       "      (token_type_embeddings): Embedding(1, 768)\n",
       "      (LayerNorm): LayerNorm((768,), eps=1e-12, elementwise_affine=True)\n",
       "      (dropout): Dropout(p=0.1, inplace=False)\n",
       "    )\n",
       "    (encoder): RobertaEncoder(\n",
       "      (layer): ModuleList(\n",
       "        (0-5): 6 x RobertaLayer(\n",
       "          (attention): RobertaAttention(\n",
       "            (self): RobertaSelfAttention(\n",
       "              (query): Linear(in_features=768, out_features=768, bias=True)\n",
       "              (key): Linear(in_features=768, out_features=768, bias=True)\n",
       "              (value): Linear(in_features=768, out_features=768, bias=True)\n",
       "              (dropout): Dropout(p=0.1, inplace=False)\n",
       "            )\n",
       "            (output): RobertaSelfOutput(\n",
       "              (dense): Linear(in_features=768, out_features=768, bias=True)\n",
       "              (LayerNorm): LayerNorm((768,), eps=1e-12, elementwise_affine=True)\n",
       "              (dropout): Dropout(p=0.1, inplace=False)\n",
       "            )\n",
       "          )\n",
       "          (intermediate): RobertaIntermediate(\n",
       "            (dense): Linear(in_features=768, out_features=3072, bias=True)\n",
       "            (intermediate_act_fn): GELUActivation()\n",
       "          )\n",
       "          (output): RobertaOutput(\n",
       "            (dense): Linear(in_features=3072, out_features=768, bias=True)\n",
       "            (LayerNorm): LayerNorm((768,), eps=1e-12, elementwise_affine=True)\n",
       "            (dropout): Dropout(p=0.1, inplace=False)\n",
       "          )\n",
       "        )\n",
       "      )\n",
       "    )\n",
       "  )\n",
       "  (lm_head): RobertaLMHead(\n",
       "    (dense): Linear(in_features=768, out_features=768, bias=True)\n",
       "    (layer_norm): LayerNorm((768,), eps=1e-12, elementwise_affine=True)\n",
       "    (decoder): Linear(in_features=768, out_features=30522, bias=True)\n",
       "  )\n",
       ")"
      ]
     },
     "execution_count": 5,
     "metadata": {},
     "output_type": "execute_result"
    }
   ],
   "source": [
    "model1=AutoModelForMaskedLM.from_pretrained('sampathlonka/San-RoBERTa') \n",
    "model1"
   ]
  },
  {
   "cell_type": "code",
   "execution_count": 6,
   "id": "e1edbb01",
   "metadata": {
    "execution": {
     "iopub.execute_input": "2023-10-13T07:25:13.940039Z",
     "iopub.status.busy": "2023-10-13T07:25:13.939734Z",
     "iopub.status.idle": "2023-10-13T07:25:15.595300Z",
     "shell.execute_reply": "2023-10-13T07:25:15.594525Z"
    },
    "papermill": {
     "duration": 1.663222,
     "end_time": "2023-10-13T07:25:15.597692",
     "exception": false,
     "start_time": "2023-10-13T07:25:13.934470",
     "status": "completed"
    },
    "tags": []
   },
   "outputs": [
    {
     "data": {
      "application/vnd.jupyter.widget-view+json": {
       "model_id": "ef4b09cba94b43e599565ccf8f52e88b",
       "version_major": 2,
       "version_minor": 0
      },
      "text/plain": [
       "Downloading (…)okenizer_config.json:   0%|          | 0.00/1.36k [00:00<?, ?B/s]"
      ]
     },
     "metadata": {},
     "output_type": "display_data"
    },
    {
     "data": {
      "application/vnd.jupyter.widget-view+json": {
       "model_id": "95cedac478634fb597d7f1000b9ef65e",
       "version_major": 2,
       "version_minor": 0
      },
      "text/plain": [
       "Downloading (…)olve/main/vocab.json:   0%|          | 0.00/798k [00:00<?, ?B/s]"
      ]
     },
     "metadata": {},
     "output_type": "display_data"
    },
    {
     "data": {
      "application/vnd.jupyter.widget-view+json": {
       "model_id": "6414bb8f0e5f45a19e19d365e077791a",
       "version_major": 2,
       "version_minor": 0
      },
      "text/plain": [
       "Downloading (…)olve/main/merges.txt:   0%|          | 0.00/594k [00:00<?, ?B/s]"
      ]
     },
     "metadata": {},
     "output_type": "display_data"
    },
    {
     "data": {
      "application/vnd.jupyter.widget-view+json": {
       "model_id": "f01ebf619d0e4a34895a154a6e9fd5cb",
       "version_major": 2,
       "version_minor": 0
      },
      "text/plain": [
       "Downloading (…)/main/tokenizer.json:   0%|          | 0.00/1.91M [00:00<?, ?B/s]"
      ]
     },
     "metadata": {},
     "output_type": "display_data"
    },
    {
     "data": {
      "application/vnd.jupyter.widget-view+json": {
       "model_id": "0686bd78a31c4eed996751c47a667fde",
       "version_major": 2,
       "version_minor": 0
      },
      "text/plain": [
       "Downloading (…)cial_tokens_map.json:   0%|          | 0.00/957 [00:00<?, ?B/s]"
      ]
     },
     "metadata": {},
     "output_type": "display_data"
    },
    {
     "data": {
      "text/plain": [
       "RobertaTokenizerFast(name_or_path='sampathlonka/San-RoBERTa', vocab_size=30522, model_max_length=1000000000000000019884624838656, is_fast=True, padding_side='right', truncation_side='right', special_tokens={'bos_token': AddedToken(\"<s>\", rstrip=False, lstrip=False, single_word=False, normalized=True), 'eos_token': AddedToken(\"</s>\", rstrip=False, lstrip=False, single_word=False, normalized=True), 'unk_token': AddedToken(\"<unk>\", rstrip=False, lstrip=False, single_word=False, normalized=True), 'sep_token': AddedToken(\"</s>\", rstrip=False, lstrip=False, single_word=False, normalized=True), 'pad_token': AddedToken(\"<pad>\", rstrip=False, lstrip=False, single_word=False, normalized=True), 'cls_token': AddedToken(\"<s>\", rstrip=False, lstrip=False, single_word=False, normalized=True), 'mask_token': AddedToken(\"<mask>\", rstrip=False, lstrip=True, single_word=False, normalized=True)}, clean_up_tokenization_spaces=True)"
      ]
     },
     "execution_count": 6,
     "metadata": {},
     "output_type": "execute_result"
    }
   ],
   "source": [
    "tokenizer1=AutoTokenizer.from_pretrained('sampathlonka/San-RoBERTa')\n",
    "tokenizer1"
   ]
  },
  {
   "cell_type": "code",
   "execution_count": 7,
   "id": "45291654",
   "metadata": {
    "execution": {
     "iopub.execute_input": "2023-10-13T07:25:15.617100Z",
     "iopub.status.busy": "2023-10-13T07:25:15.616787Z",
     "iopub.status.idle": "2023-10-13T07:25:15.620755Z",
     "shell.execute_reply": "2023-10-13T07:25:15.619997Z"
    },
    "papermill": {
     "duration": 0.017244,
     "end_time": "2023-10-13T07:25:15.624220",
     "exception": false,
     "start_time": "2023-10-13T07:25:15.606976",
     "status": "completed"
    },
    "tags": []
   },
   "outputs": [],
   "source": [
    "folder_names = []\n",
    "texts=[]"
   ]
  },
  {
   "cell_type": "code",
   "execution_count": 8,
   "id": "ece918c8",
   "metadata": {
    "execution": {
     "iopub.execute_input": "2023-10-13T07:25:15.642571Z",
     "iopub.status.busy": "2023-10-13T07:25:15.642257Z",
     "iopub.status.idle": "2023-10-13T07:25:16.673177Z",
     "shell.execute_reply": "2023-10-13T07:25:16.672039Z"
    },
    "papermill": {
     "duration": 1.042219,
     "end_time": "2023-10-13T07:25:16.675006",
     "exception": false,
     "start_time": "2023-10-13T07:25:15.632787",
     "status": "completed"
    },
    "tags": []
   },
   "outputs": [
    {
     "name": "stdout",
     "output_type": "stream",
     "text": [
      "/kaggle/input/mahakavyas/kiratarjuniyam/kiratarjuniyam/Kiratarjuniyam_sarga_16.xlsx\n",
      "/kaggle/input/mahakavyas/kiratarjuniyam/kiratarjuniyam/Kiratarjuniyam_sarga_13.xlsx\n",
      "/kaggle/input/mahakavyas/kiratarjuniyam/kiratarjuniyam/Kiratarjuniyam_sarga_03.xlsx\n",
      "/kaggle/input/mahakavyas/kiratarjuniyam/kiratarjuniyam/Kiratarjuniyam_sarga_01.xlsx\n",
      "/kaggle/input/mahakavyas/kiratarjuniyam/kiratarjuniyam/Kiratarjuniyam_sarga_02.xlsx\n",
      "/kaggle/input/mahakavyas/kiratarjuniyam/kiratarjuniyam/Kiratarjuniyam_sarga_08.xlsx\n",
      "/kaggle/input/mahakavyas/kiratarjuniyam/kiratarjuniyam/Kiratarjuniyam_sarga_17.xlsx\n",
      "/kaggle/input/mahakavyas/kiratarjuniyam/kiratarjuniyam/Kiratarjuniyam_sarga_15.xlsx\n",
      "/kaggle/input/mahakavyas/kiratarjuniyam/kiratarjuniyam/Kiratarjuniyam_sarga_18.xlsx\n",
      "/kaggle/input/mahakavyas/kiratarjuniyam/kiratarjuniyam/Kiratarjuniyam_sarga_04.xlsx\n",
      "/kaggle/input/mahakavyas/kiratarjuniyam/kiratarjuniyam/Kiratarjuniyam_sarga_14.xlsx\n",
      "/kaggle/input/mahakavyas/kiratarjuniyam/kiratarjuniyam/Kiratarjuniyam_sarga_11.xlsx\n",
      "/kaggle/input/mahakavyas/kiratarjuniyam/kiratarjuniyam/Kiratarjuniyam_sarga_07.xlsx\n",
      "/kaggle/input/mahakavyas/kiratarjuniyam/kiratarjuniyam/Kiratarjuniyam_sarga_09.xlsx\n",
      "/kaggle/input/mahakavyas/kiratarjuniyam/kiratarjuniyam/Kiratarjuniyam_sarga_12.xlsx\n",
      "/kaggle/input/mahakavyas/kiratarjuniyam/kiratarjuniyam/Kiratarjuniyam_sarga_06.xlsx\n",
      "/kaggle/input/mahakavyas/kiratarjuniyam/kiratarjuniyam/Kiratarjuniyam_sarga_05.xlsx\n",
      "/kaggle/input/mahakavyas/kiratarjuniyam/kiratarjuniyam/Kiratarjuniyam_sarga_10.xlsx\n"
     ]
    }
   ],
   "source": [
    "folder_path = '/kaggle/input/mahakavyas/kiratarjuniyam/kiratarjuniyam'\n",
    "\n",
    "# List all files in the folder\n",
    "for folder_name in os.listdir(folder_path):\n",
    "    folder_dir = os.path.join(folder_path, folder_name)\n",
    "    print(folder_dir)\n",
    "    df = pd.read_excel(folder_dir)\n",
    "    # Iterate through each row and store it as a list\n",
    "    for index, row in df.iterrows():\n",
    "        t = row.tolist()\n",
    "        texts.append(t)\n",
    "        folder_names.append(folder_name[:-5])\n",
    "df = pd.DataFrame({'Text': texts, 'FolderName': folder_names})"
   ]
  },
  {
   "cell_type": "code",
   "execution_count": 9,
   "id": "872c0014",
   "metadata": {
    "execution": {
     "iopub.execute_input": "2023-10-13T07:25:16.687096Z",
     "iopub.status.busy": "2023-10-13T07:25:16.686612Z",
     "iopub.status.idle": "2023-10-13T07:25:16.699993Z",
     "shell.execute_reply": "2023-10-13T07:25:16.699174Z"
    },
    "papermill": {
     "duration": 0.021374,
     "end_time": "2023-10-13T07:25:16.701740",
     "exception": false,
     "start_time": "2023-10-13T07:25:16.680366",
     "status": "completed"
    },
    "tags": []
   },
   "outputs": [
    {
     "data": {
      "text/plain": [
       "'Kiratarjuniyam_sarga_14'"
      ]
     },
     "execution_count": 9,
     "metadata": {},
     "output_type": "execute_result"
    }
   ],
   "source": [
    "len(texts)\n",
    "df.Text[580]\n",
    "df.FolderName[580]"
   ]
  },
  {
   "cell_type": "code",
   "execution_count": 10,
   "id": "3f5e3328",
   "metadata": {
    "execution": {
     "iopub.execute_input": "2023-10-13T07:25:16.712861Z",
     "iopub.status.busy": "2023-10-13T07:25:16.712616Z",
     "iopub.status.idle": "2023-10-13T07:25:16.745387Z",
     "shell.execute_reply": "2023-10-13T07:25:16.743983Z"
    },
    "papermill": {
     "duration": 0.040572,
     "end_time": "2023-10-13T07:25:16.747524",
     "exception": false,
     "start_time": "2023-10-13T07:25:16.706952",
     "status": "completed"
    },
    "tags": []
   },
   "outputs": [
    {
     "name": "stdout",
     "output_type": "stream",
     "text": [
      "                                                   Text  \\\n",
      "0     [मदस्रुतिश्यामितगण्डलेखाः क्रामन्ति विक्रान्तन...   \n",
      "1     [विचित्रया चित्रयतेव भिन्नां रुचं रवेः केतनरत्...   \n",
      "2     [समुल्लसत्प्रासमहोर्मिमालं परिस्फुरच्चामरफेनपङ...   \n",
      "3     [हताहतेत्युद्धतभीमघोषैः समुज्झिता योद्धृभिरभ्य...   \n",
      "4     [अभ्यायतः सन्ततधूमधूम्रं व्यापि प्रभाजालमिवान्...   \n",
      "...                                                 ...   \n",
      "1025  [असकलनयनेक्षितानि लज्जा गतमलसं परिपाण्डुता विष...   \n",
      "1026  [अलसपदमनोरमं प्रकृत्या जितकलहंसवधूगति प्रयातम्...   \n",
      "1027  [भृशकुसुमशरेषुपातमोहा दनवसितार्थपदाकुलोऽभिलापः...   \n",
      "1028  [रुचिकरमपि नार्थवद्बभूव स्तिमितसमाधिशुचौ पृथात...   \n",
      "1029  [स्वयं संराध्यैवं शतमखमखण्डेन तपसा परोच्छित्त्...   \n",
      "\n",
      "                   FolderName  \n",
      "0     Kiratarjuniyam_sarga_16  \n",
      "1     Kiratarjuniyam_sarga_16  \n",
      "2     Kiratarjuniyam_sarga_16  \n",
      "3     Kiratarjuniyam_sarga_16  \n",
      "4     Kiratarjuniyam_sarga_16  \n",
      "...                       ...  \n",
      "1025  Kiratarjuniyam_sarga_10  \n",
      "1026  Kiratarjuniyam_sarga_10  \n",
      "1027  Kiratarjuniyam_sarga_10  \n",
      "1028  Kiratarjuniyam_sarga_10  \n",
      "1029  Kiratarjuniyam_sarga_10  \n",
      "\n",
      "[1030 rows x 2 columns]\n"
     ]
    }
   ],
   "source": [
    "# Define custom functions to process text within a list\n",
    "def process_text(text_list):\n",
    "    processed_text_list = []\n",
    "    for text in text_list:\n",
    "        # Remove newline characters '\\n' and tab characters '\\t'\n",
    "        cleaned_text = text.replace('\\n', '').replace('\\t', '')\n",
    "        cleaned_text = re.sub('[॥.*?॥]|[॥]', '', cleaned_text) # replaces ॥ text ॥ or॥ by a ।\n",
    "        cleaned_text = re.sub('।','',cleaned_text)\n",
    "        cleaned_text = re.sub('१','',cleaned_text)\n",
    "        cleaned_text = re.sub('६','',cleaned_text)\n",
    "        cleaned_text = re.sub('२','',cleaned_text)\n",
    "        cleaned_text = re.sub('३', '',cleaned_text)\n",
    "        cleaned_text = re.sub('४', '',cleaned_text)\n",
    "        cleaned_text = re.sub('o','',cleaned_text)\n",
    "        cleaned_text = re.sub('५', '',cleaned_text)\n",
    "        cleaned_text = re.sub('९', '',cleaned_text)\n",
    "        cleaned_text = re.sub('७', '',cleaned_text)\n",
    "        cleaned_text = re.sub('०', '',cleaned_text)\n",
    "        cleaned_text = re.sub('८', '',cleaned_text)\n",
    "        cleaned_text = re.sub('-', '',cleaned_text)\n",
    "        '''cleaned_text = re.sub('\\xa0','',cleaned_text)\n",
    "        cleaned_text = re.sub('.','',cleaned_text)\n",
    "        cleaned_text = re.sub('0','',cleaned_text)\n",
    "        cleaned_text = re.sub('[(]','',cleaned_text)\n",
    "        cleaned_text = re.sub('[)]','',cleaned_text)'''\n",
    "        # Split by '||' and keep only the part before it\n",
    "        cleaned_text = cleaned_text.split('||')[0].strip()\n",
    "        processed_text_list.append(cleaned_text)\n",
    "    return processed_text_list\n",
    "\n",
    "# Apply the custom function to each row of the 'Text' column\n",
    "df['Text'] = df['Text'].apply(process_text)\n",
    "\n",
    "# Display the modified DataFrame\n",
    "print(df)"
   ]
  },
  {
   "cell_type": "code",
   "execution_count": 11,
   "id": "68b0012d",
   "metadata": {
    "execution": {
     "iopub.execute_input": "2023-10-13T07:25:16.759589Z",
     "iopub.status.busy": "2023-10-13T07:25:16.759293Z",
     "iopub.status.idle": "2023-10-13T07:25:16.772801Z",
     "shell.execute_reply": "2023-10-13T07:25:16.771843Z"
    },
    "papermill": {
     "duration": 0.021646,
     "end_time": "2023-10-13T07:25:16.774538",
     "exception": false,
     "start_time": "2023-10-13T07:25:16.752892",
     "status": "completed"
    },
    "tags": []
   },
   "outputs": [
    {
     "data": {
      "text/html": [
       "<div>\n",
       "<style scoped>\n",
       "    .dataframe tbody tr th:only-of-type {\n",
       "        vertical-align: middle;\n",
       "    }\n",
       "\n",
       "    .dataframe tbody tr th {\n",
       "        vertical-align: top;\n",
       "    }\n",
       "\n",
       "    .dataframe thead th {\n",
       "        text-align: right;\n",
       "    }\n",
       "</style>\n",
       "<table border=\"1\" class=\"dataframe\">\n",
       "  <thead>\n",
       "    <tr style=\"text-align: right;\">\n",
       "      <th></th>\n",
       "      <th>Text</th>\n",
       "      <th>FolderName</th>\n",
       "    </tr>\n",
       "  </thead>\n",
       "  <tbody>\n",
       "    <tr>\n",
       "      <th>0</th>\n",
       "      <td>[मदस्रुतिश्यामितगण्डलेखाः क्रामन्ति विक्रान्तन...</td>\n",
       "      <td>Kiratarjuniyam_sarga_16</td>\n",
       "    </tr>\n",
       "    <tr>\n",
       "      <th>1</th>\n",
       "      <td>[विचित्रया चित्रयतेव भिन्नां रुचं रवेः केतनरत्...</td>\n",
       "      <td>Kiratarjuniyam_sarga_16</td>\n",
       "    </tr>\n",
       "    <tr>\n",
       "      <th>2</th>\n",
       "      <td>[समुल्लसत्प्रासमहोर्मिमालं परिस्फुरच्चामरफेनपङ...</td>\n",
       "      <td>Kiratarjuniyam_sarga_16</td>\n",
       "    </tr>\n",
       "    <tr>\n",
       "      <th>3</th>\n",
       "      <td>[हताहतेत्युद्धतभीमघोषैः समुज्झिता योद्धृभिरभ्य...</td>\n",
       "      <td>Kiratarjuniyam_sarga_16</td>\n",
       "    </tr>\n",
       "    <tr>\n",
       "      <th>4</th>\n",
       "      <td>[अभ्यायतः सन्ततधूमधूम्रं व्यापि प्रभाजालमिवान्...</td>\n",
       "      <td>Kiratarjuniyam_sarga_16</td>\n",
       "    </tr>\n",
       "    <tr>\n",
       "      <th>...</th>\n",
       "      <td>...</td>\n",
       "      <td>...</td>\n",
       "    </tr>\n",
       "    <tr>\n",
       "      <th>1025</th>\n",
       "      <td>[असकलनयनेक्षितानि लज्जा गतमलसं परिपाण्डुता विष...</td>\n",
       "      <td>Kiratarjuniyam_sarga_10</td>\n",
       "    </tr>\n",
       "    <tr>\n",
       "      <th>1026</th>\n",
       "      <td>[अलसपदमनोरमं प्रकृत्या जितकलहंसवधूगति प्रयातम्...</td>\n",
       "      <td>Kiratarjuniyam_sarga_10</td>\n",
       "    </tr>\n",
       "    <tr>\n",
       "      <th>1027</th>\n",
       "      <td>[भृशकुसुमशरेषुपातमोहा दनवसितार्थपदाकुलोऽभिलापः...</td>\n",
       "      <td>Kiratarjuniyam_sarga_10</td>\n",
       "    </tr>\n",
       "    <tr>\n",
       "      <th>1028</th>\n",
       "      <td>[रुचिकरमपि नार्थवद्बभूव स्तिमितसमाधिशुचौ पृथात...</td>\n",
       "      <td>Kiratarjuniyam_sarga_10</td>\n",
       "    </tr>\n",
       "    <tr>\n",
       "      <th>1029</th>\n",
       "      <td>[स्वयं संराध्यैवं शतमखमखण्डेन तपसा परोच्छित्त्...</td>\n",
       "      <td>Kiratarjuniyam_sarga_10</td>\n",
       "    </tr>\n",
       "  </tbody>\n",
       "</table>\n",
       "<p>1030 rows × 2 columns</p>\n",
       "</div>"
      ],
      "text/plain": [
       "                                                   Text  \\\n",
       "0     [मदस्रुतिश्यामितगण्डलेखाः क्रामन्ति विक्रान्तन...   \n",
       "1     [विचित्रया चित्रयतेव भिन्नां रुचं रवेः केतनरत्...   \n",
       "2     [समुल्लसत्प्रासमहोर्मिमालं परिस्फुरच्चामरफेनपङ...   \n",
       "3     [हताहतेत्युद्धतभीमघोषैः समुज्झिता योद्धृभिरभ्य...   \n",
       "4     [अभ्यायतः सन्ततधूमधूम्रं व्यापि प्रभाजालमिवान्...   \n",
       "...                                                 ...   \n",
       "1025  [असकलनयनेक्षितानि लज्जा गतमलसं परिपाण्डुता विष...   \n",
       "1026  [अलसपदमनोरमं प्रकृत्या जितकलहंसवधूगति प्रयातम्...   \n",
       "1027  [भृशकुसुमशरेषुपातमोहा दनवसितार्थपदाकुलोऽभिलापः...   \n",
       "1028  [रुचिकरमपि नार्थवद्बभूव स्तिमितसमाधिशुचौ पृथात...   \n",
       "1029  [स्वयं संराध्यैवं शतमखमखण्डेन तपसा परोच्छित्त्...   \n",
       "\n",
       "                   FolderName  \n",
       "0     Kiratarjuniyam_sarga_16  \n",
       "1     Kiratarjuniyam_sarga_16  \n",
       "2     Kiratarjuniyam_sarga_16  \n",
       "3     Kiratarjuniyam_sarga_16  \n",
       "4     Kiratarjuniyam_sarga_16  \n",
       "...                       ...  \n",
       "1025  Kiratarjuniyam_sarga_10  \n",
       "1026  Kiratarjuniyam_sarga_10  \n",
       "1027  Kiratarjuniyam_sarga_10  \n",
       "1028  Kiratarjuniyam_sarga_10  \n",
       "1029  Kiratarjuniyam_sarga_10  \n",
       "\n",
       "[1030 rows x 2 columns]"
      ]
     },
     "execution_count": 11,
     "metadata": {},
     "output_type": "execute_result"
    }
   ],
   "source": [
    "df"
   ]
  },
  {
   "cell_type": "code",
   "execution_count": 12,
   "id": "75cbaad0",
   "metadata": {
    "execution": {
     "iopub.execute_input": "2023-10-13T07:25:16.788113Z",
     "iopub.status.busy": "2023-10-13T07:25:16.787800Z",
     "iopub.status.idle": "2023-10-13T07:25:16.791610Z",
     "shell.execute_reply": "2023-10-13T07:25:16.790680Z"
    },
    "papermill": {
     "duration": 0.013441,
     "end_time": "2023-10-13T07:25:16.793685",
     "exception": false,
     "start_time": "2023-10-13T07:25:16.780244",
     "status": "completed"
    },
    "tags": []
   },
   "outputs": [],
   "source": [
    "# for i in range(len(df)):\n",
    "#     print(df.Text[i])'''"
   ]
  },
  {
   "cell_type": "code",
   "execution_count": 13,
   "id": "74f662e7",
   "metadata": {
    "execution": {
     "iopub.execute_input": "2023-10-13T07:25:16.806090Z",
     "iopub.status.busy": "2023-10-13T07:25:16.805806Z",
     "iopub.status.idle": "2023-10-13T07:25:16.809831Z",
     "shell.execute_reply": "2023-10-13T07:25:16.808892Z"
    },
    "papermill": {
     "duration": 0.012353,
     "end_time": "2023-10-13T07:25:16.811772",
     "exception": false,
     "start_time": "2023-10-13T07:25:16.799419",
     "status": "completed"
    },
    "tags": []
   },
   "outputs": [],
   "source": [
    "embedding=[]"
   ]
  },
  {
   "cell_type": "code",
   "execution_count": 14,
   "id": "defe71f9",
   "metadata": {
    "execution": {
     "iopub.execute_input": "2023-10-13T07:25:16.824416Z",
     "iopub.status.busy": "2023-10-13T07:25:16.824171Z",
     "iopub.status.idle": "2023-10-13T07:26:52.700320Z",
     "shell.execute_reply": "2023-10-13T07:26:52.699273Z"
    },
    "papermill": {
     "duration": 95.885332,
     "end_time": "2023-10-13T07:26:52.702576",
     "exception": false,
     "start_time": "2023-10-13T07:25:16.817244",
     "status": "completed"
    },
    "tags": []
   },
   "outputs": [],
   "source": [
    "for i in range(len(df)):\n",
    "    with torch.no_grad():\n",
    "        t = tokenizer1.encode(df.Text[i][0],max_length=512, padding=True, truncation=True, return_tensors=\"pt\")\n",
    "        model_output = model1.roberta(t).last_hidden_state\n",
    "        model_output = model_output.squeeze()\n",
    "        out = torch.mean(model_output,dim=0)\n",
    "        out_numpy = out.numpy()\n",
    "        embedding.append(out_numpy)"
   ]
  },
  {
   "cell_type": "code",
   "execution_count": 15,
   "id": "b9f03276",
   "metadata": {
    "execution": {
     "iopub.execute_input": "2023-10-13T07:26:52.715206Z",
     "iopub.status.busy": "2023-10-13T07:26:52.714944Z",
     "iopub.status.idle": "2023-10-13T07:26:52.720429Z",
     "shell.execute_reply": "2023-10-13T07:26:52.719557Z"
    },
    "papermill": {
     "duration": 0.013511,
     "end_time": "2023-10-13T07:26:52.722146",
     "exception": false,
     "start_time": "2023-10-13T07:26:52.708635",
     "status": "completed"
    },
    "tags": []
   },
   "outputs": [
    {
     "data": {
      "text/plain": [
       "(768,)"
      ]
     },
     "execution_count": 15,
     "metadata": {},
     "output_type": "execute_result"
    }
   ],
   "source": [
    "embedding[500].shape"
   ]
  },
  {
   "cell_type": "code",
   "execution_count": 16,
   "id": "e9c2207f",
   "metadata": {
    "execution": {
     "iopub.execute_input": "2023-10-13T07:26:52.734151Z",
     "iopub.status.busy": "2023-10-13T07:26:52.733625Z",
     "iopub.status.idle": "2023-10-13T07:26:52.741448Z",
     "shell.execute_reply": "2023-10-13T07:26:52.740511Z"
    },
    "papermill": {
     "duration": 0.015721,
     "end_time": "2023-10-13T07:26:52.743195",
     "exception": false,
     "start_time": "2023-10-13T07:26:52.727474",
     "status": "completed"
    },
    "tags": []
   },
   "outputs": [
    {
     "data": {
      "text/plain": [
       "array([[-0.70123005,  0.44858226, -0.49276745, ..., -1.6110139 ,\n",
       "         0.45390084, -0.04881329],\n",
       "       [-0.7476762 ,  0.65979326, -0.21513952, ..., -2.0066793 ,\n",
       "         0.4314628 , -0.16702195],\n",
       "       [-0.6945693 ,  0.51631176, -0.3291609 , ..., -1.6367226 ,\n",
       "         0.4359928 , -0.11200665],\n",
       "       ...,\n",
       "       [-0.4139052 ,  0.3758257 , -0.041895  , ..., -2.406657  ,\n",
       "         0.33806786, -0.28587028],\n",
       "       [-0.44053286,  0.38431343, -0.2778763 , ..., -2.2830691 ,\n",
       "         0.51332027, -0.19519323],\n",
       "       [-0.58266354,  0.3966562 , -0.20153666, ..., -1.7934941 ,\n",
       "         0.4607904 , -0.0690487 ]], dtype=float32)"
      ]
     },
     "execution_count": 16,
     "metadata": {},
     "output_type": "execute_result"
    }
   ],
   "source": [
    "data= np.array(embedding)\n",
    "data"
   ]
  },
  {
   "cell_type": "code",
   "execution_count": 17,
   "id": "3c06e44e",
   "metadata": {
    "execution": {
     "iopub.execute_input": "2023-10-13T07:26:52.756857Z",
     "iopub.status.busy": "2023-10-13T07:26:52.756008Z",
     "iopub.status.idle": "2023-10-13T07:26:52.761941Z",
     "shell.execute_reply": "2023-10-13T07:26:52.760893Z"
    },
    "papermill": {
     "duration": 0.014883,
     "end_time": "2023-10-13T07:26:52.764034",
     "exception": false,
     "start_time": "2023-10-13T07:26:52.749151",
     "status": "completed"
    },
    "tags": []
   },
   "outputs": [
    {
     "data": {
      "text/plain": [
       "(1030, 768)"
      ]
     },
     "execution_count": 17,
     "metadata": {},
     "output_type": "execute_result"
    }
   ],
   "source": [
    "data.shape"
   ]
  },
  {
   "cell_type": "markdown",
   "id": "f87c8e0b",
   "metadata": {
    "papermill": {
     "duration": 0.005504,
     "end_time": "2023-10-13T07:26:52.775583",
     "exception": false,
     "start_time": "2023-10-13T07:26:52.770079",
     "status": "completed"
    },
    "tags": []
   },
   "source": [
    "# t-SNE Visualization"
   ]
  },
  {
   "cell_type": "code",
   "execution_count": 18,
   "id": "2c2ecaf7",
   "metadata": {
    "execution": {
     "iopub.execute_input": "2023-10-13T07:26:52.789815Z",
     "iopub.status.busy": "2023-10-13T07:26:52.789566Z",
     "iopub.status.idle": "2023-10-13T07:26:53.203750Z",
     "shell.execute_reply": "2023-10-13T07:26:53.202841Z"
    },
    "papermill": {
     "duration": 0.424759,
     "end_time": "2023-10-13T07:26:53.205984",
     "exception": false,
     "start_time": "2023-10-13T07:26:52.781225",
     "status": "completed"
    },
    "tags": []
   },
   "outputs": [],
   "source": [
    "import numpy as np\n",
    "import matplotlib.pyplot as plt\n",
    "from sklearn.manifold import TSNE\n",
    "from sklearn.preprocessing import StandardScaler"
   ]
  },
  {
   "cell_type": "code",
   "execution_count": 19,
   "id": "a255cc8e",
   "metadata": {
    "execution": {
     "iopub.execute_input": "2023-10-13T07:26:53.219021Z",
     "iopub.status.busy": "2023-10-13T07:26:53.218750Z",
     "iopub.status.idle": "2023-10-13T07:26:57.401369Z",
     "shell.execute_reply": "2023-10-13T07:26:57.400375Z"
    },
    "papermill": {
     "duration": 4.191133,
     "end_time": "2023-10-13T07:26:57.403428",
     "exception": false,
     "start_time": "2023-10-13T07:26:53.212295",
     "status": "completed"
    },
    "tags": []
   },
   "outputs": [],
   "source": [
    "# Create a t-SNE object\n",
    "tsne = TSNE(n_components=2, perplexity=30, n_iter=300, random_state=0)\n",
    "\n",
    "# Apply t-SNE to the scaled data\n",
    "tsne_result = tsne.fit_transform(data)"
   ]
  },
  {
   "cell_type": "code",
   "execution_count": 20,
   "id": "6d8597a6",
   "metadata": {
    "execution": {
     "iopub.execute_input": "2023-10-13T07:26:57.416621Z",
     "iopub.status.busy": "2023-10-13T07:26:57.415809Z",
     "iopub.status.idle": "2023-10-13T07:26:57.753540Z",
     "shell.execute_reply": "2023-10-13T07:26:57.752565Z"
    },
    "papermill": {
     "duration": 0.34742,
     "end_time": "2023-10-13T07:26:57.756618",
     "exception": false,
     "start_time": "2023-10-13T07:26:57.409198",
     "status": "completed"
    },
    "tags": []
   },
   "outputs": [
    {
     "data": {
      "image/png": "[encoded data removed]",
      "text/plain": [
       "<Figure size 800x600 with 1 Axes>"
      ]
     },
     "metadata": {},
     "output_type": "display_data"
    }
   ],
   "source": [
    "# Create a scatter plot of the t-SNE results\n",
    "plt.figure(figsize=(8, 6))\n",
    "plt.scatter(tsne_result[:, 0], tsne_result[:, 1], marker='o', c='b', alpha=0.7)\n",
    "plt.title('t-SNE Visualization')\n",
    "plt.xlabel('Dimension 1')\n",
    "plt.ylabel('Dimension 2')\n",
    "plt.show()"
   ]
  },
  {
   "cell_type": "code",
   "execution_count": 21,
   "id": "999d8fb0",
   "metadata": {
    "_cell_guid": "b1076dfc-b9ad-4769-8c92-a6c4dae69d19",
    "_uuid": "8f2839f25d086af736a60e9eeb907d3b93b6e0e5",
    "execution": {
     "iopub.execute_input": "2023-10-13T07:26:57.773056Z",
     "iopub.status.busy": "2023-10-13T07:26:57.772782Z",
     "iopub.status.idle": "2023-10-13T07:27:07.027340Z",
     "shell.execute_reply": "2023-10-13T07:27:07.026411Z"
    },
    "papermill": {
     "duration": 9.26644,
     "end_time": "2023-10-13T07:27:07.030606",
     "exception": false,
     "start_time": "2023-10-13T07:26:57.764166",
     "status": "completed"
    },
    "tags": []
   },
   "outputs": [
    {
     "data": {
      "image/png": "[encoded data removed]",
      "text/plain": [
       "<Figure size 1000x500 with 2 Axes>"
      ]
     },
     "metadata": {},
     "output_type": "display_data"
    },
    {
     "name": "stdout",
     "output_type": "stream",
     "text": [
      "Silhouette Score for 3 clusters: 0.011992315761744976\n"
     ]
    }
   ],
   "source": [
    "import numpy as np\n",
    "from sklearn.cluster import KMeans\n",
    "from sklearn.decomposition import PCA\n",
    "from sklearn.preprocessing import StandardScaler\n",
    "import matplotlib.pyplot as plt\n",
    "from sklearn.metrics import silhouette_score\n",
    "\n",
    "# Generate random data for demonstration (replace with your data)\n",
    "np.random.seed(0)\n",
    "#data = np.random.rand(95, 768)\n",
    "\n",
    "# Step 1: Dimensionality Reduction (PCA)\n",
    "n_components = 50  # Adjust the number of components as needed\n",
    "pca = PCA(n_components=n_components)\n",
    "data_pca = pca.fit_transform(data)\n",
    "\n",
    "# Step 2: Feature Scaling\n",
    "scaler = StandardScaler()\n",
    "data_scaled = scaler.fit_transform(data_pca)\n",
    "\n",
    "# Step 3: Choosing the Number of Clusters (k)\n",
    "k_values = range(2, 33)\n",
    "inertia_values = []\n",
    "silhouette_scores = []\n",
    "\n",
    "for k in k_values:\n",
    "    kmeans = KMeans(n_clusters=k, random_state=0)\n",
    "    kmeans.fit(data_scaled)\n",
    "    inertia_values.append(kmeans.inertia_)\n",
    "    silhouette_scores.append(silhouette_score(data_scaled, kmeans.labels_))\n",
    "\n",
    "# Plot the Elbow Method to choose k\n",
    "plt.figure(figsize=(10, 5))\n",
    "plt.subplot(1, 2, 1)\n",
    "plt.plot(k_values, inertia_values, marker='o')\n",
    "plt.xlabel('Number of Clusters (k)')\n",
    "plt.ylabel('Inertia')\n",
    "plt.title('Elbow Method')\n",
    "\n",
    "# Plot Silhouette Scores\n",
    "plt.subplot(1, 2, 2)\n",
    "plt.plot(k_values, silhouette_scores, marker='o')\n",
    "plt.xlabel('Number of Clusters (k)')\n",
    "plt.ylabel('Silhouette Score')\n",
    "plt.title('Silhouette Score Method')\n",
    "\n",
    "plt.tight_layout()\n",
    "plt.show()\n",
    "\n",
    "# Based on the plots, choose an appropriate value of k\n",
    "\n",
    "# Step 4: K-means clustering with chosen k\n",
    "chosen_k = 3  # Replace with your chosen k\n",
    "kmeans = KMeans(n_clusters=chosen_k, random_state=0)\n",
    "kmeans.fit(data_scaled)\n",
    "\n",
    "# Step 5: Evaluate the Results (Silhouette Score)\n",
    "silhouette_avg = silhouette_score(data_scaled, kmeans.labels_)\n",
    "print(f\"Silhouette Score for {chosen_k} clusters: {silhouette_avg}\")"
   ]
  },
  {
   "cell_type": "code",
   "execution_count": null,
   "id": "d0def02f",
   "metadata": {
    "papermill": {
     "duration": 0.042652,
     "end_time": "2023-10-13T07:27:07.130136",
     "exception": false,
     "start_time": "2023-10-13T07:27:07.087484",
     "status": "completed"
    },
    "tags": []
   },
   "outputs": [],
   "source": []
  }
 ],
 "metadata": {
  "kernelspec": {
   "display_name": "Python 3 (ipykernel)",
   "language": "python",
   "name": "python3"
  },
  "language_info": {
   "codemirror_mode": {
    "name": "ipython",
    "version": 3
   },
   "file_extension": ".py",
   "mimetype": "text/x-python",
   "name": "python",
   "nbconvert_exporter": "python",
   "pygments_lexer": "ipython3",
   "version": "3.11.4"
  },
  "papermill": {
   "default_parameters": {},
   "duration": 177.262642,
   "end_time": "2023-10-13T07:27:10.323919",
   "environment_variables": {},
   "exception": null,
   "input_path": "__notebook__.ipynb",
   "output_path": "__notebook__.ipynb",
   "parameters": {},
   "start_time": "2023-10-13T07:24:13.061277",
   "version": "2.4.0"
  },
  "widgets": {
   "application/vnd.jupyter.widget-state+json": {
    "state": {
     "013d02cb20ee45dc93e94528d076d068": {
      "model_module": "@jupyter-widgets/controls",
      "model_module_version": "1.5.0",
      "model_name": "ProgressStyleModel",
      "state": {
       "_model_module": "@jupyter-widgets/controls",
       "_model_module_version": "1.5.0",
       "_model_name": "ProgressStyleModel",
       "_view_count": null,
       "_view_module": "@jupyter-widgets/base",
       "_view_module_version": "1.2.0",
       "_view_name": "StyleView",
       "bar_color": null,
       "description_width": ""
      }
     },
     "0344c834754549efbbe39c3f5c5484c9": {
      "model_module": "@jupyter-widgets/controls",
      "model_module_version": "1.5.0",
      "model_name": "FloatProgressModel",
      "state": {
       "_dom_classes": [],
       "_model_module": "@jupyter-widgets/controls",
       "_model_module_version": "1.5.0",
       "_model_name": "FloatProgressModel",
       "_view_count": null,
       "_view_module": "@jupyter-widgets/controls",
       "_view_module_version": "1.5.0",
       "_view_name": "ProgressView",
       "bar_style": "success",
       "description": "",
       "description_tooltip": null,
       "layout": "IPY_MODEL_cafb5b1b3b6d4ade93249a8e80118da0",
       "max": 957,
       "min": 0,
       "orientation": "horizontal",
       "style": "IPY_MODEL_013d02cb20ee45dc93e94528d076d068",
       "value": 957
      }
     },
     "05a8ba54bcd64cc38b952e04ae9143dd": {
      "model_module": "@jupyter-widgets/controls",
      "model_module_version": "1.5.0",
      "model_name": "DescriptionStyleModel",
      "state": {
       "_model_module": "@jupyter-widgets/controls",
       "_model_module_version": "1.5.0",
       "_model_name": "DescriptionStyleModel",
       "_view_count": null,
       "_view_module": "@jupyter-widgets/base",
       "_view_module_version": "1.2.0",
       "_view_name": "StyleView",
       "description_width": ""
      }
     },
     "0686bd78a31c4eed996751c47a667fde": {
      "model_module": "@jupyter-widgets/controls",
      "model_module_version": "1.5.0",
      "model_name": "HBoxModel",
      "state": {
       "_dom_classes": [],
       "_model_module": "@jupyter-widgets/controls",
       "_model_module_version": "1.5.0",
       "_model_name": "HBoxModel",
       "_view_count": null,
       "_view_module": "@jupyter-widgets/controls",
       "_view_module_version": "1.5.0",
       "_view_name": "HBoxView",
       "box_style": "",
       "children": [
        "IPY_MODEL_18a65716c3874b4096dc24c2463c1f94",
        "IPY_MODEL_0344c834754549efbbe39c3f5c5484c9",
        "IPY_MODEL_924a64f8b20e4107a4d3b3dc08c0a53d"
       ],
       "layout": "IPY_MODEL_ef86ae9b1b7c4d2eaf329dd3ea8d919c"
      }
     },
     "076e4e5ed09e4f3c89a87d7228537923": {
      "model_module": "@jupyter-widgets/controls",
      "model_module_version": "1.5.0",
      "model_name": "DescriptionStyleModel",
      "state": {
       "_model_module": "@jupyter-widgets/controls",
       "_model_module_version": "1.5.0",
       "_model_name": "DescriptionStyleModel",
       "_view_count": null,
       "_view_module": "@jupyter-widgets/base",
       "_view_module_version": "1.2.0",
       "_view_name": "StyleView",
       "description_width": ""
      }
     },
     "1124785545d44c7e820322344862060f": {
      "model_module": "@jupyter-widgets/controls",
      "model_module_version": "1.5.0",
      "model_name": "ProgressStyleModel",
      "state": {
       "_model_module": "@jupyter-widgets/controls",
       "_model_module_version": "1.5.0",
       "_model_name": "ProgressStyleModel",
       "_view_count": null,
       "_view_module": "@jupyter-widgets/base",
       "_view_module_version": "1.2.0",
       "_view_name": "StyleView",
       "bar_color": null,
       "description_width": ""
      }
     },
     "17bc6cc350014d0187ea0f3cc1a8f39a": {
      "model_module": "@jupyter-widgets/base",
      "model_module_version": "1.2.0",
      "model_name": "LayoutModel",
      "state": {
       "_model_module": "@jupyter-widgets/base",
       "_model_module_version": "1.2.0",
       "_model_name": "LayoutModel",
       "_view_count": null,
       "_view_module": "@jupyter-widgets/base",
       "_view_module_version": "1.2.0",
       "_view_name": "LayoutView",
       "align_content": null,
       "align_items": null,
       "align_self": null,
       "border": null,
       "bottom": null,
       "display": null,
       "flex": null,
       "flex_flow": null,
       "grid_area": null,
       "grid_auto_columns": null,
       "grid_auto_flow": null,
       "grid_auto_rows": null,
       "grid_column": null,
       "grid_gap": null,
       "grid_row": null,
       "grid_template_areas": null,
       "grid_template_columns": null,
       "grid_template_rows": null,
       "height": null,
       "justify_content": null,
       "justify_items": null,
       "left": null,
       "margin": null,
       "max_height": null,
       "max_width": null,
       "min_height": null,
       "min_width": null,
       "object_fit": null,
       "object_position": null,
       "order": null,
       "overflow": null,
       "overflow_x": null,
       "overflow_y": null,
       "padding": null,
       "right": null,
       "top": null,
       "visibility": null,
       "width": null
      }
     },
     "18a65716c3874b4096dc24c2463c1f94": {
      "model_module": "@jupyter-widgets/controls",
      "model_module_version": "1.5.0",
      "model_name": "HTMLModel",
      "state": {
       "_dom_classes": [],
       "_model_module": "@jupyter-widgets/controls",
       "_model_module_version": "1.5.0",
       "_model_name": "HTMLModel",
       "_view_count": null,
       "_view_module": "@jupyter-widgets/controls",
       "_view_module_version": "1.5.0",
       "_view_name": "HTMLView",
       "description": "",
       "description_tooltip": null,
       "layout": "IPY_MODEL_b9ef7e2eee1b4cdbb6a8fee99bcb81cc",
       "placeholder": "​",
       "style": "IPY_MODEL_3309e21b5bc3461b92ee2e2fe40a63d4",
       "value": "Downloading (…)cial_tokens_map.json: 100%"
      }
     },
     "1faf56f7d648484aa4e76a7fcae7bc5f": {
      "model_module": "@jupyter-widgets/controls",
      "model_module_version": "1.5.0",
      "model_name": "ProgressStyleModel",
      "state": {
       "_model_module": "@jupyter-widgets/controls",
       "_model_module_version": "1.5.0",
       "_model_name": "ProgressStyleModel",
       "_view_count": null,
       "_view_module": "@jupyter-widgets/base",
       "_view_module_version": "1.2.0",
       "_view_name": "StyleView",
       "bar_color": null,
       "description_width": ""
      }
     },
     "20f60504ae0442c192b6ab6e6a578cdd": {
      "model_module": "@jupyter-widgets/base",
      "model_module_version": "1.2.0",
      "model_name": "LayoutModel",
      "state": {
       "_model_module": "@jupyter-widgets/base",
       "_model_module_version": "1.2.0",
       "_model_name": "LayoutModel",
       "_view_count": null,
       "_view_module": "@jupyter-widgets/base",
       "_view_module_version": "1.2.0",
       "_view_name": "LayoutView",
       "align_content": null,
       "align_items": null,
       "align_self": null,
       "border": null,
       "bottom": null,
       "display": null,
       "flex": null,
       "flex_flow": null,
       "grid_area": null,
       "grid_auto_columns": null,
       "grid_auto_flow": null,
       "grid_auto_rows": null,
       "grid_column": null,
       "grid_gap": null,
       "grid_row": null,
       "grid_template_areas": null,
       "grid_template_columns": null,
       "grid_template_rows": null,
       "height": null,
       "justify_content": null,
       "justify_items": null,
       "left": null,
       "margin": null,
       "max_height": null,
       "max_width": null,
       "min_height": null,
       "min_width": null,
       "object_fit": null,
       "object_position": null,
       "order": null,
       "overflow": null,
       "overflow_x": null,
       "overflow_y": null,
       "padding": null,
       "right": null,
       "top": null,
       "visibility": null,
       "width": null
      }
     },
     "232f4c44fc124f0a9d2e1d9ca97f6c7a": {
      "model_module": "@jupyter-widgets/controls",
      "model_module_version": "1.5.0",
      "model_name": "FloatProgressModel",
      "state": {
       "_dom_classes": [],
       "_model_module": "@jupyter-widgets/controls",
       "_model_module_version": "1.5.0",
       "_model_name": "FloatProgressModel",
       "_view_count": null,
       "_view_module": "@jupyter-widgets/controls",
       "_view_module_version": "1.5.0",
       "_view_name": "ProgressView",
       "bar_style": "success",
       "description": "",
       "description_tooltip": null,
       "layout": "IPY_MODEL_249b45845ee44f2587c332e162691b1e",
       "max": 729,
       "min": 0,
       "orientation": "horizontal",
       "style": "IPY_MODEL_1faf56f7d648484aa4e76a7fcae7bc5f",
       "value": 729
      }
     },
     "249b45845ee44f2587c332e162691b1e": {
      "model_module": "@jupyter-widgets/base",
      "model_module_version": "1.2.0",
      "model_name": "LayoutModel",
      "state": {
       "_model_module": "@jupyter-widgets/base",
       "_model_module_version": "1.2.0",
       "_model_name": "LayoutModel",
       "_view_count": null,
       "_view_module": "@jupyter-widgets/base",
       "_view_module_version": "1.2.0",
       "_view_name": "LayoutView",
       "align_content": null,
       "align_items": null,
       "align_self": null,
       "border": null,
       "bottom": null,
       "display": null,
       "flex": null,
       "flex_flow": null,
       "grid_area": null,
       "grid_auto_columns": null,
       "grid_auto_flow": null,
       "grid_auto_rows": null,
       "grid_column": null,
       "grid_gap": null,
       "grid_row": null,
       "grid_template_areas": null,
       "grid_template_columns": null,
       "grid_template_rows": null,
       "height": null,
       "justify_content": null,
       "justify_items": null,
       "left": null,
       "margin": null,
       "max_height": null,
       "max_width": null,
       "min_height": null,
       "min_width": null,
       "object_fit": null,
       "object_position": null,
       "order": null,
       "overflow": null,
       "overflow_x": null,
       "overflow_y": null,
       "padding": null,
       "right": null,
       "top": null,
       "visibility": null,
       "width": null
      }
     },
     "24eb9a5886414cce9a2ec7f60b34a774": {
      "model_module": "@jupyter-widgets/base",
      "model_module_version": "1.2.0",
      "model_name": "LayoutModel",
      "state": {
       "_model_module": "@jupyter-widgets/base",
       "_model_module_version": "1.2.0",
       "_model_name": "LayoutModel",
       "_view_count": null,
       "_view_module": "@jupyter-widgets/base",
       "_view_module_version": "1.2.0",
       "_view_name": "LayoutView",
       "align_content": null,
       "align_items": null,
       "align_self": null,
       "border": null,
       "bottom": null,
       "display": null,
       "flex": null,
       "flex_flow": null,
       "grid_area": null,
       "grid_auto_columns": null,
       "grid_auto_flow": null,
       "grid_auto_rows": null,
       "grid_column": null,
       "grid_gap": null,
       "grid_row": null,
       "grid_template_areas": null,
       "grid_template_columns": null,
       "grid_template_rows": null,
       "height": null,
       "justify_content": null,
       "justify_items": null,
       "left": null,
       "margin": null,
       "max_height": null,
       "max_width": null,
       "min_height": null,
       "min_width": null,
       "object_fit": null,
       "object_position": null,
       "order": null,
       "overflow": null,
       "overflow_x": null,
       "overflow_y": null,
       "padding": null,
       "right": null,
       "top": null,
       "visibility": null,
       "width": null
      }
     },
     "24efd41d642f4795a75af3ed459776ec": {
      "model_module": "@jupyter-widgets/base",
      "model_module_version": "1.2.0",
      "model_name": "LayoutModel",
      "state": {
       "_model_module": "@jupyter-widgets/base",
       "_model_module_version": "1.2.0",
       "_model_name": "LayoutModel",
       "_view_count": null,
       "_view_module": "@jupyter-widgets/base",
       "_view_module_version": "1.2.0",
       "_view_name": "LayoutView",
       "align_content": null,
       "align_items": null,
       "align_self": null,
       "border": null,
       "bottom": null,
       "display": null,
       "flex": null,
       "flex_flow": null,
       "grid_area": null,
       "grid_auto_columns": null,
       "grid_auto_flow": null,
       "grid_auto_rows": null,
       "grid_column": null,
       "grid_gap": null,
       "grid_row": null,
       "grid_template_areas": null,
       "grid_template_columns": null,
       "grid_template_rows": null,
       "height": null,
       "justify_content": null,
       "justify_items": null,
       "left": null,
       "margin": null,
       "max_height": null,
       "max_width": null,
       "min_height": null,
       "min_width": null,
       "object_fit": null,
       "object_position": null,
       "order": null,
       "overflow": null,
       "overflow_x": null,
       "overflow_y": null,
       "padding": null,
       "right": null,
       "top": null,
       "visibility": null,
       "width": null
      }
     },
     "25de92b3666547f09e833617674031ff": {
      "model_module": "@jupyter-widgets/base",
      "model_module_version": "1.2.0",
      "model_name": "LayoutModel",
      "state": {
       "_model_module": "@jupyter-widgets/base",
       "_model_module_version": "1.2.0",
       "_model_name": "LayoutModel",
       "_view_count": null,
       "_view_module": "@jupyter-widgets/base",
       "_view_module_version": "1.2.0",
       "_view_name": "LayoutView",
       "align_content": null,
       "align_items": null,
       "align_self": null,
       "border": null,
       "bottom": null,
       "display": null,
       "flex": null,
       "flex_flow": null,
       "grid_area": null,
       "grid_auto_columns": null,
       "grid_auto_flow": null,
       "grid_auto_rows": null,
       "grid_column": null,
       "grid_gap": null,
       "grid_row": null,
       "grid_template_areas": null,
       "grid_template_columns": null,
       "grid_template_rows": null,
       "height": null,
       "justify_content": null,
       "justify_items": null,
       "left": null,
       "margin": null,
       "max_height": null,
       "max_width": null,
       "min_height": null,
       "min_width": null,
       "object_fit": null,
       "object_position": null,
       "order": null,
       "overflow": null,
       "overflow_x": null,
       "overflow_y": null,
       "padding": null,
       "right": null,
       "top": null,
       "visibility": null,
       "width": null
      }
     },
     "2662d55343ff418a94abd7a864673166": {
      "model_module": "@jupyter-widgets/base",
      "model_module_version": "1.2.0",
      "model_name": "LayoutModel",
      "state": {
       "_model_module": "@jupyter-widgets/base",
       "_model_module_version": "1.2.0",
       "_model_name": "LayoutModel",
       "_view_count": null,
       "_view_module": "@jupyter-widgets/base",
       "_view_module_version": "1.2.0",
       "_view_name": "LayoutView",
       "align_content": null,
       "align_items": null,
       "align_self": null,
       "border": null,
       "bottom": null,
       "display": null,
       "flex": null,
       "flex_flow": null,
       "grid_area": null,
       "grid_auto_columns": null,
       "grid_auto_flow": null,
       "grid_auto_rows": null,
       "grid_column": null,
       "grid_gap": null,
       "grid_row": null,
       "grid_template_areas": null,
       "grid_template_columns": null,
       "grid_template_rows": null,
       "height": null,
       "justify_content": null,
       "justify_items": null,
       "left": null,
       "margin": null,
       "max_height": null,
       "max_width": null,
       "min_height": null,
       "min_width": null,
       "object_fit": null,
       "object_position": null,
       "order": null,
       "overflow": null,
       "overflow_x": null,
       "overflow_y": null,
       "padding": null,
       "right": null,
       "top": null,
       "visibility": null,
       "width": null
      }
     },
     "26e9a882b495435e9ff2a5a636d4e5ab": {
      "model_module": "@jupyter-widgets/base",
      "model_module_version": "1.2.0",
      "model_name": "LayoutModel",
      "state": {
       "_model_module": "@jupyter-widgets/base",
       "_model_module_version": "1.2.0",
       "_model_name": "LayoutModel",
       "_view_count": null,
       "_view_module": "@jupyter-widgets/base",
       "_view_module_version": "1.2.0",
       "_view_name": "LayoutView",
       "align_content": null,
       "align_items": null,
       "align_self": null,
       "border": null,
       "bottom": null,
       "display": null,
       "flex": null,
       "flex_flow": null,
       "grid_area": null,
       "grid_auto_columns": null,
       "grid_auto_flow": null,
       "grid_auto_rows": null,
       "grid_column": null,
       "grid_gap": null,
       "grid_row": null,
       "grid_template_areas": null,
       "grid_template_columns": null,
       "grid_template_rows": null,
       "height": null,
       "justify_content": null,
       "justify_items": null,
       "left": null,
       "margin": null,
       "max_height": null,
       "max_width": null,
       "min_height": null,
       "min_width": null,
       "object_fit": null,
       "object_position": null,
       "order": null,
       "overflow": null,
       "overflow_x": null,
       "overflow_y": null,
       "padding": null,
       "right": null,
       "top": null,
       "visibility": null,
       "width": null
      }
     },
     "28d50ddedc684498baa0da94b4155813": {
      "model_module": "@jupyter-widgets/controls",
      "model_module_version": "1.5.0",
      "model_name": "DescriptionStyleModel",
      "state": {
       "_model_module": "@jupyter-widgets/controls",
       "_model_module_version": "1.5.0",
       "_model_name": "DescriptionStyleModel",
       "_view_count": null,
       "_view_module": "@jupyter-widgets/base",
       "_view_module_version": "1.2.0",
       "_view_name": "StyleView",
       "description_width": ""
      }
     },
     "3309e21b5bc3461b92ee2e2fe40a63d4": {
      "model_module": "@jupyter-widgets/controls",
      "model_module_version": "1.5.0",
      "model_name": "DescriptionStyleModel",
      "state": {
       "_model_module": "@jupyter-widgets/controls",
       "_model_module_version": "1.5.0",
       "_model_name": "DescriptionStyleModel",
       "_view_count": null,
       "_view_module": "@jupyter-widgets/base",
       "_view_module_version": "1.2.0",
       "_view_name": "StyleView",
       "description_width": ""
      }
     },
     "3a8cfa59985740658e014ce969f76ad2": {
      "model_module": "@jupyter-widgets/base",
      "model_module_version": "1.2.0",
      "model_name": "LayoutModel",
      "state": {
       "_model_module": "@jupyter-widgets/base",
       "_model_module_version": "1.2.0",
       "_model_name": "LayoutModel",
       "_view_count": null,
       "_view_module": "@jupyter-widgets/base",
       "_view_module_version": "1.2.0",
       "_view_name": "LayoutView",
       "align_content": null,
       "align_items": null,
       "align_self": null,
       "border": null,
       "bottom": null,
       "display": null,
       "flex": null,
       "flex_flow": null,
       "grid_area": null,
       "grid_auto_columns": null,
       "grid_auto_flow": null,
       "grid_auto_rows": null,
       "grid_column": null,
       "grid_gap": null,
       "grid_row": null,
       "grid_template_areas": null,
       "grid_template_columns": null,
       "grid_template_rows": null,
       "height": null,
       "justify_content": null,
       "justify_items": null,
       "left": null,
       "margin": null,
       "max_height": null,
       "max_width": null,
       "min_height": null,
       "min_width": null,
       "object_fit": null,
       "object_position": null,
       "order": null,
       "overflow": null,
       "overflow_x": null,
       "overflow_y": null,
       "padding": null,
       "right": null,
       "top": null,
       "visibility": null,
       "width": null
      }
     },
     "3b3a96e91c6444998d1a70aa1ec16ae0": {
      "model_module": "@jupyter-widgets/controls",
      "model_module_version": "1.5.0",
      "model_name": "HTMLModel",
      "state": {
       "_dom_classes": [],
       "_model_module": "@jupyter-widgets/controls",
       "_model_module_version": "1.5.0",
       "_model_name": "HTMLModel",
       "_view_count": null,
       "_view_module": "@jupyter-widgets/controls",
       "_view_module_version": "1.5.0",
       "_view_name": "HTMLView",
       "description": "",
       "description_tooltip": null,
       "layout": "IPY_MODEL_26e9a882b495435e9ff2a5a636d4e5ab",
       "placeholder": "​",
       "style": "IPY_MODEL_05a8ba54bcd64cc38b952e04ae9143dd",
       "value": " 1.36k/1.36k [00:00&lt;00:00, 119kB/s]"
      }
     },
     "3d663a24c28e443f885da360fecf09c3": {
      "model_module": "@jupyter-widgets/controls",
      "model_module_version": "1.5.0",
      "model_name": "FloatProgressModel",
      "state": {
       "_dom_classes": [],
       "_model_module": "@jupyter-widgets/controls",
       "_model_module_version": "1.5.0",
       "_model_name": "FloatProgressModel",
       "_view_count": null,
       "_view_module": "@jupyter-widgets/controls",
       "_view_module_version": "1.5.0",
       "_view_name": "ProgressView",
       "bar_style": "success",
       "description": "",
       "description_tooltip": null,
       "layout": "IPY_MODEL_52f72e382d474748b147d80d857d4cfc",
       "max": 1365,
       "min": 0,
       "orientation": "horizontal",
       "style": "IPY_MODEL_c72c083d541c4254944137a3bd65ddf0",
       "value": 1365
      }
     },
     "3d731ae348944dc19b4bf61d930e0500": {
      "model_module": "@jupyter-widgets/controls",
      "model_module_version": "1.5.0",
      "model_name": "HTMLModel",
      "state": {
       "_dom_classes": [],
       "_model_module": "@jupyter-widgets/controls",
       "_model_module_version": "1.5.0",
       "_model_name": "HTMLModel",
       "_view_count": null,
       "_view_module": "@jupyter-widgets/controls",
       "_view_module_version": "1.5.0",
       "_view_name": "HTMLView",
       "description": "",
       "description_tooltip": null,
       "layout": "IPY_MODEL_17bc6cc350014d0187ea0f3cc1a8f39a",
       "placeholder": "​",
       "style": "IPY_MODEL_6565d3f65c204a438904eb4b900612af",
       "value": "Downloading (…)okenizer_config.json: 100%"
      }
     },
     "42df3569649244b4b07ca6de76ed7623": {
      "model_module": "@jupyter-widgets/base",
      "model_module_version": "1.2.0",
      "model_name": "LayoutModel",
      "state": {
       "_model_module": "@jupyter-widgets/base",
       "_model_module_version": "1.2.0",
       "_model_name": "LayoutModel",
       "_view_count": null,
       "_view_module": "@jupyter-widgets/base",
       "_view_module_version": "1.2.0",
       "_view_name": "LayoutView",
       "align_content": null,
       "align_items": null,
       "align_self": null,
       "border": null,
       "bottom": null,
       "display": null,
       "flex": null,
       "flex_flow": null,
       "grid_area": null,
       "grid_auto_columns": null,
       "grid_auto_flow": null,
       "grid_auto_rows": null,
       "grid_column": null,
       "grid_gap": null,
       "grid_row": null,
       "grid_template_areas": null,
       "grid_template_columns": null,
       "grid_template_rows": null,
       "height": null,
       "justify_content": null,
       "justify_items": null,
       "left": null,
       "margin": null,
       "max_height": null,
       "max_width": null,
       "min_height": null,
       "min_width": null,
       "object_fit": null,
       "object_position": null,
       "order": null,
       "overflow": null,
       "overflow_x": null,
       "overflow_y": null,
       "padding": null,
       "right": null,
       "top": null,
       "visibility": null,
       "width": null
      }
     },
     "4338e8d436d54e0e8891c6ae92d38537": {
      "model_module": "@jupyter-widgets/base",
      "model_module_version": "1.2.0",
      "model_name": "LayoutModel",
      "state": {
       "_model_module": "@jupyter-widgets/base",
       "_model_module_version": "1.2.0",
       "_model_name": "LayoutModel",
       "_view_count": null,
       "_view_module": "@jupyter-widgets/base",
       "_view_module_version": "1.2.0",
       "_view_name": "LayoutView",
       "align_content": null,
       "align_items": null,
       "align_self": null,
       "border": null,
       "bottom": null,
       "display": null,
       "flex": null,
       "flex_flow": null,
       "grid_area": null,
       "grid_auto_columns": null,
       "grid_auto_flow": null,
       "grid_auto_rows": null,
       "grid_column": null,
       "grid_gap": null,
       "grid_row": null,
       "grid_template_areas": null,
       "grid_template_columns": null,
       "grid_template_rows": null,
       "height": null,
       "justify_content": null,
       "justify_items": null,
       "left": null,
       "margin": null,
       "max_height": null,
       "max_width": null,
       "min_height": null,
       "min_width": null,
       "object_fit": null,
       "object_position": null,
       "order": null,
       "overflow": null,
       "overflow_x": null,
       "overflow_y": null,
       "padding": null,
       "right": null,
       "top": null,
       "visibility": null,
       "width": null
      }
     },
     "46266acc77524001b074f0eccc1fe572": {
      "model_module": "@jupyter-widgets/controls",
      "model_module_version": "1.5.0",
      "model_name": "HTMLModel",
      "state": {
       "_dom_classes": [],
       "_model_module": "@jupyter-widgets/controls",
       "_model_module_version": "1.5.0",
       "_model_name": "HTMLModel",
       "_view_count": null,
       "_view_module": "@jupyter-widgets/controls",
       "_view_module_version": "1.5.0",
       "_view_name": "HTMLView",
       "description": "",
       "description_tooltip": null,
       "layout": "IPY_MODEL_5bcb20cf4be14e318b107b1dc6ed86e1",
       "placeholder": "​",
       "style": "IPY_MODEL_7ac9f645a3b14343b51fb481b1c4f9ba",
       "value": " 798k/798k [00:00&lt;00:00, 4.55MB/s]"
      }
     },
     "4c27bd9e5a29459c9f8cdb59b8d023b9": {
      "model_module": "@jupyter-widgets/base",
      "model_module_version": "1.2.0",
      "model_name": "LayoutModel",
      "state": {
       "_model_module": "@jupyter-widgets/base",
       "_model_module_version": "1.2.0",
       "_model_name": "LayoutModel",
       "_view_count": null,
       "_view_module": "@jupyter-widgets/base",
       "_view_module_version": "1.2.0",
       "_view_name": "LayoutView",
       "align_content": null,
       "align_items": null,
       "align_self": null,
       "border": null,
       "bottom": null,
       "display": null,
       "flex": null,
       "flex_flow": null,
       "grid_area": null,
       "grid_auto_columns": null,
       "grid_auto_flow": null,
       "grid_auto_rows": null,
       "grid_column": null,
       "grid_gap": null,
       "grid_row": null,
       "grid_template_areas": null,
       "grid_template_columns": null,
       "grid_template_rows": null,
       "height": null,
       "justify_content": null,
       "justify_items": null,
       "left": null,
       "margin": null,
       "max_height": null,
       "max_width": null,
       "min_height": null,
       "min_width": null,
       "object_fit": null,
       "object_position": null,
       "order": null,
       "overflow": null,
       "overflow_x": null,
       "overflow_y": null,
       "padding": null,
       "right": null,
       "top": null,
       "visibility": null,
       "width": null
      }
     },
     "52f72e382d474748b147d80d857d4cfc": {
      "model_module": "@jupyter-widgets/base",
      "model_module_version": "1.2.0",
      "model_name": "LayoutModel",
      "state": {
       "_model_module": "@jupyter-widgets/base",
       "_model_module_version": "1.2.0",
       "_model_name": "LayoutModel",
       "_view_count": null,
       "_view_module": "@jupyter-widgets/base",
       "_view_module_version": "1.2.0",
       "_view_name": "LayoutView",
       "align_content": null,
       "align_items": null,
       "align_self": null,
       "border": null,
       "bottom": null,
       "display": null,
       "flex": null,
       "flex_flow": null,
       "grid_area": null,
       "grid_auto_columns": null,
       "grid_auto_flow": null,
       "grid_auto_rows": null,
       "grid_column": null,
       "grid_gap": null,
       "grid_row": null,
       "grid_template_areas": null,
       "grid_template_columns": null,
       "grid_template_rows": null,
       "height": null,
       "justify_content": null,
       "justify_items": null,
       "left": null,
       "margin": null,
       "max_height": null,
       "max_width": null,
       "min_height": null,
       "min_width": null,
       "object_fit": null,
       "object_position": null,
       "order": null,
       "overflow": null,
       "overflow_x": null,
       "overflow_y": null,
       "padding": null,
       "right": null,
       "top": null,
       "visibility": null,
       "width": null
      }
     },
     "5323ce1a421f4333998f5a94d0d80996": {
      "model_module": "@jupyter-widgets/base",
      "model_module_version": "1.2.0",
      "model_name": "LayoutModel",
      "state": {
       "_model_module": "@jupyter-widgets/base",
       "_model_module_version": "1.2.0",
       "_model_name": "LayoutModel",
       "_view_count": null,
       "_view_module": "@jupyter-widgets/base",
       "_view_module_version": "1.2.0",
       "_view_name": "LayoutView",
       "align_content": null,
       "align_items": null,
       "align_self": null,
       "border": null,
       "bottom": null,
       "display": null,
       "flex": null,
       "flex_flow": null,
       "grid_area": null,
       "grid_auto_columns": null,
       "grid_auto_flow": null,
       "grid_auto_rows": null,
       "grid_column": null,
       "grid_gap": null,
       "grid_row": null,
       "grid_template_areas": null,
       "grid_template_columns": null,
       "grid_template_rows": null,
       "height": null,
       "justify_content": null,
       "justify_items": null,
       "left": null,
       "margin": null,
       "max_height": null,
       "max_width": null,
       "min_height": null,
       "min_width": null,
       "object_fit": null,
       "object_position": null,
       "order": null,
       "overflow": null,
       "overflow_x": null,
       "overflow_y": null,
       "padding": null,
       "right": null,
       "top": null,
       "visibility": null,
       "width": null
      }
     },
     "594dc11328b941528f7c19e79e3a6e23": {
      "model_module": "@jupyter-widgets/base",
      "model_module_version": "1.2.0",
      "model_name": "LayoutModel",
      "state": {
       "_model_module": "@jupyter-widgets/base",
       "_model_module_version": "1.2.0",
       "_model_name": "LayoutModel",
       "_view_count": null,
       "_view_module": "@jupyter-widgets/base",
       "_view_module_version": "1.2.0",
       "_view_name": "LayoutView",
       "align_content": null,
       "align_items": null,
       "align_self": null,
       "border": null,
       "bottom": null,
       "display": null,
       "flex": null,
       "flex_flow": null,
       "grid_area": null,
       "grid_auto_columns": null,
       "grid_auto_flow": null,
       "grid_auto_rows": null,
       "grid_column": null,
       "grid_gap": null,
       "grid_row": null,
       "grid_template_areas": null,
       "grid_template_columns": null,
       "grid_template_rows": null,
       "height": null,
       "justify_content": null,
       "justify_items": null,
       "left": null,
       "margin": null,
       "max_height": null,
       "max_width": null,
       "min_height": null,
       "min_width": null,
       "object_fit": null,
       "object_position": null,
       "order": null,
       "overflow": null,
       "overflow_x": null,
       "overflow_y": null,
       "padding": null,
       "right": null,
       "top": null,
       "visibility": null,
       "width": null
      }
     },
     "5b7e252507d840ac8c3e5899cef78b9e": {
      "model_module": "@jupyter-widgets/base",
      "model_module_version": "1.2.0",
      "model_name": "LayoutModel",
      "state": {
       "_model_module": "@jupyter-widgets/base",
       "_model_module_version": "1.2.0",
       "_model_name": "LayoutModel",
       "_view_count": null,
       "_view_module": "@jupyter-widgets/base",
       "_view_module_version": "1.2.0",
       "_view_name": "LayoutView",
       "align_content": null,
       "align_items": null,
       "align_self": null,
       "border": null,
       "bottom": null,
       "display": null,
       "flex": null,
       "flex_flow": null,
       "grid_area": null,
       "grid_auto_columns": null,
       "grid_auto_flow": null,
       "grid_auto_rows": null,
       "grid_column": null,
       "grid_gap": null,
       "grid_row": null,
       "grid_template_areas": null,
       "grid_template_columns": null,
       "grid_template_rows": null,
       "height": null,
       "justify_content": null,
       "justify_items": null,
       "left": null,
       "margin": null,
       "max_height": null,
       "max_width": null,
       "min_height": null,
       "min_width": null,
       "object_fit": null,
       "object_position": null,
       "order": null,
       "overflow": null,
       "overflow_x": null,
       "overflow_y": null,
       "padding": null,
       "right": null,
       "top": null,
       "visibility": null,
       "width": null
      }
     },
     "5bcb20cf4be14e318b107b1dc6ed86e1": {
      "model_module": "@jupyter-widgets/base",
      "model_module_version": "1.2.0",
      "model_name": "LayoutModel",
      "state": {
       "_model_module": "@jupyter-widgets/base",
       "_model_module_version": "1.2.0",
       "_model_name": "LayoutModel",
       "_view_count": null,
       "_view_module": "@jupyter-widgets/base",
       "_view_module_version": "1.2.0",
       "_view_name": "LayoutView",
       "align_content": null,
       "align_items": null,
       "align_self": null,
       "border": null,
       "bottom": null,
       "display": null,
       "flex": null,
       "flex_flow": null,
       "grid_area": null,
       "grid_auto_columns": null,
       "grid_auto_flow": null,
       "grid_auto_rows": null,
       "grid_column": null,
       "grid_gap": null,
       "grid_row": null,
       "grid_template_areas": null,
       "grid_template_columns": null,
       "grid_template_rows": null,
       "height": null,
       "justify_content": null,
       "justify_items": null,
       "left": null,
       "margin": null,
       "max_height": null,
       "max_width": null,
       "min_height": null,
       "min_width": null,
       "object_fit": null,
       "object_position": null,
       "order": null,
       "overflow": null,
       "overflow_x": null,
       "overflow_y": null,
       "padding": null,
       "right": null,
       "top": null,
       "visibility": null,
       "width": null
      }
     },
     "5cec7bf58e424690ad97dae76b52f4a7": {
      "model_module": "@jupyter-widgets/controls",
      "model_module_version": "1.5.0",
      "model_name": "HBoxModel",
      "state": {
       "_dom_classes": [],
       "_model_module": "@jupyter-widgets/controls",
       "_model_module_version": "1.5.0",
       "_model_name": "HBoxModel",
       "_view_count": null,
       "_view_module": "@jupyter-widgets/controls",
       "_view_module_version": "1.5.0",
       "_view_name": "HBoxView",
       "box_style": "",
       "children": [
        "IPY_MODEL_b71227a2e71d4cbb8b242553e5df5966",
        "IPY_MODEL_7774cd92ab2e40dd995eb25134ed5b09",
        "IPY_MODEL_7487abe1a1e34a5f9dc287c1b9f9fa89"
       ],
       "layout": "IPY_MODEL_835f13b88b344653993f71303b1b18c5"
      }
     },
     "635b8e9f9c064b798474e80e2d323636": {
      "model_module": "@jupyter-widgets/base",
      "model_module_version": "1.2.0",
      "model_name": "LayoutModel",
      "state": {
       "_model_module": "@jupyter-widgets/base",
       "_model_module_version": "1.2.0",
       "_model_name": "LayoutModel",
       "_view_count": null,
       "_view_module": "@jupyter-widgets/base",
       "_view_module_version": "1.2.0",
       "_view_name": "LayoutView",
       "align_content": null,
       "align_items": null,
       "align_self": null,
       "border": null,
       "bottom": null,
       "display": null,
       "flex": null,
       "flex_flow": null,
       "grid_area": null,
       "grid_auto_columns": null,
       "grid_auto_flow": null,
       "grid_auto_rows": null,
       "grid_column": null,
       "grid_gap": null,
       "grid_row": null,
       "grid_template_areas": null,
       "grid_template_columns": null,
       "grid_template_rows": null,
       "height": null,
       "justify_content": null,
       "justify_items": null,
       "left": null,
       "margin": null,
       "max_height": null,
       "max_width": null,
       "min_height": null,
       "min_width": null,
       "object_fit": null,
       "object_position": null,
       "order": null,
       "overflow": null,
       "overflow_x": null,
       "overflow_y": null,
       "padding": null,
       "right": null,
       "top": null,
       "visibility": null,
       "width": null
      }
     },
     "6414bb8f0e5f45a19e19d365e077791a": {
      "model_module": "@jupyter-widgets/controls",
      "model_module_version": "1.5.0",
      "model_name": "HBoxModel",
      "state": {
       "_dom_classes": [],
       "_model_module": "@jupyter-widgets/controls",
       "_model_module_version": "1.5.0",
       "_model_name": "HBoxModel",
       "_view_count": null,
       "_view_module": "@jupyter-widgets/controls",
       "_view_module_version": "1.5.0",
       "_view_name": "HBoxView",
       "box_style": "",
       "children": [
        "IPY_MODEL_a31cfae7465a417692b91a593916bf0a",
        "IPY_MODEL_ef2cf6b149fb48dcbac0d813179e1c29",
        "IPY_MODEL_8dca07bb31ba4c2a9d873223ac351775"
       ],
       "layout": "IPY_MODEL_24eb9a5886414cce9a2ec7f60b34a774"
      }
     },
     "6565d3f65c204a438904eb4b900612af": {
      "model_module": "@jupyter-widgets/controls",
      "model_module_version": "1.5.0",
      "model_name": "DescriptionStyleModel",
      "state": {
       "_model_module": "@jupyter-widgets/controls",
       "_model_module_version": "1.5.0",
       "_model_name": "DescriptionStyleModel",
       "_view_count": null,
       "_view_module": "@jupyter-widgets/base",
       "_view_module_version": "1.2.0",
       "_view_name": "StyleView",
       "description_width": ""
      }
     },
     "6afdb644a3644da5ae3cab976ee0cec1": {
      "model_module": "@jupyter-widgets/controls",
      "model_module_version": "1.5.0",
      "model_name": "HTMLModel",
      "state": {
       "_dom_classes": [],
       "_model_module": "@jupyter-widgets/controls",
       "_model_module_version": "1.5.0",
       "_model_name": "HTMLModel",
       "_view_count": null,
       "_view_module": "@jupyter-widgets/controls",
       "_view_module_version": "1.5.0",
       "_view_name": "HTMLView",
       "description": "",
       "description_tooltip": null,
       "layout": "IPY_MODEL_24efd41d642f4795a75af3ed459776ec",
       "placeholder": "​",
       "style": "IPY_MODEL_076e4e5ed09e4f3c89a87d7228537923",
       "value": "Downloading (…)lve/main/config.json: 100%"
      }
     },
     "711c96cea4b44d0ba7641c53b6341405": {
      "model_module": "@jupyter-widgets/controls",
      "model_module_version": "1.5.0",
      "model_name": "DescriptionStyleModel",
      "state": {
       "_model_module": "@jupyter-widgets/controls",
       "_model_module_version": "1.5.0",
       "_model_name": "DescriptionStyleModel",
       "_view_count": null,
       "_view_module": "@jupyter-widgets/base",
       "_view_module_version": "1.2.0",
       "_view_name": "StyleView",
       "description_width": ""
      }
     },
     "713fce7f1ff24e06ae2f9ed4a0801d9d": {
      "model_module": "@jupyter-widgets/controls",
      "model_module_version": "1.5.0",
      "model_name": "DescriptionStyleModel",
      "state": {
       "_model_module": "@jupyter-widgets/controls",
       "_model_module_version": "1.5.0",
       "_model_name": "DescriptionStyleModel",
       "_view_count": null,
       "_view_module": "@jupyter-widgets/base",
       "_view_module_version": "1.2.0",
       "_view_name": "StyleView",
       "description_width": ""
      }
     },
     "71ec8b59e9c045fbb9b890f9e653b90d": {
      "model_module": "@jupyter-widgets/base",
      "model_module_version": "1.2.0",
      "model_name": "LayoutModel",
      "state": {
       "_model_module": "@jupyter-widgets/base",
       "_model_module_version": "1.2.0",
       "_model_name": "LayoutModel",
       "_view_count": null,
       "_view_module": "@jupyter-widgets/base",
       "_view_module_version": "1.2.0",
       "_view_name": "LayoutView",
       "align_content": null,
       "align_items": null,
       "align_self": null,
       "border": null,
       "bottom": null,
       "display": null,
       "flex": null,
       "flex_flow": null,
       "grid_area": null,
       "grid_auto_columns": null,
       "grid_auto_flow": null,
       "grid_auto_rows": null,
       "grid_column": null,
       "grid_gap": null,
       "grid_row": null,
       "grid_template_areas": null,
       "grid_template_columns": null,
       "grid_template_rows": null,
       "height": null,
       "justify_content": null,
       "justify_items": null,
       "left": null,
       "margin": null,
       "max_height": null,
       "max_width": null,
       "min_height": null,
       "min_width": null,
       "object_fit": null,
       "object_position": null,
       "order": null,
       "overflow": null,
       "overflow_x": null,
       "overflow_y": null,
       "padding": null,
       "right": null,
       "top": null,
       "visibility": null,
       "width": null
      }
     },
     "7487abe1a1e34a5f9dc287c1b9f9fa89": {
      "model_module": "@jupyter-widgets/controls",
      "model_module_version": "1.5.0",
      "model_name": "HTMLModel",
      "state": {
       "_dom_classes": [],
       "_model_module": "@jupyter-widgets/controls",
       "_model_module_version": "1.5.0",
       "_model_name": "HTMLModel",
       "_view_count": null,
       "_view_module": "@jupyter-widgets/controls",
       "_view_module_version": "1.5.0",
       "_view_name": "HTMLView",
       "description": "",
       "description_tooltip": null,
       "layout": "IPY_MODEL_71ec8b59e9c045fbb9b890f9e653b90d",
       "placeholder": "​",
       "style": "IPY_MODEL_c5806d025506412f88144ffd537b525e",
       "value": " 268M/268M [00:08&lt;00:00, 27.3MB/s]"
      }
     },
     "7774cd92ab2e40dd995eb25134ed5b09": {
      "model_module": "@jupyter-widgets/controls",
      "model_module_version": "1.5.0",
      "model_name": "FloatProgressModel",
      "state": {
       "_dom_classes": [],
       "_model_module": "@jupyter-widgets/controls",
       "_model_module_version": "1.5.0",
       "_model_name": "FloatProgressModel",
       "_view_count": null,
       "_view_module": "@jupyter-widgets/controls",
       "_view_module_version": "1.5.0",
       "_view_name": "ProgressView",
       "bar_style": "success",
       "description": "",
       "description_tooltip": null,
       "layout": "IPY_MODEL_8ab91f3e0ce54100b7ef8c5c11fea2eb",
       "max": 267986037,
       "min": 0,
       "orientation": "horizontal",
       "style": "IPY_MODEL_9044c9670f1c4483ae689d0d8ca969ba",
       "value": 267986037
      }
     },
     "7ac9f645a3b14343b51fb481b1c4f9ba": {
      "model_module": "@jupyter-widgets/controls",
      "model_module_version": "1.5.0",
      "model_name": "DescriptionStyleModel",
      "state": {
       "_model_module": "@jupyter-widgets/controls",
       "_model_module_version": "1.5.0",
       "_model_name": "DescriptionStyleModel",
       "_view_count": null,
       "_view_module": "@jupyter-widgets/base",
       "_view_module_version": "1.2.0",
       "_view_name": "StyleView",
       "description_width": ""
      }
     },
     "835f13b88b344653993f71303b1b18c5": {
      "model_module": "@jupyter-widgets/base",
      "model_module_version": "1.2.0",
      "model_name": "LayoutModel",
      "state": {
       "_model_module": "@jupyter-widgets/base",
       "_model_module_version": "1.2.0",
       "_model_name": "LayoutModel",
       "_view_count": null,
       "_view_module": "@jupyter-widgets/base",
       "_view_module_version": "1.2.0",
       "_view_name": "LayoutView",
       "align_content": null,
       "align_items": null,
       "align_self": null,
       "border": null,
       "bottom": null,
       "display": null,
       "flex": null,
       "flex_flow": null,
       "grid_area": null,
       "grid_auto_columns": null,
       "grid_auto_flow": null,
       "grid_auto_rows": null,
       "grid_column": null,
       "grid_gap": null,
       "grid_row": null,
       "grid_template_areas": null,
       "grid_template_columns": null,
       "grid_template_rows": null,
       "height": null,
       "justify_content": null,
       "justify_items": null,
       "left": null,
       "margin": null,
       "max_height": null,
       "max_width": null,
       "min_height": null,
       "min_width": null,
       "object_fit": null,
       "object_position": null,
       "order": null,
       "overflow": null,
       "overflow_x": null,
       "overflow_y": null,
       "padding": null,
       "right": null,
       "top": null,
       "visibility": null,
       "width": null
      }
     },
     "849e280834b8470689da21e4c593588e": {
      "model_module": "@jupyter-widgets/controls",
      "model_module_version": "1.5.0",
      "model_name": "HTMLModel",
      "state": {
       "_dom_classes": [],
       "_model_module": "@jupyter-widgets/controls",
       "_model_module_version": "1.5.0",
       "_model_name": "HTMLModel",
       "_view_count": null,
       "_view_module": "@jupyter-widgets/controls",
       "_view_module_version": "1.5.0",
       "_view_name": "HTMLView",
       "description": "",
       "description_tooltip": null,
       "layout": "IPY_MODEL_20f60504ae0442c192b6ab6e6a578cdd",
       "placeholder": "​",
       "style": "IPY_MODEL_f85e1b088c7d443681071198a39416f8",
       "value": " 1.91M/1.91M [00:00&lt;00:00, 8.56MB/s]"
      }
     },
     "8762948fe7134f2181f08090b6651907": {
      "model_module": "@jupyter-widgets/controls",
      "model_module_version": "1.5.0",
      "model_name": "FloatProgressModel",
      "state": {
       "_dom_classes": [],
       "_model_module": "@jupyter-widgets/controls",
       "_model_module_version": "1.5.0",
       "_model_name": "FloatProgressModel",
       "_view_count": null,
       "_view_module": "@jupyter-widgets/controls",
       "_view_module_version": "1.5.0",
       "_view_name": "ProgressView",
       "bar_style": "success",
       "description": "",
       "description_tooltip": null,
       "layout": "IPY_MODEL_3a8cfa59985740658e014ce969f76ad2",
       "max": 1911005,
       "min": 0,
       "orientation": "horizontal",
       "style": "IPY_MODEL_ef6fb528d95d4950b4ad90917c94acf0",
       "value": 1911005
      }
     },
     "8ab91f3e0ce54100b7ef8c5c11fea2eb": {
      "model_module": "@jupyter-widgets/base",
      "model_module_version": "1.2.0",
      "model_name": "LayoutModel",
      "state": {
       "_model_module": "@jupyter-widgets/base",
       "_model_module_version": "1.2.0",
       "_model_name": "LayoutModel",
       "_view_count": null,
       "_view_module": "@jupyter-widgets/base",
       "_view_module_version": "1.2.0",
       "_view_name": "LayoutView",
       "align_content": null,
       "align_items": null,
       "align_self": null,
       "border": null,
       "bottom": null,
       "display": null,
       "flex": null,
       "flex_flow": null,
       "grid_area": null,
       "grid_auto_columns": null,
       "grid_auto_flow": null,
       "grid_auto_rows": null,
       "grid_column": null,
       "grid_gap": null,
       "grid_row": null,
       "grid_template_areas": null,
       "grid_template_columns": null,
       "grid_template_rows": null,
       "height": null,
       "justify_content": null,
       "justify_items": null,
       "left": null,
       "margin": null,
       "max_height": null,
       "max_width": null,
       "min_height": null,
       "min_width": null,
       "object_fit": null,
       "object_position": null,
       "order": null,
       "overflow": null,
       "overflow_x": null,
       "overflow_y": null,
       "padding": null,
       "right": null,
       "top": null,
       "visibility": null,
       "width": null
      }
     },
     "8acc91e7d9684a43a717f41eb166049e": {
      "model_module": "@jupyter-widgets/controls",
      "model_module_version": "1.5.0",
      "model_name": "HTMLModel",
      "state": {
       "_dom_classes": [],
       "_model_module": "@jupyter-widgets/controls",
       "_model_module_version": "1.5.0",
       "_model_name": "HTMLModel",
       "_view_count": null,
       "_view_module": "@jupyter-widgets/controls",
       "_view_module_version": "1.5.0",
       "_view_name": "HTMLView",
       "description": "",
       "description_tooltip": null,
       "layout": "IPY_MODEL_635b8e9f9c064b798474e80e2d323636",
       "placeholder": "​",
       "style": "IPY_MODEL_28d50ddedc684498baa0da94b4155813",
       "value": "Downloading (…)/main/tokenizer.json: 100%"
      }
     },
     "8dca07bb31ba4c2a9d873223ac351775": {
      "model_module": "@jupyter-widgets/controls",
      "model_module_version": "1.5.0",
      "model_name": "HTMLModel",
      "state": {
       "_dom_classes": [],
       "_model_module": "@jupyter-widgets/controls",
       "_model_module_version": "1.5.0",
       "_model_name": "HTMLModel",
       "_view_count": null,
       "_view_module": "@jupyter-widgets/controls",
       "_view_module_version": "1.5.0",
       "_view_name": "HTMLView",
       "description": "",
       "description_tooltip": null,
       "layout": "IPY_MODEL_25de92b3666547f09e833617674031ff",
       "placeholder": "​",
       "style": "IPY_MODEL_713fce7f1ff24e06ae2f9ed4a0801d9d",
       "value": " 594k/594k [00:00&lt;00:00, 3.51MB/s]"
      }
     },
     "8ff2f96bd8f64aa58720d28a8f8bd683": {
      "model_module": "@jupyter-widgets/base",
      "model_module_version": "1.2.0",
      "model_name": "LayoutModel",
      "state": {
       "_model_module": "@jupyter-widgets/base",
       "_model_module_version": "1.2.0",
       "_model_name": "LayoutModel",
       "_view_count": null,
       "_view_module": "@jupyter-widgets/base",
       "_view_module_version": "1.2.0",
       "_view_name": "LayoutView",
       "align_content": null,
       "align_items": null,
       "align_self": null,
       "border": null,
       "bottom": null,
       "display": null,
       "flex": null,
       "flex_flow": null,
       "grid_area": null,
       "grid_auto_columns": null,
       "grid_auto_flow": null,
       "grid_auto_rows": null,
       "grid_column": null,
       "grid_gap": null,
       "grid_row": null,
       "grid_template_areas": null,
       "grid_template_columns": null,
       "grid_template_rows": null,
       "height": null,
       "justify_content": null,
       "justify_items": null,
       "left": null,
       "margin": null,
       "max_height": null,
       "max_width": null,
       "min_height": null,
       "min_width": null,
       "object_fit": null,
       "object_position": null,
       "order": null,
       "overflow": null,
       "overflow_x": null,
       "overflow_y": null,
       "padding": null,
       "right": null,
       "top": null,
       "visibility": null,
       "width": null
      }
     },
     "9044c9670f1c4483ae689d0d8ca969ba": {
      "model_module": "@jupyter-widgets/controls",
      "model_module_version": "1.5.0",
      "model_name": "ProgressStyleModel",
      "state": {
       "_model_module": "@jupyter-widgets/controls",
       "_model_module_version": "1.5.0",
       "_model_name": "ProgressStyleModel",
       "_view_count": null,
       "_view_module": "@jupyter-widgets/base",
       "_view_module_version": "1.2.0",
       "_view_name": "StyleView",
       "bar_color": null,
       "description_width": ""
      }
     },
     "924a64f8b20e4107a4d3b3dc08c0a53d": {
      "model_module": "@jupyter-widgets/controls",
      "model_module_version": "1.5.0",
      "model_name": "HTMLModel",
      "state": {
       "_dom_classes": [],
       "_model_module": "@jupyter-widgets/controls",
       "_model_module_version": "1.5.0",
       "_model_name": "HTMLModel",
       "_view_count": null,
       "_view_module": "@jupyter-widgets/controls",
       "_view_module_version": "1.5.0",
       "_view_name": "HTMLView",
       "description": "",
       "description_tooltip": null,
       "layout": "IPY_MODEL_4c27bd9e5a29459c9f8cdb59b8d023b9",
       "placeholder": "​",
       "style": "IPY_MODEL_711c96cea4b44d0ba7641c53b6341405",
       "value": " 957/957 [00:00&lt;00:00, 31.0kB/s]"
      }
     },
     "95cedac478634fb597d7f1000b9ef65e": {
      "model_module": "@jupyter-widgets/controls",
      "model_module_version": "1.5.0",
      "model_name": "HBoxModel",
      "state": {
       "_dom_classes": [],
       "_model_module": "@jupyter-widgets/controls",
       "_model_module_version": "1.5.0",
       "_model_name": "HBoxModel",
       "_view_count": null,
       "_view_module": "@jupyter-widgets/controls",
       "_view_module_version": "1.5.0",
       "_view_name": "HBoxView",
       "box_style": "",
       "children": [
        "IPY_MODEL_ef9b2154831a4db68d287da43ef3b1dd",
        "IPY_MODEL_e1a744a5793c4e2b9b722e30f66af3a4",
        "IPY_MODEL_46266acc77524001b074f0eccc1fe572"
       ],
       "layout": "IPY_MODEL_a0cacea665d44e478f48518cb3a5a650"
      }
     },
     "a0cacea665d44e478f48518cb3a5a650": {
      "model_module": "@jupyter-widgets/base",
      "model_module_version": "1.2.0",
      "model_name": "LayoutModel",
      "state": {
       "_model_module": "@jupyter-widgets/base",
       "_model_module_version": "1.2.0",
       "_model_name": "LayoutModel",
       "_view_count": null,
       "_view_module": "@jupyter-widgets/base",
       "_view_module_version": "1.2.0",
       "_view_name": "LayoutView",
       "align_content": null,
       "align_items": null,
       "align_self": null,
       "border": null,
       "bottom": null,
       "display": null,
       "flex": null,
       "flex_flow": null,
       "grid_area": null,
       "grid_auto_columns": null,
       "grid_auto_flow": null,
       "grid_auto_rows": null,
       "grid_column": null,
       "grid_gap": null,
       "grid_row": null,
       "grid_template_areas": null,
       "grid_template_columns": null,
       "grid_template_rows": null,
       "height": null,
       "justify_content": null,
       "justify_items": null,
       "left": null,
       "margin": null,
       "max_height": null,
       "max_width": null,
       "min_height": null,
       "min_width": null,
       "object_fit": null,
       "object_position": null,
       "order": null,
       "overflow": null,
       "overflow_x": null,
       "overflow_y": null,
       "padding": null,
       "right": null,
       "top": null,
       "visibility": null,
       "width": null
      }
     },
     "a31cfae7465a417692b91a593916bf0a": {
      "model_module": "@jupyter-widgets/controls",
      "model_module_version": "1.5.0",
      "model_name": "HTMLModel",
      "state": {
       "_dom_classes": [],
       "_model_module": "@jupyter-widgets/controls",
       "_model_module_version": "1.5.0",
       "_model_name": "HTMLModel",
       "_view_count": null,
       "_view_module": "@jupyter-widgets/controls",
       "_view_module_version": "1.5.0",
       "_view_name": "HTMLView",
       "description": "",
       "description_tooltip": null,
       "layout": "IPY_MODEL_4338e8d436d54e0e8891c6ae92d38537",
       "placeholder": "​",
       "style": "IPY_MODEL_f8200d1f7f3246b69971271f4b663f13",
       "value": "Downloading (…)olve/main/merges.txt: 100%"
      }
     },
     "b71227a2e71d4cbb8b242553e5df5966": {
      "model_module": "@jupyter-widgets/controls",
      "model_module_version": "1.5.0",
      "model_name": "HTMLModel",
      "state": {
       "_dom_classes": [],
       "_model_module": "@jupyter-widgets/controls",
       "_model_module_version": "1.5.0",
       "_model_name": "HTMLModel",
       "_view_count": null,
       "_view_module": "@jupyter-widgets/controls",
       "_view_module_version": "1.5.0",
       "_view_name": "HTMLView",
       "description": "",
       "description_tooltip": null,
       "layout": "IPY_MODEL_c9bb63aaf82d45cb9fabf31a652224dd",
       "placeholder": "​",
       "style": "IPY_MODEL_f1ee354f08ca4204bf1acfd79b5851ff",
       "value": "Downloading pytorch_model.bin: 100%"
      }
     },
     "b9ef7e2eee1b4cdbb6a8fee99bcb81cc": {
      "model_module": "@jupyter-widgets/base",
      "model_module_version": "1.2.0",
      "model_name": "LayoutModel",
      "state": {
       "_model_module": "@jupyter-widgets/base",
       "_model_module_version": "1.2.0",
       "_model_name": "LayoutModel",
       "_view_count": null,
       "_view_module": "@jupyter-widgets/base",
       "_view_module_version": "1.2.0",
       "_view_name": "LayoutView",
       "align_content": null,
       "align_items": null,
       "align_self": null,
       "border": null,
       "bottom": null,
       "display": null,
       "flex": null,
       "flex_flow": null,
       "grid_area": null,
       "grid_auto_columns": null,
       "grid_auto_flow": null,
       "grid_auto_rows": null,
       "grid_column": null,
       "grid_gap": null,
       "grid_row": null,
       "grid_template_areas": null,
       "grid_template_columns": null,
       "grid_template_rows": null,
       "height": null,
       "justify_content": null,
       "justify_items": null,
       "left": null,
       "margin": null,
       "max_height": null,
       "max_width": null,
       "min_height": null,
       "min_width": null,
       "object_fit": null,
       "object_position": null,
       "order": null,
       "overflow": null,
       "overflow_x": null,
       "overflow_y": null,
       "padding": null,
       "right": null,
       "top": null,
       "visibility": null,
       "width": null
      }
     },
     "c037eb67029e424a9600016f67b03827": {
      "model_module": "@jupyter-widgets/base",
      "model_module_version": "1.2.0",
      "model_name": "LayoutModel",
      "state": {
       "_model_module": "@jupyter-widgets/base",
       "_model_module_version": "1.2.0",
       "_model_name": "LayoutModel",
       "_view_count": null,
       "_view_module": "@jupyter-widgets/base",
       "_view_module_version": "1.2.0",
       "_view_name": "LayoutView",
       "align_content": null,
       "align_items": null,
       "align_self": null,
       "border": null,
       "bottom": null,
       "display": null,
       "flex": null,
       "flex_flow": null,
       "grid_area": null,
       "grid_auto_columns": null,
       "grid_auto_flow": null,
       "grid_auto_rows": null,
       "grid_column": null,
       "grid_gap": null,
       "grid_row": null,
       "grid_template_areas": null,
       "grid_template_columns": null,
       "grid_template_rows": null,
       "height": null,
       "justify_content": null,
       "justify_items": null,
       "left": null,
       "margin": null,
       "max_height": null,
       "max_width": null,
       "min_height": null,
       "min_width": null,
       "object_fit": null,
       "object_position": null,
       "order": null,
       "overflow": null,
       "overflow_x": null,
       "overflow_y": null,
       "padding": null,
       "right": null,
       "top": null,
       "visibility": null,
       "width": null
      }
     },
     "c5806d025506412f88144ffd537b525e": {
      "model_module": "@jupyter-widgets/controls",
      "model_module_version": "1.5.0",
      "model_name": "DescriptionStyleModel",
      "state": {
       "_model_module": "@jupyter-widgets/controls",
       "_model_module_version": "1.5.0",
       "_model_name": "DescriptionStyleModel",
       "_view_count": null,
       "_view_module": "@jupyter-widgets/base",
       "_view_module_version": "1.2.0",
       "_view_name": "StyleView",
       "description_width": ""
      }
     },
     "c5e343ca23494315904ad7dd83df3a53": {
      "model_module": "@jupyter-widgets/controls",
      "model_module_version": "1.5.0",
      "model_name": "DescriptionStyleModel",
      "state": {
       "_model_module": "@jupyter-widgets/controls",
       "_model_module_version": "1.5.0",
       "_model_name": "DescriptionStyleModel",
       "_view_count": null,
       "_view_module": "@jupyter-widgets/base",
       "_view_module_version": "1.2.0",
       "_view_name": "StyleView",
       "description_width": ""
      }
     },
     "c5f37946ea4b4ac4b2258030a816bd24": {
      "model_module": "@jupyter-widgets/controls",
      "model_module_version": "1.5.0",
      "model_name": "HTMLModel",
      "state": {
       "_dom_classes": [],
       "_model_module": "@jupyter-widgets/controls",
       "_model_module_version": "1.5.0",
       "_model_name": "HTMLModel",
       "_view_count": null,
       "_view_module": "@jupyter-widgets/controls",
       "_view_module_version": "1.5.0",
       "_view_name": "HTMLView",
       "description": "",
       "description_tooltip": null,
       "layout": "IPY_MODEL_c037eb67029e424a9600016f67b03827",
       "placeholder": "​",
       "style": "IPY_MODEL_eac2542f9b134daf934d7e8fd9812524",
       "value": " 729/729 [00:00&lt;00:00, 62.0kB/s]"
      }
     },
     "c72c083d541c4254944137a3bd65ddf0": {
      "model_module": "@jupyter-widgets/controls",
      "model_module_version": "1.5.0",
      "model_name": "ProgressStyleModel",
      "state": {
       "_model_module": "@jupyter-widgets/controls",
       "_model_module_version": "1.5.0",
       "_model_name": "ProgressStyleModel",
       "_view_count": null,
       "_view_module": "@jupyter-widgets/base",
       "_view_module_version": "1.2.0",
       "_view_name": "StyleView",
       "bar_color": null,
       "description_width": ""
      }
     },
     "c9bb63aaf82d45cb9fabf31a652224dd": {
      "model_module": "@jupyter-widgets/base",
      "model_module_version": "1.2.0",
      "model_name": "LayoutModel",
      "state": {
       "_model_module": "@jupyter-widgets/base",
       "_model_module_version": "1.2.0",
       "_model_name": "LayoutModel",
       "_view_count": null,
       "_view_module": "@jupyter-widgets/base",
       "_view_module_version": "1.2.0",
       "_view_name": "LayoutView",
       "align_content": null,
       "align_items": null,
       "align_self": null,
       "border": null,
       "bottom": null,
       "display": null,
       "flex": null,
       "flex_flow": null,
       "grid_area": null,
       "grid_auto_columns": null,
       "grid_auto_flow": null,
       "grid_auto_rows": null,
       "grid_column": null,
       "grid_gap": null,
       "grid_row": null,
       "grid_template_areas": null,
       "grid_template_columns": null,
       "grid_template_rows": null,
       "height": null,
       "justify_content": null,
       "justify_items": null,
       "left": null,
       "margin": null,
       "max_height": null,
       "max_width": null,
       "min_height": null,
       "min_width": null,
       "object_fit": null,
       "object_position": null,
       "order": null,
       "overflow": null,
       "overflow_x": null,
       "overflow_y": null,
       "padding": null,
       "right": null,
       "top": null,
       "visibility": null,
       "width": null
      }
     },
     "cafb5b1b3b6d4ade93249a8e80118da0": {
      "model_module": "@jupyter-widgets/base",
      "model_module_version": "1.2.0",
      "model_name": "LayoutModel",
      "state": {
       "_model_module": "@jupyter-widgets/base",
       "_model_module_version": "1.2.0",
       "_model_name": "LayoutModel",
       "_view_count": null,
       "_view_module": "@jupyter-widgets/base",
       "_view_module_version": "1.2.0",
       "_view_name": "LayoutView",
       "align_content": null,
       "align_items": null,
       "align_self": null,
       "border": null,
       "bottom": null,
       "display": null,
       "flex": null,
       "flex_flow": null,
       "grid_area": null,
       "grid_auto_columns": null,
       "grid_auto_flow": null,
       "grid_auto_rows": null,
       "grid_column": null,
       "grid_gap": null,
       "grid_row": null,
       "grid_template_areas": null,
       "grid_template_columns": null,
       "grid_template_rows": null,
       "height": null,
       "justify_content": null,
       "justify_items": null,
       "left": null,
       "margin": null,
       "max_height": null,
       "max_width": null,
       "min_height": null,
       "min_width": null,
       "object_fit": null,
       "object_position": null,
       "order": null,
       "overflow": null,
       "overflow_x": null,
       "overflow_y": null,
       "padding": null,
       "right": null,
       "top": null,
       "visibility": null,
       "width": null
      }
     },
     "cb1c94d0c2fa49f8b510c8e8c7c578f0": {
      "model_module": "@jupyter-widgets/controls",
      "model_module_version": "1.5.0",
      "model_name": "HBoxModel",
      "state": {
       "_dom_classes": [],
       "_model_module": "@jupyter-widgets/controls",
       "_model_module_version": "1.5.0",
       "_model_name": "HBoxModel",
       "_view_count": null,
       "_view_module": "@jupyter-widgets/controls",
       "_view_module_version": "1.5.0",
       "_view_name": "HBoxView",
       "box_style": "",
       "children": [
        "IPY_MODEL_6afdb644a3644da5ae3cab976ee0cec1",
        "IPY_MODEL_232f4c44fc124f0a9d2e1d9ca97f6c7a",
        "IPY_MODEL_c5f37946ea4b4ac4b2258030a816bd24"
       ],
       "layout": "IPY_MODEL_42df3569649244b4b07ca6de76ed7623"
      }
     },
     "d345b197e39843d089e63bdb5a7decdf": {
      "model_module": "@jupyter-widgets/controls",
      "model_module_version": "1.5.0",
      "model_name": "ProgressStyleModel",
      "state": {
       "_model_module": "@jupyter-widgets/controls",
       "_model_module_version": "1.5.0",
       "_model_name": "ProgressStyleModel",
       "_view_count": null,
       "_view_module": "@jupyter-widgets/base",
       "_view_module_version": "1.2.0",
       "_view_name": "StyleView",
       "bar_color": null,
       "description_width": ""
      }
     },
     "e1a744a5793c4e2b9b722e30f66af3a4": {
      "model_module": "@jupyter-widgets/controls",
      "model_module_version": "1.5.0",
      "model_name": "FloatProgressModel",
      "state": {
       "_dom_classes": [],
       "_model_module": "@jupyter-widgets/controls",
       "_model_module_version": "1.5.0",
       "_model_name": "FloatProgressModel",
       "_view_count": null,
       "_view_module": "@jupyter-widgets/controls",
       "_view_module_version": "1.5.0",
       "_view_name": "ProgressView",
       "bar_style": "success",
       "description": "",
       "description_tooltip": null,
       "layout": "IPY_MODEL_2662d55343ff418a94abd7a864673166",
       "max": 798156,
       "min": 0,
       "orientation": "horizontal",
       "style": "IPY_MODEL_1124785545d44c7e820322344862060f",
       "value": 798156
      }
     },
     "eac2542f9b134daf934d7e8fd9812524": {
      "model_module": "@jupyter-widgets/controls",
      "model_module_version": "1.5.0",
      "model_name": "DescriptionStyleModel",
      "state": {
       "_model_module": "@jupyter-widgets/controls",
       "_model_module_version": "1.5.0",
       "_model_name": "DescriptionStyleModel",
       "_view_count": null,
       "_view_module": "@jupyter-widgets/base",
       "_view_module_version": "1.2.0",
       "_view_name": "StyleView",
       "description_width": ""
      }
     },
     "ef2cf6b149fb48dcbac0d813179e1c29": {
      "model_module": "@jupyter-widgets/controls",
      "model_module_version": "1.5.0",
      "model_name": "FloatProgressModel",
      "state": {
       "_dom_classes": [],
       "_model_module": "@jupyter-widgets/controls",
       "_model_module_version": "1.5.0",
       "_model_name": "FloatProgressModel",
       "_view_count": null,
       "_view_module": "@jupyter-widgets/controls",
       "_view_module_version": "1.5.0",
       "_view_name": "ProgressView",
       "bar_style": "success",
       "description": "",
       "description_tooltip": null,
       "layout": "IPY_MODEL_5323ce1a421f4333998f5a94d0d80996",
       "max": 594261,
       "min": 0,
       "orientation": "horizontal",
       "style": "IPY_MODEL_d345b197e39843d089e63bdb5a7decdf",
       "value": 594261
      }
     },
     "ef4b09cba94b43e599565ccf8f52e88b": {
      "model_module": "@jupyter-widgets/controls",
      "model_module_version": "1.5.0",
      "model_name": "HBoxModel",
      "state": {
       "_dom_classes": [],
       "_model_module": "@jupyter-widgets/controls",
       "_model_module_version": "1.5.0",
       "_model_name": "HBoxModel",
       "_view_count": null,
       "_view_module": "@jupyter-widgets/controls",
       "_view_module_version": "1.5.0",
       "_view_name": "HBoxView",
       "box_style": "",
       "children": [
        "IPY_MODEL_3d731ae348944dc19b4bf61d930e0500",
        "IPY_MODEL_3d663a24c28e443f885da360fecf09c3",
        "IPY_MODEL_3b3a96e91c6444998d1a70aa1ec16ae0"
       ],
       "layout": "IPY_MODEL_594dc11328b941528f7c19e79e3a6e23"
      }
     },
     "ef6fb528d95d4950b4ad90917c94acf0": {
      "model_module": "@jupyter-widgets/controls",
      "model_module_version": "1.5.0",
      "model_name": "ProgressStyleModel",
      "state": {
       "_model_module": "@jupyter-widgets/controls",
       "_model_module_version": "1.5.0",
       "_model_name": "ProgressStyleModel",
       "_view_count": null,
       "_view_module": "@jupyter-widgets/base",
       "_view_module_version": "1.2.0",
       "_view_name": "StyleView",
       "bar_color": null,
       "description_width": ""
      }
     },
     "ef86ae9b1b7c4d2eaf329dd3ea8d919c": {
      "model_module": "@jupyter-widgets/base",
      "model_module_version": "1.2.0",
      "model_name": "LayoutModel",
      "state": {
       "_model_module": "@jupyter-widgets/base",
       "_model_module_version": "1.2.0",
       "_model_name": "LayoutModel",
       "_view_count": null,
       "_view_module": "@jupyter-widgets/base",
       "_view_module_version": "1.2.0",
       "_view_name": "LayoutView",
       "align_content": null,
       "align_items": null,
       "align_self": null,
       "border": null,
       "bottom": null,
       "display": null,
       "flex": null,
       "flex_flow": null,
       "grid_area": null,
       "grid_auto_columns": null,
       "grid_auto_flow": null,
       "grid_auto_rows": null,
       "grid_column": null,
       "grid_gap": null,
       "grid_row": null,
       "grid_template_areas": null,
       "grid_template_columns": null,
       "grid_template_rows": null,
       "height": null,
       "justify_content": null,
       "justify_items": null,
       "left": null,
       "margin": null,
       "max_height": null,
       "max_width": null,
       "min_height": null,
       "min_width": null,
       "object_fit": null,
       "object_position": null,
       "order": null,
       "overflow": null,
       "overflow_x": null,
       "overflow_y": null,
       "padding": null,
       "right": null,
       "top": null,
       "visibility": null,
       "width": null
      }
     },
     "ef9b2154831a4db68d287da43ef3b1dd": {
      "model_module": "@jupyter-widgets/controls",
      "model_module_version": "1.5.0",
      "model_name": "HTMLModel",
      "state": {
       "_dom_classes": [],
       "_model_module": "@jupyter-widgets/controls",
       "_model_module_version": "1.5.0",
       "_model_name": "HTMLModel",
       "_view_count": null,
       "_view_module": "@jupyter-widgets/controls",
       "_view_module_version": "1.5.0",
       "_view_name": "HTMLView",
       "description": "",
       "description_tooltip": null,
       "layout": "IPY_MODEL_8ff2f96bd8f64aa58720d28a8f8bd683",
       "placeholder": "​",
       "style": "IPY_MODEL_c5e343ca23494315904ad7dd83df3a53",
       "value": "Downloading (…)olve/main/vocab.json: 100%"
      }
     },
     "f01ebf619d0e4a34895a154a6e9fd5cb": {
      "model_module": "@jupyter-widgets/controls",
      "model_module_version": "1.5.0",
      "model_name": "HBoxModel",
      "state": {
       "_dom_classes": [],
       "_model_module": "@jupyter-widgets/controls",
       "_model_module_version": "1.5.0",
       "_model_name": "HBoxModel",
       "_view_count": null,
       "_view_module": "@jupyter-widgets/controls",
       "_view_module_version": "1.5.0",
       "_view_name": "HBoxView",
       "box_style": "",
       "children": [
        "IPY_MODEL_8acc91e7d9684a43a717f41eb166049e",
        "IPY_MODEL_8762948fe7134f2181f08090b6651907",
        "IPY_MODEL_849e280834b8470689da21e4c593588e"
       ],
       "layout": "IPY_MODEL_5b7e252507d840ac8c3e5899cef78b9e"
      }
     },
     "f1ee354f08ca4204bf1acfd79b5851ff": {
      "model_module": "@jupyter-widgets/controls",
      "model_module_version": "1.5.0",
      "model_name": "DescriptionStyleModel",
      "state": {
       "_model_module": "@jupyter-widgets/controls",
       "_model_module_version": "1.5.0",
       "_model_name": "DescriptionStyleModel",
       "_view_count": null,
       "_view_module": "@jupyter-widgets/base",
       "_view_module_version": "1.2.0",
       "_view_name": "StyleView",
       "description_width": ""
      }
     },
     "f8200d1f7f3246b69971271f4b663f13": {
      "model_module": "@jupyter-widgets/controls",
      "model_module_version": "1.5.0",
      "model_name": "DescriptionStyleModel",
      "state": {
       "_model_module": "@jupyter-widgets/controls",
       "_model_module_version": "1.5.0",
       "_model_name": "DescriptionStyleModel",
       "_view_count": null,
       "_view_module": "@jupyter-widgets/base",
       "_view_module_version": "1.2.0",
       "_view_name": "StyleView",
       "description_width": ""
      }
     },
     "f85e1b088c7d443681071198a39416f8": {
      "model_module": "@jupyter-widgets/controls",
      "model_module_version": "1.5.0",
      "model_name": "DescriptionStyleModel",
      "state": {
       "_model_module": "@jupyter-widgets/controls",
       "_model_module_version": "1.5.0",
       "_model_name": "DescriptionStyleModel",
       "_view_count": null,
       "_view_module": "@jupyter-widgets/base",
       "_view_module_version": "1.2.0",
       "_view_name": "StyleView",
       "description_width": ""
      }
     }
    },
    "version_major": 2,
    "version_minor": 0
   }
  }
 },
 "nbformat": 4,
 "nbformat_minor": 5
}

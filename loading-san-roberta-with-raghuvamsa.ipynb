{
 "cells": [
  {
   "cell_type": "code",
   "execution_count": 1,
   "id": "8938544d",
   "metadata": {
    "_cell_guid": "b1076dfc-b9ad-4769-8c92-a6c4dae69d19",
    "_uuid": "8f2839f25d086af736a60e9eeb907d3b93b6e0e5",
    "execution": {
     "iopub.execute_input": "2023-10-13T08:47:25.310713Z",
     "iopub.status.busy": "2023-10-13T08:47:25.310110Z",
     "iopub.status.idle": "2023-10-13T08:47:46.348673Z",
     "shell.execute_reply": "2023-10-13T08:47:46.347476Z"
    },
    "papermill": {
     "duration": 21.048634,
     "end_time": "2023-10-13T08:47:46.351244",
     "exception": false,
     "start_time": "2023-10-13T08:47:25.302610",
     "status": "completed"
    },
    "tags": []
   },
   "outputs": [],
   "source": [
    "!pip install transformers[torch] -q\n",
    "!pip install numpy matplotlib -q"
   ]
  },
  {
   "cell_type": "code",
   "execution_count": 2,
   "id": "77d4a878",
   "metadata": {
    "execution": {
     "iopub.execute_input": "2023-10-13T08:47:46.363405Z",
     "iopub.status.busy": "2023-10-13T08:47:46.362998Z",
     "iopub.status.idle": "2023-10-13T08:47:46.367783Z",
     "shell.execute_reply": "2023-10-13T08:47:46.366706Z"
    },
    "papermill": {
     "duration": 0.013285,
     "end_time": "2023-10-13T08:47:46.369723",
     "exception": false,
     "start_time": "2023-10-13T08:47:46.356438",
     "status": "completed"
    },
    "tags": []
   },
   "outputs": [],
   "source": [
    "import warnings\n",
    "warnings.filterwarnings(\"ignore\")"
   ]
  },
  {
   "cell_type": "code",
   "execution_count": 3,
   "id": "15304d6d",
   "metadata": {
    "execution": {
     "iopub.execute_input": "2023-10-13T08:47:46.381013Z",
     "iopub.status.busy": "2023-10-13T08:47:46.380632Z",
     "iopub.status.idle": "2023-10-13T08:48:04.068175Z",
     "shell.execute_reply": "2023-10-13T08:48:04.067051Z"
    },
    "papermill": {
     "duration": 17.696146,
     "end_time": "2023-10-13T08:48:04.070718",
     "exception": false,
     "start_time": "2023-10-13T08:47:46.374572",
     "status": "completed"
    },
    "tags": []
   },
   "outputs": [],
   "source": [
    "import torch\n",
    "import pandas as pd\n",
    "import numpy as np\n",
    "import os\n",
    "from transformers import AutoTokenizer,AutoModelForMaskedLM\n",
    "from transformers import pipeline\n",
    "import re"
   ]
  },
  {
   "cell_type": "code",
   "execution_count": 4,
   "id": "217a1154",
   "metadata": {
    "execution": {
     "iopub.execute_input": "2023-10-13T08:48:04.082446Z",
     "iopub.status.busy": "2023-10-13T08:48:04.082074Z",
     "iopub.status.idle": "2023-10-13T08:48:04.088206Z",
     "shell.execute_reply": "2023-10-13T08:48:04.087113Z"
    },
    "papermill": {
     "duration": 0.014376,
     "end_time": "2023-10-13T08:48:04.090515",
     "exception": false,
     "start_time": "2023-10-13T08:48:04.076139",
     "status": "completed"
    },
    "tags": []
   },
   "outputs": [
    {
     "name": "stdout",
     "output_type": "stream",
     "text": [
      "Using cpu device\n"
     ]
    }
   ],
   "source": [
    "device = (\n",
    "    \"cuda\"\n",
    "    if torch.cuda.is_available()\n",
    "    else \"mps\"\n",
    "    if torch.backends.mps.is_available()\n",
    "    else \"cpu\"\n",
    ")\n",
    "print(f\"Using {device} device\")"
   ]
  },
  {
   "cell_type": "code",
   "execution_count": 5,
   "id": "6851b6ab",
   "metadata": {
    "execution": {
     "iopub.execute_input": "2023-10-13T08:48:04.101666Z",
     "iopub.status.busy": "2023-10-13T08:48:04.101326Z",
     "iopub.status.idle": "2023-10-13T08:48:14.265613Z",
     "shell.execute_reply": "2023-10-13T08:48:14.264870Z"
    },
    "papermill": {
     "duration": 10.172238,
     "end_time": "2023-10-13T08:48:14.267594",
     "exception": false,
     "start_time": "2023-10-13T08:48:04.095356",
     "status": "completed"
    },
    "tags": []
   },
   "outputs": [
    {
     "data": {
      "application/vnd.jupyter.widget-view+json": {
       "model_id": "4105e5fb7a0d4dff9948cf342724cc24",
       "version_major": 2,
       "version_minor": 0
      },
      "text/plain": [
       "Downloading (…)lve/main/config.json:   0%|          | 0.00/729 [00:00<?, ?B/s]"
      ]
     },
     "metadata": {},
     "output_type": "display_data"
    },
    {
     "data": {
      "application/vnd.jupyter.widget-view+json": {
       "model_id": "bb10379c454a43ee8f019ebf99494089",
       "version_major": 2,
       "version_minor": 0
      },
      "text/plain": [
       "Downloading pytorch_model.bin:   0%|          | 0.00/268M [00:00<?, ?B/s]"
      ]
     },
     "metadata": {},
     "output_type": "display_data"
    },
    {
     "data": {
      "text/plain": [
       "RobertaForMaskedLM(\n",
       "  (roberta): RobertaModel(\n",
       "    (embeddings): RobertaEmbeddings(\n",
       "      (word_embeddings): Embedding(30522, 768, padding_idx=1)\n",
       "      (position_embeddings): Embedding(514, 768, padding_idx=1)\n",
       "      (token_type_embeddings): Embedding(1, 768)\n",
       "      (LayerNorm): LayerNorm((768,), eps=1e-12, elementwise_affine=True)\n",
       "      (dropout): Dropout(p=0.1, inplace=False)\n",
       "    )\n",
       "    (encoder): RobertaEncoder(\n",
       "      (layer): ModuleList(\n",
       "        (0-5): 6 x RobertaLayer(\n",
       "          (attention): RobertaAttention(\n",
       "            (self): RobertaSelfAttention(\n",
       "              (query): Linear(in_features=768, out_features=768, bias=True)\n",
       "              (key): Linear(in_features=768, out_features=768, bias=True)\n",
       "              (value): Linear(in_features=768, out_features=768, bias=True)\n",
       "              (dropout): Dropout(p=0.1, inplace=False)\n",
       "            )\n",
       "            (output): RobertaSelfOutput(\n",
       "              (dense): Linear(in_features=768, out_features=768, bias=True)\n",
       "              (LayerNorm): LayerNorm((768,), eps=1e-12, elementwise_affine=True)\n",
       "              (dropout): Dropout(p=0.1, inplace=False)\n",
       "            )\n",
       "          )\n",
       "          (intermediate): RobertaIntermediate(\n",
       "            (dense): Linear(in_features=768, out_features=3072, bias=True)\n",
       "            (intermediate_act_fn): GELUActivation()\n",
       "          )\n",
       "          (output): RobertaOutput(\n",
       "            (dense): Linear(in_features=3072, out_features=768, bias=True)\n",
       "            (LayerNorm): LayerNorm((768,), eps=1e-12, elementwise_affine=True)\n",
       "            (dropout): Dropout(p=0.1, inplace=False)\n",
       "          )\n",
       "        )\n",
       "      )\n",
       "    )\n",
       "  )\n",
       "  (lm_head): RobertaLMHead(\n",
       "    (dense): Linear(in_features=768, out_features=768, bias=True)\n",
       "    (layer_norm): LayerNorm((768,), eps=1e-12, elementwise_affine=True)\n",
       "    (decoder): Linear(in_features=768, out_features=30522, bias=True)\n",
       "  )\n",
       ")"
      ]
     },
     "execution_count": 5,
     "metadata": {},
     "output_type": "execute_result"
    }
   ],
   "source": [
    "model1=AutoModelForMaskedLM.from_pretrained('sampathlonka/San-RoBERTa') \n",
    "model1"
   ]
  },
  {
   "cell_type": "code",
   "execution_count": 6,
   "id": "ce50d53e",
   "metadata": {
    "execution": {
     "iopub.execute_input": "2023-10-13T08:48:14.280345Z",
     "iopub.status.busy": "2023-10-13T08:48:14.279933Z",
     "iopub.status.idle": "2023-10-13T08:48:16.194020Z",
     "shell.execute_reply": "2023-10-13T08:48:16.192904Z"
    },
    "papermill": {
     "duration": 1.922908,
     "end_time": "2023-10-13T08:48:16.196156",
     "exception": false,
     "start_time": "2023-10-13T08:48:14.273248",
     "status": "completed"
    },
    "tags": []
   },
   "outputs": [
    {
     "data": {
      "application/vnd.jupyter.widget-view+json": {
       "model_id": "8eea48304d544131a621c283a99781d3",
       "version_major": 2,
       "version_minor": 0
      },
      "text/plain": [
       "Downloading (…)okenizer_config.json:   0%|          | 0.00/1.36k [00:00<?, ?B/s]"
      ]
     },
     "metadata": {},
     "output_type": "display_data"
    },
    {
     "data": {
      "application/vnd.jupyter.widget-view+json": {
       "model_id": "ef830e922c94408ba5c6b8adc9ce1607",
       "version_major": 2,
       "version_minor": 0
      },
      "text/plain": [
       "Downloading (…)olve/main/vocab.json:   0%|          | 0.00/798k [00:00<?, ?B/s]"
      ]
     },
     "metadata": {},
     "output_type": "display_data"
    },
    {
     "data": {
      "application/vnd.jupyter.widget-view+json": {
       "model_id": "b843a950c0004311ad22da78b8cdde9d",
       "version_major": 2,
       "version_minor": 0
      },
      "text/plain": [
       "Downloading (…)olve/main/merges.txt:   0%|          | 0.00/594k [00:00<?, ?B/s]"
      ]
     },
     "metadata": {},
     "output_type": "display_data"
    },
    {
     "data": {
      "application/vnd.jupyter.widget-view+json": {
       "model_id": "74b02ed57c8549dfbf82ebc48f8058fd",
       "version_major": 2,
       "version_minor": 0
      },
      "text/plain": [
       "Downloading (…)/main/tokenizer.json:   0%|          | 0.00/1.91M [00:00<?, ?B/s]"
      ]
     },
     "metadata": {},
     "output_type": "display_data"
    },
    {
     "data": {
      "application/vnd.jupyter.widget-view+json": {
       "model_id": "f03ac7f94b134b6c8789b20b88aeaf9b",
       "version_major": 2,
       "version_minor": 0
      },
      "text/plain": [
       "Downloading (…)cial_tokens_map.json:   0%|          | 0.00/957 [00:00<?, ?B/s]"
      ]
     },
     "metadata": {},
     "output_type": "display_data"
    },
    {
     "data": {
      "text/plain": [
       "RobertaTokenizerFast(name_or_path='sampathlonka/San-RoBERTa', vocab_size=30522, model_max_length=1000000000000000019884624838656, is_fast=True, padding_side='right', truncation_side='right', special_tokens={'bos_token': AddedToken(\"<s>\", rstrip=False, lstrip=False, single_word=False, normalized=True), 'eos_token': AddedToken(\"</s>\", rstrip=False, lstrip=False, single_word=False, normalized=True), 'unk_token': AddedToken(\"<unk>\", rstrip=False, lstrip=False, single_word=False, normalized=True), 'sep_token': AddedToken(\"</s>\", rstrip=False, lstrip=False, single_word=False, normalized=True), 'pad_token': AddedToken(\"<pad>\", rstrip=False, lstrip=False, single_word=False, normalized=True), 'cls_token': AddedToken(\"<s>\", rstrip=False, lstrip=False, single_word=False, normalized=True), 'mask_token': AddedToken(\"<mask>\", rstrip=False, lstrip=True, single_word=False, normalized=True)}, clean_up_tokenization_spaces=True)"
      ]
     },
     "execution_count": 6,
     "metadata": {},
     "output_type": "execute_result"
    }
   ],
   "source": [
    "tokenizer1=AutoTokenizer.from_pretrained('sampathlonka/San-RoBERTa')\n",
    "tokenizer1"
   ]
  },
  {
   "cell_type": "code",
   "execution_count": 7,
   "id": "01be7408",
   "metadata": {
    "execution": {
     "iopub.execute_input": "2023-10-13T08:48:16.210114Z",
     "iopub.status.busy": "2023-10-13T08:48:16.209510Z",
     "iopub.status.idle": "2023-10-13T08:48:16.213367Z",
     "shell.execute_reply": "2023-10-13T08:48:16.212500Z"
    },
    "papermill": {
     "duration": 0.013097,
     "end_time": "2023-10-13T08:48:16.215210",
     "exception": false,
     "start_time": "2023-10-13T08:48:16.202113",
     "status": "completed"
    },
    "tags": []
   },
   "outputs": [],
   "source": [
    "folder_names = []\n",
    "texts=[]"
   ]
  },
  {
   "cell_type": "code",
   "execution_count": 8,
   "id": "4dc18b29",
   "metadata": {
    "execution": {
     "iopub.execute_input": "2023-10-13T08:48:16.228702Z",
     "iopub.status.busy": "2023-10-13T08:48:16.228302Z",
     "iopub.status.idle": "2023-10-13T08:48:17.034747Z",
     "shell.execute_reply": "2023-10-13T08:48:17.033924Z"
    },
    "papermill": {
     "duration": 0.815815,
     "end_time": "2023-10-13T08:48:17.037037",
     "exception": false,
     "start_time": "2023-10-13T08:48:16.221222",
     "status": "completed"
    },
    "tags": []
   },
   "outputs": [
    {
     "name": "stdout",
     "output_type": "stream",
     "text": [
      "/kaggle/input/mahakavyas/Raghuvamsa/Raghuvamsa/raghuvamsha_sarga_04.xlsx\n",
      "/kaggle/input/mahakavyas/Raghuvamsa/Raghuvamsa/raghuvamsha_sarga_19.xlsx\n",
      "/kaggle/input/mahakavyas/Raghuvamsa/Raghuvamsa/raghuvamsha_sarga_07.xlsx\n",
      "/kaggle/input/mahakavyas/Raghuvamsa/Raghuvamsa/raghuvamsha_sarga_08.xlsx\n",
      "/kaggle/input/mahakavyas/Raghuvamsa/Raghuvamsa/raghuvamsha_sarga_11.xlsx\n",
      "/kaggle/input/mahakavyas/Raghuvamsa/Raghuvamsa/raghuvamsha_sarga_02.xlsx\n",
      "/kaggle/input/mahakavyas/Raghuvamsa/Raghuvamsa/raghuvamsha_sarga_01.xlsx\n",
      "/kaggle/input/mahakavyas/Raghuvamsa/Raghuvamsa/raghuvamsha_sarga_13.xlsx\n",
      "/kaggle/input/mahakavyas/Raghuvamsa/Raghuvamsa/raghuvamsha_sarga_12.xlsx\n",
      "/kaggle/input/mahakavyas/Raghuvamsa/Raghuvamsa/raghuvamsha_sarga_09.xlsx\n",
      "/kaggle/input/mahakavyas/Raghuvamsa/Raghuvamsa/raghuvamsha_sarga_06.xlsx\n",
      "/kaggle/input/mahakavyas/Raghuvamsa/Raghuvamsa/raghuvamsha_sarga_17.xlsx\n",
      "/kaggle/input/mahakavyas/Raghuvamsa/Raghuvamsa/raghuvamsha_sarga_14.xlsx\n",
      "/kaggle/input/mahakavyas/Raghuvamsa/Raghuvamsa/raghuvamsha_sarga_16.xlsx\n",
      "/kaggle/input/mahakavyas/Raghuvamsa/Raghuvamsa/raghuvamsha_sarga_05.xlsx\n",
      "/kaggle/input/mahakavyas/Raghuvamsa/Raghuvamsa/raghuvamsha_sarga_18.xlsx\n",
      "/kaggle/input/mahakavyas/Raghuvamsa/Raghuvamsa/raghuvamsha_sarga_15.xlsx\n",
      "/kaggle/input/mahakavyas/Raghuvamsa/Raghuvamsa/raghuvamsha_sarga_10.xlsx\n",
      "/kaggle/input/mahakavyas/Raghuvamsa/Raghuvamsa/raghuvamsha_sarga_03.xlsx\n"
     ]
    }
   ],
   "source": [
    "folder_path = '/kaggle/input/mahakavyas/Raghuvamsa/Raghuvamsa'\n",
    "\n",
    "# List all files in the folder\n",
    "for folder_name in os.listdir(folder_path):\n",
    "    folder_dir = os.path.join(folder_path, folder_name)\n",
    "    print(folder_dir)\n",
    "    df = pd.read_excel(folder_dir)\n",
    "    # Iterate through each row and store it as a list\n",
    "    for index, row in df.iterrows():\n",
    "        t = row.tolist()\n",
    "        texts.append(t)\n",
    "        folder_names.append(folder_name[:-5])\n",
    "df = pd.DataFrame({'Text': texts, 'FolderName': folder_names})"
   ]
  },
  {
   "cell_type": "code",
   "execution_count": 9,
   "id": "c64fe64f",
   "metadata": {
    "execution": {
     "iopub.execute_input": "2023-10-13T08:48:17.051104Z",
     "iopub.status.busy": "2023-10-13T08:48:17.050408Z",
     "iopub.status.idle": "2023-10-13T08:48:17.055035Z",
     "shell.execute_reply": "2023-10-13T08:48:17.053856Z"
    },
    "papermill": {
     "duration": 0.013948,
     "end_time": "2023-10-13T08:48:17.057163",
     "exception": false,
     "start_time": "2023-10-13T08:48:17.043215",
     "status": "completed"
    },
    "tags": []
   },
   "outputs": [],
   "source": [
    "# len(texts)\n",
    "# df.Text[580]\n",
    "# df.FolderName[580]"
   ]
  },
  {
   "cell_type": "code",
   "execution_count": 10,
   "id": "45a0cbba",
   "metadata": {
    "execution": {
     "iopub.execute_input": "2023-10-13T08:48:17.070805Z",
     "iopub.status.busy": "2023-10-13T08:48:17.070444Z",
     "iopub.status.idle": "2023-10-13T08:48:17.123200Z",
     "shell.execute_reply": "2023-10-13T08:48:17.121823Z"
    },
    "papermill": {
     "duration": 0.062187,
     "end_time": "2023-10-13T08:48:17.125433",
     "exception": false,
     "start_time": "2023-10-13T08:48:17.063246",
     "status": "completed"
    },
    "tags": []
   },
   "outputs": [
    {
     "name": "stdout",
     "output_type": "stream",
     "text": [
      "                                                   Text            FolderName\n",
      "0     [स राज्यं गुरुणा दत्तं प्रतिपद्याधिकं बभौ|दिना...  raghuvamsha_sarga_04\n",
      "1     [दिलीपानन्तरं राज्ये तं निशम्य प्रतिष्ठितम्|पू...  raghuvamsha_sarga_04\n",
      "2     [पुरुहूतध्वजस्येव तस्योन्नयनपङ्क्तयः|नवाभ्युत्...  raghuvamsha_sarga_04\n",
      "3     [सममेव समाक्रान्तं द्वयं द्विरदगामिना|तेन सिंह...  raghuvamsha_sarga_04\n",
      "4     [छायामण्डललक्ष्येण तमदृश्या किल स्वयम्|पद्मा प...  raghuvamsha_sarga_04\n",
      "...                                                 ...                   ...\n",
      "1642            [अथ स विषयव्यावृत्तात्मा यथाविधि सूनवे]  raghuvamsha_sarga_03\n",
      "1643  [नृपतिककुदं दत्त्वा यूने सितातपवारणम्|मुनिवनतर...  raghuvamsha_sarga_03\n",
      "1644            [गलितवयसामिक्ष्वाकूणामिदं हि कुलव्रतम्]  raghuvamsha_sarga_03\n",
      "1645    [इति कालिदास कृत रघुवंश महाकाव्ये तृतीयः सर्गः]  raghuvamsha_sarga_03\n",
      "1646                                              [)0(]  raghuvamsha_sarga_03\n",
      "\n",
      "[1647 rows x 2 columns]\n"
     ]
    }
   ],
   "source": [
    "# Define custom functions to process text within a list\n",
    "def process_text(text_list):\n",
    "    processed_text_list = []\n",
    "    for text in text_list:\n",
    "        # Remove newline characters '\\n' and tab characters '\\t'\n",
    "        cleaned_text = text.replace('\\n', '').replace('\\t', '')\n",
    "        cleaned_text = re.sub('[॥.*?॥]|[॥]', '', cleaned_text) # replaces ॥ text ॥ or॥ by a ।\n",
    "        cleaned_text = re.sub('।','',cleaned_text)\n",
    "        cleaned_text = re.sub('१','',cleaned_text)\n",
    "        cleaned_text = re.sub('६','',cleaned_text)\n",
    "        cleaned_text = re.sub('२','',cleaned_text)\n",
    "        cleaned_text = re.sub('३', '',cleaned_text)\n",
    "        cleaned_text = re.sub('४', '',cleaned_text)\n",
    "        cleaned_text = re.sub('o','',cleaned_text)\n",
    "        cleaned_text = re.sub('५', '',cleaned_text)\n",
    "        cleaned_text = re.sub('९', '',cleaned_text)\n",
    "        cleaned_text = re.sub('७', '',cleaned_text)\n",
    "        cleaned_text = re.sub('०', '',cleaned_text)\n",
    "        cleaned_text = re.sub('८', '',cleaned_text)\n",
    "        cleaned_text = re.sub('-', '',cleaned_text)\n",
    "        # Split by '||' and keep only the part before it\n",
    "        cleaned_text = cleaned_text.split('||')[0].strip()\n",
    "        processed_text_list.append(cleaned_text)\n",
    "    return processed_text_list\n",
    "\n",
    "# Apply the custom function to each row of the 'Text' column\n",
    "df['Text'] = df['Text'].apply(process_text)\n",
    "\n",
    "# Display the modified DataFrame\n",
    "print(df)"
   ]
  },
  {
   "cell_type": "code",
   "execution_count": 11,
   "id": "1c9c3825",
   "metadata": {
    "execution": {
     "iopub.execute_input": "2023-10-13T08:48:17.139414Z",
     "iopub.status.busy": "2023-10-13T08:48:17.139040Z",
     "iopub.status.idle": "2023-10-13T08:48:17.153615Z",
     "shell.execute_reply": "2023-10-13T08:48:17.152949Z"
    },
    "papermill": {
     "duration": 0.023771,
     "end_time": "2023-10-13T08:48:17.155457",
     "exception": false,
     "start_time": "2023-10-13T08:48:17.131686",
     "status": "completed"
    },
    "tags": []
   },
   "outputs": [
    {
     "data": {
      "text/html": [
       "<div>\n",
       "<style scoped>\n",
       "    .dataframe tbody tr th:only-of-type {\n",
       "        vertical-align: middle;\n",
       "    }\n",
       "\n",
       "    .dataframe tbody tr th {\n",
       "        vertical-align: top;\n",
       "    }\n",
       "\n",
       "    .dataframe thead th {\n",
       "        text-align: right;\n",
       "    }\n",
       "</style>\n",
       "<table border=\"1\" class=\"dataframe\">\n",
       "  <thead>\n",
       "    <tr style=\"text-align: right;\">\n",
       "      <th></th>\n",
       "      <th>Text</th>\n",
       "      <th>FolderName</th>\n",
       "    </tr>\n",
       "  </thead>\n",
       "  <tbody>\n",
       "    <tr>\n",
       "      <th>0</th>\n",
       "      <td>[स राज्यं गुरुणा दत्तं प्रतिपद्याधिकं बभौ|दिना...</td>\n",
       "      <td>raghuvamsha_sarga_04</td>\n",
       "    </tr>\n",
       "    <tr>\n",
       "      <th>1</th>\n",
       "      <td>[दिलीपानन्तरं राज्ये तं निशम्य प्रतिष्ठितम्|पू...</td>\n",
       "      <td>raghuvamsha_sarga_04</td>\n",
       "    </tr>\n",
       "    <tr>\n",
       "      <th>2</th>\n",
       "      <td>[पुरुहूतध्वजस्येव तस्योन्नयनपङ्क्तयः|नवाभ्युत्...</td>\n",
       "      <td>raghuvamsha_sarga_04</td>\n",
       "    </tr>\n",
       "    <tr>\n",
       "      <th>3</th>\n",
       "      <td>[सममेव समाक्रान्तं द्वयं द्विरदगामिना|तेन सिंह...</td>\n",
       "      <td>raghuvamsha_sarga_04</td>\n",
       "    </tr>\n",
       "    <tr>\n",
       "      <th>4</th>\n",
       "      <td>[छायामण्डललक्ष्येण तमदृश्या किल स्वयम्|पद्मा प...</td>\n",
       "      <td>raghuvamsha_sarga_04</td>\n",
       "    </tr>\n",
       "    <tr>\n",
       "      <th>...</th>\n",
       "      <td>...</td>\n",
       "      <td>...</td>\n",
       "    </tr>\n",
       "    <tr>\n",
       "      <th>1642</th>\n",
       "      <td>[अथ स विषयव्यावृत्तात्मा यथाविधि सूनवे]</td>\n",
       "      <td>raghuvamsha_sarga_03</td>\n",
       "    </tr>\n",
       "    <tr>\n",
       "      <th>1643</th>\n",
       "      <td>[नृपतिककुदं दत्त्वा यूने सितातपवारणम्|मुनिवनतर...</td>\n",
       "      <td>raghuvamsha_sarga_03</td>\n",
       "    </tr>\n",
       "    <tr>\n",
       "      <th>1644</th>\n",
       "      <td>[गलितवयसामिक्ष्वाकूणामिदं हि कुलव्रतम्]</td>\n",
       "      <td>raghuvamsha_sarga_03</td>\n",
       "    </tr>\n",
       "    <tr>\n",
       "      <th>1645</th>\n",
       "      <td>[इति कालिदास कृत रघुवंश महाकाव्ये तृतीयः सर्गः]</td>\n",
       "      <td>raghuvamsha_sarga_03</td>\n",
       "    </tr>\n",
       "    <tr>\n",
       "      <th>1646</th>\n",
       "      <td>[)0(]</td>\n",
       "      <td>raghuvamsha_sarga_03</td>\n",
       "    </tr>\n",
       "  </tbody>\n",
       "</table>\n",
       "<p>1647 rows × 2 columns</p>\n",
       "</div>"
      ],
      "text/plain": [
       "                                                   Text            FolderName\n",
       "0     [स राज्यं गुरुणा दत्तं प्रतिपद्याधिकं बभौ|दिना...  raghuvamsha_sarga_04\n",
       "1     [दिलीपानन्तरं राज्ये तं निशम्य प्रतिष्ठितम्|पू...  raghuvamsha_sarga_04\n",
       "2     [पुरुहूतध्वजस्येव तस्योन्नयनपङ्क्तयः|नवाभ्युत्...  raghuvamsha_sarga_04\n",
       "3     [सममेव समाक्रान्तं द्वयं द्विरदगामिना|तेन सिंह...  raghuvamsha_sarga_04\n",
       "4     [छायामण्डललक्ष्येण तमदृश्या किल स्वयम्|पद्मा प...  raghuvamsha_sarga_04\n",
       "...                                                 ...                   ...\n",
       "1642            [अथ स विषयव्यावृत्तात्मा यथाविधि सूनवे]  raghuvamsha_sarga_03\n",
       "1643  [नृपतिककुदं दत्त्वा यूने सितातपवारणम्|मुनिवनतर...  raghuvamsha_sarga_03\n",
       "1644            [गलितवयसामिक्ष्वाकूणामिदं हि कुलव्रतम्]  raghuvamsha_sarga_03\n",
       "1645    [इति कालिदास कृत रघुवंश महाकाव्ये तृतीयः सर्गः]  raghuvamsha_sarga_03\n",
       "1646                                              [)0(]  raghuvamsha_sarga_03\n",
       "\n",
       "[1647 rows x 2 columns]"
      ]
     },
     "execution_count": 11,
     "metadata": {},
     "output_type": "execute_result"
    }
   ],
   "source": [
    "df"
   ]
  },
  {
   "cell_type": "code",
   "execution_count": 12,
   "id": "b6a8bfd2",
   "metadata": {
    "execution": {
     "iopub.execute_input": "2023-10-13T08:48:17.170477Z",
     "iopub.status.busy": "2023-10-13T08:48:17.169495Z",
     "iopub.status.idle": "2023-10-13T08:48:17.174336Z",
     "shell.execute_reply": "2023-10-13T08:48:17.173206Z"
    },
    "papermill": {
     "duration": 0.014485,
     "end_time": "2023-10-13T08:48:17.176348",
     "exception": false,
     "start_time": "2023-10-13T08:48:17.161863",
     "status": "completed"
    },
    "tags": []
   },
   "outputs": [],
   "source": [
    "# for i in range(len(df)):\n",
    "#     print(df.Text[i])"
   ]
  },
  {
   "cell_type": "code",
   "execution_count": 13,
   "id": "088a33f4",
   "metadata": {
    "execution": {
     "iopub.execute_input": "2023-10-13T08:48:17.191286Z",
     "iopub.status.busy": "2023-10-13T08:48:17.190348Z",
     "iopub.status.idle": "2023-10-13T08:48:17.194705Z",
     "shell.execute_reply": "2023-10-13T08:48:17.193717Z"
    },
    "papermill": {
     "duration": 0.013899,
     "end_time": "2023-10-13T08:48:17.196788",
     "exception": false,
     "start_time": "2023-10-13T08:48:17.182889",
     "status": "completed"
    },
    "tags": []
   },
   "outputs": [],
   "source": [
    "embedding=[]"
   ]
  },
  {
   "cell_type": "code",
   "execution_count": 14,
   "id": "d8d42b8f",
   "metadata": {
    "execution": {
     "iopub.execute_input": "2023-10-13T08:48:17.211511Z",
     "iopub.status.busy": "2023-10-13T08:48:17.211092Z",
     "iopub.status.idle": "2023-10-13T08:50:24.835957Z",
     "shell.execute_reply": "2023-10-13T08:50:24.834842Z"
    },
    "papermill": {
     "duration": 127.635212,
     "end_time": "2023-10-13T08:50:24.838556",
     "exception": false,
     "start_time": "2023-10-13T08:48:17.203344",
     "status": "completed"
    },
    "tags": []
   },
   "outputs": [],
   "source": [
    "for i in range(len(df)):\n",
    "    with torch.no_grad():\n",
    "        t = tokenizer1.encode(df.Text[i][0],max_length=512, padding=True, truncation=True, return_tensors=\"pt\")\n",
    "        model_output = model1.roberta(t).last_hidden_state\n",
    "        model_output = model_output.squeeze()\n",
    "        out = torch.mean(model_output,dim=0)\n",
    "        out_numpy = out.numpy()\n",
    "        embedding.append(out_numpy)"
   ]
  },
  {
   "cell_type": "code",
   "execution_count": 15,
   "id": "f7970f96",
   "metadata": {
    "execution": {
     "iopub.execute_input": "2023-10-13T08:50:24.857572Z",
     "iopub.status.busy": "2023-10-13T08:50:24.857197Z",
     "iopub.status.idle": "2023-10-13T08:50:24.862905Z",
     "shell.execute_reply": "2023-10-13T08:50:24.862127Z"
    },
    "papermill": {
     "duration": 0.015823,
     "end_time": "2023-10-13T08:50:24.864748",
     "exception": false,
     "start_time": "2023-10-13T08:50:24.848925",
     "status": "completed"
    },
    "tags": []
   },
   "outputs": [
    {
     "data": {
      "text/plain": [
       "(768,)"
      ]
     },
     "execution_count": 15,
     "metadata": {},
     "output_type": "execute_result"
    }
   ],
   "source": [
    "embedding[500].shape"
   ]
  },
  {
   "cell_type": "code",
   "execution_count": 16,
   "id": "7cc3d378",
   "metadata": {
    "execution": {
     "iopub.execute_input": "2023-10-13T08:50:24.880075Z",
     "iopub.status.busy": "2023-10-13T08:50:24.879514Z",
     "iopub.status.idle": "2023-10-13T08:50:24.888116Z",
     "shell.execute_reply": "2023-10-13T08:50:24.887307Z"
    },
    "papermill": {
     "duration": 0.018651,
     "end_time": "2023-10-13T08:50:24.890041",
     "exception": false,
     "start_time": "2023-10-13T08:50:24.871390",
     "status": "completed"
    },
    "tags": []
   },
   "outputs": [
    {
     "data": {
      "text/plain": [
       "array([[-0.49682042,  0.54643416, -0.36257288, ..., -2.0129158 ,\n",
       "         0.5384725 , -0.15341996],\n",
       "       [-0.4964474 ,  0.562667  , -0.23860095, ..., -1.924284  ,\n",
       "         0.3026324 ,  0.00743775],\n",
       "       [-0.51012224,  0.55609816, -0.07231776, ..., -1.5105032 ,\n",
       "         0.20279191, -0.3412476 ],\n",
       "       ...,\n",
       "       [-0.6066844 ,  0.5216721 , -0.20911671, ..., -1.9397472 ,\n",
       "        -0.17009619, -0.4296145 ],\n",
       "       [-0.4448474 ,  0.4252232 , -0.02444205, ..., -2.2806392 ,\n",
       "         0.5169363 , -0.2065572 ],\n",
       "       [-0.08540783, -0.15971816,  0.31644854, ..., -2.2567506 ,\n",
       "         0.03538389, -0.3173607 ]], dtype=float32)"
      ]
     },
     "execution_count": 16,
     "metadata": {},
     "output_type": "execute_result"
    }
   ],
   "source": [
    "data= np.array(embedding)\n",
    "data"
   ]
  },
  {
   "cell_type": "code",
   "execution_count": 17,
   "id": "a104301c",
   "metadata": {
    "execution": {
     "iopub.execute_input": "2023-10-13T08:50:24.906048Z",
     "iopub.status.busy": "2023-10-13T08:50:24.905412Z",
     "iopub.status.idle": "2023-10-13T08:50:24.911238Z",
     "shell.execute_reply": "2023-10-13T08:50:24.910432Z"
    },
    "papermill": {
     "duration": 0.016108,
     "end_time": "2023-10-13T08:50:24.913007",
     "exception": false,
     "start_time": "2023-10-13T08:50:24.896899",
     "status": "completed"
    },
    "tags": []
   },
   "outputs": [
    {
     "data": {
      "text/plain": [
       "(1647, 768)"
      ]
     },
     "execution_count": 17,
     "metadata": {},
     "output_type": "execute_result"
    }
   ],
   "source": [
    "data.shape"
   ]
  },
  {
   "cell_type": "markdown",
   "id": "93fc003c",
   "metadata": {
    "papermill": {
     "duration": 0.006488,
     "end_time": "2023-10-13T08:50:24.926378",
     "exception": false,
     "start_time": "2023-10-13T08:50:24.919890",
     "status": "completed"
    },
    "tags": []
   },
   "source": [
    "# t-SNE Visualization"
   ]
  },
  {
   "cell_type": "code",
   "execution_count": 18,
   "id": "1d16129a",
   "metadata": {
    "execution": {
     "iopub.execute_input": "2023-10-13T08:50:24.942046Z",
     "iopub.status.busy": "2023-10-13T08:50:24.941319Z",
     "iopub.status.idle": "2023-10-13T08:50:25.262286Z",
     "shell.execute_reply": "2023-10-13T08:50:25.261383Z"
    },
    "papermill": {
     "duration": 0.331506,
     "end_time": "2023-10-13T08:50:25.264692",
     "exception": false,
     "start_time": "2023-10-13T08:50:24.933186",
     "status": "completed"
    },
    "tags": []
   },
   "outputs": [],
   "source": [
    "import numpy as np\n",
    "import matplotlib.pyplot as plt\n",
    "from sklearn.manifold import TSNE\n",
    "from sklearn.preprocessing import StandardScaler"
   ]
  },
  {
   "cell_type": "code",
   "execution_count": 19,
   "id": "4d85d21c",
   "metadata": {
    "execution": {
     "iopub.execute_input": "2023-10-13T08:50:25.280586Z",
     "iopub.status.busy": "2023-10-13T08:50:25.279577Z",
     "iopub.status.idle": "2023-10-13T08:50:28.445795Z",
     "shell.execute_reply": "2023-10-13T08:50:28.444826Z"
    },
    "papermill": {
     "duration": 3.176397,
     "end_time": "2023-10-13T08:50:28.448186",
     "exception": false,
     "start_time": "2023-10-13T08:50:25.271789",
     "status": "completed"
    },
    "tags": []
   },
   "outputs": [],
   "source": [
    "# Create a t-SNE object\n",
    "tsne = TSNE(n_components=2, perplexity=30, n_iter=300, random_state=0)\n",
    "\n",
    "# Apply t-SNE to the scaled data\n",
    "tsne_result = tsne.fit_transform(data)"
   ]
  },
  {
   "cell_type": "code",
   "execution_count": 20,
   "id": "fe48b2bd",
   "metadata": {
    "execution": {
     "iopub.execute_input": "2023-10-13T08:50:28.463922Z",
     "iopub.status.busy": "2023-10-13T08:50:28.463497Z",
     "iopub.status.idle": "2023-10-13T08:50:28.810109Z",
     "shell.execute_reply": "2023-10-13T08:50:28.809057Z"
    },
    "papermill": {
     "duration": 0.357939,
     "end_time": "2023-10-13T08:50:28.813169",
     "exception": false,
     "start_time": "2023-10-13T08:50:28.455230",
     "status": "completed"
    },
    "tags": []
   },
   "outputs": [
    {
     "data": {
      "image/png": "[encoded data removed]",
      "text/plain": [
       "<Figure size 800x600 with 1 Axes>"
      ]
     },
     "metadata": {},
     "output_type": "display_data"
    }
   ],
   "source": [
    "# Create a scatter plot of the t-SNE results\n",
    "plt.figure(figsize=(8, 6))\n",
    "plt.scatter(tsne_result[:, 0], tsne_result[:, 1], marker='o', c='b', alpha=0.7)\n",
    "plt.title('t-SNE Visualization')\n",
    "plt.xlabel('Dimension 1')\n",
    "plt.ylabel('Dimension 2')\n",
    "plt.show()"
   ]
  },
  {
   "cell_type": "code",
   "execution_count": 21,
   "id": "1ad93c62",
   "metadata": {
    "execution": {
     "iopub.execute_input": "2023-10-13T08:50:28.834276Z",
     "iopub.status.busy": "2023-10-13T08:50:28.833322Z",
     "iopub.status.idle": "2023-10-13T08:50:49.051801Z",
     "shell.execute_reply": "2023-10-13T08:50:49.050174Z"
    },
    "papermill": {
     "duration": 20.232625,
     "end_time": "2023-10-13T08:50:49.055600",
     "exception": false,
     "start_time": "2023-10-13T08:50:28.822975",
     "status": "completed"
    },
    "tags": []
   },
   "outputs": [
    {
     "data": {
      "image/png": "[encoded data removed]",
      "text/plain": [
       "<Figure size 1000x500 with 2 Axes>"
      ]
     },
     "metadata": {},
     "output_type": "display_data"
    },
    {
     "name": "stdout",
     "output_type": "stream",
     "text": [
      "Silhouette Score for 3 clusters: 0.016946803778409958\n"
     ]
    }
   ],
   "source": [
    "import numpy as np\n",
    "from sklearn.cluster import KMeans\n",
    "from sklearn.decomposition import PCA\n",
    "from sklearn.preprocessing import StandardScaler\n",
    "import matplotlib.pyplot as plt\n",
    "from sklearn.metrics import silhouette_score\n",
    "\n",
    "# Generate random data for demonstration (replace with your data)\n",
    "np.random.seed(0)\n",
    "#data = np.random.rand(95, 768)\n",
    "\n",
    "# Step 1: Dimensionality Reduction (PCA)\n",
    "n_components = 50  # Adjust the number of components as needed\n",
    "pca = PCA(n_components=n_components)\n",
    "data_pca = pca.fit_transform(data)\n",
    "\n",
    "# Step 2: Feature Scaling\n",
    "scaler = StandardScaler()\n",
    "data_scaled = scaler.fit_transform(data_pca)\n",
    "\n",
    "# Step 3: Choosing the Number of Clusters (k)\n",
    "k_values = range(2, 33)\n",
    "inertia_values = []\n",
    "silhouette_scores = []\n",
    "\n",
    "for k in k_values:\n",
    "    kmeans = KMeans(n_clusters=k, random_state=0)\n",
    "    kmeans.fit(data_scaled)\n",
    "    inertia_values.append(kmeans.inertia_)\n",
    "    silhouette_scores.append(silhouette_score(data_scaled, kmeans.labels_))\n",
    "\n",
    "# Plot the Elbow Method to choose k\n",
    "plt.figure(figsize=(10, 5))\n",
    "plt.subplot(1, 2, 1)\n",
    "plt.plot(k_values, inertia_values, marker='o')\n",
    "plt.xlabel('Number of Clusters (k)')\n",
    "plt.ylabel('Inertia')\n",
    "plt.title('Elbow Method')\n",
    "\n",
    "# Plot Silhouette Scores\n",
    "plt.subplot(1, 2, 2)\n",
    "plt.plot(k_values, silhouette_scores, marker='o')\n",
    "plt.xlabel('Number of Clusters (k)')\n",
    "plt.ylabel('Silhouette Score')\n",
    "plt.title('Silhouette Score Method')\n",
    "\n",
    "plt.tight_layout()\n",
    "plt.show()\n",
    "\n",
    "# Based on the plots, choose an appropriate value of k\n",
    "\n",
    "# Step 4: K-means clustering with chosen k\n",
    "chosen_k = 3  # Replace with your chosen k\n",
    "kmeans = KMeans(n_clusters=chosen_k, random_state=0)\n",
    "kmeans.fit(data_scaled)\n",
    "\n",
    "# Step 5: Evaluate the Results (Silhouette Score)\n",
    "silhouette_avg = silhouette_score(data_scaled, kmeans.labels_)\n",
    "print(f\"Silhouette Score for {chosen_k} clusters: {silhouette_avg}\")"
   ]
  },
  {
   "cell_type": "code",
   "execution_count": null,
   "id": "c3fc8870",
   "metadata": {
    "papermill": {
     "duration": 0.024223,
     "end_time": "2023-10-13T08:50:49.106882",
     "exception": false,
     "start_time": "2023-10-13T08:50:49.082659",
     "status": "completed"
    },
    "tags": []
   },
   "outputs": [],
   "source": []
  }
 ],
 "metadata": {
  "kernelspec": {
   "display_name": "Python 3 (ipykernel)",
   "language": "python",
   "name": "python3"
  },
  "language_info": {
   "codemirror_mode": {
    "name": "ipython",
    "version": 3
   },
   "file_extension": ".py",
   "mimetype": "text/x-python",
   "name": "python",
   "nbconvert_exporter": "python",
   "pygments_lexer": "ipython3",
   "version": "3.11.4"
  },
  "papermill": {
   "default_parameters": {},
   "duration": 210.337752,
   "end_time": "2023-10-13T08:50:52.591212",
   "environment_variables": {},
   "exception": null,
   "input_path": "__notebook__.ipynb",
   "output_path": "__notebook__.ipynb",
   "parameters": {},
   "start_time": "2023-10-13T08:47:22.253460",
   "version": "2.4.0"
  },
  "widgets": {
   "application/vnd.jupyter.widget-state+json": {
    "state": {
     "038461e97527414fa7df8d34d84577e0": {
      "model_module": "@jupyter-widgets/controls",
      "model_module_version": "1.5.0",
      "model_name": "DescriptionStyleModel",
      "state": {
       "_model_module": "@jupyter-widgets/controls",
       "_model_module_version": "1.5.0",
       "_model_name": "DescriptionStyleModel",
       "_view_count": null,
       "_view_module": "@jupyter-widgets/base",
       "_view_module_version": "1.2.0",
       "_view_name": "StyleView",
       "description_width": ""
      }
     },
     "04f3673d332241c6beae37d8c7e6b8e3": {
      "model_module": "@jupyter-widgets/controls",
      "model_module_version": "1.5.0",
      "model_name": "ProgressStyleModel",
      "state": {
       "_model_module": "@jupyter-widgets/controls",
       "_model_module_version": "1.5.0",
       "_model_name": "ProgressStyleModel",
       "_view_count": null,
       "_view_module": "@jupyter-widgets/base",
       "_view_module_version": "1.2.0",
       "_view_name": "StyleView",
       "bar_color": null,
       "description_width": ""
      }
     },
     "0ab7221138f24115962c0707aedcaf85": {
      "model_module": "@jupyter-widgets/base",
      "model_module_version": "1.2.0",
      "model_name": "LayoutModel",
      "state": {
       "_model_module": "@jupyter-widgets/base",
       "_model_module_version": "1.2.0",
       "_model_name": "LayoutModel",
       "_view_count": null,
       "_view_module": "@jupyter-widgets/base",
       "_view_module_version": "1.2.0",
       "_view_name": "LayoutView",
       "align_content": null,
       "align_items": null,
       "align_self": null,
       "border": null,
       "bottom": null,
       "display": null,
       "flex": null,
       "flex_flow": null,
       "grid_area": null,
       "grid_auto_columns": null,
       "grid_auto_flow": null,
       "grid_auto_rows": null,
       "grid_column": null,
       "grid_gap": null,
       "grid_row": null,
       "grid_template_areas": null,
       "grid_template_columns": null,
       "grid_template_rows": null,
       "height": null,
       "justify_content": null,
       "justify_items": null,
       "left": null,
       "margin": null,
       "max_height": null,
       "max_width": null,
       "min_height": null,
       "min_width": null,
       "object_fit": null,
       "object_position": null,
       "order": null,
       "overflow": null,
       "overflow_x": null,
       "overflow_y": null,
       "padding": null,
       "right": null,
       "top": null,
       "visibility": null,
       "width": null
      }
     },
     "150fc09a702d40958d4cfc80374fb874": {
      "model_module": "@jupyter-widgets/controls",
      "model_module_version": "1.5.0",
      "model_name": "HTMLModel",
      "state": {
       "_dom_classes": [],
       "_model_module": "@jupyter-widgets/controls",
       "_model_module_version": "1.5.0",
       "_model_name": "HTMLModel",
       "_view_count": null,
       "_view_module": "@jupyter-widgets/controls",
       "_view_module_version": "1.5.0",
       "_view_name": "HTMLView",
       "description": "",
       "description_tooltip": null,
       "layout": "IPY_MODEL_1cda3ad70894483eb4a96dfa798be9e6",
       "placeholder": "​",
       "style": "IPY_MODEL_038461e97527414fa7df8d34d84577e0",
       "value": " 729/729 [00:00&lt;00:00, 40.1kB/s]"
      }
     },
     "1aaa419094914710a6681de8f9d24d9c": {
      "model_module": "@jupyter-widgets/controls",
      "model_module_version": "1.5.0",
      "model_name": "ProgressStyleModel",
      "state": {
       "_model_module": "@jupyter-widgets/controls",
       "_model_module_version": "1.5.0",
       "_model_name": "ProgressStyleModel",
       "_view_count": null,
       "_view_module": "@jupyter-widgets/base",
       "_view_module_version": "1.2.0",
       "_view_name": "StyleView",
       "bar_color": null,
       "description_width": ""
      }
     },
     "1cda3ad70894483eb4a96dfa798be9e6": {
      "model_module": "@jupyter-widgets/base",
      "model_module_version": "1.2.0",
      "model_name": "LayoutModel",
      "state": {
       "_model_module": "@jupyter-widgets/base",
       "_model_module_version": "1.2.0",
       "_model_name": "LayoutModel",
       "_view_count": null,
       "_view_module": "@jupyter-widgets/base",
       "_view_module_version": "1.2.0",
       "_view_name": "LayoutView",
       "align_content": null,
       "align_items": null,
       "align_self": null,
       "border": null,
       "bottom": null,
       "display": null,
       "flex": null,
       "flex_flow": null,
       "grid_area": null,
       "grid_auto_columns": null,
       "grid_auto_flow": null,
       "grid_auto_rows": null,
       "grid_column": null,
       "grid_gap": null,
       "grid_row": null,
       "grid_template_areas": null,
       "grid_template_columns": null,
       "grid_template_rows": null,
       "height": null,
       "justify_content": null,
       "justify_items": null,
       "left": null,
       "margin": null,
       "max_height": null,
       "max_width": null,
       "min_height": null,
       "min_width": null,
       "object_fit": null,
       "object_position": null,
       "order": null,
       "overflow": null,
       "overflow_x": null,
       "overflow_y": null,
       "padding": null,
       "right": null,
       "top": null,
       "visibility": null,
       "width": null
      }
     },
     "1d0a8723d9d34ca1b9ccfae3850798b2": {
      "model_module": "@jupyter-widgets/base",
      "model_module_version": "1.2.0",
      "model_name": "LayoutModel",
      "state": {
       "_model_module": "@jupyter-widgets/base",
       "_model_module_version": "1.2.0",
       "_model_name": "LayoutModel",
       "_view_count": null,
       "_view_module": "@jupyter-widgets/base",
       "_view_module_version": "1.2.0",
       "_view_name": "LayoutView",
       "align_content": null,
       "align_items": null,
       "align_self": null,
       "border": null,
       "bottom": null,
       "display": null,
       "flex": null,
       "flex_flow": null,
       "grid_area": null,
       "grid_auto_columns": null,
       "grid_auto_flow": null,
       "grid_auto_rows": null,
       "grid_column": null,
       "grid_gap": null,
       "grid_row": null,
       "grid_template_areas": null,
       "grid_template_columns": null,
       "grid_template_rows": null,
       "height": null,
       "justify_content": null,
       "justify_items": null,
       "left": null,
       "margin": null,
       "max_height": null,
       "max_width": null,
       "min_height": null,
       "min_width": null,
       "object_fit": null,
       "object_position": null,
       "order": null,
       "overflow": null,
       "overflow_x": null,
       "overflow_y": null,
       "padding": null,
       "right": null,
       "top": null,
       "visibility": null,
       "width": null
      }
     },
     "23b854e621c041bfa9614d7b191b6a80": {
      "model_module": "@jupyter-widgets/controls",
      "model_module_version": "1.5.0",
      "model_name": "DescriptionStyleModel",
      "state": {
       "_model_module": "@jupyter-widgets/controls",
       "_model_module_version": "1.5.0",
       "_model_name": "DescriptionStyleModel",
       "_view_count": null,
       "_view_module": "@jupyter-widgets/base",
       "_view_module_version": "1.2.0",
       "_view_name": "StyleView",
       "description_width": ""
      }
     },
     "2e6b176e5e754a3084417b7d2211b746": {
      "model_module": "@jupyter-widgets/base",
      "model_module_version": "1.2.0",
      "model_name": "LayoutModel",
      "state": {
       "_model_module": "@jupyter-widgets/base",
       "_model_module_version": "1.2.0",
       "_model_name": "LayoutModel",
       "_view_count": null,
       "_view_module": "@jupyter-widgets/base",
       "_view_module_version": "1.2.0",
       "_view_name": "LayoutView",
       "align_content": null,
       "align_items": null,
       "align_self": null,
       "border": null,
       "bottom": null,
       "display": null,
       "flex": null,
       "flex_flow": null,
       "grid_area": null,
       "grid_auto_columns": null,
       "grid_auto_flow": null,
       "grid_auto_rows": null,
       "grid_column": null,
       "grid_gap": null,
       "grid_row": null,
       "grid_template_areas": null,
       "grid_template_columns": null,
       "grid_template_rows": null,
       "height": null,
       "justify_content": null,
       "justify_items": null,
       "left": null,
       "margin": null,
       "max_height": null,
       "max_width": null,
       "min_height": null,
       "min_width": null,
       "object_fit": null,
       "object_position": null,
       "order": null,
       "overflow": null,
       "overflow_x": null,
       "overflow_y": null,
       "padding": null,
       "right": null,
       "top": null,
       "visibility": null,
       "width": null
      }
     },
     "31fbb5df330e418b93075793577f64b3": {
      "model_module": "@jupyter-widgets/controls",
      "model_module_version": "1.5.0",
      "model_name": "FloatProgressModel",
      "state": {
       "_dom_classes": [],
       "_model_module": "@jupyter-widgets/controls",
       "_model_module_version": "1.5.0",
       "_model_name": "FloatProgressModel",
       "_view_count": null,
       "_view_module": "@jupyter-widgets/controls",
       "_view_module_version": "1.5.0",
       "_view_name": "ProgressView",
       "bar_style": "success",
       "description": "",
       "description_tooltip": null,
       "layout": "IPY_MODEL_e3d6020718a04c60b9e5a97a7a11fc8b",
       "max": 594261,
       "min": 0,
       "orientation": "horizontal",
       "style": "IPY_MODEL_04f3673d332241c6beae37d8c7e6b8e3",
       "value": 594261
      }
     },
     "3e0edd5b2e7440efa4203a97316217af": {
      "model_module": "@jupyter-widgets/controls",
      "model_module_version": "1.5.0",
      "model_name": "ProgressStyleModel",
      "state": {
       "_model_module": "@jupyter-widgets/controls",
       "_model_module_version": "1.5.0",
       "_model_name": "ProgressStyleModel",
       "_view_count": null,
       "_view_module": "@jupyter-widgets/base",
       "_view_module_version": "1.2.0",
       "_view_name": "StyleView",
       "bar_color": null,
       "description_width": ""
      }
     },
     "3ef37db1d4e24dfb8e683075608f59c5": {
      "model_module": "@jupyter-widgets/controls",
      "model_module_version": "1.5.0",
      "model_name": "DescriptionStyleModel",
      "state": {
       "_model_module": "@jupyter-widgets/controls",
       "_model_module_version": "1.5.0",
       "_model_name": "DescriptionStyleModel",
       "_view_count": null,
       "_view_module": "@jupyter-widgets/base",
       "_view_module_version": "1.2.0",
       "_view_name": "StyleView",
       "description_width": ""
      }
     },
     "3f41036093f14748a59b2cb00a839943": {
      "model_module": "@jupyter-widgets/controls",
      "model_module_version": "1.5.0",
      "model_name": "FloatProgressModel",
      "state": {
       "_dom_classes": [],
       "_model_module": "@jupyter-widgets/controls",
       "_model_module_version": "1.5.0",
       "_model_name": "FloatProgressModel",
       "_view_count": null,
       "_view_module": "@jupyter-widgets/controls",
       "_view_module_version": "1.5.0",
       "_view_name": "ProgressView",
       "bar_style": "success",
       "description": "",
       "description_tooltip": null,
       "layout": "IPY_MODEL_d348e65975d84adda22b9ddfe1690368",
       "max": 957,
       "min": 0,
       "orientation": "horizontal",
       "style": "IPY_MODEL_987159c9350044ff81a2e89ae9006aa7",
       "value": 957
      }
     },
     "3f9f9f129b9b45749d00d180b47b193d": {
      "model_module": "@jupyter-widgets/controls",
      "model_module_version": "1.5.0",
      "model_name": "DescriptionStyleModel",
      "state": {
       "_model_module": "@jupyter-widgets/controls",
       "_model_module_version": "1.5.0",
       "_model_name": "DescriptionStyleModel",
       "_view_count": null,
       "_view_module": "@jupyter-widgets/base",
       "_view_module_version": "1.2.0",
       "_view_name": "StyleView",
       "description_width": ""
      }
     },
     "40167f267acc4ea8a6b48d7c95e01e5c": {
      "model_module": "@jupyter-widgets/controls",
      "model_module_version": "1.5.0",
      "model_name": "HTMLModel",
      "state": {
       "_dom_classes": [],
       "_model_module": "@jupyter-widgets/controls",
       "_model_module_version": "1.5.0",
       "_model_name": "HTMLModel",
       "_view_count": null,
       "_view_module": "@jupyter-widgets/controls",
       "_view_module_version": "1.5.0",
       "_view_name": "HTMLView",
       "description": "",
       "description_tooltip": null,
       "layout": "IPY_MODEL_0ab7221138f24115962c0707aedcaf85",
       "placeholder": "​",
       "style": "IPY_MODEL_d88f9b53cba44570b7d43efd545ee22c",
       "value": "Downloading pytorch_model.bin: 100%"
      }
     },
     "4105e5fb7a0d4dff9948cf342724cc24": {
      "model_module": "@jupyter-widgets/controls",
      "model_module_version": "1.5.0",
      "model_name": "HBoxModel",
      "state": {
       "_dom_classes": [],
       "_model_module": "@jupyter-widgets/controls",
       "_model_module_version": "1.5.0",
       "_model_name": "HBoxModel",
       "_view_count": null,
       "_view_module": "@jupyter-widgets/controls",
       "_view_module_version": "1.5.0",
       "_view_name": "HBoxView",
       "box_style": "",
       "children": [
        "IPY_MODEL_817e6f08bcf54ef2bb98478d44c89e6c",
        "IPY_MODEL_c7842f8082634d798c17f7fe9fb114f4",
        "IPY_MODEL_150fc09a702d40958d4cfc80374fb874"
       ],
       "layout": "IPY_MODEL_c6e507b7b4784449be8e7bcb29d0ad52"
      }
     },
     "4840e12642c245129c9646f73c3e921f": {
      "model_module": "@jupyter-widgets/base",
      "model_module_version": "1.2.0",
      "model_name": "LayoutModel",
      "state": {
       "_model_module": "@jupyter-widgets/base",
       "_model_module_version": "1.2.0",
       "_model_name": "LayoutModel",
       "_view_count": null,
       "_view_module": "@jupyter-widgets/base",
       "_view_module_version": "1.2.0",
       "_view_name": "LayoutView",
       "align_content": null,
       "align_items": null,
       "align_self": null,
       "border": null,
       "bottom": null,
       "display": null,
       "flex": null,
       "flex_flow": null,
       "grid_area": null,
       "grid_auto_columns": null,
       "grid_auto_flow": null,
       "grid_auto_rows": null,
       "grid_column": null,
       "grid_gap": null,
       "grid_row": null,
       "grid_template_areas": null,
       "grid_template_columns": null,
       "grid_template_rows": null,
       "height": null,
       "justify_content": null,
       "justify_items": null,
       "left": null,
       "margin": null,
       "max_height": null,
       "max_width": null,
       "min_height": null,
       "min_width": null,
       "object_fit": null,
       "object_position": null,
       "order": null,
       "overflow": null,
       "overflow_x": null,
       "overflow_y": null,
       "padding": null,
       "right": null,
       "top": null,
       "visibility": null,
       "width": null
      }
     },
     "4c7ae73ebcc148b096cd9f5c7a7aedfc": {
      "model_module": "@jupyter-widgets/controls",
      "model_module_version": "1.5.0",
      "model_name": "FloatProgressModel",
      "state": {
       "_dom_classes": [],
       "_model_module": "@jupyter-widgets/controls",
       "_model_module_version": "1.5.0",
       "_model_name": "FloatProgressModel",
       "_view_count": null,
       "_view_module": "@jupyter-widgets/controls",
       "_view_module_version": "1.5.0",
       "_view_name": "ProgressView",
       "bar_style": "success",
       "description": "",
       "description_tooltip": null,
       "layout": "IPY_MODEL_889bf23c9c7644f6939e76395c866aac",
       "max": 267986037,
       "min": 0,
       "orientation": "horizontal",
       "style": "IPY_MODEL_5156f321a08e4db8b2eb2444925f16f7",
       "value": 267986037
      }
     },
     "4f62a0bf12b4416abcaf5314c3a4900d": {
      "model_module": "@jupyter-widgets/controls",
      "model_module_version": "1.5.0",
      "model_name": "HTMLModel",
      "state": {
       "_dom_classes": [],
       "_model_module": "@jupyter-widgets/controls",
       "_model_module_version": "1.5.0",
       "_model_name": "HTMLModel",
       "_view_count": null,
       "_view_module": "@jupyter-widgets/controls",
       "_view_module_version": "1.5.0",
       "_view_name": "HTMLView",
       "description": "",
       "description_tooltip": null,
       "layout": "IPY_MODEL_f25a79f78a894ce1bc4cc047fbe52298",
       "placeholder": "​",
       "style": "IPY_MODEL_707bfef2273d4366869604d9bbfb0764",
       "value": " 1.36k/1.36k [00:00&lt;00:00, 109kB/s]"
      }
     },
     "5156f321a08e4db8b2eb2444925f16f7": {
      "model_module": "@jupyter-widgets/controls",
      "model_module_version": "1.5.0",
      "model_name": "ProgressStyleModel",
      "state": {
       "_model_module": "@jupyter-widgets/controls",
       "_model_module_version": "1.5.0",
       "_model_name": "ProgressStyleModel",
       "_view_count": null,
       "_view_module": "@jupyter-widgets/base",
       "_view_module_version": "1.2.0",
       "_view_name": "StyleView",
       "bar_color": null,
       "description_width": ""
      }
     },
     "52fe0398d6bd480498c018e3197f4369": {
      "model_module": "@jupyter-widgets/controls",
      "model_module_version": "1.5.0",
      "model_name": "DescriptionStyleModel",
      "state": {
       "_model_module": "@jupyter-widgets/controls",
       "_model_module_version": "1.5.0",
       "_model_name": "DescriptionStyleModel",
       "_view_count": null,
       "_view_module": "@jupyter-widgets/base",
       "_view_module_version": "1.2.0",
       "_view_name": "StyleView",
       "description_width": ""
      }
     },
     "5950395225cc4089a18b13c15b1a924f": {
      "model_module": "@jupyter-widgets/base",
      "model_module_version": "1.2.0",
      "model_name": "LayoutModel",
      "state": {
       "_model_module": "@jupyter-widgets/base",
       "_model_module_version": "1.2.0",
       "_model_name": "LayoutModel",
       "_view_count": null,
       "_view_module": "@jupyter-widgets/base",
       "_view_module_version": "1.2.0",
       "_view_name": "LayoutView",
       "align_content": null,
       "align_items": null,
       "align_self": null,
       "border": null,
       "bottom": null,
       "display": null,
       "flex": null,
       "flex_flow": null,
       "grid_area": null,
       "grid_auto_columns": null,
       "grid_auto_flow": null,
       "grid_auto_rows": null,
       "grid_column": null,
       "grid_gap": null,
       "grid_row": null,
       "grid_template_areas": null,
       "grid_template_columns": null,
       "grid_template_rows": null,
       "height": null,
       "justify_content": null,
       "justify_items": null,
       "left": null,
       "margin": null,
       "max_height": null,
       "max_width": null,
       "min_height": null,
       "min_width": null,
       "object_fit": null,
       "object_position": null,
       "order": null,
       "overflow": null,
       "overflow_x": null,
       "overflow_y": null,
       "padding": null,
       "right": null,
       "top": null,
       "visibility": null,
       "width": null
      }
     },
     "5e918b07058a48c088d0b86f284202fc": {
      "model_module": "@jupyter-widgets/base",
      "model_module_version": "1.2.0",
      "model_name": "LayoutModel",
      "state": {
       "_model_module": "@jupyter-widgets/base",
       "_model_module_version": "1.2.0",
       "_model_name": "LayoutModel",
       "_view_count": null,
       "_view_module": "@jupyter-widgets/base",
       "_view_module_version": "1.2.0",
       "_view_name": "LayoutView",
       "align_content": null,
       "align_items": null,
       "align_self": null,
       "border": null,
       "bottom": null,
       "display": null,
       "flex": null,
       "flex_flow": null,
       "grid_area": null,
       "grid_auto_columns": null,
       "grid_auto_flow": null,
       "grid_auto_rows": null,
       "grid_column": null,
       "grid_gap": null,
       "grid_row": null,
       "grid_template_areas": null,
       "grid_template_columns": null,
       "grid_template_rows": null,
       "height": null,
       "justify_content": null,
       "justify_items": null,
       "left": null,
       "margin": null,
       "max_height": null,
       "max_width": null,
       "min_height": null,
       "min_width": null,
       "object_fit": null,
       "object_position": null,
       "order": null,
       "overflow": null,
       "overflow_x": null,
       "overflow_y": null,
       "padding": null,
       "right": null,
       "top": null,
       "visibility": null,
       "width": null
      }
     },
     "5f4dd5b0a3c247ad81666b24bde40c56": {
      "model_module": "@jupyter-widgets/controls",
      "model_module_version": "1.5.0",
      "model_name": "DescriptionStyleModel",
      "state": {
       "_model_module": "@jupyter-widgets/controls",
       "_model_module_version": "1.5.0",
       "_model_name": "DescriptionStyleModel",
       "_view_count": null,
       "_view_module": "@jupyter-widgets/base",
       "_view_module_version": "1.2.0",
       "_view_name": "StyleView",
       "description_width": ""
      }
     },
     "5fb897bddc9946d59ce85a550994826b": {
      "model_module": "@jupyter-widgets/base",
      "model_module_version": "1.2.0",
      "model_name": "LayoutModel",
      "state": {
       "_model_module": "@jupyter-widgets/base",
       "_model_module_version": "1.2.0",
       "_model_name": "LayoutModel",
       "_view_count": null,
       "_view_module": "@jupyter-widgets/base",
       "_view_module_version": "1.2.0",
       "_view_name": "LayoutView",
       "align_content": null,
       "align_items": null,
       "align_self": null,
       "border": null,
       "bottom": null,
       "display": null,
       "flex": null,
       "flex_flow": null,
       "grid_area": null,
       "grid_auto_columns": null,
       "grid_auto_flow": null,
       "grid_auto_rows": null,
       "grid_column": null,
       "grid_gap": null,
       "grid_row": null,
       "grid_template_areas": null,
       "grid_template_columns": null,
       "grid_template_rows": null,
       "height": null,
       "justify_content": null,
       "justify_items": null,
       "left": null,
       "margin": null,
       "max_height": null,
       "max_width": null,
       "min_height": null,
       "min_width": null,
       "object_fit": null,
       "object_position": null,
       "order": null,
       "overflow": null,
       "overflow_x": null,
       "overflow_y": null,
       "padding": null,
       "right": null,
       "top": null,
       "visibility": null,
       "width": null
      }
     },
     "60c4f10dbeb640d1bc892afe74c06499": {
      "model_module": "@jupyter-widgets/controls",
      "model_module_version": "1.5.0",
      "model_name": "FloatProgressModel",
      "state": {
       "_dom_classes": [],
       "_model_module": "@jupyter-widgets/controls",
       "_model_module_version": "1.5.0",
       "_model_name": "FloatProgressModel",
       "_view_count": null,
       "_view_module": "@jupyter-widgets/controls",
       "_view_module_version": "1.5.0",
       "_view_name": "ProgressView",
       "bar_style": "success",
       "description": "",
       "description_tooltip": null,
       "layout": "IPY_MODEL_9592ed4decfa4b679483b631ed50d237",
       "max": 1365,
       "min": 0,
       "orientation": "horizontal",
       "style": "IPY_MODEL_1aaa419094914710a6681de8f9d24d9c",
       "value": 1365
      }
     },
     "67c9352cbd8b4a65b4153a95bc2098f2": {
      "model_module": "@jupyter-widgets/controls",
      "model_module_version": "1.5.0",
      "model_name": "HTMLModel",
      "state": {
       "_dom_classes": [],
       "_model_module": "@jupyter-widgets/controls",
       "_model_module_version": "1.5.0",
       "_model_name": "HTMLModel",
       "_view_count": null,
       "_view_module": "@jupyter-widgets/controls",
       "_view_module_version": "1.5.0",
       "_view_name": "HTMLView",
       "description": "",
       "description_tooltip": null,
       "layout": "IPY_MODEL_c43db09a052d41528513227b02e3e2f0",
       "placeholder": "​",
       "style": "IPY_MODEL_3ef37db1d4e24dfb8e683075608f59c5",
       "value": " 1.91M/1.91M [00:00&lt;00:00, 5.84MB/s]"
      }
     },
     "6b259ed6865c4c1ea8569793b7319c67": {
      "model_module": "@jupyter-widgets/base",
      "model_module_version": "1.2.0",
      "model_name": "LayoutModel",
      "state": {
       "_model_module": "@jupyter-widgets/base",
       "_model_module_version": "1.2.0",
       "_model_name": "LayoutModel",
       "_view_count": null,
       "_view_module": "@jupyter-widgets/base",
       "_view_module_version": "1.2.0",
       "_view_name": "LayoutView",
       "align_content": null,
       "align_items": null,
       "align_self": null,
       "border": null,
       "bottom": null,
       "display": null,
       "flex": null,
       "flex_flow": null,
       "grid_area": null,
       "grid_auto_columns": null,
       "grid_auto_flow": null,
       "grid_auto_rows": null,
       "grid_column": null,
       "grid_gap": null,
       "grid_row": null,
       "grid_template_areas": null,
       "grid_template_columns": null,
       "grid_template_rows": null,
       "height": null,
       "justify_content": null,
       "justify_items": null,
       "left": null,
       "margin": null,
       "max_height": null,
       "max_width": null,
       "min_height": null,
       "min_width": null,
       "object_fit": null,
       "object_position": null,
       "order": null,
       "overflow": null,
       "overflow_x": null,
       "overflow_y": null,
       "padding": null,
       "right": null,
       "top": null,
       "visibility": null,
       "width": null
      }
     },
     "6f177a500e8a4b7e8f868da53a9a9698": {
      "model_module": "@jupyter-widgets/controls",
      "model_module_version": "1.5.0",
      "model_name": "HTMLModel",
      "state": {
       "_dom_classes": [],
       "_model_module": "@jupyter-widgets/controls",
       "_model_module_version": "1.5.0",
       "_model_name": "HTMLModel",
       "_view_count": null,
       "_view_module": "@jupyter-widgets/controls",
       "_view_module_version": "1.5.0",
       "_view_name": "HTMLView",
       "description": "",
       "description_tooltip": null,
       "layout": "IPY_MODEL_1d0a8723d9d34ca1b9ccfae3850798b2",
       "placeholder": "​",
       "style": "IPY_MODEL_faf46f4ec0f94a9c9b71c14b71536b3a",
       "value": " 594k/594k [00:00&lt;00:00, 2.43MB/s]"
      }
     },
     "6f3045c4cbae445f80fdeffa60c34e23": {
      "model_module": "@jupyter-widgets/controls",
      "model_module_version": "1.5.0",
      "model_name": "ProgressStyleModel",
      "state": {
       "_model_module": "@jupyter-widgets/controls",
       "_model_module_version": "1.5.0",
       "_model_name": "ProgressStyleModel",
       "_view_count": null,
       "_view_module": "@jupyter-widgets/base",
       "_view_module_version": "1.2.0",
       "_view_name": "StyleView",
       "bar_color": null,
       "description_width": ""
      }
     },
     "6f7f73905b894b77aad3adde75c11399": {
      "model_module": "@jupyter-widgets/controls",
      "model_module_version": "1.5.0",
      "model_name": "DescriptionStyleModel",
      "state": {
       "_model_module": "@jupyter-widgets/controls",
       "_model_module_version": "1.5.0",
       "_model_name": "DescriptionStyleModel",
       "_view_count": null,
       "_view_module": "@jupyter-widgets/base",
       "_view_module_version": "1.2.0",
       "_view_name": "StyleView",
       "description_width": ""
      }
     },
     "707bfef2273d4366869604d9bbfb0764": {
      "model_module": "@jupyter-widgets/controls",
      "model_module_version": "1.5.0",
      "model_name": "DescriptionStyleModel",
      "state": {
       "_model_module": "@jupyter-widgets/controls",
       "_model_module_version": "1.5.0",
       "_model_name": "DescriptionStyleModel",
       "_view_count": null,
       "_view_module": "@jupyter-widgets/base",
       "_view_module_version": "1.2.0",
       "_view_name": "StyleView",
       "description_width": ""
      }
     },
     "74b02ed57c8549dfbf82ebc48f8058fd": {
      "model_module": "@jupyter-widgets/controls",
      "model_module_version": "1.5.0",
      "model_name": "HBoxModel",
      "state": {
       "_dom_classes": [],
       "_model_module": "@jupyter-widgets/controls",
       "_model_module_version": "1.5.0",
       "_model_name": "HBoxModel",
       "_view_count": null,
       "_view_module": "@jupyter-widgets/controls",
       "_view_module_version": "1.5.0",
       "_view_name": "HBoxView",
       "box_style": "",
       "children": [
        "IPY_MODEL_ca9b31ed244649febbe7bd8774dbf0ef",
        "IPY_MODEL_f9ba057ab9f1419bb4520183106be286",
        "IPY_MODEL_67c9352cbd8b4a65b4153a95bc2098f2"
       ],
       "layout": "IPY_MODEL_6b259ed6865c4c1ea8569793b7319c67"
      }
     },
     "797b347400d64d74933cc59699ca3151": {
      "model_module": "@jupyter-widgets/controls",
      "model_module_version": "1.5.0",
      "model_name": "DescriptionStyleModel",
      "state": {
       "_model_module": "@jupyter-widgets/controls",
       "_model_module_version": "1.5.0",
       "_model_name": "DescriptionStyleModel",
       "_view_count": null,
       "_view_module": "@jupyter-widgets/base",
       "_view_module_version": "1.2.0",
       "_view_name": "StyleView",
       "description_width": ""
      }
     },
     "817e6f08bcf54ef2bb98478d44c89e6c": {
      "model_module": "@jupyter-widgets/controls",
      "model_module_version": "1.5.0",
      "model_name": "HTMLModel",
      "state": {
       "_dom_classes": [],
       "_model_module": "@jupyter-widgets/controls",
       "_model_module_version": "1.5.0",
       "_model_name": "HTMLModel",
       "_view_count": null,
       "_view_module": "@jupyter-widgets/controls",
       "_view_module_version": "1.5.0",
       "_view_name": "HTMLView",
       "description": "",
       "description_tooltip": null,
       "layout": "IPY_MODEL_b887cbea78a5416a8560321c7b87cdbd",
       "placeholder": "​",
       "style": "IPY_MODEL_bf38f8a651a84def94cc952b74739de1",
       "value": "Downloading (…)lve/main/config.json: 100%"
      }
     },
     "827c8b880a124b5f9097006ff884101e": {
      "model_module": "@jupyter-widgets/base",
      "model_module_version": "1.2.0",
      "model_name": "LayoutModel",
      "state": {
       "_model_module": "@jupyter-widgets/base",
       "_model_module_version": "1.2.0",
       "_model_name": "LayoutModel",
       "_view_count": null,
       "_view_module": "@jupyter-widgets/base",
       "_view_module_version": "1.2.0",
       "_view_name": "LayoutView",
       "align_content": null,
       "align_items": null,
       "align_self": null,
       "border": null,
       "bottom": null,
       "display": null,
       "flex": null,
       "flex_flow": null,
       "grid_area": null,
       "grid_auto_columns": null,
       "grid_auto_flow": null,
       "grid_auto_rows": null,
       "grid_column": null,
       "grid_gap": null,
       "grid_row": null,
       "grid_template_areas": null,
       "grid_template_columns": null,
       "grid_template_rows": null,
       "height": null,
       "justify_content": null,
       "justify_items": null,
       "left": null,
       "margin": null,
       "max_height": null,
       "max_width": null,
       "min_height": null,
       "min_width": null,
       "object_fit": null,
       "object_position": null,
       "order": null,
       "overflow": null,
       "overflow_x": null,
       "overflow_y": null,
       "padding": null,
       "right": null,
       "top": null,
       "visibility": null,
       "width": null
      }
     },
     "889bf23c9c7644f6939e76395c866aac": {
      "model_module": "@jupyter-widgets/base",
      "model_module_version": "1.2.0",
      "model_name": "LayoutModel",
      "state": {
       "_model_module": "@jupyter-widgets/base",
       "_model_module_version": "1.2.0",
       "_model_name": "LayoutModel",
       "_view_count": null,
       "_view_module": "@jupyter-widgets/base",
       "_view_module_version": "1.2.0",
       "_view_name": "LayoutView",
       "align_content": null,
       "align_items": null,
       "align_self": null,
       "border": null,
       "bottom": null,
       "display": null,
       "flex": null,
       "flex_flow": null,
       "grid_area": null,
       "grid_auto_columns": null,
       "grid_auto_flow": null,
       "grid_auto_rows": null,
       "grid_column": null,
       "grid_gap": null,
       "grid_row": null,
       "grid_template_areas": null,
       "grid_template_columns": null,
       "grid_template_rows": null,
       "height": null,
       "justify_content": null,
       "justify_items": null,
       "left": null,
       "margin": null,
       "max_height": null,
       "max_width": null,
       "min_height": null,
       "min_width": null,
       "object_fit": null,
       "object_position": null,
       "order": null,
       "overflow": null,
       "overflow_x": null,
       "overflow_y": null,
       "padding": null,
       "right": null,
       "top": null,
       "visibility": null,
       "width": null
      }
     },
     "8eea48304d544131a621c283a99781d3": {
      "model_module": "@jupyter-widgets/controls",
      "model_module_version": "1.5.0",
      "model_name": "HBoxModel",
      "state": {
       "_dom_classes": [],
       "_model_module": "@jupyter-widgets/controls",
       "_model_module_version": "1.5.0",
       "_model_name": "HBoxModel",
       "_view_count": null,
       "_view_module": "@jupyter-widgets/controls",
       "_view_module_version": "1.5.0",
       "_view_name": "HBoxView",
       "box_style": "",
       "children": [
        "IPY_MODEL_bb7d8200ff954e55bd4871b8b64ea1c1",
        "IPY_MODEL_60c4f10dbeb640d1bc892afe74c06499",
        "IPY_MODEL_4f62a0bf12b4416abcaf5314c3a4900d"
       ],
       "layout": "IPY_MODEL_e2476e379a034c6bb3e1f60dd2d30ff3"
      }
     },
     "91719420e1ba4f40851a9abeb7d75f0b": {
      "model_module": "@jupyter-widgets/base",
      "model_module_version": "1.2.0",
      "model_name": "LayoutModel",
      "state": {
       "_model_module": "@jupyter-widgets/base",
       "_model_module_version": "1.2.0",
       "_model_name": "LayoutModel",
       "_view_count": null,
       "_view_module": "@jupyter-widgets/base",
       "_view_module_version": "1.2.0",
       "_view_name": "LayoutView",
       "align_content": null,
       "align_items": null,
       "align_self": null,
       "border": null,
       "bottom": null,
       "display": null,
       "flex": null,
       "flex_flow": null,
       "grid_area": null,
       "grid_auto_columns": null,
       "grid_auto_flow": null,
       "grid_auto_rows": null,
       "grid_column": null,
       "grid_gap": null,
       "grid_row": null,
       "grid_template_areas": null,
       "grid_template_columns": null,
       "grid_template_rows": null,
       "height": null,
       "justify_content": null,
       "justify_items": null,
       "left": null,
       "margin": null,
       "max_height": null,
       "max_width": null,
       "min_height": null,
       "min_width": null,
       "object_fit": null,
       "object_position": null,
       "order": null,
       "overflow": null,
       "overflow_x": null,
       "overflow_y": null,
       "padding": null,
       "right": null,
       "top": null,
       "visibility": null,
       "width": null
      }
     },
     "956209b98dcd4842bc1759e1da9b79e8": {
      "model_module": "@jupyter-widgets/base",
      "model_module_version": "1.2.0",
      "model_name": "LayoutModel",
      "state": {
       "_model_module": "@jupyter-widgets/base",
       "_model_module_version": "1.2.0",
       "_model_name": "LayoutModel",
       "_view_count": null,
       "_view_module": "@jupyter-widgets/base",
       "_view_module_version": "1.2.0",
       "_view_name": "LayoutView",
       "align_content": null,
       "align_items": null,
       "align_self": null,
       "border": null,
       "bottom": null,
       "display": null,
       "flex": null,
       "flex_flow": null,
       "grid_area": null,
       "grid_auto_columns": null,
       "grid_auto_flow": null,
       "grid_auto_rows": null,
       "grid_column": null,
       "grid_gap": null,
       "grid_row": null,
       "grid_template_areas": null,
       "grid_template_columns": null,
       "grid_template_rows": null,
       "height": null,
       "justify_content": null,
       "justify_items": null,
       "left": null,
       "margin": null,
       "max_height": null,
       "max_width": null,
       "min_height": null,
       "min_width": null,
       "object_fit": null,
       "object_position": null,
       "order": null,
       "overflow": null,
       "overflow_x": null,
       "overflow_y": null,
       "padding": null,
       "right": null,
       "top": null,
       "visibility": null,
       "width": null
      }
     },
     "9592ed4decfa4b679483b631ed50d237": {
      "model_module": "@jupyter-widgets/base",
      "model_module_version": "1.2.0",
      "model_name": "LayoutModel",
      "state": {
       "_model_module": "@jupyter-widgets/base",
       "_model_module_version": "1.2.0",
       "_model_name": "LayoutModel",
       "_view_count": null,
       "_view_module": "@jupyter-widgets/base",
       "_view_module_version": "1.2.0",
       "_view_name": "LayoutView",
       "align_content": null,
       "align_items": null,
       "align_self": null,
       "border": null,
       "bottom": null,
       "display": null,
       "flex": null,
       "flex_flow": null,
       "grid_area": null,
       "grid_auto_columns": null,
       "grid_auto_flow": null,
       "grid_auto_rows": null,
       "grid_column": null,
       "grid_gap": null,
       "grid_row": null,
       "grid_template_areas": null,
       "grid_template_columns": null,
       "grid_template_rows": null,
       "height": null,
       "justify_content": null,
       "justify_items": null,
       "left": null,
       "margin": null,
       "max_height": null,
       "max_width": null,
       "min_height": null,
       "min_width": null,
       "object_fit": null,
       "object_position": null,
       "order": null,
       "overflow": null,
       "overflow_x": null,
       "overflow_y": null,
       "padding": null,
       "right": null,
       "top": null,
       "visibility": null,
       "width": null
      }
     },
     "95d411ab69ae4e25a6b6a777e869e2ba": {
      "model_module": "@jupyter-widgets/controls",
      "model_module_version": "1.5.0",
      "model_name": "FloatProgressModel",
      "state": {
       "_dom_classes": [],
       "_model_module": "@jupyter-widgets/controls",
       "_model_module_version": "1.5.0",
       "_model_name": "FloatProgressModel",
       "_view_count": null,
       "_view_module": "@jupyter-widgets/controls",
       "_view_module_version": "1.5.0",
       "_view_name": "ProgressView",
       "bar_style": "success",
       "description": "",
       "description_tooltip": null,
       "layout": "IPY_MODEL_5e918b07058a48c088d0b86f284202fc",
       "max": 798156,
       "min": 0,
       "orientation": "horizontal",
       "style": "IPY_MODEL_6f3045c4cbae445f80fdeffa60c34e23",
       "value": 798156
      }
     },
     "987159c9350044ff81a2e89ae9006aa7": {
      "model_module": "@jupyter-widgets/controls",
      "model_module_version": "1.5.0",
      "model_name": "ProgressStyleModel",
      "state": {
       "_model_module": "@jupyter-widgets/controls",
       "_model_module_version": "1.5.0",
       "_model_name": "ProgressStyleModel",
       "_view_count": null,
       "_view_module": "@jupyter-widgets/base",
       "_view_module_version": "1.2.0",
       "_view_name": "StyleView",
       "bar_color": null,
       "description_width": ""
      }
     },
     "a504c709af7e46299747ca4f9a9e500e": {
      "model_module": "@jupyter-widgets/base",
      "model_module_version": "1.2.0",
      "model_name": "LayoutModel",
      "state": {
       "_model_module": "@jupyter-widgets/base",
       "_model_module_version": "1.2.0",
       "_model_name": "LayoutModel",
       "_view_count": null,
       "_view_module": "@jupyter-widgets/base",
       "_view_module_version": "1.2.0",
       "_view_name": "LayoutView",
       "align_content": null,
       "align_items": null,
       "align_self": null,
       "border": null,
       "bottom": null,
       "display": null,
       "flex": null,
       "flex_flow": null,
       "grid_area": null,
       "grid_auto_columns": null,
       "grid_auto_flow": null,
       "grid_auto_rows": null,
       "grid_column": null,
       "grid_gap": null,
       "grid_row": null,
       "grid_template_areas": null,
       "grid_template_columns": null,
       "grid_template_rows": null,
       "height": null,
       "justify_content": null,
       "justify_items": null,
       "left": null,
       "margin": null,
       "max_height": null,
       "max_width": null,
       "min_height": null,
       "min_width": null,
       "object_fit": null,
       "object_position": null,
       "order": null,
       "overflow": null,
       "overflow_x": null,
       "overflow_y": null,
       "padding": null,
       "right": null,
       "top": null,
       "visibility": null,
       "width": null
      }
     },
     "a6caf7d71f96408891784c9212d3c099": {
      "model_module": "@jupyter-widgets/base",
      "model_module_version": "1.2.0",
      "model_name": "LayoutModel",
      "state": {
       "_model_module": "@jupyter-widgets/base",
       "_model_module_version": "1.2.0",
       "_model_name": "LayoutModel",
       "_view_count": null,
       "_view_module": "@jupyter-widgets/base",
       "_view_module_version": "1.2.0",
       "_view_name": "LayoutView",
       "align_content": null,
       "align_items": null,
       "align_self": null,
       "border": null,
       "bottom": null,
       "display": null,
       "flex": null,
       "flex_flow": null,
       "grid_area": null,
       "grid_auto_columns": null,
       "grid_auto_flow": null,
       "grid_auto_rows": null,
       "grid_column": null,
       "grid_gap": null,
       "grid_row": null,
       "grid_template_areas": null,
       "grid_template_columns": null,
       "grid_template_rows": null,
       "height": null,
       "justify_content": null,
       "justify_items": null,
       "left": null,
       "margin": null,
       "max_height": null,
       "max_width": null,
       "min_height": null,
       "min_width": null,
       "object_fit": null,
       "object_position": null,
       "order": null,
       "overflow": null,
       "overflow_x": null,
       "overflow_y": null,
       "padding": null,
       "right": null,
       "top": null,
       "visibility": null,
       "width": null
      }
     },
     "aa0395fa7d644b44934ef1cbed9e6862": {
      "model_module": "@jupyter-widgets/controls",
      "model_module_version": "1.5.0",
      "model_name": "ProgressStyleModel",
      "state": {
       "_model_module": "@jupyter-widgets/controls",
       "_model_module_version": "1.5.0",
       "_model_name": "ProgressStyleModel",
       "_view_count": null,
       "_view_module": "@jupyter-widgets/base",
       "_view_module_version": "1.2.0",
       "_view_name": "StyleView",
       "bar_color": null,
       "description_width": ""
      }
     },
     "b590baf82e2042e2b7564f25ee6e83d3": {
      "model_module": "@jupyter-widgets/controls",
      "model_module_version": "1.5.0",
      "model_name": "DescriptionStyleModel",
      "state": {
       "_model_module": "@jupyter-widgets/controls",
       "_model_module_version": "1.5.0",
       "_model_name": "DescriptionStyleModel",
       "_view_count": null,
       "_view_module": "@jupyter-widgets/base",
       "_view_module_version": "1.2.0",
       "_view_name": "StyleView",
       "description_width": ""
      }
     },
     "b7fb3fcc0d0a4547aaff0805d51aba23": {
      "model_module": "@jupyter-widgets/controls",
      "model_module_version": "1.5.0",
      "model_name": "HTMLModel",
      "state": {
       "_dom_classes": [],
       "_model_module": "@jupyter-widgets/controls",
       "_model_module_version": "1.5.0",
       "_model_name": "HTMLModel",
       "_view_count": null,
       "_view_module": "@jupyter-widgets/controls",
       "_view_module_version": "1.5.0",
       "_view_name": "HTMLView",
       "description": "",
       "description_tooltip": null,
       "layout": "IPY_MODEL_df6a6464989b47c3a4463d4ebd507a15",
       "placeholder": "​",
       "style": "IPY_MODEL_23b854e621c041bfa9614d7b191b6a80",
       "value": " 957/957 [00:00&lt;00:00, 78.0kB/s]"
      }
     },
     "b843a950c0004311ad22da78b8cdde9d": {
      "model_module": "@jupyter-widgets/controls",
      "model_module_version": "1.5.0",
      "model_name": "HBoxModel",
      "state": {
       "_dom_classes": [],
       "_model_module": "@jupyter-widgets/controls",
       "_model_module_version": "1.5.0",
       "_model_name": "HBoxModel",
       "_view_count": null,
       "_view_module": "@jupyter-widgets/controls",
       "_view_module_version": "1.5.0",
       "_view_name": "HBoxView",
       "box_style": "",
       "children": [
        "IPY_MODEL_e31261416a9a45c18b10dadc683a9918",
        "IPY_MODEL_31fbb5df330e418b93075793577f64b3",
        "IPY_MODEL_6f177a500e8a4b7e8f868da53a9a9698"
       ],
       "layout": "IPY_MODEL_91719420e1ba4f40851a9abeb7d75f0b"
      }
     },
     "b887cbea78a5416a8560321c7b87cdbd": {
      "model_module": "@jupyter-widgets/base",
      "model_module_version": "1.2.0",
      "model_name": "LayoutModel",
      "state": {
       "_model_module": "@jupyter-widgets/base",
       "_model_module_version": "1.2.0",
       "_model_name": "LayoutModel",
       "_view_count": null,
       "_view_module": "@jupyter-widgets/base",
       "_view_module_version": "1.2.0",
       "_view_name": "LayoutView",
       "align_content": null,
       "align_items": null,
       "align_self": null,
       "border": null,
       "bottom": null,
       "display": null,
       "flex": null,
       "flex_flow": null,
       "grid_area": null,
       "grid_auto_columns": null,
       "grid_auto_flow": null,
       "grid_auto_rows": null,
       "grid_column": null,
       "grid_gap": null,
       "grid_row": null,
       "grid_template_areas": null,
       "grid_template_columns": null,
       "grid_template_rows": null,
       "height": null,
       "justify_content": null,
       "justify_items": null,
       "left": null,
       "margin": null,
       "max_height": null,
       "max_width": null,
       "min_height": null,
       "min_width": null,
       "object_fit": null,
       "object_position": null,
       "order": null,
       "overflow": null,
       "overflow_x": null,
       "overflow_y": null,
       "padding": null,
       "right": null,
       "top": null,
       "visibility": null,
       "width": null
      }
     },
     "bb10379c454a43ee8f019ebf99494089": {
      "model_module": "@jupyter-widgets/controls",
      "model_module_version": "1.5.0",
      "model_name": "HBoxModel",
      "state": {
       "_dom_classes": [],
       "_model_module": "@jupyter-widgets/controls",
       "_model_module_version": "1.5.0",
       "_model_name": "HBoxModel",
       "_view_count": null,
       "_view_module": "@jupyter-widgets/controls",
       "_view_module_version": "1.5.0",
       "_view_name": "HBoxView",
       "box_style": "",
       "children": [
        "IPY_MODEL_40167f267acc4ea8a6b48d7c95e01e5c",
        "IPY_MODEL_4c7ae73ebcc148b096cd9f5c7a7aedfc",
        "IPY_MODEL_fffa3e200666435f95b9f71a97a2a668"
       ],
       "layout": "IPY_MODEL_c6a71d57eaea4b0081155c93c90888bc"
      }
     },
     "bb7d8200ff954e55bd4871b8b64ea1c1": {
      "model_module": "@jupyter-widgets/controls",
      "model_module_version": "1.5.0",
      "model_name": "HTMLModel",
      "state": {
       "_dom_classes": [],
       "_model_module": "@jupyter-widgets/controls",
       "_model_module_version": "1.5.0",
       "_model_name": "HTMLModel",
       "_view_count": null,
       "_view_module": "@jupyter-widgets/controls",
       "_view_module_version": "1.5.0",
       "_view_name": "HTMLView",
       "description": "",
       "description_tooltip": null,
       "layout": "IPY_MODEL_4840e12642c245129c9646f73c3e921f",
       "placeholder": "​",
       "style": "IPY_MODEL_52fe0398d6bd480498c018e3197f4369",
       "value": "Downloading (…)okenizer_config.json: 100%"
      }
     },
     "bf38f8a651a84def94cc952b74739de1": {
      "model_module": "@jupyter-widgets/controls",
      "model_module_version": "1.5.0",
      "model_name": "DescriptionStyleModel",
      "state": {
       "_model_module": "@jupyter-widgets/controls",
       "_model_module_version": "1.5.0",
       "_model_name": "DescriptionStyleModel",
       "_view_count": null,
       "_view_module": "@jupyter-widgets/base",
       "_view_module_version": "1.2.0",
       "_view_name": "StyleView",
       "description_width": ""
      }
     },
     "c43db09a052d41528513227b02e3e2f0": {
      "model_module": "@jupyter-widgets/base",
      "model_module_version": "1.2.0",
      "model_name": "LayoutModel",
      "state": {
       "_model_module": "@jupyter-widgets/base",
       "_model_module_version": "1.2.0",
       "_model_name": "LayoutModel",
       "_view_count": null,
       "_view_module": "@jupyter-widgets/base",
       "_view_module_version": "1.2.0",
       "_view_name": "LayoutView",
       "align_content": null,
       "align_items": null,
       "align_self": null,
       "border": null,
       "bottom": null,
       "display": null,
       "flex": null,
       "flex_flow": null,
       "grid_area": null,
       "grid_auto_columns": null,
       "grid_auto_flow": null,
       "grid_auto_rows": null,
       "grid_column": null,
       "grid_gap": null,
       "grid_row": null,
       "grid_template_areas": null,
       "grid_template_columns": null,
       "grid_template_rows": null,
       "height": null,
       "justify_content": null,
       "justify_items": null,
       "left": null,
       "margin": null,
       "max_height": null,
       "max_width": null,
       "min_height": null,
       "min_width": null,
       "object_fit": null,
       "object_position": null,
       "order": null,
       "overflow": null,
       "overflow_x": null,
       "overflow_y": null,
       "padding": null,
       "right": null,
       "top": null,
       "visibility": null,
       "width": null
      }
     },
     "c6081600862a4ec78f186abd341f551c": {
      "model_module": "@jupyter-widgets/controls",
      "model_module_version": "1.5.0",
      "model_name": "HTMLModel",
      "state": {
       "_dom_classes": [],
       "_model_module": "@jupyter-widgets/controls",
       "_model_module_version": "1.5.0",
       "_model_name": "HTMLModel",
       "_view_count": null,
       "_view_module": "@jupyter-widgets/controls",
       "_view_module_version": "1.5.0",
       "_view_name": "HTMLView",
       "description": "",
       "description_tooltip": null,
       "layout": "IPY_MODEL_827c8b880a124b5f9097006ff884101e",
       "placeholder": "​",
       "style": "IPY_MODEL_5f4dd5b0a3c247ad81666b24bde40c56",
       "value": " 798k/798k [00:00&lt;00:00, 3.14MB/s]"
      }
     },
     "c6a71d57eaea4b0081155c93c90888bc": {
      "model_module": "@jupyter-widgets/base",
      "model_module_version": "1.2.0",
      "model_name": "LayoutModel",
      "state": {
       "_model_module": "@jupyter-widgets/base",
       "_model_module_version": "1.2.0",
       "_model_name": "LayoutModel",
       "_view_count": null,
       "_view_module": "@jupyter-widgets/base",
       "_view_module_version": "1.2.0",
       "_view_name": "LayoutView",
       "align_content": null,
       "align_items": null,
       "align_self": null,
       "border": null,
       "bottom": null,
       "display": null,
       "flex": null,
       "flex_flow": null,
       "grid_area": null,
       "grid_auto_columns": null,
       "grid_auto_flow": null,
       "grid_auto_rows": null,
       "grid_column": null,
       "grid_gap": null,
       "grid_row": null,
       "grid_template_areas": null,
       "grid_template_columns": null,
       "grid_template_rows": null,
       "height": null,
       "justify_content": null,
       "justify_items": null,
       "left": null,
       "margin": null,
       "max_height": null,
       "max_width": null,
       "min_height": null,
       "min_width": null,
       "object_fit": null,
       "object_position": null,
       "order": null,
       "overflow": null,
       "overflow_x": null,
       "overflow_y": null,
       "padding": null,
       "right": null,
       "top": null,
       "visibility": null,
       "width": null
      }
     },
     "c6e507b7b4784449be8e7bcb29d0ad52": {
      "model_module": "@jupyter-widgets/base",
      "model_module_version": "1.2.0",
      "model_name": "LayoutModel",
      "state": {
       "_model_module": "@jupyter-widgets/base",
       "_model_module_version": "1.2.0",
       "_model_name": "LayoutModel",
       "_view_count": null,
       "_view_module": "@jupyter-widgets/base",
       "_view_module_version": "1.2.0",
       "_view_name": "LayoutView",
       "align_content": null,
       "align_items": null,
       "align_self": null,
       "border": null,
       "bottom": null,
       "display": null,
       "flex": null,
       "flex_flow": null,
       "grid_area": null,
       "grid_auto_columns": null,
       "grid_auto_flow": null,
       "grid_auto_rows": null,
       "grid_column": null,
       "grid_gap": null,
       "grid_row": null,
       "grid_template_areas": null,
       "grid_template_columns": null,
       "grid_template_rows": null,
       "height": null,
       "justify_content": null,
       "justify_items": null,
       "left": null,
       "margin": null,
       "max_height": null,
       "max_width": null,
       "min_height": null,
       "min_width": null,
       "object_fit": null,
       "object_position": null,
       "order": null,
       "overflow": null,
       "overflow_x": null,
       "overflow_y": null,
       "padding": null,
       "right": null,
       "top": null,
       "visibility": null,
       "width": null
      }
     },
     "c7842f8082634d798c17f7fe9fb114f4": {
      "model_module": "@jupyter-widgets/controls",
      "model_module_version": "1.5.0",
      "model_name": "FloatProgressModel",
      "state": {
       "_dom_classes": [],
       "_model_module": "@jupyter-widgets/controls",
       "_model_module_version": "1.5.0",
       "_model_name": "FloatProgressModel",
       "_view_count": null,
       "_view_module": "@jupyter-widgets/controls",
       "_view_module_version": "1.5.0",
       "_view_name": "ProgressView",
       "bar_style": "success",
       "description": "",
       "description_tooltip": null,
       "layout": "IPY_MODEL_ddda477358474eee8dd4c981c2c3beba",
       "max": 729,
       "min": 0,
       "orientation": "horizontal",
       "style": "IPY_MODEL_aa0395fa7d644b44934ef1cbed9e6862",
       "value": 729
      }
     },
     "ca9b31ed244649febbe7bd8774dbf0ef": {
      "model_module": "@jupyter-widgets/controls",
      "model_module_version": "1.5.0",
      "model_name": "HTMLModel",
      "state": {
       "_dom_classes": [],
       "_model_module": "@jupyter-widgets/controls",
       "_model_module_version": "1.5.0",
       "_model_name": "HTMLModel",
       "_view_count": null,
       "_view_module": "@jupyter-widgets/controls",
       "_view_module_version": "1.5.0",
       "_view_name": "HTMLView",
       "description": "",
       "description_tooltip": null,
       "layout": "IPY_MODEL_a504c709af7e46299747ca4f9a9e500e",
       "placeholder": "​",
       "style": "IPY_MODEL_3f9f9f129b9b45749d00d180b47b193d",
       "value": "Downloading (…)/main/tokenizer.json: 100%"
      }
     },
     "cf619e144b36440ca6ec7fe8a8712157": {
      "model_module": "@jupyter-widgets/controls",
      "model_module_version": "1.5.0",
      "model_name": "HTMLModel",
      "state": {
       "_dom_classes": [],
       "_model_module": "@jupyter-widgets/controls",
       "_model_module_version": "1.5.0",
       "_model_name": "HTMLModel",
       "_view_count": null,
       "_view_module": "@jupyter-widgets/controls",
       "_view_module_version": "1.5.0",
       "_view_name": "HTMLView",
       "description": "",
       "description_tooltip": null,
       "layout": "IPY_MODEL_d3a8b9585e254c519841eff6eb7c1060",
       "placeholder": "​",
       "style": "IPY_MODEL_f0d170fc85d8468fa62bc1fcdac4b369",
       "value": "Downloading (…)cial_tokens_map.json: 100%"
      }
     },
     "cfbebdf0672f43bc8da41892705c4cc9": {
      "model_module": "@jupyter-widgets/base",
      "model_module_version": "1.2.0",
      "model_name": "LayoutModel",
      "state": {
       "_model_module": "@jupyter-widgets/base",
       "_model_module_version": "1.2.0",
       "_model_name": "LayoutModel",
       "_view_count": null,
       "_view_module": "@jupyter-widgets/base",
       "_view_module_version": "1.2.0",
       "_view_name": "LayoutView",
       "align_content": null,
       "align_items": null,
       "align_self": null,
       "border": null,
       "bottom": null,
       "display": null,
       "flex": null,
       "flex_flow": null,
       "grid_area": null,
       "grid_auto_columns": null,
       "grid_auto_flow": null,
       "grid_auto_rows": null,
       "grid_column": null,
       "grid_gap": null,
       "grid_row": null,
       "grid_template_areas": null,
       "grid_template_columns": null,
       "grid_template_rows": null,
       "height": null,
       "justify_content": null,
       "justify_items": null,
       "left": null,
       "margin": null,
       "max_height": null,
       "max_width": null,
       "min_height": null,
       "min_width": null,
       "object_fit": null,
       "object_position": null,
       "order": null,
       "overflow": null,
       "overflow_x": null,
       "overflow_y": null,
       "padding": null,
       "right": null,
       "top": null,
       "visibility": null,
       "width": null
      }
     },
     "d348e65975d84adda22b9ddfe1690368": {
      "model_module": "@jupyter-widgets/base",
      "model_module_version": "1.2.0",
      "model_name": "LayoutModel",
      "state": {
       "_model_module": "@jupyter-widgets/base",
       "_model_module_version": "1.2.0",
       "_model_name": "LayoutModel",
       "_view_count": null,
       "_view_module": "@jupyter-widgets/base",
       "_view_module_version": "1.2.0",
       "_view_name": "LayoutView",
       "align_content": null,
       "align_items": null,
       "align_self": null,
       "border": null,
       "bottom": null,
       "display": null,
       "flex": null,
       "flex_flow": null,
       "grid_area": null,
       "grid_auto_columns": null,
       "grid_auto_flow": null,
       "grid_auto_rows": null,
       "grid_column": null,
       "grid_gap": null,
       "grid_row": null,
       "grid_template_areas": null,
       "grid_template_columns": null,
       "grid_template_rows": null,
       "height": null,
       "justify_content": null,
       "justify_items": null,
       "left": null,
       "margin": null,
       "max_height": null,
       "max_width": null,
       "min_height": null,
       "min_width": null,
       "object_fit": null,
       "object_position": null,
       "order": null,
       "overflow": null,
       "overflow_x": null,
       "overflow_y": null,
       "padding": null,
       "right": null,
       "top": null,
       "visibility": null,
       "width": null
      }
     },
     "d3a8b9585e254c519841eff6eb7c1060": {
      "model_module": "@jupyter-widgets/base",
      "model_module_version": "1.2.0",
      "model_name": "LayoutModel",
      "state": {
       "_model_module": "@jupyter-widgets/base",
       "_model_module_version": "1.2.0",
       "_model_name": "LayoutModel",
       "_view_count": null,
       "_view_module": "@jupyter-widgets/base",
       "_view_module_version": "1.2.0",
       "_view_name": "LayoutView",
       "align_content": null,
       "align_items": null,
       "align_self": null,
       "border": null,
       "bottom": null,
       "display": null,
       "flex": null,
       "flex_flow": null,
       "grid_area": null,
       "grid_auto_columns": null,
       "grid_auto_flow": null,
       "grid_auto_rows": null,
       "grid_column": null,
       "grid_gap": null,
       "grid_row": null,
       "grid_template_areas": null,
       "grid_template_columns": null,
       "grid_template_rows": null,
       "height": null,
       "justify_content": null,
       "justify_items": null,
       "left": null,
       "margin": null,
       "max_height": null,
       "max_width": null,
       "min_height": null,
       "min_width": null,
       "object_fit": null,
       "object_position": null,
       "order": null,
       "overflow": null,
       "overflow_x": null,
       "overflow_y": null,
       "padding": null,
       "right": null,
       "top": null,
       "visibility": null,
       "width": null
      }
     },
     "d88f9b53cba44570b7d43efd545ee22c": {
      "model_module": "@jupyter-widgets/controls",
      "model_module_version": "1.5.0",
      "model_name": "DescriptionStyleModel",
      "state": {
       "_model_module": "@jupyter-widgets/controls",
       "_model_module_version": "1.5.0",
       "_model_name": "DescriptionStyleModel",
       "_view_count": null,
       "_view_module": "@jupyter-widgets/base",
       "_view_module_version": "1.2.0",
       "_view_name": "StyleView",
       "description_width": ""
      }
     },
     "d8c543d1e5d64e57a987c57297a22b88": {
      "model_module": "@jupyter-widgets/controls",
      "model_module_version": "1.5.0",
      "model_name": "HTMLModel",
      "state": {
       "_dom_classes": [],
       "_model_module": "@jupyter-widgets/controls",
       "_model_module_version": "1.5.0",
       "_model_name": "HTMLModel",
       "_view_count": null,
       "_view_module": "@jupyter-widgets/controls",
       "_view_module_version": "1.5.0",
       "_view_name": "HTMLView",
       "description": "",
       "description_tooltip": null,
       "layout": "IPY_MODEL_5fb897bddc9946d59ce85a550994826b",
       "placeholder": "​",
       "style": "IPY_MODEL_b590baf82e2042e2b7564f25ee6e83d3",
       "value": "Downloading (…)olve/main/vocab.json: 100%"
      }
     },
     "ddda477358474eee8dd4c981c2c3beba": {
      "model_module": "@jupyter-widgets/base",
      "model_module_version": "1.2.0",
      "model_name": "LayoutModel",
      "state": {
       "_model_module": "@jupyter-widgets/base",
       "_model_module_version": "1.2.0",
       "_model_name": "LayoutModel",
       "_view_count": null,
       "_view_module": "@jupyter-widgets/base",
       "_view_module_version": "1.2.0",
       "_view_name": "LayoutView",
       "align_content": null,
       "align_items": null,
       "align_self": null,
       "border": null,
       "bottom": null,
       "display": null,
       "flex": null,
       "flex_flow": null,
       "grid_area": null,
       "grid_auto_columns": null,
       "grid_auto_flow": null,
       "grid_auto_rows": null,
       "grid_column": null,
       "grid_gap": null,
       "grid_row": null,
       "grid_template_areas": null,
       "grid_template_columns": null,
       "grid_template_rows": null,
       "height": null,
       "justify_content": null,
       "justify_items": null,
       "left": null,
       "margin": null,
       "max_height": null,
       "max_width": null,
       "min_height": null,
       "min_width": null,
       "object_fit": null,
       "object_position": null,
       "order": null,
       "overflow": null,
       "overflow_x": null,
       "overflow_y": null,
       "padding": null,
       "right": null,
       "top": null,
       "visibility": null,
       "width": null
      }
     },
     "df6a6464989b47c3a4463d4ebd507a15": {
      "model_module": "@jupyter-widgets/base",
      "model_module_version": "1.2.0",
      "model_name": "LayoutModel",
      "state": {
       "_model_module": "@jupyter-widgets/base",
       "_model_module_version": "1.2.0",
       "_model_name": "LayoutModel",
       "_view_count": null,
       "_view_module": "@jupyter-widgets/base",
       "_view_module_version": "1.2.0",
       "_view_name": "LayoutView",
       "align_content": null,
       "align_items": null,
       "align_self": null,
       "border": null,
       "bottom": null,
       "display": null,
       "flex": null,
       "flex_flow": null,
       "grid_area": null,
       "grid_auto_columns": null,
       "grid_auto_flow": null,
       "grid_auto_rows": null,
       "grid_column": null,
       "grid_gap": null,
       "grid_row": null,
       "grid_template_areas": null,
       "grid_template_columns": null,
       "grid_template_rows": null,
       "height": null,
       "justify_content": null,
       "justify_items": null,
       "left": null,
       "margin": null,
       "max_height": null,
       "max_width": null,
       "min_height": null,
       "min_width": null,
       "object_fit": null,
       "object_position": null,
       "order": null,
       "overflow": null,
       "overflow_x": null,
       "overflow_y": null,
       "padding": null,
       "right": null,
       "top": null,
       "visibility": null,
       "width": null
      }
     },
     "e2476e379a034c6bb3e1f60dd2d30ff3": {
      "model_module": "@jupyter-widgets/base",
      "model_module_version": "1.2.0",
      "model_name": "LayoutModel",
      "state": {
       "_model_module": "@jupyter-widgets/base",
       "_model_module_version": "1.2.0",
       "_model_name": "LayoutModel",
       "_view_count": null,
       "_view_module": "@jupyter-widgets/base",
       "_view_module_version": "1.2.0",
       "_view_name": "LayoutView",
       "align_content": null,
       "align_items": null,
       "align_self": null,
       "border": null,
       "bottom": null,
       "display": null,
       "flex": null,
       "flex_flow": null,
       "grid_area": null,
       "grid_auto_columns": null,
       "grid_auto_flow": null,
       "grid_auto_rows": null,
       "grid_column": null,
       "grid_gap": null,
       "grid_row": null,
       "grid_template_areas": null,
       "grid_template_columns": null,
       "grid_template_rows": null,
       "height": null,
       "justify_content": null,
       "justify_items": null,
       "left": null,
       "margin": null,
       "max_height": null,
       "max_width": null,
       "min_height": null,
       "min_width": null,
       "object_fit": null,
       "object_position": null,
       "order": null,
       "overflow": null,
       "overflow_x": null,
       "overflow_y": null,
       "padding": null,
       "right": null,
       "top": null,
       "visibility": null,
       "width": null
      }
     },
     "e31261416a9a45c18b10dadc683a9918": {
      "model_module": "@jupyter-widgets/controls",
      "model_module_version": "1.5.0",
      "model_name": "HTMLModel",
      "state": {
       "_dom_classes": [],
       "_model_module": "@jupyter-widgets/controls",
       "_model_module_version": "1.5.0",
       "_model_name": "HTMLModel",
       "_view_count": null,
       "_view_module": "@jupyter-widgets/controls",
       "_view_module_version": "1.5.0",
       "_view_name": "HTMLView",
       "description": "",
       "description_tooltip": null,
       "layout": "IPY_MODEL_a6caf7d71f96408891784c9212d3c099",
       "placeholder": "​",
       "style": "IPY_MODEL_797b347400d64d74933cc59699ca3151",
       "value": "Downloading (…)olve/main/merges.txt: 100%"
      }
     },
     "e3d6020718a04c60b9e5a97a7a11fc8b": {
      "model_module": "@jupyter-widgets/base",
      "model_module_version": "1.2.0",
      "model_name": "LayoutModel",
      "state": {
       "_model_module": "@jupyter-widgets/base",
       "_model_module_version": "1.2.0",
       "_model_name": "LayoutModel",
       "_view_count": null,
       "_view_module": "@jupyter-widgets/base",
       "_view_module_version": "1.2.0",
       "_view_name": "LayoutView",
       "align_content": null,
       "align_items": null,
       "align_self": null,
       "border": null,
       "bottom": null,
       "display": null,
       "flex": null,
       "flex_flow": null,
       "grid_area": null,
       "grid_auto_columns": null,
       "grid_auto_flow": null,
       "grid_auto_rows": null,
       "grid_column": null,
       "grid_gap": null,
       "grid_row": null,
       "grid_template_areas": null,
       "grid_template_columns": null,
       "grid_template_rows": null,
       "height": null,
       "justify_content": null,
       "justify_items": null,
       "left": null,
       "margin": null,
       "max_height": null,
       "max_width": null,
       "min_height": null,
       "min_width": null,
       "object_fit": null,
       "object_position": null,
       "order": null,
       "overflow": null,
       "overflow_x": null,
       "overflow_y": null,
       "padding": null,
       "right": null,
       "top": null,
       "visibility": null,
       "width": null
      }
     },
     "ef830e922c94408ba5c6b8adc9ce1607": {
      "model_module": "@jupyter-widgets/controls",
      "model_module_version": "1.5.0",
      "model_name": "HBoxModel",
      "state": {
       "_dom_classes": [],
       "_model_module": "@jupyter-widgets/controls",
       "_model_module_version": "1.5.0",
       "_model_name": "HBoxModel",
       "_view_count": null,
       "_view_module": "@jupyter-widgets/controls",
       "_view_module_version": "1.5.0",
       "_view_name": "HBoxView",
       "box_style": "",
       "children": [
        "IPY_MODEL_d8c543d1e5d64e57a987c57297a22b88",
        "IPY_MODEL_95d411ab69ae4e25a6b6a777e869e2ba",
        "IPY_MODEL_c6081600862a4ec78f186abd341f551c"
       ],
       "layout": "IPY_MODEL_956209b98dcd4842bc1759e1da9b79e8"
      }
     },
     "f03ac7f94b134b6c8789b20b88aeaf9b": {
      "model_module": "@jupyter-widgets/controls",
      "model_module_version": "1.5.0",
      "model_name": "HBoxModel",
      "state": {
       "_dom_classes": [],
       "_model_module": "@jupyter-widgets/controls",
       "_model_module_version": "1.5.0",
       "_model_name": "HBoxModel",
       "_view_count": null,
       "_view_module": "@jupyter-widgets/controls",
       "_view_module_version": "1.5.0",
       "_view_name": "HBoxView",
       "box_style": "",
       "children": [
        "IPY_MODEL_cf619e144b36440ca6ec7fe8a8712157",
        "IPY_MODEL_3f41036093f14748a59b2cb00a839943",
        "IPY_MODEL_b7fb3fcc0d0a4547aaff0805d51aba23"
       ],
       "layout": "IPY_MODEL_5950395225cc4089a18b13c15b1a924f"
      }
     },
     "f0d170fc85d8468fa62bc1fcdac4b369": {
      "model_module": "@jupyter-widgets/controls",
      "model_module_version": "1.5.0",
      "model_name": "DescriptionStyleModel",
      "state": {
       "_model_module": "@jupyter-widgets/controls",
       "_model_module_version": "1.5.0",
       "_model_name": "DescriptionStyleModel",
       "_view_count": null,
       "_view_module": "@jupyter-widgets/base",
       "_view_module_version": "1.2.0",
       "_view_name": "StyleView",
       "description_width": ""
      }
     },
     "f25a79f78a894ce1bc4cc047fbe52298": {
      "model_module": "@jupyter-widgets/base",
      "model_module_version": "1.2.0",
      "model_name": "LayoutModel",
      "state": {
       "_model_module": "@jupyter-widgets/base",
       "_model_module_version": "1.2.0",
       "_model_name": "LayoutModel",
       "_view_count": null,
       "_view_module": "@jupyter-widgets/base",
       "_view_module_version": "1.2.0",
       "_view_name": "LayoutView",
       "align_content": null,
       "align_items": null,
       "align_self": null,
       "border": null,
       "bottom": null,
       "display": null,
       "flex": null,
       "flex_flow": null,
       "grid_area": null,
       "grid_auto_columns": null,
       "grid_auto_flow": null,
       "grid_auto_rows": null,
       "grid_column": null,
       "grid_gap": null,
       "grid_row": null,
       "grid_template_areas": null,
       "grid_template_columns": null,
       "grid_template_rows": null,
       "height": null,
       "justify_content": null,
       "justify_items": null,
       "left": null,
       "margin": null,
       "max_height": null,
       "max_width": null,
       "min_height": null,
       "min_width": null,
       "object_fit": null,
       "object_position": null,
       "order": null,
       "overflow": null,
       "overflow_x": null,
       "overflow_y": null,
       "padding": null,
       "right": null,
       "top": null,
       "visibility": null,
       "width": null
      }
     },
     "f9ba057ab9f1419bb4520183106be286": {
      "model_module": "@jupyter-widgets/controls",
      "model_module_version": "1.5.0",
      "model_name": "FloatProgressModel",
      "state": {
       "_dom_classes": [],
       "_model_module": "@jupyter-widgets/controls",
       "_model_module_version": "1.5.0",
       "_model_name": "FloatProgressModel",
       "_view_count": null,
       "_view_module": "@jupyter-widgets/controls",
       "_view_module_version": "1.5.0",
       "_view_name": "ProgressView",
       "bar_style": "success",
       "description": "",
       "description_tooltip": null,
       "layout": "IPY_MODEL_2e6b176e5e754a3084417b7d2211b746",
       "max": 1911005,
       "min": 0,
       "orientation": "horizontal",
       "style": "IPY_MODEL_3e0edd5b2e7440efa4203a97316217af",
       "value": 1911005
      }
     },
     "faf46f4ec0f94a9c9b71c14b71536b3a": {
      "model_module": "@jupyter-widgets/controls",
      "model_module_version": "1.5.0",
      "model_name": "DescriptionStyleModel",
      "state": {
       "_model_module": "@jupyter-widgets/controls",
       "_model_module_version": "1.5.0",
       "_model_name": "DescriptionStyleModel",
       "_view_count": null,
       "_view_module": "@jupyter-widgets/base",
       "_view_module_version": "1.2.0",
       "_view_name": "StyleView",
       "description_width": ""
      }
     },
     "fffa3e200666435f95b9f71a97a2a668": {
      "model_module": "@jupyter-widgets/controls",
      "model_module_version": "1.5.0",
      "model_name": "HTMLModel",
      "state": {
       "_dom_classes": [],
       "_model_module": "@jupyter-widgets/controls",
       "_model_module_version": "1.5.0",
       "_model_name": "HTMLModel",
       "_view_count": null,
       "_view_module": "@jupyter-widgets/controls",
       "_view_module_version": "1.5.0",
       "_view_name": "HTMLView",
       "description": "",
       "description_tooltip": null,
       "layout": "IPY_MODEL_cfbebdf0672f43bc8da41892705c4cc9",
       "placeholder": "​",
       "style": "IPY_MODEL_6f7f73905b894b77aad3adde75c11399",
       "value": " 268M/268M [00:07&lt;00:00, 33.9MB/s]"
      }
     }
    },
    "version_major": 2,
    "version_minor": 0
   }
  }
 },
 "nbformat": 4,
 "nbformat_minor": 5
}

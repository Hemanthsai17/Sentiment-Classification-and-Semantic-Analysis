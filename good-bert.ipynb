{
 "cells": [
  {
   "cell_type": "code",
   "execution_count": 2,
   "metadata": {
    "colab": {
     "base_uri": "https://localhost:8080/"
    },
    "execution": {
     "iopub.execute_input": "2023-10-13T04:56:08.750669Z",
     "iopub.status.busy": "2023-10-13T04:56:08.750340Z",
     "iopub.status.idle": "2023-10-13T04:56:17.549403Z",
     "shell.execute_reply": "2023-10-13T04:56:17.548229Z",
     "shell.execute_reply.started": "2023-10-13T04:56:08.750641Z"
    },
    "id": "IVvHLpIIJkvG",
    "outputId": "1760faa5-7b37-4632-df2e-5e694135a06f"
   },
   "outputs": [
    {
     "name": "stdout",
     "output_type": "stream",
     "text": [
      "\u001b[33mWARNING: Running pip as the 'root' user can result in broken permissions and conflicting behaviour with the system package manager. It is recommended to use a virtual environment instead: https://pip.pypa.io/warnings/venv\u001b[0m\u001b[33m\n",
      "\u001b[0m"
     ]
    }
   ],
   "source": [
    "!pip install transformers datasets -q"
   ]
  },
  {
   "cell_type": "code",
   "execution_count": 3,
   "metadata": {
    "colab": {
     "base_uri": "https://localhost:8080/"
    },
    "execution": {
     "iopub.execute_input": "2023-10-13T04:56:17.551950Z",
     "iopub.status.busy": "2023-10-13T04:56:17.551586Z",
     "iopub.status.idle": "2023-10-13T04:56:31.242251Z",
     "shell.execute_reply": "2023-10-13T04:56:31.240975Z",
     "shell.execute_reply.started": "2023-10-13T04:56:17.551911Z"
    },
    "id": "drEag8rHJqgK",
    "outputId": "e0d2d238-36b5-4edb-860a-c67025ecac43"
   },
   "outputs": [
    {
     "name": "stdout",
     "output_type": "stream",
     "text": [
      "\u001b[33mWARNING: Running pip as the 'root' user can result in broken permissions and conflicting behaviour with the system package manager. It is recommended to use a virtual environment instead: https://pip.pypa.io/warnings/venv\u001b[0m\u001b[33m\n",
      "\u001b[0mDownloading...\n",
      "From: https://drive.google.com/uc?id=1zqzrHcpjqYl6Gkdgj9AGGyVlBbTL93pV\n",
      "To: /kaggle/working/data.xlsx\n",
      "100%|█████████████████████████████████████████| 713k/713k [00:00<00:00, 116MB/s]\n"
     ]
    }
   ],
   "source": [
    "!pip install gdown -q\n",
    "!gdown 1zqzrHcpjqYl6Gkdgj9AGGyVlBbTL93pV"
   ]
  },
  {
   "cell_type": "code",
   "execution_count": 4,
   "metadata": {
    "colab": {
     "base_uri": "https://localhost:8080/",
     "height": 232,
     "referenced_widgets": [
      "a3550180543c42b3b7d2f3089312e63f",
      "07af95d23cf34f9bbe7b9e687dc24fdd",
      "e9212d6a2cef4531a522889b2c3d4f0f",
      "9aae26510c754c0aa46b60ee50b95d9b",
      "8f0ff23e751f491da2d10deaa30c5608",
      "f595aa1c908a45938b8edbf6bb938163",
      "51a1050608d043bca746d4636e5e53a6",
      "37693f196b5340c99099d8658c35ef30",
      "6bc6ffc8c1294594b980d30c4452ceb4",
      "ee1a27bbf10a419fb1e2413a721f90bc",
      "49f1063a12b94b0485e001add400819d",
      "b69c235a7ced42cd85fd5dddae45d7fb",
      "36b6ad22e3464f718614c81ce5d5468e",
      "bf27b207404b4c9188e8c1d0a3e2354b",
      "ef740d2b46174ab3bc2b5e9c707a745e",
      "28f2c271b4684e2481e5113eb72044bb",
      "ad695acc010d414b9411174547761420",
      "bf139637c29a4e579cb5ca6bc20c2c37",
      "cb489ff644d943fd90ddf0dbc9cb214e",
      "91af3c3e43e54e508b6f05d4158d95a0",
      "62fb3a874ab64a7abcdd028393b9c74e",
      "ccd04b23dd60414d97a83b875c944da1",
      "2637be4585224c5ba21b2f84b2d4a291",
      "25ac539aaf8c4431889a7ec744f31a06",
      "cb51553ad6c442e18d6ebc00ec62ab15",
      "c8cef20cc2cc41599bb15d9cb80b27b5",
      "4cf2c33a9fc34bc998ec796927fa8c74",
      "b99214a5ac20415790198058454af8df",
      "309beb8601f04e4f8c77665eef7b5d47",
      "238577b31dfe4b7094730427d3b203d9",
      "949d0a52a76d45dea435642c499f338a",
      "6d7ddd4230934ac1ae826fcd4da10410",
      "d63c6f3140ae49c389876f5c6068b6ad",
      "47d1588612534f9eab9229083be5fc34",
      "70730f16899940359ac54f1d7d6db07d",
      "fc1378e772d340ce950033c14e3a12ed",
      "d980b6949c214e6d99227f8e0b1ef888",
      "5a669c0fcceb474a828f5466de020b43",
      "0154b2e08b274f64a6530d27e81bea80",
      "da1fa5713a984054ba0fa7192f92f387",
      "97d7d554bb7741fcb22d2ad016bea459",
      "fbc20a137c7441c6a50007abde49c21c",
      "3a91fdefe89f4113a1f59dd2d2475f31",
      "4c1dabd33d6a4094aa6d3d42947caafd",
      "1e0be92eeeb54f768ecf955587515c04",
      "218332eecc8546f094cb13da2bb84906",
      "5b8d4afa0c914f6d88d5be73b7552f04",
      "5af04d9d595e467fb992a8b9dde244ba",
      "a833f98b34bb4392aa16af70270328a9",
      "29853cdba5ba4286b12c77d6bb4a9b44",
      "b6f62bfaff32437aa221511c77c5df3b",
      "c10aa44096cd4290a1927f369f6d1e0a",
      "853d094524454c1e8b834409f057938a",
      "a7b376c6cc9443518e745e286441edbc",
      "abc90b650d3545008d711e209b9c5785",
      "50c14a2b18c14061b55c461b6bea195c",
      "beb4b013848549d9887afaf3ecc44555",
      "a441b3a70361410c96764326a2d53ecc",
      "4d44b14fd42a442b8848cb1b8d9b37bf",
      "8cb09e69bc5341f1961487f5a2a3dc87",
      "ea47cad676d14813a38a491bd9868491",
      "fd9fb999aced4395893b4a8de1df1477",
      "ade7808cc6e7443cac6271beb67c8fb3",
      "24829c2324cc4239a455798ccf9b6b13",
      "e601adfc78114cac9f978206c10e3e40",
      "d24d4f8442214c7391ce88d65ab35617"
     ]
    },
    "execution": {
     "iopub.execute_input": "2023-10-13T04:56:31.244692Z",
     "iopub.status.busy": "2023-10-13T04:56:31.244331Z",
     "iopub.status.idle": "2023-10-13T04:56:35.706113Z",
     "shell.execute_reply": "2023-10-13T04:56:35.705189Z",
     "shell.execute_reply.started": "2023-10-13T04:56:31.244652Z"
    },
    "id": "pSRU2kM7Jr_F",
    "outputId": "01e69da3-8617-43bb-cf12-70106f87b5a2"
   },
   "outputs": [
    {
     "data": {
      "application/vnd.jupyter.widget-view+json": {
       "model_id": "c1637b3877984ba3b826a3df2029897a",
       "version_major": 2,
       "version_minor": 0
      },
      "text/plain": [
       "Downloading builder script:   0%|          | 0.00/1.84k [00:00<?, ?B/s]"
      ]
     },
     "metadata": {},
     "output_type": "display_data"
    },
    {
     "data": {
      "application/vnd.jupyter.widget-view+json": {
       "model_id": "2d090327206d4872a0f51f7f793dce64",
       "version_major": 2,
       "version_minor": 0
      },
      "text/plain": [
       "Downloading metadata:   0%|          | 0.00/873 [00:00<?, ?B/s]"
      ]
     },
     "metadata": {},
     "output_type": "display_data"
    },
    {
     "name": "stdout",
     "output_type": "stream",
     "text": [
      "Downloading and preparing dataset stereoset/intersentence (download: 11.92 MiB, generated: 2.18 MiB, post-processed: Unknown size, total: 14.10 MiB) to /root/.cache/huggingface/datasets/stereoset/intersentence/1.0.0/b188e395e95b37c7a095ebc2de352fbdb249d67d1beb2ff639bb4dc37dfbb090...\n"
     ]
    },
    {
     "data": {
      "application/vnd.jupyter.widget-view+json": {
       "model_id": "c832522126d9432fbb68ea20c288c46d",
       "version_major": 2,
       "version_minor": 0
      },
      "text/plain": [
       "Downloading data:   0%|          | 0.00/1.34M [00:00<?, ?B/s]"
      ]
     },
     "metadata": {},
     "output_type": "display_data"
    },
    {
     "data": {
      "application/vnd.jupyter.widget-view+json": {
       "model_id": "",
       "version_major": 2,
       "version_minor": 0
      },
      "text/plain": [
       "Generating validation split:   0%|          | 0/2123 [00:00<?, ? examples/s]"
      ]
     },
     "metadata": {},
     "output_type": "display_data"
    },
    {
     "name": "stdout",
     "output_type": "stream",
     "text": [
      "Dataset stereoset downloaded and prepared to /root/.cache/huggingface/datasets/stereoset/intersentence/1.0.0/b188e395e95b37c7a095ebc2de352fbdb249d67d1beb2ff639bb4dc37dfbb090. Subsequent calls will reuse this data.\n"
     ]
    },
    {
     "data": {
      "application/vnd.jupyter.widget-view+json": {
       "model_id": "a6e99e5aea384bdb9495b92cf6e86bf2",
       "version_major": 2,
       "version_minor": 0
      },
      "text/plain": [
       "  0%|          | 0/1 [00:00<?, ?it/s]"
      ]
     },
     "metadata": {},
     "output_type": "display_data"
    }
   ],
   "source": [
    "from datasets import load_dataset\n",
    "import pandas as pd\n",
    "\n",
    "dataset = load_dataset('stereoset', 'intersentence')\n",
    "stereo_sentence = []\n",
    "ster = dataset['validation'][0:]['bias_type']\n",
    "\n",
    "for i in range(len(ster)):\n",
    "    if ster[i] == 'gender':\n",
    "        sent = dataset['validation'][i:i+1]['sentences'][0]['sentence']\n",
    "        gold_label = dataset['validation'][i:i+1]['sentences'][0]['gold_label']\n",
    "        for j in range(len(gold_label)):\n",
    "            if gold_label[j] == 0:\n",
    "                stereo_sentence.append(sent[j])\n",
    "\n",
    "stereo_sent1 = []\n",
    "ster = dataset['validation'][0:]['bias_type']\n",
    "\n",
    "for i in range(len(ster)):\n",
    "    if ster[i] == 'gender':\n",
    "        sent = dataset['validation'][i:i+1]['sentences'][0]['sentence']\n",
    "        gold_label = dataset['validation'][i:i+1]['sentences'][0]['gold_label']\n",
    "        for j in range(len(gold_label)):\n",
    "            if gold_label[j] == 1:\n",
    "                #print(sent[j])\n",
    "                stereo_sent1.append(sent[j])\n",
    "\n",
    "stereo_sentence.append(stereo_sent1)\n",
    "\n",
    "df1 = pd.DataFrame(stereo_sentence)\n",
    "df2 = pd.Series([1 for x in range(len(df1.index))])\n",
    "stereo_df = pd.concat([df1,df2],axis=1,ignore_index=False)\n",
    "stereo_df.columns = ['data','stereotype']\n",
    "string_list = stereo_df.loc[242, 'data']\n",
    "\n",
    "# Remove the 242nd element from the DataFrame\n",
    "stereo_df = stereo_df.drop(242)\n",
    "\n",
    "# Convert the string_list into a list of dictionaries\n",
    "list_of_dicts = [{'data': item, 'stereotype': 1} for item in string_list]\n",
    "\n",
    "# Create a new DataFrame from the list of dictionaries\n",
    "new_data_df = pd.DataFrame(list_of_dicts)\n",
    "\n",
    "# Concatenate the new DataFrame with the original DataFrame\n",
    "stereo_df = pd.concat([stereo_df, new_data_df], ignore_index=True)\n"
   ]
  },
  {
   "cell_type": "code",
   "execution_count": 5,
   "metadata": {
    "execution": {
     "iopub.execute_input": "2023-10-13T04:56:35.709584Z",
     "iopub.status.busy": "2023-10-13T04:56:35.708631Z",
     "iopub.status.idle": "2023-10-13T04:56:35.716810Z",
     "shell.execute_reply": "2023-10-13T04:56:35.715789Z",
     "shell.execute_reply.started": "2023-10-13T04:56:35.709550Z"
    }
   },
   "outputs": [
    {
     "data": {
      "text/plain": [
       "(484, 2)"
      ]
     },
     "execution_count": 5,
     "metadata": {},
     "output_type": "execute_result"
    }
   ],
   "source": [
    "stereo_df.shape"
   ]
  },
  {
   "cell_type": "code",
   "execution_count": 6,
   "metadata": {
    "execution": {
     "iopub.execute_input": "2023-10-13T04:56:35.718763Z",
     "iopub.status.busy": "2023-10-13T04:56:35.717970Z",
     "iopub.status.idle": "2023-10-13T04:56:35.739808Z",
     "shell.execute_reply": "2023-10-13T04:56:35.738845Z",
     "shell.execute_reply.started": "2023-10-13T04:56:35.718718Z"
    },
    "id": "yfXx4IeEzIXf"
   },
   "outputs": [],
   "source": [
    "import string\n",
    "\n",
    "# Define a function to clean text\n",
    "def clean_text(text):\n",
    "    # Remove punctuation and convert to lower case\n",
    "    text = text.translate(str.maketrans('', '', string.punctuation)).lower()\n",
    "    return text"
   ]
  },
  {
   "cell_type": "code",
   "execution_count": 7,
   "metadata": {
    "execution": {
     "iopub.execute_input": "2023-10-13T04:56:35.741940Z",
     "iopub.status.busy": "2023-10-13T04:56:35.740957Z",
     "iopub.status.idle": "2023-10-13T04:56:38.177832Z",
     "shell.execute_reply": "2023-10-13T04:56:38.176897Z",
     "shell.execute_reply.started": "2023-10-13T04:56:35.741905Z"
    },
    "id": "GK59OWz1JtvG"
   },
   "outputs": [],
   "source": [
    "import pandas as pd\n",
    "import numpy as np\n",
    "\n",
    "poems_df = pd.read_excel('/kaggle/working/data.xlsx', sheet_name='poems')\n",
    "# Read the 'rhymes' sheet from the Excel file\n",
    "rhymes_df = pd.read_excel('/kaggle/working/data.xlsx', sheet_name='rhymes')\n",
    "#poems_df['poem'] = poems_df['poem']+341"
   ]
  },
  {
   "cell_type": "markdown",
   "metadata": {
    "id": "hRE6z8noeK9o"
   },
   "source": [
    "## Rhymes and Poems DataFrame"
   ]
  },
  {
   "cell_type": "code",
   "execution_count": 8,
   "metadata": {
    "execution": {
     "iopub.execute_input": "2023-10-13T04:56:38.179950Z",
     "iopub.status.busy": "2023-10-13T04:56:38.179136Z",
     "iopub.status.idle": "2023-10-13T04:56:38.279123Z",
     "shell.execute_reply": "2023-10-13T04:56:38.278260Z",
     "shell.execute_reply.started": "2023-10-13T04:56:38.179915Z"
    },
    "id": "Dq3r4fJnc2Lz"
   },
   "outputs": [],
   "source": [
    "# Clean the 'data' column in poems_df\n",
    "poems_df['data'] = poems_df['data'].apply(clean_text)\n",
    "\n",
    "# Clean the 'aug_data' column in poems_df\n",
    "poems_df['aug_data'] = poems_df['aug_data'].apply(clean_text)\n",
    "\n",
    "# Clean the 'data' column in rhymes_df\n",
    "rhymes_df['data'] = rhymes_df['data'].apply(clean_text)\n",
    "\n",
    "# Clean the 'aug_data' column in rhymes_df\n",
    "rhymes_df['aug_data'] = rhymes_df['aug_data'].apply(clean_text)\n",
    "\n",
    "stereo_df['data'] = stereo_df['data'].apply(clean_text)"
   ]
  },
  {
   "cell_type": "markdown",
   "metadata": {
    "id": "3zRXZ48keP2P"
   },
   "source": [
    "## Line By Line"
   ]
  },
  {
   "cell_type": "code",
   "execution_count": 9,
   "metadata": {
    "colab": {
     "base_uri": "https://localhost:8080/"
    },
    "execution": {
     "iopub.execute_input": "2023-10-13T04:56:38.281199Z",
     "iopub.status.busy": "2023-10-13T04:56:38.280404Z",
     "iopub.status.idle": "2023-10-13T04:56:38.291665Z",
     "shell.execute_reply": "2023-10-13T04:56:38.290735Z",
     "shell.execute_reply.started": "2023-10-13T04:56:38.281164Z"
    },
    "id": "JTmqHlxjHQq6",
    "outputId": "c54b232b-82ec-4c17-848f-130b36d00794"
   },
   "outputs": [
    {
     "data": {
      "text/plain": [
       "510"
      ]
     },
     "execution_count": 9,
     "metadata": {},
     "output_type": "execute_result"
    }
   ],
   "source": [
    "# Combine both dataframes\n",
    "line_df = pd.concat([rhymes_df, poems_df],ignore_index=True)\n",
    "\n",
    "# Add the last 'poem' number from rhymes_df to the 'poem' column of poems_df\n",
    "last_poem_number = rhymes_df['poem'].max()\n",
    "poems_df['poem'] += last_poem_number \n",
    "\n",
    "line_df['stereotype'].sum()"
   ]
  },
  {
   "cell_type": "code",
   "execution_count": 10,
   "metadata": {
    "execution": {
     "iopub.execute_input": "2023-10-13T04:56:38.293833Z",
     "iopub.status.busy": "2023-10-13T04:56:38.293241Z",
     "iopub.status.idle": "2023-10-13T04:56:38.301317Z",
     "shell.execute_reply": "2023-10-13T04:56:38.300249Z",
     "shell.execute_reply.started": "2023-10-13T04:56:38.293801Z"
    }
   },
   "outputs": [
    {
     "data": {
      "text/plain": [
       "(13313, 4)"
      ]
     },
     "execution_count": 10,
     "metadata": {},
     "output_type": "execute_result"
    }
   ],
   "source": [
    "line_df.shape"
   ]
  },
  {
   "cell_type": "markdown",
   "metadata": {
    "id": "cFpG9-1neUk2"
   },
   "source": [
    "## 2 Lines"
   ]
  },
  {
   "cell_type": "code",
   "execution_count": 11,
   "metadata": {
    "colab": {
     "base_uri": "https://localhost:8080/"
    },
    "execution": {
     "iopub.execute_input": "2023-10-13T04:56:38.305557Z",
     "iopub.status.busy": "2023-10-13T04:56:38.305153Z",
     "iopub.status.idle": "2023-10-13T04:56:39.948792Z",
     "shell.execute_reply": "2023-10-13T04:56:39.947895Z",
     "shell.execute_reply.started": "2023-10-13T04:56:38.305536Z"
    },
    "id": "RocSLD8Wc6U6",
    "outputId": "bcd3ecaa-9d2f-4c2a-afa4-95f4bfd61f5e"
   },
   "outputs": [
    {
     "data": {
      "text/plain": [
       "421"
      ]
     },
     "execution_count": 11,
     "metadata": {},
     "output_type": "execute_result"
    }
   ],
   "source": [
    "combined_df = pd.concat([rhymes_df, poems_df],ignore_index=True)\n",
    "\n",
    "# Add the last 'poem' number from rhymes_df to the 'poem' column of poems_df\n",
    "last_poem_number = rhymes_df['poem'].max()\n",
    "poems_df['poem'] += last_poem_number \n",
    "\n",
    "# Grouping poems in the combined dataframe by 2 lines\n",
    "grouped_2lines_df = combined_df.groupby(['poem', np.arange(len(combined_df)) // 2]).agg({'data': ' '.join, 'aug_data': ' '.join})\n",
    "\n",
    "# Check if a stereotype exists in the group and assign 'stereotype' column\n",
    "grouped_2lines_df['stereotype'] = combined_df.groupby(['poem', np.arange(len(combined_df)) // 2])['stereotype'].apply(lambda x: 1 if x.astype(bool).any() else np.nan)\n",
    "\n",
    "# Replace NaN values in 'stereotype' column with 0\n",
    "grouped_2lines_df['stereotype'] = grouped_2lines_df['stereotype'].fillna(0).astype(int)\n",
    "\n",
    "# Reset the index to remove the 'level_1' column\n",
    "grouped_2lines_df = grouped_2lines_df.reset_index()\n",
    "\n",
    "grouped_2lines_df['stereotype'].sum()"
   ]
  },
  {
   "cell_type": "markdown",
   "metadata": {
    "id": "AxLxCkUqeXTa"
   },
   "source": [
    "## 3 Lines"
   ]
  },
  {
   "cell_type": "code",
   "execution_count": 12,
   "metadata": {
    "colab": {
     "base_uri": "https://localhost:8080/"
    },
    "execution": {
     "iopub.execute_input": "2023-10-13T04:56:39.951188Z",
     "iopub.status.busy": "2023-10-13T04:56:39.950564Z",
     "iopub.status.idle": "2023-10-13T04:56:40.562975Z",
     "shell.execute_reply": "2023-10-13T04:56:40.562073Z",
     "shell.execute_reply.started": "2023-10-13T04:56:39.951154Z"
    },
    "id": "hGllUCrJdQG2",
    "outputId": "117c2c34-28df-4f03-c269-28393bf470fb"
   },
   "outputs": [
    {
     "data": {
      "text/plain": [
       "375"
      ]
     },
     "execution_count": 12,
     "metadata": {},
     "output_type": "execute_result"
    }
   ],
   "source": [
    "combined_df = pd.concat([rhymes_df, poems_df],ignore_index=True)\n",
    "\n",
    "# Add the last 'poem' number from rhymes_df to the 'poem' column of poems_df\n",
    "last_poem_number = rhymes_df['poem'].max()\n",
    "poems_df['poem'] += last_poem_number \n",
    "\n",
    "# Grouping poems in the combined dataframe by 3 lines\n",
    "grouped_3lines_df = combined_df.groupby(['poem', np.arange(len(combined_df)) // 3]).agg({'data': ' '.join, 'aug_data': ' '.join})\n",
    "\n",
    "# Check if a stereotype exists in the group and assign 'stereotype' column\n",
    "grouped_3lines_df['stereotype'] = combined_df.groupby(['poem', np.arange(len(combined_df)) // 3])['stereotype'].apply(lambda x: 1 if x.astype(bool).any() else np.nan)\n",
    "\n",
    "# Replace NaN values in 'stereotype' column with 0\n",
    "grouped_3lines_df['stereotype'] = grouped_3lines_df['stereotype'].fillna(0).astype(int)\n",
    "\n",
    "# Reset the index to remove the 'level_1' column\n",
    "grouped_3lines_df = grouped_3lines_df.reset_index()\n",
    "\n",
    "grouped_3lines_df['stereotype'].sum()"
   ]
  },
  {
   "cell_type": "markdown",
   "metadata": {
    "id": "xr14EkzQeY-u"
   },
   "source": [
    "## Poem by Poem"
   ]
  },
  {
   "cell_type": "code",
   "execution_count": 13,
   "metadata": {
    "colab": {
     "base_uri": "https://localhost:8080/"
    },
    "execution": {
     "iopub.execute_input": "2023-10-13T04:56:40.564515Z",
     "iopub.status.busy": "2023-10-13T04:56:40.564176Z",
     "iopub.status.idle": "2023-10-13T04:56:40.668035Z",
     "shell.execute_reply": "2023-10-13T04:56:40.667130Z",
     "shell.execute_reply.started": "2023-10-13T04:56:40.564483Z"
    },
    "id": "InuT4kqXdRlN",
    "outputId": "4d8e35a9-6f9f-4fad-9cfc-359d485201b8"
   },
   "outputs": [
    {
     "data": {
      "text/plain": [
       "145"
      ]
     },
     "execution_count": 13,
     "metadata": {},
     "output_type": "execute_result"
    }
   ],
   "source": [
    "# Combine both dataframes\n",
    "combined_df = pd.concat([rhymes_df, poems_df],ignore_index=True)\n",
    "\n",
    "# Add the last 'poem' number from rhymes_df to the 'poem' column of poems_df\n",
    "last_poem_number = rhymes_df['poem'].max()\n",
    "poems_df['poem'] += last_poem_number \n",
    "\n",
    "# Grouping poems in the combined dataframe, treating each poem as a separate group\n",
    "grouped_poem_df = combined_df.groupby('poem').agg({'data': ' '.join, 'aug_data': ' '.join})\n",
    "\n",
    "# Check if a stereotype exists in the group and assign 'stereotype' column\n",
    "grouped_poem_df['stereotype'] = combined_df.groupby('poem')['stereotype'].apply(lambda x: 1 if x.astype(bool).any() else np.nan)\n",
    "\n",
    "# Replace NaN values in 'stereotype' column with 0\n",
    "grouped_poem_df['stereotype'] = grouped_poem_df['stereotype'].fillna(0).astype(int)\n",
    "\n",
    "# Reset the index to get 'poem' as a column\n",
    "grouped_poem_df = grouped_poem_df.reset_index()\n",
    "\n",
    "grouped_poem_df['stereotype'].sum()"
   ]
  },
  {
   "cell_type": "code",
   "execution_count": 14,
   "metadata": {
    "execution": {
     "iopub.execute_input": "2023-10-13T04:56:40.670422Z",
     "iopub.status.busy": "2023-10-13T04:56:40.669579Z",
     "iopub.status.idle": "2023-10-13T04:56:40.674899Z",
     "shell.execute_reply": "2023-10-13T04:56:40.673774Z",
     "shell.execute_reply.started": "2023-10-13T04:56:40.670373Z"
    },
    "id": "q2DMywLCdVCx"
   },
   "outputs": [],
   "source": [
    "# Create a list of dataframes\n",
    "dataframes_list = [line_df, grouped_2lines_df, grouped_3lines_df, grouped_poem_df]"
   ]
  },
  {
   "cell_type": "code",
   "execution_count": 15,
   "metadata": {
    "colab": {
     "base_uri": "https://localhost:8080/"
    },
    "execution": {
     "iopub.execute_input": "2023-10-13T04:56:40.676627Z",
     "iopub.status.busy": "2023-10-13T04:56:40.676321Z",
     "iopub.status.idle": "2023-10-13T04:56:40.688519Z",
     "shell.execute_reply": "2023-10-13T04:56:40.687631Z",
     "shell.execute_reply.started": "2023-10-13T04:56:40.676598Z"
    },
    "id": "_FNyZqv25O4q",
    "outputId": "c88cb6f4-e918-4f5d-c2d6-1fa020189cf3"
   },
   "outputs": [
    {
     "name": "stdout",
     "output_type": "stream",
     "text": [
      "\t 0\t 1\n",
      "1 line\t 12803 \t 510\n",
      "2 lines\t 6548 \t 421\n",
      "3 lines\t 4516 \t 375\n",
      "Poem \t 516 \t 145\n"
     ]
    }
   ],
   "source": [
    "print('\\t 0\\t 1')\n",
    "print('1 line\\t',dataframes_list[0].shape[0] - dataframes_list[0]['stereotype'].sum() ,'\\t',dataframes_list[0]['stereotype'].sum())\n",
    "print('2 lines\\t',dataframes_list[1].shape[0] - dataframes_list[1]['stereotype'].sum() ,'\\t',dataframes_list[1]['stereotype'].sum())\n",
    "print('3 lines\\t',dataframes_list[2].shape[0] - dataframes_list[2]['stereotype'].sum() ,'\\t',dataframes_list[2]['stereotype'].sum())\n",
    "print('Poem \\t',dataframes_list[3].shape[0] - dataframes_list[3]['stereotype'].sum() ,'\\t',dataframes_list[3]['stereotype'].sum())"
   ]
  },
  {
   "cell_type": "code",
   "execution_count": 16,
   "metadata": {
    "colab": {
     "base_uri": "https://localhost:8080/"
    },
    "execution": {
     "iopub.execute_input": "2023-10-13T04:56:40.690888Z",
     "iopub.status.busy": "2023-10-13T04:56:40.689904Z",
     "iopub.status.idle": "2023-10-13T04:56:40.704978Z",
     "shell.execute_reply": "2023-10-13T04:56:40.703974Z",
     "shell.execute_reply.started": "2023-10-13T04:56:40.690858Z"
    },
    "id": "sDrmuUr4XfAa",
    "outputId": "1cd270cf-01e0-484c-a159-7ada8eb11ac7"
   },
   "outputs": [
    {
     "data": {
      "text/plain": [
       "484"
      ]
     },
     "execution_count": 16,
     "metadata": {},
     "output_type": "execute_result"
    }
   ],
   "source": [
    "stereo_df['stereotype'].sum()"
   ]
  },
  {
   "cell_type": "markdown",
   "metadata": {
    "id": "VPAch9WvFTHp"
   },
   "source": [
    "# Function to create Different types in data"
   ]
  },
  {
   "cell_type": "code",
   "execution_count": 16,
   "metadata": {
    "execution": {
     "iopub.execute_input": "2023-05-20T15:45:51.702734Z",
     "iopub.status.busy": "2023-05-20T15:45:51.702168Z",
     "iopub.status.idle": "2023-05-20T15:46:03.027441Z",
     "shell.execute_reply": "2023-05-20T15:46:03.026317Z",
     "shell.execute_reply.started": "2023-05-20T15:45:51.702696Z"
    }
   },
   "outputs": [
    {
     "name": "stdout",
     "output_type": "stream",
     "text": [
      "\u001b[33mWARNING: Running pip as the 'root' user can result in broken permissions and conflicting behaviour with the system package manager. It is recommended to use a virtual environment instead: https://pip.pypa.io/warnings/venv\u001b[0m\u001b[33m\n",
      "\u001b[0m"
     ]
    }
   ],
   "source": [
    "!pip install imbalanced-learn -q"
   ]
  },
  {
   "cell_type": "code",
   "execution_count": 17,
   "metadata": {
    "execution": {
     "iopub.execute_input": "2023-10-13T04:56:43.121642Z",
     "iopub.status.busy": "2023-10-13T04:56:43.121311Z",
     "iopub.status.idle": "2023-10-13T04:56:44.148877Z",
     "shell.execute_reply": "2023-10-13T04:56:44.147920Z",
     "shell.execute_reply.started": "2023-10-13T04:56:43.121616Z"
    }
   },
   "outputs": [
    {
     "name": "stderr",
     "output_type": "stream",
     "text": [
      "/opt/conda/lib/python3.10/site-packages/scipy/__init__.py:146: UserWarning: A NumPy version >=1.16.5 and <1.23.0 is required for this version of SciPy (detected version 1.23.5\n",
      "  warnings.warn(f\"A NumPy version >={np_minversion} and <{np_maxversion}\"\n"
     ]
    }
   ],
   "source": [
    "import pandas as pd\n",
    "from imblearn.under_sampling import RandomUnderSampler\n",
    "from imblearn.over_sampling import RandomOverSampler\n",
    "from sklearn.model_selection import train_test_split"
   ]
  },
  {
   "cell_type": "code",
   "execution_count": 18,
   "metadata": {
    "execution": {
     "iopub.execute_input": "2023-10-13T04:56:45.333371Z",
     "iopub.status.busy": "2023-10-13T04:56:45.333024Z",
     "iopub.status.idle": "2023-10-13T04:56:45.340640Z",
     "shell.execute_reply": "2023-10-13T04:56:45.339655Z",
     "shell.execute_reply.started": "2023-10-13T04:56:45.333343Z"
    },
    "id": "ziiLjYjgFSa8"
   },
   "outputs": [],
   "source": [
    "import pandas as pd\n",
    "from sklearn.model_selection import train_test_split\n",
    "\n",
    "def pre_processing(df, stereo):\n",
    "    X_train, X_test, y_train, y_test = train_test_split(df.drop(['stereotype'], axis=1), df[\"stereotype\"], test_size=0.30, random_state=42)\n",
    "\n",
    "    # Split the dataset into 80:20 ratio\n",
    "    train_df = pd.concat([X_train, y_train], axis=1)\n",
    "    print('training Sterotypes\\n',train_df['stereotype'].value_counts())\n",
    "    test_df = pd.concat([X_test, y_test], axis=1)\n",
    "\n",
    "    new_df = train_df[train_df['stereotype'] == 1]\n",
    "    print(len(new_df['aug_data'].tolist()))\n",
    "    temp = new_df['aug_data'].tolist()\n",
    "    train_df = pd.concat([train_df, pd.DataFrame({'data': temp, 'stereotype': [1] * len(temp)}), stereo], ignore_index=True)\n",
    "\n",
    "    train_df['call_set'] = 'train'\n",
    "    test_df['call_set'] = 'test'\n",
    "\n",
    "    combined_df = pd.concat([train_df, test_df], ignore_index=True)\n",
    "    combined_df.drop(['aug_data'], axis=1, inplace=True)\n",
    "\n",
    "    return combined_df\n"
   ]
  },
  {
   "cell_type": "code",
   "execution_count": 19,
   "metadata": {
    "execution": {
     "iopub.execute_input": "2023-10-13T04:56:46.454359Z",
     "iopub.status.busy": "2023-10-13T04:56:46.453996Z",
     "iopub.status.idle": "2023-10-13T04:56:46.501056Z",
     "shell.execute_reply": "2023-10-13T04:56:46.499968Z",
     "shell.execute_reply.started": "2023-10-13T04:56:46.454329Z"
    },
    "id": "x2AXx5D5SfTy"
   },
   "outputs": [
    {
     "name": "stdout",
     "output_type": "stream",
     "text": [
      "training Sterotypes\n",
      " 0    8966\n",
      "1     353\n",
      "Name: stereotype, dtype: int64\n",
      "353\n",
      "training Sterotypes\n",
      " 0    4596\n",
      "1     282\n",
      "Name: stereotype, dtype: int64\n",
      "282\n",
      "training Sterotypes\n",
      " 0    3160\n",
      "1     263\n",
      "Name: stereotype, dtype: int64\n",
      "263\n",
      "training Sterotypes\n",
      " 0    359\n",
      "1    103\n",
      "Name: stereotype, dtype: int64\n",
      "103\n"
     ]
    }
   ],
   "source": [
    "line_line = pre_processing(dataframes_list[0], stereo_df).drop(['poem'], axis=1)\n",
    "line_2 = pre_processing(dataframes_list[1], stereo_df).drop(['poem', 'level_1'], axis=1)\n",
    "line_3 = pre_processing(dataframes_list[2], stereo_df).drop(['poem', 'level_1'], axis=1)\n",
    "poem_poem = pre_processing(dataframes_list[3], stereo_df).drop(['poem'], axis=1)\n"
   ]
  },
  {
   "cell_type": "code",
   "execution_count": 20,
   "metadata": {
    "execution": {
     "iopub.execute_input": "2023-10-13T04:56:48.991003Z",
     "iopub.status.busy": "2023-10-13T04:56:48.990663Z",
     "iopub.status.idle": "2023-10-13T04:56:48.995145Z",
     "shell.execute_reply": "2023-10-13T04:56:48.994269Z",
     "shell.execute_reply.started": "2023-10-13T04:56:48.990973Z"
    },
    "id": "7LkcQuyMyDdR"
   },
   "outputs": [],
   "source": [
    "split_data_df = [line_line, line_2, line_3, poem_poem]"
   ]
  },
  {
   "cell_type": "code",
   "execution_count": 21,
   "metadata": {
    "colab": {
     "base_uri": "https://localhost:8080/"
    },
    "execution": {
     "iopub.execute_input": "2023-10-13T04:56:49.598350Z",
     "iopub.status.busy": "2023-10-13T04:56:49.597656Z",
     "iopub.status.idle": "2023-10-13T04:56:49.607834Z",
     "shell.execute_reply": "2023-10-13T04:56:49.606984Z",
     "shell.execute_reply.started": "2023-10-13T04:56:49.598307Z"
    },
    "id": "_QijGZL-6dT-",
    "outputId": "cc200723-a5c2-487f-f01d-0d5c82cc86ce"
   },
   "outputs": [
    {
     "data": {
      "text/plain": [
       "[0    12803\n",
       " 1     1347\n",
       " Name: stereotype, dtype: int64,\n",
       " 0    6548\n",
       " 1    1187\n",
       " Name: stereotype, dtype: int64,\n",
       " 0    4516\n",
       " 1    1122\n",
       " Name: stereotype, dtype: int64,\n",
       " 1    732\n",
       " 0    516\n",
       " Name: stereotype, dtype: int64]"
      ]
     },
     "execution_count": 21,
     "metadata": {},
     "output_type": "execute_result"
    }
   ],
   "source": [
    "[value_counts for i in range(len(split_data_df)) for value_counts in [split_data_df[i]['stereotype'].value_counts()]]"
   ]
  },
  {
   "cell_type": "markdown",
   "metadata": {
    "id": "L5c_8J7yFRSH"
   },
   "source": [
    "___"
   ]
  },
  {
   "cell_type": "code",
   "execution_count": null,
   "metadata": {
    "id": "ykxzYkfhyRm7"
   },
   "outputs": [],
   "source": []
  },
  {
   "cell_type": "code",
   "execution_count": null,
   "metadata": {
    "id": "M4IMc9FSyRin"
   },
   "outputs": [],
   "source": []
  },
  {
   "cell_type": "code",
   "execution_count": null,
   "metadata": {
    "id": "Xxz_Iv_yyRfe"
   },
   "outputs": [],
   "source": []
  },
  {
   "cell_type": "code",
   "execution_count": null,
   "metadata": {
    "id": "CPacfZbpyRb7"
   },
   "outputs": [],
   "source": []
  },
  {
   "cell_type": "code",
   "execution_count": null,
   "metadata": {
    "id": "6exCmiYzyRWi"
   },
   "outputs": [],
   "source": []
  },
  {
   "cell_type": "markdown",
   "metadata": {
    "id": "3OWladGiycOB"
   },
   "source": [
    "# BERT Classification"
   ]
  },
  {
   "cell_type": "code",
   "execution_count": 22,
   "metadata": {
    "execution": {
     "iopub.execute_input": "2023-10-13T04:56:52.992094Z",
     "iopub.status.busy": "2023-10-13T04:56:52.991165Z",
     "iopub.status.idle": "2023-10-13T04:57:03.600660Z",
     "shell.execute_reply": "2023-10-13T04:57:03.599704Z",
     "shell.execute_reply.started": "2023-10-13T04:56:52.992055Z"
    },
    "id": "tlAfjZ28JgZ4"
   },
   "outputs": [],
   "source": [
    "import torch\n",
    "import torch.nn as nn\n",
    "from torch.utils.data import DataLoader\n",
    "from transformers import BertTokenizer, BertForSequenceClassification, AutoTokenizer\n",
    "from sklearn.metrics import accuracy_score, precision_score, recall_score, f1_score, confusion_matrix"
   ]
  },
  {
   "cell_type": "code",
   "execution_count": 23,
   "metadata": {
    "colab": {
     "base_uri": "https://localhost:8080/",
     "height": 1000,
     "referenced_widgets": [
      "32c95a77cdbd4c2cbbaf92d574baf946",
      "abe5208040fb4c60b6998905f13c6bfd",
      "c6fd632e33744cabaf28de68fc55a4c6",
      "c4498e0b49704ce3841eb09411f9c28e",
      "837c1db464b54ba193fcb62f9b9046b5",
      "103618d84dc64e779ea06a2dcc0d7689",
      "d4ba96dcaecd44738a56259076b8e75f",
      "3b03253ecf4945f5a8f5f90972c7fade",
      "9494713198cb4e16baab031505de163a",
      "b4f8dbe3bc78452489d9658e6337e617",
      "cef12c9f012c477ba2ee4c0df869b3dd",
      "1eae70007a36464e9d9a706649cbfc23",
      "f7355f3a35e647128595bebb82dae1dc",
      "022613c82e034f26b3f1126408cd6e1d",
      "d18c290e64014ae4bd1237e367f56859",
      "5c6a596786b4494abc784ae073376a81",
      "120df7bbde9b4b3aacff62d49e4c4a98",
      "23403539b5c74769aa55f163a2237665",
      "38b5dcf080c64bd8bf0e7d9ee3e64a8f",
      "0aacfd123ed447db81e7224f31919d8f",
      "5e5ecfe21a3d4c2090bde1d4abff5698",
      "af654e273757484998b066f34321a126",
      "cb42dcd3a05f4d2d9d25e5e0707aefa0",
      "eb28a04e06454142bdd0b9aa246e13bd",
      "cb174b111c404592900042c4c508ac4d",
      "31a8f583849747e4a9931baccaab61ba",
      "d01f0f53848840e89ec3fe506cde6000",
      "db01495f3bf043b2b8a669eaa6943d58",
      "bc3eb18e38724c5d8cb19228c74a2bae",
      "5d207a55ed3048c898e91ad7d89cbba1",
      "605d8282e7744120a12f01ce4965b2bd",
      "8f462e5afe624f51b6ab807a299ad70d",
      "89f23f996a2b4a3193fe47ca5c9c65e1",
      "1f52dde9de4143a385db1437c1ba3370",
      "ef7f2774c547401194dd74f3bccb1658",
      "45da091a43bd4930964b7392e43794ae",
      "c2c441ea89364d7c9a3eb193c24d3fbe",
      "1906e5fad2f649f29efc57b221cf0cdf",
      "745d5b4dcc4649eaacaeb5e4f6efbe6f",
      "a12ac58d362c4a469193a765b19b3157",
      "0a3a0db1a62e42ef8c7071a0cacac69a",
      "dd92e5b120c245ebb30c00b600ce06f3",
      "f30e59cf07ce4f17b99a57b5e72d5fa5",
      "4c5a2dce99744e8c8dbdf2ef1633ff34"
     ]
    },
    "execution": {
     "iopub.execute_input": "2023-05-20T15:46:21.722888Z",
     "iopub.status.busy": "2023-05-20T15:46:21.722541Z",
     "iopub.status.idle": "2023-05-20T15:46:21.727846Z",
     "shell.execute_reply": "2023-05-20T15:46:21.726943Z",
     "shell.execute_reply.started": "2023-05-20T15:46:21.722852Z"
    },
    "id": "P_9bSmRSJh8P",
    "outputId": "b7c8c21a-f4b3-4158-f39f-6859313ccc8a"
   },
   "outputs": [],
   "source": [
    "# Set device to GPU if available\n"
   ]
  },
  {
   "cell_type": "code",
   "execution_count": 23,
   "metadata": {
    "execution": {
     "iopub.execute_input": "2023-10-13T04:57:03.603009Z",
     "iopub.status.busy": "2023-10-13T04:57:03.602506Z",
     "iopub.status.idle": "2023-10-13T04:57:06.331823Z",
     "shell.execute_reply": "2023-10-13T04:57:06.330849Z",
     "shell.execute_reply.started": "2023-10-13T04:57:03.602977Z"
    }
   },
   "outputs": [
    {
     "data": {
      "application/vnd.jupyter.widget-view+json": {
       "model_id": "822bb45e3d614bea986f21130084b8ca",
       "version_major": 2,
       "version_minor": 0
      },
      "text/plain": [
       "Downloading (…)okenizer_config.json:   0%|          | 0.00/28.0 [00:00<?, ?B/s]"
      ]
     },
     "metadata": {},
     "output_type": "display_data"
    },
    {
     "data": {
      "application/vnd.jupyter.widget-view+json": {
       "model_id": "43f9c1a9c3c04549b873903118c8da15",
       "version_major": 2,
       "version_minor": 0
      },
      "text/plain": [
       "Downloading (…)lve/main/config.json:   0%|          | 0.00/570 [00:00<?, ?B/s]"
      ]
     },
     "metadata": {},
     "output_type": "display_data"
    },
    {
     "data": {
      "application/vnd.jupyter.widget-view+json": {
       "model_id": "996e5717a14b448e9aa007f6f865c72d",
       "version_major": 2,
       "version_minor": 0
      },
      "text/plain": [
       "Downloading (…)solve/main/vocab.txt:   0%|          | 0.00/232k [00:00<?, ?B/s]"
      ]
     },
     "metadata": {},
     "output_type": "display_data"
    },
    {
     "data": {
      "application/vnd.jupyter.widget-view+json": {
       "model_id": "4140709ef9344f84bca0b891245d09d7",
       "version_major": 2,
       "version_minor": 0
      },
      "text/plain": [
       "Downloading (…)/main/tokenizer.json:   0%|          | 0.00/466k [00:00<?, ?B/s]"
      ]
     },
     "metadata": {},
     "output_type": "display_data"
    }
   ],
   "source": [
    "tokenizer = AutoTokenizer.from_pretrained(\"bert-base-uncased\")"
   ]
  },
  {
   "cell_type": "code",
   "execution_count": 28,
   "metadata": {
    "execution": {
     "iopub.execute_input": "2023-10-13T04:57:33.174984Z",
     "iopub.status.busy": "2023-10-13T04:57:33.174573Z",
     "iopub.status.idle": "2023-10-13T04:57:33.185904Z",
     "shell.execute_reply": "2023-10-13T04:57:33.184835Z",
     "shell.execute_reply.started": "2023-10-13T04:57:33.174949Z"
    },
    "id": "SNeoclpNJRm-"
   },
   "outputs": [],
   "source": [
    "from tqdm import tqdm\n",
    "\n",
    "def train(model, dataloader):\n",
    "    class_weights = [1.0, 10.0]\n",
    "    optimizer = torch.optim.Adam(model.parameters(), lr=4e-8)\n",
    "    criterion = nn.CrossEntropyLoss(weight=torch.tensor(class_weights, dtype=torch.float32).to(device))\n",
    "    model.train()\n",
    "    total_loss = 0.0\n",
    "    num_batches = len(dataloader)\n",
    "    \n",
    "    progress_bar = tqdm(enumerate(dataloader), total=num_batches, desc=\"Training\")\n",
    "    \n",
    "    for batch_idx, (input_ids, attention_mask, labels) in progress_bar:\n",
    "        input_ids = input_ids.to(device)\n",
    "        attention_mask = attention_mask.to(device)\n",
    "        labels = labels.to(device)\n",
    "\n",
    "        optimizer.zero_grad()\n",
    "        outputs = model(input_ids, attention_mask=attention_mask, labels=labels)\n",
    "        loss = outputs.loss\n",
    "        logits = outputs.logits\n",
    "\n",
    "        loss.backward()\n",
    "        optimizer.step()\n",
    "\n",
    "        total_loss += loss.item()\n",
    "        \n",
    "        # Update the progress bar description with current loss\n",
    "        progress_bar.set_description(f\"Training Loss: {loss.item():.4f}\")\n",
    "        \n",
    "    return total_loss / num_batches\n"
   ]
  },
  {
   "cell_type": "code",
   "execution_count": 29,
   "metadata": {
    "execution": {
     "iopub.execute_input": "2023-10-13T04:57:34.236330Z",
     "iopub.status.busy": "2023-10-13T04:57:34.235961Z",
     "iopub.status.idle": "2023-10-13T04:57:34.243539Z",
     "shell.execute_reply": "2023-10-13T04:57:34.242448Z",
     "shell.execute_reply.started": "2023-10-13T04:57:34.236301Z"
    },
    "id": "XkSown7ZJbVt"
   },
   "outputs": [],
   "source": [
    "from sklearn.metrics import classification_report, accuracy_score, precision_score, recall_score, f1_score, confusion_matrix\n",
    "\n",
    "def evaluate(model, dataloader):\n",
    "    model.eval()\n",
    "    predictions, true_labels = [], []\n",
    "\n",
    "    with torch.no_grad():\n",
    "        for input_ids, attention_mask, labels in dataloader:\n",
    "            input_ids = input_ids.to(device)\n",
    "            attention_mask = attention_mask.to(device)\n",
    "            labels = labels.to(device)\n",
    "\n",
    "            outputs = model(input_ids, attention_mask=attention_mask)\n",
    "            logits = outputs.logits\n",
    "            predicted_labels = torch.argmax(logits, dim=1)\n",
    "\n",
    "            predictions.extend(predicted_labels.cpu().numpy())\n",
    "            true_labels.extend(labels.cpu().numpy())\n",
    "\n",
    "    accuracy = accuracy_score(true_labels, predictions)\n",
    "    precision = precision_score(true_labels, predictions)\n",
    "    recall = recall_score(true_labels, predictions)\n",
    "    f1 = f1_score(true_labels, predictions)\n",
    "    confusion = confusion_matrix(true_labels, predictions)\n",
    "\n",
    "    # Calculate classification report\n",
    "    report = classification_report(true_labels, predictions)\n",
    "\n",
    "    print(\"Evaluation Metrics:\")\n",
    "    print(f\"Accuracy: {accuracy}\")\n",
    "    print(f\"Precision: {precision}\")\n",
    "    print(f\"Recall: {recall}\")\n",
    "    print(f\"F1-Score: {f1}\")\n",
    "    print(\"Confusion Matrix:\")\n",
    "    print(confusion)\n",
    "    print(\"Classification Report:\")\n",
    "    print(report)\n",
    "\n",
    "    return accuracy, precision, recall, f1, confusion\n"
   ]
  },
  {
   "cell_type": "code",
   "execution_count": 30,
   "metadata": {
    "execution": {
     "iopub.execute_input": "2023-10-13T04:57:34.526382Z",
     "iopub.status.busy": "2023-10-13T04:57:34.525638Z",
     "iopub.status.idle": "2023-10-13T04:57:34.532430Z",
     "shell.execute_reply": "2023-10-13T04:57:34.531405Z",
     "shell.execute_reply.started": "2023-10-13T04:57:34.526343Z"
    }
   },
   "outputs": [],
   "source": [
    "def max_len_df(df):\n",
    "    #maximum length of the sentence\n",
    "    max_len = 0\n",
    "    num_tokens = 0\n",
    "\n",
    "    # For every sentence...\n",
    "    for sent in df.data:\n",
    "\n",
    "    # Tokenize the text and add `[CLS]` and `[SEP]` tokens.\n",
    "        \n",
    "        input_ids = tokenizer.encode(sent, add_special_tokens=True)\n",
    "        num_tokens += (len(input_ids)-2)\n",
    "\n",
    "        # Update the maximum sentence length.\n",
    "        max_len = max(max_len, len(input_ids))\n",
    "\n",
    "    return max_len"
   ]
  },
  {
   "cell_type": "code",
   "execution_count": 31,
   "metadata": {
    "execution": {
     "iopub.execute_input": "2023-10-13T04:57:36.014041Z",
     "iopub.status.busy": "2023-10-13T04:57:36.013698Z",
     "iopub.status.idle": "2023-10-13T04:57:36.021766Z",
     "shell.execute_reply": "2023-10-13T04:57:36.020896Z",
     "shell.execute_reply.started": "2023-10-13T04:57:36.014013Z"
    },
    "id": "GAzgMizqueEe"
   },
   "outputs": [],
   "source": [
    "from sklearn.metrics import classification_report\n",
    "\n",
    "def bert_classification(train_df, test_df):\n",
    "    \n",
    "    \n",
    "        # Step 1: Preprocessing the Text Data\n",
    "    #tokenizer = BertTokenizer.from_pretrained('bert-base-uncased')\n",
    "    \n",
    "    max_len_train = max_len_df(train_df)\n",
    "    max_len_test = max_len_df(test_df)\n",
    "    \n",
    "    max_len = max(max_len_train, max_len_test)\n",
    "\n",
    "    # Step 2: Build the BERT Model\n",
    "    model = BertForSequenceClassification.from_pretrained('bert-base-uncased', num_labels=2)\n",
    "    model.to(device)\n",
    "    # Step 1: Preprocessing the Text Data\n",
    "    train_texts = train_df['data'].tolist()\n",
    "    train_labels = train_df['stereotype'].tolist()\n",
    "    test_texts = test_df['data'].tolist()\n",
    "    test_labels = test_df['stereotype'].tolist()\n",
    "\n",
    "    train_encodings = tokenizer(train_texts, truncation=True, padding=True, return_tensors='pt', )# max_length= 'Tokeniser max length'\n",
    "    train_dataset = torch.utils.data.TensorDataset(train_encodings['input_ids'], train_encodings['attention_mask'],\n",
    "                                                   torch.tensor(train_labels))\n",
    "    train_dataloader = DataLoader(train_dataset, batch_size=16, shuffle=True)\n",
    "\n",
    "    test_encodings = tokenizer(test_texts, truncation=True, padding=True, return_tensors='pt')\n",
    "    test_dataset = torch.utils.data.TensorDataset(test_encodings['input_ids'], test_encodings['attention_mask'],\n",
    "                                                  torch.tensor(test_labels))\n",
    "    test_dataloader = DataLoader(test_dataset, batch_size=16, shuffle=False)\n",
    "\n",
    "    # Step 4: Train the Model\n",
    "    for epoch in range(15):\n",
    "        loss = train(model, train_dataloader)\n",
    "        print(f\"Epoch {epoch + 1} - Average Loss: {loss}\")\n",
    "\n",
    "    # Step 5: Evaluate the Model\n",
    "    evaluate(model, test_dataloader)\n",
    "\n",
    "    # Step 6: Validate Model\n",
    "    #val_texts = new_df['data'].tolist()\n",
    "    #val_labels = new_df['stereotype'].tolist()\n",
    "\n",
    "    #val_encodings = tokenizer(val_texts, truncation=True, padding=True, return_tensors='pt')\n",
    "    #val_dataset = torch.utils.data.TensorDataset(val_encodings['input_ids'], val_encodings['attention_mask'], torch.tensor(val_labels))\n",
    "    #val_dataloader = DataLoader(val_dataset, batch_size=16, shuffle=False)\n",
    "\n",
    "    #check = evaluate(model, val_dataloader)\n"
   ]
  },
  {
   "cell_type": "code",
   "execution_count": 32,
   "metadata": {
    "execution": {
     "iopub.execute_input": "2023-10-13T04:57:37.074146Z",
     "iopub.status.busy": "2023-10-13T04:57:37.073749Z",
     "iopub.status.idle": "2023-10-13T04:57:37.096450Z",
     "shell.execute_reply": "2023-10-13T04:57:37.095272Z",
     "shell.execute_reply.started": "2023-10-13T04:57:37.074106Z"
    },
    "id": "9L-3Ex_G0PCt"
   },
   "outputs": [
    {
     "name": "stdout",
     "output_type": "stream",
     "text": [
      "(10156, 3) \n",
      " 0    8966\n",
      "1    1190\n",
      "Name: stereotype, dtype: int64\n",
      "(3994, 3) \n",
      " 0    3837\n",
      "1     157\n",
      "Name: stereotype, dtype: int64\n",
      "(5644, 3) \n",
      " 0    4596\n",
      "1    1048\n",
      "Name: stereotype, dtype: int64\n",
      "(2091, 3) \n",
      " 0    1952\n",
      "1     139\n",
      "Name: stereotype, dtype: int64\n",
      "(4170, 3) \n",
      " 0    3160\n",
      "1    1010\n",
      "Name: stereotype, dtype: int64\n",
      "(1468, 3) \n",
      " 0    1356\n",
      "1     112\n",
      "Name: stereotype, dtype: int64\n",
      "(1049, 3) \n",
      " 1    690\n",
      "0    359\n",
      "Name: stereotype, dtype: int64\n",
      "(199, 3) \n",
      " 0    157\n",
      "1     42\n",
      "Name: stereotype, dtype: int64\n"
     ]
    }
   ],
   "source": [
    "train_data = []\n",
    "test_data = []\n",
    "\n",
    "for df in split_data_df:\n",
    "    train_df = df[df['call_set'] == 'train']\n",
    "    print(train_df.shape,'\\n' ,train_df['stereotype'].value_counts())\n",
    "    test_df = df[df['call_set'] == 'test']\n",
    "    print(test_df.shape,'\\n' ,test_df['stereotype'].value_counts())\n",
    "    train_data.append(train_df)\n",
    "    test_data.append(test_df)"
   ]
  },
  {
   "cell_type": "code",
   "execution_count": 30,
   "metadata": {
    "execution": {
     "iopub.execute_input": "2023-05-19T13:16:18.981564Z",
     "iopub.status.busy": "2023-05-19T13:16:18.981146Z",
     "iopub.status.idle": "2023-05-19T13:16:18.990639Z",
     "shell.execute_reply": "2023-05-19T13:16:18.989412Z",
     "shell.execute_reply.started": "2023-05-19T13:16:18.981532Z"
    },
    "id": "uCXXvSlWPY90",
    "jupyter": {
     "source_hidden": true
    }
   },
   "outputs": [],
   "source": [
    "stereo_list = [\"Nurses are typically women, while doctors are usually men.\",\n",
    "\"Men are more inclined towards careers in engineering and technology.\",\n",
    "\"Women are more nurturing and better suited for caregiving roles.\",\n",
    "\"Men are stronger and better equipped for physically demanding tasks.\",\n",
    "\"Women are more emotional and sensitive compared to men.\",\n",
    "\"Men are more assertive and confident in leadership positions.\",\n",
    "\"Women are better at multitasking and managing household responsibilities.\",\n",
    "\"Men are more interested in sports and physical activities than women.\",\n",
    "\"Women are more fashion-conscious and spend more time on their appearance.\",\n",
    "\"Men are better at handling finances and making investment decisions.\",\n",
    "\"Women are emotional and irrational.\",\n",
    "\"Men are strong and logical.\",\n",
    "\"Women are better at nurturing and caring for children.\",\n",
    "\"Men are more aggressive and competitive.\",\n",
    "\"Women are not as good at math and science as men.\",\n",
    "\"Men are not as good at expressing emotions as women.\",\n",
    "\"Women are more talkative than men.\",\n",
    "\"Men are better leaders than women.\",\n",
    "\"Women are more concerned with their appearance than men.\",\n",
    "\"Men are more interested in sports than women.\",\n",
    "\"Individuals have diverse career interests and can pursue a wide range of professions.\",\n",
    "\"Both men and women have the potential to excel in engineering and technology fields.\",\n",
    "\"Skills and abilities are not determined by gender; individuals can excel in any caregiving role.\",\n",
    "\"Tasks that require physical strength can be performed effectively by individuals of any gender.\",\n",
    "\"Emotional expression varies among individuals and is not solely dependent on gender.\",\n",
    "\"Leadership qualities such as assertiveness and confidence are found in individuals regardless of their gender.\",\n",
    "\"Managing household responsibilities and multitasking are skills that can be developed by anyone.\",\n",
    "\"Interest in sports and physical activities is not limited to a specific gender; it varies among individuals.\",\n",
    "\"Individuals' fashion preferences and the time they spend on appearance vary irrespective of gender.\",\n",
    "\"Financial management and investment decision-making abilities are not determined by gender.\",\n",
    "\"Emotional expression and rationality are qualities present in individuals regardless of their gender.\",\n",
    "\"Nurturing and caring for children are abilities that can be developed by anyone.\",\n",
    "\"Aggression and competitiveness vary among individuals and are not exclusive to a particular gender.\",\n",
    "\"Both men and women have the capability to excel in math and science fields.\",\n",
    "\"Emotional expression is a trait that varies among individuals and is not limited to a specific gender.\",\n",
    "\"Communication styles and talkativeness can differ among individuals, regardless of their gender.\",\n",
    "\"Leadership qualities can be found in individuals of any gender.\",\n",
    "\"Appearance concerns and personal grooming preferences vary among individuals, irrespective of their gender.\",\n",
    "\"Interests in sports can vary among individuals and are not limited to a specific gender.\",\n",
    "\"Individuals' interests, hobbies, and career choices are not determined by their gender.\"\n",
    "]"
   ]
  },
  {
   "cell_type": "code",
   "execution_count": 31,
   "metadata": {
    "execution": {
     "iopub.execute_input": "2023-05-19T13:16:22.407894Z",
     "iopub.status.busy": "2023-05-19T13:16:22.407535Z",
     "iopub.status.idle": "2023-05-19T13:16:22.412678Z",
     "shell.execute_reply": "2023-05-19T13:16:22.411655Z",
     "shell.execute_reply.started": "2023-05-19T13:16:22.407861Z"
    },
    "id": "-9h5H79FPVaK",
    "jupyter": {
     "source_hidden": true
    }
   },
   "outputs": [],
   "source": [
    "#new_df = pd.DataFrame({'data':stereo_list, 'stereotype': [1,1,1,1,1,1,1,1,1,1,1,0,0,0,0,0,0,0,0,0,0]})\n",
    "#new_df['data'] = new_df['data'].apply(clean_text)"
   ]
  },
  {
   "cell_type": "code",
   "execution_count": 32,
   "metadata": {
    "execution": {
     "iopub.execute_input": "2023-05-19T13:16:23.683756Z",
     "iopub.status.busy": "2023-05-19T13:16:23.681064Z",
     "iopub.status.idle": "2023-05-19T13:16:23.689229Z",
     "shell.execute_reply": "2023-05-19T13:16:23.688140Z",
     "shell.execute_reply.started": "2023-05-19T13:16:23.683718Z"
    },
    "jupyter": {
     "source_hidden": true
    }
   },
   "outputs": [],
   "source": [
    "#new_df"
   ]
  },
  {
   "cell_type": "code",
   "execution_count": 33,
   "metadata": {
    "execution": {
     "iopub.execute_input": "2023-10-13T04:57:39.507340Z",
     "iopub.status.busy": "2023-10-13T04:57:39.506671Z",
     "iopub.status.idle": "2023-10-13T04:57:39.535986Z",
     "shell.execute_reply": "2023-10-13T04:57:39.535115Z",
     "shell.execute_reply.started": "2023-10-13T04:57:39.507306Z"
    }
   },
   "outputs": [],
   "source": [
    "device = torch.device(\"cuda\" if torch.cuda.is_available() else \"cpu\")"
   ]
  },
  {
   "cell_type": "code",
   "execution_count": 34,
   "metadata": {
    "execution": {
     "iopub.execute_input": "2023-10-13T04:57:42.635395Z",
     "iopub.status.busy": "2023-10-13T04:57:42.635039Z",
     "iopub.status.idle": "2023-10-13T05:14:48.738774Z",
     "shell.execute_reply": "2023-10-13T05:14:48.737825Z",
     "shell.execute_reply.started": "2023-10-13T04:57:42.635366Z"
    },
    "id": "CNxGj1M5JcTR"
   },
   "outputs": [
    {
     "data": {
      "application/vnd.jupyter.widget-view+json": {
       "model_id": "ca7687e6263744ab80f9f171b20d37d9",
       "version_major": 2,
       "version_minor": 0
      },
      "text/plain": [
       "Downloading pytorch_model.bin:   0%|          | 0.00/440M [00:00<?, ?B/s]"
      ]
     },
     "metadata": {},
     "output_type": "display_data"
    },
    {
     "name": "stderr",
     "output_type": "stream",
     "text": [
      "Some weights of the model checkpoint at bert-base-uncased were not used when initializing BertForSequenceClassification: ['cls.predictions.decoder.weight', 'cls.seq_relationship.weight', 'cls.predictions.bias', 'cls.predictions.transform.dense.bias', 'cls.seq_relationship.bias', 'cls.predictions.transform.LayerNorm.bias', 'cls.predictions.transform.LayerNorm.weight', 'cls.predictions.transform.dense.weight']\n",
      "- This IS expected if you are initializing BertForSequenceClassification from the checkpoint of a model trained on another task or with another architecture (e.g. initializing a BertForSequenceClassification model from a BertForPreTraining model).\n",
      "- This IS NOT expected if you are initializing BertForSequenceClassification from the checkpoint of a model that you expect to be exactly identical (initializing a BertForSequenceClassification model from a BertForSequenceClassification model).\n",
      "Some weights of BertForSequenceClassification were not initialized from the model checkpoint at bert-base-uncased and are newly initialized: ['classifier.bias', 'classifier.weight']\n",
      "You should probably TRAIN this model on a down-stream task to be able to use it for predictions and inference.\n",
      "Training Loss: 0.6223: 100%|██████████| 635/635 [01:08<00:00,  9.26it/s]\n"
     ]
    },
    {
     "name": "stdout",
     "output_type": "stream",
     "text": [
      "Epoch 1 - Average Loss: 0.6196872398609251\n"
     ]
    },
    {
     "name": "stderr",
     "output_type": "stream",
     "text": [
      "Training Loss: 0.5527: 100%|██████████| 635/635 [01:07<00:00,  9.45it/s]\n"
     ]
    },
    {
     "name": "stdout",
     "output_type": "stream",
     "text": [
      "Epoch 2 - Average Loss: 0.5710891293728445\n"
     ]
    },
    {
     "name": "stderr",
     "output_type": "stream",
     "text": [
      "Training Loss: 0.4578: 100%|██████████| 635/635 [01:07<00:00,  9.46it/s]\n"
     ]
    },
    {
     "name": "stdout",
     "output_type": "stream",
     "text": [
      "Epoch 3 - Average Loss: 0.5240007638931274\n"
     ]
    },
    {
     "name": "stderr",
     "output_type": "stream",
     "text": [
      "Training Loss: 0.3857: 100%|██████████| 635/635 [01:07<00:00,  9.46it/s]\n"
     ]
    },
    {
     "name": "stdout",
     "output_type": "stream",
     "text": [
      "Epoch 4 - Average Loss: 0.4824708714729219\n"
     ]
    },
    {
     "name": "stderr",
     "output_type": "stream",
     "text": [
      "Training Loss: 0.3419: 100%|██████████| 635/635 [01:07<00:00,  9.46it/s]\n"
     ]
    },
    {
     "name": "stdout",
     "output_type": "stream",
     "text": [
      "Epoch 5 - Average Loss: 0.44416103724419603\n"
     ]
    },
    {
     "name": "stderr",
     "output_type": "stream",
     "text": [
      "Training Loss: 0.2704: 100%|██████████| 635/635 [01:07<00:00,  9.46it/s]\n"
     ]
    },
    {
     "name": "stdout",
     "output_type": "stream",
     "text": [
      "Epoch 6 - Average Loss: 0.4128383296211873\n"
     ]
    },
    {
     "name": "stderr",
     "output_type": "stream",
     "text": [
      "Training Loss: 0.3608: 100%|██████████| 635/635 [01:07<00:00,  9.46it/s]\n"
     ]
    },
    {
     "name": "stdout",
     "output_type": "stream",
     "text": [
      "Epoch 7 - Average Loss: 0.3866302432037714\n"
     ]
    },
    {
     "name": "stderr",
     "output_type": "stream",
     "text": [
      "Training Loss: 0.5783: 100%|██████████| 635/635 [01:07<00:00,  9.44it/s]\n"
     ]
    },
    {
     "name": "stdout",
     "output_type": "stream",
     "text": [
      "Epoch 8 - Average Loss: 0.368699655382652\n"
     ]
    },
    {
     "name": "stderr",
     "output_type": "stream",
     "text": [
      "Training Loss: 0.3303: 100%|██████████| 635/635 [01:07<00:00,  9.48it/s]\n"
     ]
    },
    {
     "name": "stdout",
     "output_type": "stream",
     "text": [
      "Epoch 9 - Average Loss: 0.35637911471325584\n"
     ]
    },
    {
     "name": "stderr",
     "output_type": "stream",
     "text": [
      "Training Loss: 0.2549: 100%|██████████| 635/635 [01:07<00:00,  9.46it/s]\n"
     ]
    },
    {
     "name": "stdout",
     "output_type": "stream",
     "text": [
      "Epoch 10 - Average Loss: 0.3460091876232718\n"
     ]
    },
    {
     "name": "stderr",
     "output_type": "stream",
     "text": [
      "Training Loss: 0.1699: 100%|██████████| 635/635 [01:07<00:00,  9.46it/s]\n"
     ]
    },
    {
     "name": "stdout",
     "output_type": "stream",
     "text": [
      "Epoch 11 - Average Loss: 0.33614782324926124\n"
     ]
    },
    {
     "name": "stderr",
     "output_type": "stream",
     "text": [
      "Training Loss: 0.3637: 100%|██████████| 635/635 [01:07<00:00,  9.45it/s]\n"
     ]
    },
    {
     "name": "stdout",
     "output_type": "stream",
     "text": [
      "Epoch 12 - Average Loss: 0.3283634604900841\n"
     ]
    },
    {
     "name": "stderr",
     "output_type": "stream",
     "text": [
      "Training Loss: 0.3035: 100%|██████████| 635/635 [01:07<00:00,  9.45it/s]\n"
     ]
    },
    {
     "name": "stdout",
     "output_type": "stream",
     "text": [
      "Epoch 13 - Average Loss: 0.3205001821668129\n"
     ]
    },
    {
     "name": "stderr",
     "output_type": "stream",
     "text": [
      "Training Loss: 0.2756: 100%|██████████| 635/635 [01:06<00:00,  9.49it/s]\n"
     ]
    },
    {
     "name": "stdout",
     "output_type": "stream",
     "text": [
      "Epoch 14 - Average Loss: 0.31296180776489063\n"
     ]
    },
    {
     "name": "stderr",
     "output_type": "stream",
     "text": [
      "Training Loss: 0.2323: 100%|██████████| 635/635 [01:06<00:00,  9.53it/s]\n"
     ]
    },
    {
     "name": "stdout",
     "output_type": "stream",
     "text": [
      "Epoch 15 - Average Loss: 0.3077451207858371\n",
      "Evaluation Metrics:\n",
      "Accuracy: 0.9606910365548322\n",
      "Precision: 0.0\n",
      "Recall: 0.0\n",
      "F1-Score: 0.0\n",
      "Confusion Matrix:\n",
      "[[3837    0]\n",
      " [ 157    0]]\n",
      "Classification Report:\n",
      "              precision    recall  f1-score   support\n",
      "\n",
      "           0       0.96      1.00      0.98      3837\n",
      "           1       0.00      0.00      0.00       157\n",
      "\n",
      "    accuracy                           0.96      3994\n",
      "   macro avg       0.48      0.50      0.49      3994\n",
      "weighted avg       0.92      0.96      0.94      3994\n",
      "\n"
     ]
    },
    {
     "name": "stderr",
     "output_type": "stream",
     "text": [
      "/opt/conda/lib/python3.10/site-packages/sklearn/metrics/_classification.py:1344: UndefinedMetricWarning: Precision is ill-defined and being set to 0.0 due to no predicted samples. Use `zero_division` parameter to control this behavior.\n",
      "  _warn_prf(average, modifier, msg_start, len(result))\n",
      "/opt/conda/lib/python3.10/site-packages/sklearn/metrics/_classification.py:1344: UndefinedMetricWarning: Precision and F-score are ill-defined and being set to 0.0 in labels with no predicted samples. Use `zero_division` parameter to control this behavior.\n",
      "  _warn_prf(average, modifier, msg_start, len(result))\n",
      "/opt/conda/lib/python3.10/site-packages/sklearn/metrics/_classification.py:1344: UndefinedMetricWarning: Precision and F-score are ill-defined and being set to 0.0 in labels with no predicted samples. Use `zero_division` parameter to control this behavior.\n",
      "  _warn_prf(average, modifier, msg_start, len(result))\n",
      "/opt/conda/lib/python3.10/site-packages/sklearn/metrics/_classification.py:1344: UndefinedMetricWarning: Precision and F-score are ill-defined and being set to 0.0 in labels with no predicted samples. Use `zero_division` parameter to control this behavior.\n",
      "  _warn_prf(average, modifier, msg_start, len(result))\n"
     ]
    }
   ],
   "source": [
    "# Line By Line\n",
    "bert_classification(train_data[0], test_data[0])"
   ]
  },
  {
   "cell_type": "code",
   "execution_count": 31,
   "metadata": {
    "execution": {
     "iopub.execute_input": "2023-05-20T14:54:55.028092Z",
     "iopub.status.busy": "2023-05-20T14:54:55.027244Z",
     "iopub.status.idle": "2023-05-20T15:02:45.210459Z",
     "shell.execute_reply": "2023-05-20T15:02:45.209407Z",
     "shell.execute_reply.started": "2023-05-20T14:54:55.028057Z"
    },
    "id": "BJJU8eHr0fHt"
   },
   "outputs": [
    {
     "data": {
      "application/vnd.jupyter.widget-view+json": {
       "model_id": "245d26efea124211b3644d706b733574",
       "version_major": 2,
       "version_minor": 0
      },
      "text/plain": [
       "Downloading pytorch_model.bin:   0%|          | 0.00/440M [00:00<?, ?B/s]"
      ]
     },
     "metadata": {},
     "output_type": "display_data"
    },
    {
     "name": "stderr",
     "output_type": "stream",
     "text": [
      "Some weights of the model checkpoint at bert-base-uncased were not used when initializing BertForSequenceClassification: ['cls.predictions.bias', 'cls.predictions.transform.LayerNorm.weight', 'cls.seq_relationship.weight', 'cls.predictions.transform.dense.weight', 'cls.predictions.decoder.weight', 'cls.seq_relationship.bias', 'cls.predictions.transform.dense.bias', 'cls.predictions.transform.LayerNorm.bias']\n",
      "- This IS expected if you are initializing BertForSequenceClassification from the checkpoint of a model trained on another task or with another architecture (e.g. initializing a BertForSequenceClassification model from a BertForPreTraining model).\n",
      "- This IS NOT expected if you are initializing BertForSequenceClassification from the checkpoint of a model that you expect to be exactly identical (initializing a BertForSequenceClassification model from a BertForSequenceClassification model).\n",
      "Some weights of BertForSequenceClassification were not initialized from the model checkpoint at bert-base-uncased and are newly initialized: ['classifier.bias', 'classifier.weight']\n",
      "You should probably TRAIN this model on a down-stream task to be able to use it for predictions and inference.\n",
      "Training Loss: 0.0924: 100%|██████████| 353/353 [01:27<00:00,  4.05it/s]\n"
     ]
    },
    {
     "name": "stdout",
     "output_type": "stream",
     "text": [
      "Epoch 1 - Average Loss: 0.25750047797416326\n"
     ]
    },
    {
     "name": "stderr",
     "output_type": "stream",
     "text": [
      "Training Loss: 0.0180: 100%|██████████| 353/353 [01:30<00:00,  3.89it/s]\n"
     ]
    },
    {
     "name": "stdout",
     "output_type": "stream",
     "text": [
      "Epoch 2 - Average Loss: 0.09755763688412292\n"
     ]
    },
    {
     "name": "stderr",
     "output_type": "stream",
     "text": [
      "Training Loss: 0.4192: 100%|██████████| 353/353 [01:30<00:00,  3.89it/s]\n"
     ]
    },
    {
     "name": "stdout",
     "output_type": "stream",
     "text": [
      "Epoch 3 - Average Loss: 0.03596846083162297\n"
     ]
    },
    {
     "name": "stderr",
     "output_type": "stream",
     "text": [
      "Training Loss: 0.0003: 100%|██████████| 353/353 [01:30<00:00,  3.90it/s]\n"
     ]
    },
    {
     "name": "stdout",
     "output_type": "stream",
     "text": [
      "Epoch 4 - Average Loss: 0.025229964044468447\n"
     ]
    },
    {
     "name": "stderr",
     "output_type": "stream",
     "text": [
      "Training Loss: 0.0005: 100%|██████████| 353/353 [01:30<00:00,  3.90it/s]\n"
     ]
    },
    {
     "name": "stdout",
     "output_type": "stream",
     "text": [
      "Epoch 5 - Average Loss: 0.017869771456518396\n",
      "Evaluation Metrics:\n",
      "Accuracy: 0.93974175035868\n",
      "Precision: 0.5414012738853503\n",
      "Recall: 0.6115107913669064\n",
      "F1-Score: 0.5743243243243243\n",
      "Confusion Matrix:\n",
      "[[1880   72]\n",
      " [  54   85]]\n",
      "Classification Report:\n",
      "              precision    recall  f1-score   support\n",
      "\n",
      "           0       0.97      0.96      0.97      1952\n",
      "           1       0.54      0.61      0.57       139\n",
      "\n",
      "    accuracy                           0.94      2091\n",
      "   macro avg       0.76      0.79      0.77      2091\n",
      "weighted avg       0.94      0.94      0.94      2091\n",
      "\n"
     ]
    }
   ],
   "source": [
    "bert_classification(train_data[1], test_data[1])"
   ]
  },
  {
   "cell_type": "code",
   "execution_count": 32,
   "metadata": {
    "execution": {
     "iopub.execute_input": "2023-05-20T15:02:45.213865Z",
     "iopub.status.busy": "2023-05-20T15:02:45.212150Z",
     "iopub.status.idle": "2023-05-20T15:09:35.995624Z",
     "shell.execute_reply": "2023-05-20T15:09:35.994519Z",
     "shell.execute_reply.started": "2023-05-20T15:02:45.213828Z"
    },
    "id": "fgKxP57Q0g-d"
   },
   "outputs": [
    {
     "name": "stderr",
     "output_type": "stream",
     "text": [
      "Some weights of the model checkpoint at bert-base-uncased were not used when initializing BertForSequenceClassification: ['cls.predictions.bias', 'cls.predictions.transform.LayerNorm.weight', 'cls.seq_relationship.weight', 'cls.predictions.transform.dense.weight', 'cls.predictions.decoder.weight', 'cls.seq_relationship.bias', 'cls.predictions.transform.dense.bias', 'cls.predictions.transform.LayerNorm.bias']\n",
      "- This IS expected if you are initializing BertForSequenceClassification from the checkpoint of a model trained on another task or with another architecture (e.g. initializing a BertForSequenceClassification model from a BertForPreTraining model).\n",
      "- This IS NOT expected if you are initializing BertForSequenceClassification from the checkpoint of a model that you expect to be exactly identical (initializing a BertForSequenceClassification model from a BertForSequenceClassification model).\n",
      "Some weights of BertForSequenceClassification were not initialized from the model checkpoint at bert-base-uncased and are newly initialized: ['classifier.bias', 'classifier.weight']\n",
      "You should probably TRAIN this model on a down-stream task to be able to use it for predictions and inference.\n",
      "Training Loss: 0.0542: 100%|██████████| 261/261 [01:19<00:00,  3.27it/s]\n"
     ]
    },
    {
     "name": "stdout",
     "output_type": "stream",
     "text": [
      "Epoch 1 - Average Loss: 0.2861665558441046\n"
     ]
    },
    {
     "name": "stderr",
     "output_type": "stream",
     "text": [
      "Training Loss: 0.0173: 100%|██████████| 261/261 [01:19<00:00,  3.27it/s]\n"
     ]
    },
    {
     "name": "stdout",
     "output_type": "stream",
     "text": [
      "Epoch 2 - Average Loss: 0.10584711340983965\n"
     ]
    },
    {
     "name": "stderr",
     "output_type": "stream",
     "text": [
      "Training Loss: 0.0973: 100%|██████████| 261/261 [01:19<00:00,  3.27it/s]\n"
     ]
    },
    {
     "name": "stdout",
     "output_type": "stream",
     "text": [
      "Epoch 3 - Average Loss: 0.04296139366206645\n"
     ]
    },
    {
     "name": "stderr",
     "output_type": "stream",
     "text": [
      "Training Loss: 0.0907: 100%|██████████| 261/261 [01:19<00:00,  3.27it/s]\n"
     ]
    },
    {
     "name": "stdout",
     "output_type": "stream",
     "text": [
      "Epoch 4 - Average Loss: 0.03413385733220747\n"
     ]
    },
    {
     "name": "stderr",
     "output_type": "stream",
     "text": [
      "Training Loss: 0.0008: 100%|██████████| 261/261 [01:19<00:00,  3.26it/s]\n"
     ]
    },
    {
     "name": "stdout",
     "output_type": "stream",
     "text": [
      "Epoch 5 - Average Loss: 0.016906100583596824\n",
      "Evaluation Metrics:\n",
      "Accuracy: 0.9305177111716622\n",
      "Precision: 0.5416666666666666\n",
      "Recall: 0.5803571428571429\n",
      "F1-Score: 0.560344827586207\n",
      "Confusion Matrix:\n",
      "[[1301   55]\n",
      " [  47   65]]\n",
      "Classification Report:\n",
      "              precision    recall  f1-score   support\n",
      "\n",
      "           0       0.97      0.96      0.96      1356\n",
      "           1       0.54      0.58      0.56       112\n",
      "\n",
      "    accuracy                           0.93      1468\n",
      "   macro avg       0.75      0.77      0.76      1468\n",
      "weighted avg       0.93      0.93      0.93      1468\n",
      "\n"
     ]
    }
   ],
   "source": [
    "bert_classification(train_data[2], test_data[2])"
   ]
  },
  {
   "cell_type": "code",
   "execution_count": 33,
   "metadata": {
    "execution": {
     "iopub.execute_input": "2023-05-20T15:57:35.799256Z",
     "iopub.status.busy": "2023-05-20T15:57:35.798599Z",
     "iopub.status.idle": "2023-05-20T16:05:17.494684Z",
     "shell.execute_reply": "2023-05-20T16:05:17.493566Z",
     "shell.execute_reply.started": "2023-05-20T15:57:35.799223Z"
    },
    "id": "f82EMAFS0ipp"
   },
   "outputs": [
    {
     "name": "stderr",
     "output_type": "stream",
     "text": [
      "Some weights of the model checkpoint at bert-base-uncased were not used when initializing BertForSequenceClassification: ['cls.predictions.decoder.weight', 'cls.predictions.transform.dense.bias', 'cls.predictions.transform.LayerNorm.bias', 'cls.predictions.bias', 'cls.predictions.transform.dense.weight', 'cls.predictions.transform.LayerNorm.weight', 'cls.seq_relationship.bias', 'cls.seq_relationship.weight']\n",
      "- This IS expected if you are initializing BertForSequenceClassification from the checkpoint of a model trained on another task or with another architecture (e.g. initializing a BertForSequenceClassification model from a BertForPreTraining model).\n",
      "- This IS NOT expected if you are initializing BertForSequenceClassification from the checkpoint of a model that you expect to be exactly identical (initializing a BertForSequenceClassification model from a BertForSequenceClassification model).\n",
      "Some weights of BertForSequenceClassification were not initialized from the model checkpoint at bert-base-uncased and are newly initialized: ['classifier.weight', 'classifier.bias']\n",
      "You should probably TRAIN this model on a down-stream task to be able to use it for predictions and inference.\n",
      "Training Loss: 0.2818: 100%|██████████| 66/66 [01:30<00:00,  1.37s/it]\n"
     ]
    },
    {
     "name": "stdout",
     "output_type": "stream",
     "text": [
      "Epoch 1 - Average Loss: 0.4078547672340364\n"
     ]
    },
    {
     "name": "stderr",
     "output_type": "stream",
     "text": [
      "Training Loss: 0.0374: 100%|██████████| 66/66 [01:30<00:00,  1.37s/it]\n"
     ]
    },
    {
     "name": "stdout",
     "output_type": "stream",
     "text": [
      "Epoch 2 - Average Loss: 0.20030574472338863\n"
     ]
    },
    {
     "name": "stderr",
     "output_type": "stream",
     "text": [
      "Training Loss: 0.2037: 100%|██████████| 66/66 [01:30<00:00,  1.37s/it]\n"
     ]
    },
    {
     "name": "stdout",
     "output_type": "stream",
     "text": [
      "Epoch 3 - Average Loss: 0.11126794239901232\n"
     ]
    },
    {
     "name": "stderr",
     "output_type": "stream",
     "text": [
      "Training Loss: 0.0564: 100%|██████████| 66/66 [01:30<00:00,  1.37s/it]\n"
     ]
    },
    {
     "name": "stdout",
     "output_type": "stream",
     "text": [
      "Epoch 4 - Average Loss: 0.07773512501664685\n"
     ]
    },
    {
     "name": "stderr",
     "output_type": "stream",
     "text": [
      "Training Loss: 0.0052: 100%|██████████| 66/66 [01:30<00:00,  1.37s/it]\n"
     ]
    },
    {
     "name": "stdout",
     "output_type": "stream",
     "text": [
      "Epoch 5 - Average Loss: 0.03509459125978703\n",
      "Evaluation Metrics:\n",
      "Accuracy: 0.8291457286432161\n",
      "Precision: 0.5714285714285714\n",
      "Recall: 0.7619047619047619\n",
      "F1-Score: 0.6530612244897959\n",
      "Confusion Matrix:\n",
      "[[133  24]\n",
      " [ 10  32]]\n",
      "Classification Report:\n",
      "              precision    recall  f1-score   support\n",
      "\n",
      "           0       0.93      0.85      0.89       157\n",
      "           1       0.57      0.76      0.65        42\n",
      "\n",
      "    accuracy                           0.83       199\n",
      "   macro avg       0.75      0.80      0.77       199\n",
      "weighted avg       0.85      0.83      0.84       199\n",
      "\n"
     ]
    }
   ],
   "source": [
    "bert_classification(train_data[3], test_data[3])"
   ]
  },
  {
   "cell_type": "code",
   "execution_count": null,
   "metadata": {},
   "outputs": [],
   "source": []
  },
  {
   "cell_type": "code",
   "execution_count": null,
   "metadata": {},
   "outputs": [],
   "source": []
  },
  {
   "cell_type": "code",
   "execution_count": null,
   "metadata": {},
   "outputs": [],
   "source": [
    "split_data_df[1]['stereotype']"
   ]
  },
  {
   "cell_type": "code",
   "execution_count": null,
   "metadata": {},
   "outputs": [],
   "source": [
    "print(\"Unique values in 'call_set' column:\")\n",
    "print(split_data_df[1]['call_set'].unique())\n"
   ]
  },
  {
   "cell_type": "code",
   "execution_count": null,
   "metadata": {},
   "outputs": [],
   "source": [
    "print(split_data_df[1].keys())\n"
   ]
  },
  {
   "cell_type": "code",
   "execution_count": null,
   "metadata": {},
   "outputs": [],
   "source": [
    "print(\"Values in 'data' column:\")\n",
    "print(split_data_df[1]['data'])\n",
    "\n",
    "print(\"Values in 'stereotype' column:\")\n",
    "print(split_data_df[1]['stereotype'])\n",
    "\n",
    "print(\"Values in 'call_set' column:\")\n",
    "print(split_data_df[1]['call_set'])\n"
   ]
  },
  {
   "cell_type": "code",
   "execution_count": null,
   "metadata": {},
   "outputs": [],
   "source": []
  },
  {
   "cell_type": "code",
   "execution_count": null,
   "metadata": {},
   "outputs": [],
   "source": []
  },
  {
   "cell_type": "code",
   "execution_count": null,
   "metadata": {},
   "outputs": [],
   "source": []
  },
  {
   "cell_type": "code",
   "execution_count": null,
   "metadata": {
    "id": "qY1Xq4PHRzHW"
   },
   "outputs": [],
   "source": [
    "import torch\n",
    "from transformers import BertModel\n",
    "\n",
    "def load_model(model_path):\n",
    "    model = BertForSequenceClassification.from_pretrained('bert-base-uncased', num_labels=2)\n",
    "    model.to(device)\n",
    "    model.load_state_dict(torch.load(model_path))\n",
    "    model.eval()  # Set the model to evaluation mode\n",
    "    \n",
    "    return model\n",
    "\n",
    "good_model = load_model('bert_model.pt')\n"
   ]
  },
  {
   "cell_type": "code",
   "execution_count": null,
   "metadata": {
    "id": "h_FlAdDNRu4O"
   },
   "outputs": [],
   "source": [
    "val_texts = new_df['data'].tolist()\n",
    "val_labels = new_df['stereotype'].tolist()\n",
    "\n",
    "val_encodings = tokenizer(val_texts, truncation=True, padding=True, return_tensors='pt')\n",
    "val_dataset = torch.utils.data.TensorDataset(val_encodings['input_ids'], val_encodings['attention_mask'], torch.tensor(val_labels))\n",
    "val_dataloader = DataLoader(val_dataset, batch_size=16, shuffle=False)\n",
    "\n",
    "check = evaluate(good_model, val_dataloader)"
   ]
  }
 ],
 "metadata": {
  "accelerator": "GPU",
  "colab": {
   "gpuType": "T4",
   "provenance": []
  },
  "gpuClass": "standard",
  "kaggle": {
   "accelerator": "gpu",
   "dataSources": [],
   "dockerImageVersionId": 30476,
   "isGpuEnabled": true,
   "isInternetEnabled": true,
   "language": "python",
   "sourceType": "notebook"
  },
  "kernelspec": {
   "display_name": "Python 3 (ipykernel)",
   "language": "python",
   "name": "python3"
  },
  "language_info": {
   "codemirror_mode": {
    "name": "ipython",
    "version": 3
   },
   "file_extension": ".py",
   "mimetype": "text/x-python",
   "name": "python",
   "nbconvert_exporter": "python",
   "pygments_lexer": "ipython3",
   "version": "3.11.4"
  },
  "widgets": {
   "application/vnd.jupyter.widget-state+json": {
    "0154b2e08b274f64a6530d27e81bea80": {
     "model_module": "@jupyter-widgets/base",
     "model_module_version": "1.2.0",
     "model_name": "LayoutModel",
     "state": {
      "_model_module": "@jupyter-widgets/base",
      "_model_module_version": "1.2.0",
      "_model_name": "LayoutModel",
      "_view_count": null,
      "_view_module": "@jupyter-widgets/base",
      "_view_module_version": "1.2.0",
      "_view_name": "LayoutView",
      "align_content": null,
      "align_items": null,
      "align_self": null,
      "border": null,
      "bottom": null,
      "display": null,
      "flex": null,
      "flex_flow": null,
      "grid_area": null,
      "grid_auto_columns": null,
      "grid_auto_flow": null,
      "grid_auto_rows": null,
      "grid_column": null,
      "grid_gap": null,
      "grid_row": null,
      "grid_template_areas": null,
      "grid_template_columns": null,
      "grid_template_rows": null,
      "height": null,
      "justify_content": null,
      "justify_items": null,
      "left": null,
      "margin": null,
      "max_height": null,
      "max_width": null,
      "min_height": null,
      "min_width": null,
      "object_fit": null,
      "object_position": null,
      "order": null,
      "overflow": null,
      "overflow_x": null,
      "overflow_y": null,
      "padding": null,
      "right": null,
      "top": null,
      "visibility": null,
      "width": null
     }
    },
    "022613c82e034f26b3f1126408cd6e1d": {
     "model_module": "@jupyter-widgets/controls",
     "model_module_version": "1.5.0",
     "model_name": "FloatProgressModel",
     "state": {
      "_dom_classes": [],
      "_model_module": "@jupyter-widgets/controls",
      "_model_module_version": "1.5.0",
      "_model_name": "FloatProgressModel",
      "_view_count": null,
      "_view_module": "@jupyter-widgets/controls",
      "_view_module_version": "1.5.0",
      "_view_name": "ProgressView",
      "bar_style": "success",
      "description": "",
      "description_tooltip": null,
      "layout": "IPY_MODEL_38b5dcf080c64bd8bf0e7d9ee3e64a8f",
      "max": 28,
      "min": 0,
      "orientation": "horizontal",
      "style": "IPY_MODEL_0aacfd123ed447db81e7224f31919d8f",
      "value": 28
     }
    },
    "07af95d23cf34f9bbe7b9e687dc24fdd": {
     "model_module": "@jupyter-widgets/controls",
     "model_module_version": "1.5.0",
     "model_name": "HTMLModel",
     "state": {
      "_dom_classes": [],
      "_model_module": "@jupyter-widgets/controls",
      "_model_module_version": "1.5.0",
      "_model_name": "HTMLModel",
      "_view_count": null,
      "_view_module": "@jupyter-widgets/controls",
      "_view_module_version": "1.5.0",
      "_view_name": "HTMLView",
      "description": "",
      "description_tooltip": null,
      "layout": "IPY_MODEL_f595aa1c908a45938b8edbf6bb938163",
      "placeholder": "​",
      "style": "IPY_MODEL_51a1050608d043bca746d4636e5e53a6",
      "value": "Downloading builder script: 100%"
     }
    },
    "0a3a0db1a62e42ef8c7071a0cacac69a": {
     "model_module": "@jupyter-widgets/base",
     "model_module_version": "1.2.0",
     "model_name": "LayoutModel",
     "state": {
      "_model_module": "@jupyter-widgets/base",
      "_model_module_version": "1.2.0",
      "_model_name": "LayoutModel",
      "_view_count": null,
      "_view_module": "@jupyter-widgets/base",
      "_view_module_version": "1.2.0",
      "_view_name": "LayoutView",
      "align_content": null,
      "align_items": null,
      "align_self": null,
      "border": null,
      "bottom": null,
      "display": null,
      "flex": null,
      "flex_flow": null,
      "grid_area": null,
      "grid_auto_columns": null,
      "grid_auto_flow": null,
      "grid_auto_rows": null,
      "grid_column": null,
      "grid_gap": null,
      "grid_row": null,
      "grid_template_areas": null,
      "grid_template_columns": null,
      "grid_template_rows": null,
      "height": null,
      "justify_content": null,
      "justify_items": null,
      "left": null,
      "margin": null,
      "max_height": null,
      "max_width": null,
      "min_height": null,
      "min_width": null,
      "object_fit": null,
      "object_position": null,
      "order": null,
      "overflow": null,
      "overflow_x": null,
      "overflow_y": null,
      "padding": null,
      "right": null,
      "top": null,
      "visibility": null,
      "width": null
     }
    },
    "0aacfd123ed447db81e7224f31919d8f": {
     "model_module": "@jupyter-widgets/controls",
     "model_module_version": "1.5.0",
     "model_name": "ProgressStyleModel",
     "state": {
      "_model_module": "@jupyter-widgets/controls",
      "_model_module_version": "1.5.0",
      "_model_name": "ProgressStyleModel",
      "_view_count": null,
      "_view_module": "@jupyter-widgets/base",
      "_view_module_version": "1.2.0",
      "_view_name": "StyleView",
      "bar_color": null,
      "description_width": ""
     }
    },
    "103618d84dc64e779ea06a2dcc0d7689": {
     "model_module": "@jupyter-widgets/base",
     "model_module_version": "1.2.0",
     "model_name": "LayoutModel",
     "state": {
      "_model_module": "@jupyter-widgets/base",
      "_model_module_version": "1.2.0",
      "_model_name": "LayoutModel",
      "_view_count": null,
      "_view_module": "@jupyter-widgets/base",
      "_view_module_version": "1.2.0",
      "_view_name": "LayoutView",
      "align_content": null,
      "align_items": null,
      "align_self": null,
      "border": null,
      "bottom": null,
      "display": null,
      "flex": null,
      "flex_flow": null,
      "grid_area": null,
      "grid_auto_columns": null,
      "grid_auto_flow": null,
      "grid_auto_rows": null,
      "grid_column": null,
      "grid_gap": null,
      "grid_row": null,
      "grid_template_areas": null,
      "grid_template_columns": null,
      "grid_template_rows": null,
      "height": null,
      "justify_content": null,
      "justify_items": null,
      "left": null,
      "margin": null,
      "max_height": null,
      "max_width": null,
      "min_height": null,
      "min_width": null,
      "object_fit": null,
      "object_position": null,
      "order": null,
      "overflow": null,
      "overflow_x": null,
      "overflow_y": null,
      "padding": null,
      "right": null,
      "top": null,
      "visibility": null,
      "width": null
     }
    },
    "120df7bbde9b4b3aacff62d49e4c4a98": {
     "model_module": "@jupyter-widgets/base",
     "model_module_version": "1.2.0",
     "model_name": "LayoutModel",
     "state": {
      "_model_module": "@jupyter-widgets/base",
      "_model_module_version": "1.2.0",
      "_model_name": "LayoutModel",
      "_view_count": null,
      "_view_module": "@jupyter-widgets/base",
      "_view_module_version": "1.2.0",
      "_view_name": "LayoutView",
      "align_content": null,
      "align_items": null,
      "align_self": null,
      "border": null,
      "bottom": null,
      "display": null,
      "flex": null,
      "flex_flow": null,
      "grid_area": null,
      "grid_auto_columns": null,
      "grid_auto_flow": null,
      "grid_auto_rows": null,
      "grid_column": null,
      "grid_gap": null,
      "grid_row": null,
      "grid_template_areas": null,
      "grid_template_columns": null,
      "grid_template_rows": null,
      "height": null,
      "justify_content": null,
      "justify_items": null,
      "left": null,
      "margin": null,
      "max_height": null,
      "max_width": null,
      "min_height": null,
      "min_width": null,
      "object_fit": null,
      "object_position": null,
      "order": null,
      "overflow": null,
      "overflow_x": null,
      "overflow_y": null,
      "padding": null,
      "right": null,
      "top": null,
      "visibility": null,
      "width": null
     }
    },
    "1906e5fad2f649f29efc57b221cf0cdf": {
     "model_module": "@jupyter-widgets/base",
     "model_module_version": "1.2.0",
     "model_name": "LayoutModel",
     "state": {
      "_model_module": "@jupyter-widgets/base",
      "_model_module_version": "1.2.0",
      "_model_name": "LayoutModel",
      "_view_count": null,
      "_view_module": "@jupyter-widgets/base",
      "_view_module_version": "1.2.0",
      "_view_name": "LayoutView",
      "align_content": null,
      "align_items": null,
      "align_self": null,
      "border": null,
      "bottom": null,
      "display": null,
      "flex": null,
      "flex_flow": null,
      "grid_area": null,
      "grid_auto_columns": null,
      "grid_auto_flow": null,
      "grid_auto_rows": null,
      "grid_column": null,
      "grid_gap": null,
      "grid_row": null,
      "grid_template_areas": null,
      "grid_template_columns": null,
      "grid_template_rows": null,
      "height": null,
      "justify_content": null,
      "justify_items": null,
      "left": null,
      "margin": null,
      "max_height": null,
      "max_width": null,
      "min_height": null,
      "min_width": null,
      "object_fit": null,
      "object_position": null,
      "order": null,
      "overflow": null,
      "overflow_x": null,
      "overflow_y": null,
      "padding": null,
      "right": null,
      "top": null,
      "visibility": null,
      "width": null
     }
    },
    "1e0be92eeeb54f768ecf955587515c04": {
     "model_module": "@jupyter-widgets/controls",
     "model_module_version": "1.5.0",
     "model_name": "HBoxModel",
     "state": {
      "_dom_classes": [],
      "_model_module": "@jupyter-widgets/controls",
      "_model_module_version": "1.5.0",
      "_model_name": "HBoxModel",
      "_view_count": null,
      "_view_module": "@jupyter-widgets/controls",
      "_view_module_version": "1.5.0",
      "_view_name": "HBoxView",
      "box_style": "",
      "children": [
       "IPY_MODEL_218332eecc8546f094cb13da2bb84906",
       "IPY_MODEL_5b8d4afa0c914f6d88d5be73b7552f04",
       "IPY_MODEL_5af04d9d595e467fb992a8b9dde244ba"
      ],
      "layout": "IPY_MODEL_a833f98b34bb4392aa16af70270328a9"
     }
    },
    "1eae70007a36464e9d9a706649cbfc23": {
     "model_module": "@jupyter-widgets/controls",
     "model_module_version": "1.5.0",
     "model_name": "HBoxModel",
     "state": {
      "_dom_classes": [],
      "_model_module": "@jupyter-widgets/controls",
      "_model_module_version": "1.5.0",
      "_model_name": "HBoxModel",
      "_view_count": null,
      "_view_module": "@jupyter-widgets/controls",
      "_view_module_version": "1.5.0",
      "_view_name": "HBoxView",
      "box_style": "",
      "children": [
       "IPY_MODEL_f7355f3a35e647128595bebb82dae1dc",
       "IPY_MODEL_022613c82e034f26b3f1126408cd6e1d",
       "IPY_MODEL_d18c290e64014ae4bd1237e367f56859"
      ],
      "layout": "IPY_MODEL_5c6a596786b4494abc784ae073376a81"
     }
    },
    "1f52dde9de4143a385db1437c1ba3370": {
     "model_module": "@jupyter-widgets/controls",
     "model_module_version": "1.5.0",
     "model_name": "HBoxModel",
     "state": {
      "_dom_classes": [],
      "_model_module": "@jupyter-widgets/controls",
      "_model_module_version": "1.5.0",
      "_model_name": "HBoxModel",
      "_view_count": null,
      "_view_module": "@jupyter-widgets/controls",
      "_view_module_version": "1.5.0",
      "_view_name": "HBoxView",
      "box_style": "",
      "children": [
       "IPY_MODEL_ef7f2774c547401194dd74f3bccb1658",
       "IPY_MODEL_45da091a43bd4930964b7392e43794ae",
       "IPY_MODEL_c2c441ea89364d7c9a3eb193c24d3fbe"
      ],
      "layout": "IPY_MODEL_1906e5fad2f649f29efc57b221cf0cdf"
     }
    },
    "218332eecc8546f094cb13da2bb84906": {
     "model_module": "@jupyter-widgets/controls",
     "model_module_version": "1.5.0",
     "model_name": "HTMLModel",
     "state": {
      "_dom_classes": [],
      "_model_module": "@jupyter-widgets/controls",
      "_model_module_version": "1.5.0",
      "_model_name": "HTMLModel",
      "_view_count": null,
      "_view_module": "@jupyter-widgets/controls",
      "_view_module_version": "1.5.0",
      "_view_name": "HTMLView",
      "description": "",
      "description_tooltip": null,
      "layout": "IPY_MODEL_29853cdba5ba4286b12c77d6bb4a9b44",
      "placeholder": "​",
      "style": "IPY_MODEL_b6f62bfaff32437aa221511c77c5df3b",
      "value": "Generating validation split:  90%"
     }
    },
    "23403539b5c74769aa55f163a2237665": {
     "model_module": "@jupyter-widgets/controls",
     "model_module_version": "1.5.0",
     "model_name": "DescriptionStyleModel",
     "state": {
      "_model_module": "@jupyter-widgets/controls",
      "_model_module_version": "1.5.0",
      "_model_name": "DescriptionStyleModel",
      "_view_count": null,
      "_view_module": "@jupyter-widgets/base",
      "_view_module_version": "1.2.0",
      "_view_name": "StyleView",
      "description_width": ""
     }
    },
    "238577b31dfe4b7094730427d3b203d9": {
     "model_module": "@jupyter-widgets/base",
     "model_module_version": "1.2.0",
     "model_name": "LayoutModel",
     "state": {
      "_model_module": "@jupyter-widgets/base",
      "_model_module_version": "1.2.0",
      "_model_name": "LayoutModel",
      "_view_count": null,
      "_view_module": "@jupyter-widgets/base",
      "_view_module_version": "1.2.0",
      "_view_name": "LayoutView",
      "align_content": null,
      "align_items": null,
      "align_self": null,
      "border": null,
      "bottom": null,
      "display": null,
      "flex": null,
      "flex_flow": null,
      "grid_area": null,
      "grid_auto_columns": null,
      "grid_auto_flow": null,
      "grid_auto_rows": null,
      "grid_column": null,
      "grid_gap": null,
      "grid_row": null,
      "grid_template_areas": null,
      "grid_template_columns": null,
      "grid_template_rows": null,
      "height": null,
      "justify_content": null,
      "justify_items": null,
      "left": null,
      "margin": null,
      "max_height": null,
      "max_width": null,
      "min_height": null,
      "min_width": null,
      "object_fit": null,
      "object_position": null,
      "order": null,
      "overflow": null,
      "overflow_x": null,
      "overflow_y": null,
      "padding": null,
      "right": null,
      "top": null,
      "visibility": null,
      "width": null
     }
    },
    "24829c2324cc4239a455798ccf9b6b13": {
     "model_module": "@jupyter-widgets/controls",
     "model_module_version": "1.5.0",
     "model_name": "ProgressStyleModel",
     "state": {
      "_model_module": "@jupyter-widgets/controls",
      "_model_module_version": "1.5.0",
      "_model_name": "ProgressStyleModel",
      "_view_count": null,
      "_view_module": "@jupyter-widgets/base",
      "_view_module_version": "1.2.0",
      "_view_name": "StyleView",
      "bar_color": null,
      "description_width": ""
     }
    },
    "25ac539aaf8c4431889a7ec744f31a06": {
     "model_module": "@jupyter-widgets/controls",
     "model_module_version": "1.5.0",
     "model_name": "HTMLModel",
     "state": {
      "_dom_classes": [],
      "_model_module": "@jupyter-widgets/controls",
      "_model_module_version": "1.5.0",
      "_model_name": "HTMLModel",
      "_view_count": null,
      "_view_module": "@jupyter-widgets/controls",
      "_view_module_version": "1.5.0",
      "_view_name": "HTMLView",
      "description": "",
      "description_tooltip": null,
      "layout": "IPY_MODEL_b99214a5ac20415790198058454af8df",
      "placeholder": "​",
      "style": "IPY_MODEL_309beb8601f04e4f8c77665eef7b5d47",
      "value": "Downloading readme: 100%"
     }
    },
    "2637be4585224c5ba21b2f84b2d4a291": {
     "model_module": "@jupyter-widgets/controls",
     "model_module_version": "1.5.0",
     "model_name": "HBoxModel",
     "state": {
      "_dom_classes": [],
      "_model_module": "@jupyter-widgets/controls",
      "_model_module_version": "1.5.0",
      "_model_name": "HBoxModel",
      "_view_count": null,
      "_view_module": "@jupyter-widgets/controls",
      "_view_module_version": "1.5.0",
      "_view_name": "HBoxView",
      "box_style": "",
      "children": [
       "IPY_MODEL_25ac539aaf8c4431889a7ec744f31a06",
       "IPY_MODEL_cb51553ad6c442e18d6ebc00ec62ab15",
       "IPY_MODEL_c8cef20cc2cc41599bb15d9cb80b27b5"
      ],
      "layout": "IPY_MODEL_4cf2c33a9fc34bc998ec796927fa8c74"
     }
    },
    "28f2c271b4684e2481e5113eb72044bb": {
     "model_module": "@jupyter-widgets/base",
     "model_module_version": "1.2.0",
     "model_name": "LayoutModel",
     "state": {
      "_model_module": "@jupyter-widgets/base",
      "_model_module_version": "1.2.0",
      "_model_name": "LayoutModel",
      "_view_count": null,
      "_view_module": "@jupyter-widgets/base",
      "_view_module_version": "1.2.0",
      "_view_name": "LayoutView",
      "align_content": null,
      "align_items": null,
      "align_self": null,
      "border": null,
      "bottom": null,
      "display": null,
      "flex": null,
      "flex_flow": null,
      "grid_area": null,
      "grid_auto_columns": null,
      "grid_auto_flow": null,
      "grid_auto_rows": null,
      "grid_column": null,
      "grid_gap": null,
      "grid_row": null,
      "grid_template_areas": null,
      "grid_template_columns": null,
      "grid_template_rows": null,
      "height": null,
      "justify_content": null,
      "justify_items": null,
      "left": null,
      "margin": null,
      "max_height": null,
      "max_width": null,
      "min_height": null,
      "min_width": null,
      "object_fit": null,
      "object_position": null,
      "order": null,
      "overflow": null,
      "overflow_x": null,
      "overflow_y": null,
      "padding": null,
      "right": null,
      "top": null,
      "visibility": null,
      "width": null
     }
    },
    "29853cdba5ba4286b12c77d6bb4a9b44": {
     "model_module": "@jupyter-widgets/base",
     "model_module_version": "1.2.0",
     "model_name": "LayoutModel",
     "state": {
      "_model_module": "@jupyter-widgets/base",
      "_model_module_version": "1.2.0",
      "_model_name": "LayoutModel",
      "_view_count": null,
      "_view_module": "@jupyter-widgets/base",
      "_view_module_version": "1.2.0",
      "_view_name": "LayoutView",
      "align_content": null,
      "align_items": null,
      "align_self": null,
      "border": null,
      "bottom": null,
      "display": null,
      "flex": null,
      "flex_flow": null,
      "grid_area": null,
      "grid_auto_columns": null,
      "grid_auto_flow": null,
      "grid_auto_rows": null,
      "grid_column": null,
      "grid_gap": null,
      "grid_row": null,
      "grid_template_areas": null,
      "grid_template_columns": null,
      "grid_template_rows": null,
      "height": null,
      "justify_content": null,
      "justify_items": null,
      "left": null,
      "margin": null,
      "max_height": null,
      "max_width": null,
      "min_height": null,
      "min_width": null,
      "object_fit": null,
      "object_position": null,
      "order": null,
      "overflow": null,
      "overflow_x": null,
      "overflow_y": null,
      "padding": null,
      "right": null,
      "top": null,
      "visibility": null,
      "width": null
     }
    },
    "309beb8601f04e4f8c77665eef7b5d47": {
     "model_module": "@jupyter-widgets/controls",
     "model_module_version": "1.5.0",
     "model_name": "DescriptionStyleModel",
     "state": {
      "_model_module": "@jupyter-widgets/controls",
      "_model_module_version": "1.5.0",
      "_model_name": "DescriptionStyleModel",
      "_view_count": null,
      "_view_module": "@jupyter-widgets/base",
      "_view_module_version": "1.2.0",
      "_view_name": "StyleView",
      "description_width": ""
     }
    },
    "31a8f583849747e4a9931baccaab61ba": {
     "model_module": "@jupyter-widgets/controls",
     "model_module_version": "1.5.0",
     "model_name": "HTMLModel",
     "state": {
      "_dom_classes": [],
      "_model_module": "@jupyter-widgets/controls",
      "_model_module_version": "1.5.0",
      "_model_name": "HTMLModel",
      "_view_count": null,
      "_view_module": "@jupyter-widgets/controls",
      "_view_module_version": "1.5.0",
      "_view_name": "HTMLView",
      "description": "",
      "description_tooltip": null,
      "layout": "IPY_MODEL_8f462e5afe624f51b6ab807a299ad70d",
      "placeholder": "​",
      "style": "IPY_MODEL_89f23f996a2b4a3193fe47ca5c9c65e1",
      "value": " 570/570 [00:00&lt;00:00, 7.78kB/s]"
     }
    },
    "32c95a77cdbd4c2cbbaf92d574baf946": {
     "model_module": "@jupyter-widgets/controls",
     "model_module_version": "1.5.0",
     "model_name": "HBoxModel",
     "state": {
      "_dom_classes": [],
      "_model_module": "@jupyter-widgets/controls",
      "_model_module_version": "1.5.0",
      "_model_name": "HBoxModel",
      "_view_count": null,
      "_view_module": "@jupyter-widgets/controls",
      "_view_module_version": "1.5.0",
      "_view_name": "HBoxView",
      "box_style": "",
      "children": [
       "IPY_MODEL_abe5208040fb4c60b6998905f13c6bfd",
       "IPY_MODEL_c6fd632e33744cabaf28de68fc55a4c6",
       "IPY_MODEL_c4498e0b49704ce3841eb09411f9c28e"
      ],
      "layout": "IPY_MODEL_837c1db464b54ba193fcb62f9b9046b5"
     }
    },
    "36b6ad22e3464f718614c81ce5d5468e": {
     "model_module": "@jupyter-widgets/controls",
     "model_module_version": "1.5.0",
     "model_name": "HTMLModel",
     "state": {
      "_dom_classes": [],
      "_model_module": "@jupyter-widgets/controls",
      "_model_module_version": "1.5.0",
      "_model_name": "HTMLModel",
      "_view_count": null,
      "_view_module": "@jupyter-widgets/controls",
      "_view_module_version": "1.5.0",
      "_view_name": "HTMLView",
      "description": "",
      "description_tooltip": null,
      "layout": "IPY_MODEL_ad695acc010d414b9411174547761420",
      "placeholder": "​",
      "style": "IPY_MODEL_bf139637c29a4e579cb5ca6bc20c2c37",
      "value": "Downloading metadata: 100%"
     }
    },
    "37693f196b5340c99099d8658c35ef30": {
     "model_module": "@jupyter-widgets/base",
     "model_module_version": "1.2.0",
     "model_name": "LayoutModel",
     "state": {
      "_model_module": "@jupyter-widgets/base",
      "_model_module_version": "1.2.0",
      "_model_name": "LayoutModel",
      "_view_count": null,
      "_view_module": "@jupyter-widgets/base",
      "_view_module_version": "1.2.0",
      "_view_name": "LayoutView",
      "align_content": null,
      "align_items": null,
      "align_self": null,
      "border": null,
      "bottom": null,
      "display": null,
      "flex": null,
      "flex_flow": null,
      "grid_area": null,
      "grid_auto_columns": null,
      "grid_auto_flow": null,
      "grid_auto_rows": null,
      "grid_column": null,
      "grid_gap": null,
      "grid_row": null,
      "grid_template_areas": null,
      "grid_template_columns": null,
      "grid_template_rows": null,
      "height": null,
      "justify_content": null,
      "justify_items": null,
      "left": null,
      "margin": null,
      "max_height": null,
      "max_width": null,
      "min_height": null,
      "min_width": null,
      "object_fit": null,
      "object_position": null,
      "order": null,
      "overflow": null,
      "overflow_x": null,
      "overflow_y": null,
      "padding": null,
      "right": null,
      "top": null,
      "visibility": null,
      "width": null
     }
    },
    "38b5dcf080c64bd8bf0e7d9ee3e64a8f": {
     "model_module": "@jupyter-widgets/base",
     "model_module_version": "1.2.0",
     "model_name": "LayoutModel",
     "state": {
      "_model_module": "@jupyter-widgets/base",
      "_model_module_version": "1.2.0",
      "_model_name": "LayoutModel",
      "_view_count": null,
      "_view_module": "@jupyter-widgets/base",
      "_view_module_version": "1.2.0",
      "_view_name": "LayoutView",
      "align_content": null,
      "align_items": null,
      "align_self": null,
      "border": null,
      "bottom": null,
      "display": null,
      "flex": null,
      "flex_flow": null,
      "grid_area": null,
      "grid_auto_columns": null,
      "grid_auto_flow": null,
      "grid_auto_rows": null,
      "grid_column": null,
      "grid_gap": null,
      "grid_row": null,
      "grid_template_areas": null,
      "grid_template_columns": null,
      "grid_template_rows": null,
      "height": null,
      "justify_content": null,
      "justify_items": null,
      "left": null,
      "margin": null,
      "max_height": null,
      "max_width": null,
      "min_height": null,
      "min_width": null,
      "object_fit": null,
      "object_position": null,
      "order": null,
      "overflow": null,
      "overflow_x": null,
      "overflow_y": null,
      "padding": null,
      "right": null,
      "top": null,
      "visibility": null,
      "width": null
     }
    },
    "3a91fdefe89f4113a1f59dd2d2475f31": {
     "model_module": "@jupyter-widgets/base",
     "model_module_version": "1.2.0",
     "model_name": "LayoutModel",
     "state": {
      "_model_module": "@jupyter-widgets/base",
      "_model_module_version": "1.2.0",
      "_model_name": "LayoutModel",
      "_view_count": null,
      "_view_module": "@jupyter-widgets/base",
      "_view_module_version": "1.2.0",
      "_view_name": "LayoutView",
      "align_content": null,
      "align_items": null,
      "align_self": null,
      "border": null,
      "bottom": null,
      "display": null,
      "flex": null,
      "flex_flow": null,
      "grid_area": null,
      "grid_auto_columns": null,
      "grid_auto_flow": null,
      "grid_auto_rows": null,
      "grid_column": null,
      "grid_gap": null,
      "grid_row": null,
      "grid_template_areas": null,
      "grid_template_columns": null,
      "grid_template_rows": null,
      "height": null,
      "justify_content": null,
      "justify_items": null,
      "left": null,
      "margin": null,
      "max_height": null,
      "max_width": null,
      "min_height": null,
      "min_width": null,
      "object_fit": null,
      "object_position": null,
      "order": null,
      "overflow": null,
      "overflow_x": null,
      "overflow_y": null,
      "padding": null,
      "right": null,
      "top": null,
      "visibility": null,
      "width": null
     }
    },
    "3b03253ecf4945f5a8f5f90972c7fade": {
     "model_module": "@jupyter-widgets/base",
     "model_module_version": "1.2.0",
     "model_name": "LayoutModel",
     "state": {
      "_model_module": "@jupyter-widgets/base",
      "_model_module_version": "1.2.0",
      "_model_name": "LayoutModel",
      "_view_count": null,
      "_view_module": "@jupyter-widgets/base",
      "_view_module_version": "1.2.0",
      "_view_name": "LayoutView",
      "align_content": null,
      "align_items": null,
      "align_self": null,
      "border": null,
      "bottom": null,
      "display": null,
      "flex": null,
      "flex_flow": null,
      "grid_area": null,
      "grid_auto_columns": null,
      "grid_auto_flow": null,
      "grid_auto_rows": null,
      "grid_column": null,
      "grid_gap": null,
      "grid_row": null,
      "grid_template_areas": null,
      "grid_template_columns": null,
      "grid_template_rows": null,
      "height": null,
      "justify_content": null,
      "justify_items": null,
      "left": null,
      "margin": null,
      "max_height": null,
      "max_width": null,
      "min_height": null,
      "min_width": null,
      "object_fit": null,
      "object_position": null,
      "order": null,
      "overflow": null,
      "overflow_x": null,
      "overflow_y": null,
      "padding": null,
      "right": null,
      "top": null,
      "visibility": null,
      "width": null
     }
    },
    "45da091a43bd4930964b7392e43794ae": {
     "model_module": "@jupyter-widgets/controls",
     "model_module_version": "1.5.0",
     "model_name": "FloatProgressModel",
     "state": {
      "_dom_classes": [],
      "_model_module": "@jupyter-widgets/controls",
      "_model_module_version": "1.5.0",
      "_model_name": "FloatProgressModel",
      "_view_count": null,
      "_view_module": "@jupyter-widgets/controls",
      "_view_module_version": "1.5.0",
      "_view_name": "ProgressView",
      "bar_style": "success",
      "description": "",
      "description_tooltip": null,
      "layout": "IPY_MODEL_0a3a0db1a62e42ef8c7071a0cacac69a",
      "max": 440473133,
      "min": 0,
      "orientation": "horizontal",
      "style": "IPY_MODEL_dd92e5b120c245ebb30c00b600ce06f3",
      "value": 440473133
     }
    },
    "47d1588612534f9eab9229083be5fc34": {
     "model_module": "@jupyter-widgets/controls",
     "model_module_version": "1.5.0",
     "model_name": "HBoxModel",
     "state": {
      "_dom_classes": [],
      "_model_module": "@jupyter-widgets/controls",
      "_model_module_version": "1.5.0",
      "_model_name": "HBoxModel",
      "_view_count": null,
      "_view_module": "@jupyter-widgets/controls",
      "_view_module_version": "1.5.0",
      "_view_name": "HBoxView",
      "box_style": "",
      "children": [
       "IPY_MODEL_70730f16899940359ac54f1d7d6db07d",
       "IPY_MODEL_fc1378e772d340ce950033c14e3a12ed",
       "IPY_MODEL_d980b6949c214e6d99227f8e0b1ef888"
      ],
      "layout": "IPY_MODEL_5a669c0fcceb474a828f5466de020b43"
     }
    },
    "49f1063a12b94b0485e001add400819d": {
     "model_module": "@jupyter-widgets/controls",
     "model_module_version": "1.5.0",
     "model_name": "DescriptionStyleModel",
     "state": {
      "_model_module": "@jupyter-widgets/controls",
      "_model_module_version": "1.5.0",
      "_model_name": "DescriptionStyleModel",
      "_view_count": null,
      "_view_module": "@jupyter-widgets/base",
      "_view_module_version": "1.2.0",
      "_view_name": "StyleView",
      "description_width": ""
     }
    },
    "4c1dabd33d6a4094aa6d3d42947caafd": {
     "model_module": "@jupyter-widgets/controls",
     "model_module_version": "1.5.0",
     "model_name": "DescriptionStyleModel",
     "state": {
      "_model_module": "@jupyter-widgets/controls",
      "_model_module_version": "1.5.0",
      "_model_name": "DescriptionStyleModel",
      "_view_count": null,
      "_view_module": "@jupyter-widgets/base",
      "_view_module_version": "1.2.0",
      "_view_name": "StyleView",
      "description_width": ""
     }
    },
    "4c5a2dce99744e8c8dbdf2ef1633ff34": {
     "model_module": "@jupyter-widgets/controls",
     "model_module_version": "1.5.0",
     "model_name": "DescriptionStyleModel",
     "state": {
      "_model_module": "@jupyter-widgets/controls",
      "_model_module_version": "1.5.0",
      "_model_name": "DescriptionStyleModel",
      "_view_count": null,
      "_view_module": "@jupyter-widgets/base",
      "_view_module_version": "1.2.0",
      "_view_name": "StyleView",
      "description_width": ""
     }
    },
    "4cf2c33a9fc34bc998ec796927fa8c74": {
     "model_module": "@jupyter-widgets/base",
     "model_module_version": "1.2.0",
     "model_name": "LayoutModel",
     "state": {
      "_model_module": "@jupyter-widgets/base",
      "_model_module_version": "1.2.0",
      "_model_name": "LayoutModel",
      "_view_count": null,
      "_view_module": "@jupyter-widgets/base",
      "_view_module_version": "1.2.0",
      "_view_name": "LayoutView",
      "align_content": null,
      "align_items": null,
      "align_self": null,
      "border": null,
      "bottom": null,
      "display": null,
      "flex": null,
      "flex_flow": null,
      "grid_area": null,
      "grid_auto_columns": null,
      "grid_auto_flow": null,
      "grid_auto_rows": null,
      "grid_column": null,
      "grid_gap": null,
      "grid_row": null,
      "grid_template_areas": null,
      "grid_template_columns": null,
      "grid_template_rows": null,
      "height": null,
      "justify_content": null,
      "justify_items": null,
      "left": null,
      "margin": null,
      "max_height": null,
      "max_width": null,
      "min_height": null,
      "min_width": null,
      "object_fit": null,
      "object_position": null,
      "order": null,
      "overflow": null,
      "overflow_x": null,
      "overflow_y": null,
      "padding": null,
      "right": null,
      "top": null,
      "visibility": null,
      "width": null
     }
    },
    "4d44b14fd42a442b8848cb1b8d9b37bf": {
     "model_module": "@jupyter-widgets/controls",
     "model_module_version": "1.5.0",
     "model_name": "HTMLModel",
     "state": {
      "_dom_classes": [],
      "_model_module": "@jupyter-widgets/controls",
      "_model_module_version": "1.5.0",
      "_model_name": "HTMLModel",
      "_view_count": null,
      "_view_module": "@jupyter-widgets/controls",
      "_view_module_version": "1.5.0",
      "_view_name": "HTMLView",
      "description": "",
      "description_tooltip": null,
      "layout": "IPY_MODEL_e601adfc78114cac9f978206c10e3e40",
      "placeholder": "​",
      "style": "IPY_MODEL_d24d4f8442214c7391ce88d65ab35617",
      "value": " 1/1 [00:00&lt;00:00, 29.18it/s]"
     }
    },
    "50c14a2b18c14061b55c461b6bea195c": {
     "model_module": "@jupyter-widgets/controls",
     "model_module_version": "1.5.0",
     "model_name": "HBoxModel",
     "state": {
      "_dom_classes": [],
      "_model_module": "@jupyter-widgets/controls",
      "_model_module_version": "1.5.0",
      "_model_name": "HBoxModel",
      "_view_count": null,
      "_view_module": "@jupyter-widgets/controls",
      "_view_module_version": "1.5.0",
      "_view_name": "HBoxView",
      "box_style": "",
      "children": [
       "IPY_MODEL_beb4b013848549d9887afaf3ecc44555",
       "IPY_MODEL_a441b3a70361410c96764326a2d53ecc",
       "IPY_MODEL_4d44b14fd42a442b8848cb1b8d9b37bf"
      ],
      "layout": "IPY_MODEL_8cb09e69bc5341f1961487f5a2a3dc87"
     }
    },
    "51a1050608d043bca746d4636e5e53a6": {
     "model_module": "@jupyter-widgets/controls",
     "model_module_version": "1.5.0",
     "model_name": "DescriptionStyleModel",
     "state": {
      "_model_module": "@jupyter-widgets/controls",
      "_model_module_version": "1.5.0",
      "_model_name": "DescriptionStyleModel",
      "_view_count": null,
      "_view_module": "@jupyter-widgets/base",
      "_view_module_version": "1.2.0",
      "_view_name": "StyleView",
      "description_width": ""
     }
    },
    "5a669c0fcceb474a828f5466de020b43": {
     "model_module": "@jupyter-widgets/base",
     "model_module_version": "1.2.0",
     "model_name": "LayoutModel",
     "state": {
      "_model_module": "@jupyter-widgets/base",
      "_model_module_version": "1.2.0",
      "_model_name": "LayoutModel",
      "_view_count": null,
      "_view_module": "@jupyter-widgets/base",
      "_view_module_version": "1.2.0",
      "_view_name": "LayoutView",
      "align_content": null,
      "align_items": null,
      "align_self": null,
      "border": null,
      "bottom": null,
      "display": null,
      "flex": null,
      "flex_flow": null,
      "grid_area": null,
      "grid_auto_columns": null,
      "grid_auto_flow": null,
      "grid_auto_rows": null,
      "grid_column": null,
      "grid_gap": null,
      "grid_row": null,
      "grid_template_areas": null,
      "grid_template_columns": null,
      "grid_template_rows": null,
      "height": null,
      "justify_content": null,
      "justify_items": null,
      "left": null,
      "margin": null,
      "max_height": null,
      "max_width": null,
      "min_height": null,
      "min_width": null,
      "object_fit": null,
      "object_position": null,
      "order": null,
      "overflow": null,
      "overflow_x": null,
      "overflow_y": null,
      "padding": null,
      "right": null,
      "top": null,
      "visibility": null,
      "width": null
     }
    },
    "5af04d9d595e467fb992a8b9dde244ba": {
     "model_module": "@jupyter-widgets/controls",
     "model_module_version": "1.5.0",
     "model_name": "HTMLModel",
     "state": {
      "_dom_classes": [],
      "_model_module": "@jupyter-widgets/controls",
      "_model_module_version": "1.5.0",
      "_model_name": "HTMLModel",
      "_view_count": null,
      "_view_module": "@jupyter-widgets/controls",
      "_view_module_version": "1.5.0",
      "_view_name": "HTMLView",
      "description": "",
      "description_tooltip": null,
      "layout": "IPY_MODEL_a7b376c6cc9443518e745e286441edbc",
      "placeholder": "​",
      "style": "IPY_MODEL_abc90b650d3545008d711e209b9c5785",
      "value": " 1917/2123 [00:01&lt;00:00, 2015.70 examples/s]"
     }
    },
    "5b8d4afa0c914f6d88d5be73b7552f04": {
     "model_module": "@jupyter-widgets/controls",
     "model_module_version": "1.5.0",
     "model_name": "FloatProgressModel",
     "state": {
      "_dom_classes": [],
      "_model_module": "@jupyter-widgets/controls",
      "_model_module_version": "1.5.0",
      "_model_name": "FloatProgressModel",
      "_view_count": null,
      "_view_module": "@jupyter-widgets/controls",
      "_view_module_version": "1.5.0",
      "_view_name": "ProgressView",
      "bar_style": "",
      "description": "",
      "description_tooltip": null,
      "layout": "IPY_MODEL_c10aa44096cd4290a1927f369f6d1e0a",
      "max": 2123,
      "min": 0,
      "orientation": "horizontal",
      "style": "IPY_MODEL_853d094524454c1e8b834409f057938a",
      "value": 2123
     }
    },
    "5c6a596786b4494abc784ae073376a81": {
     "model_module": "@jupyter-widgets/base",
     "model_module_version": "1.2.0",
     "model_name": "LayoutModel",
     "state": {
      "_model_module": "@jupyter-widgets/base",
      "_model_module_version": "1.2.0",
      "_model_name": "LayoutModel",
      "_view_count": null,
      "_view_module": "@jupyter-widgets/base",
      "_view_module_version": "1.2.0",
      "_view_name": "LayoutView",
      "align_content": null,
      "align_items": null,
      "align_self": null,
      "border": null,
      "bottom": null,
      "display": null,
      "flex": null,
      "flex_flow": null,
      "grid_area": null,
      "grid_auto_columns": null,
      "grid_auto_flow": null,
      "grid_auto_rows": null,
      "grid_column": null,
      "grid_gap": null,
      "grid_row": null,
      "grid_template_areas": null,
      "grid_template_columns": null,
      "grid_template_rows": null,
      "height": null,
      "justify_content": null,
      "justify_items": null,
      "left": null,
      "margin": null,
      "max_height": null,
      "max_width": null,
      "min_height": null,
      "min_width": null,
      "object_fit": null,
      "object_position": null,
      "order": null,
      "overflow": null,
      "overflow_x": null,
      "overflow_y": null,
      "padding": null,
      "right": null,
      "top": null,
      "visibility": null,
      "width": null
     }
    },
    "5d207a55ed3048c898e91ad7d89cbba1": {
     "model_module": "@jupyter-widgets/base",
     "model_module_version": "1.2.0",
     "model_name": "LayoutModel",
     "state": {
      "_model_module": "@jupyter-widgets/base",
      "_model_module_version": "1.2.0",
      "_model_name": "LayoutModel",
      "_view_count": null,
      "_view_module": "@jupyter-widgets/base",
      "_view_module_version": "1.2.0",
      "_view_name": "LayoutView",
      "align_content": null,
      "align_items": null,
      "align_self": null,
      "border": null,
      "bottom": null,
      "display": null,
      "flex": null,
      "flex_flow": null,
      "grid_area": null,
      "grid_auto_columns": null,
      "grid_auto_flow": null,
      "grid_auto_rows": null,
      "grid_column": null,
      "grid_gap": null,
      "grid_row": null,
      "grid_template_areas": null,
      "grid_template_columns": null,
      "grid_template_rows": null,
      "height": null,
      "justify_content": null,
      "justify_items": null,
      "left": null,
      "margin": null,
      "max_height": null,
      "max_width": null,
      "min_height": null,
      "min_width": null,
      "object_fit": null,
      "object_position": null,
      "order": null,
      "overflow": null,
      "overflow_x": null,
      "overflow_y": null,
      "padding": null,
      "right": null,
      "top": null,
      "visibility": null,
      "width": null
     }
    },
    "5e5ecfe21a3d4c2090bde1d4abff5698": {
     "model_module": "@jupyter-widgets/base",
     "model_module_version": "1.2.0",
     "model_name": "LayoutModel",
     "state": {
      "_model_module": "@jupyter-widgets/base",
      "_model_module_version": "1.2.0",
      "_model_name": "LayoutModel",
      "_view_count": null,
      "_view_module": "@jupyter-widgets/base",
      "_view_module_version": "1.2.0",
      "_view_name": "LayoutView",
      "align_content": null,
      "align_items": null,
      "align_self": null,
      "border": null,
      "bottom": null,
      "display": null,
      "flex": null,
      "flex_flow": null,
      "grid_area": null,
      "grid_auto_columns": null,
      "grid_auto_flow": null,
      "grid_auto_rows": null,
      "grid_column": null,
      "grid_gap": null,
      "grid_row": null,
      "grid_template_areas": null,
      "grid_template_columns": null,
      "grid_template_rows": null,
      "height": null,
      "justify_content": null,
      "justify_items": null,
      "left": null,
      "margin": null,
      "max_height": null,
      "max_width": null,
      "min_height": null,
      "min_width": null,
      "object_fit": null,
      "object_position": null,
      "order": null,
      "overflow": null,
      "overflow_x": null,
      "overflow_y": null,
      "padding": null,
      "right": null,
      "top": null,
      "visibility": null,
      "width": null
     }
    },
    "605d8282e7744120a12f01ce4965b2bd": {
     "model_module": "@jupyter-widgets/controls",
     "model_module_version": "1.5.0",
     "model_name": "ProgressStyleModel",
     "state": {
      "_model_module": "@jupyter-widgets/controls",
      "_model_module_version": "1.5.0",
      "_model_name": "ProgressStyleModel",
      "_view_count": null,
      "_view_module": "@jupyter-widgets/base",
      "_view_module_version": "1.2.0",
      "_view_name": "StyleView",
      "bar_color": null,
      "description_width": ""
     }
    },
    "62fb3a874ab64a7abcdd028393b9c74e": {
     "model_module": "@jupyter-widgets/base",
     "model_module_version": "1.2.0",
     "model_name": "LayoutModel",
     "state": {
      "_model_module": "@jupyter-widgets/base",
      "_model_module_version": "1.2.0",
      "_model_name": "LayoutModel",
      "_view_count": null,
      "_view_module": "@jupyter-widgets/base",
      "_view_module_version": "1.2.0",
      "_view_name": "LayoutView",
      "align_content": null,
      "align_items": null,
      "align_self": null,
      "border": null,
      "bottom": null,
      "display": null,
      "flex": null,
      "flex_flow": null,
      "grid_area": null,
      "grid_auto_columns": null,
      "grid_auto_flow": null,
      "grid_auto_rows": null,
      "grid_column": null,
      "grid_gap": null,
      "grid_row": null,
      "grid_template_areas": null,
      "grid_template_columns": null,
      "grid_template_rows": null,
      "height": null,
      "justify_content": null,
      "justify_items": null,
      "left": null,
      "margin": null,
      "max_height": null,
      "max_width": null,
      "min_height": null,
      "min_width": null,
      "object_fit": null,
      "object_position": null,
      "order": null,
      "overflow": null,
      "overflow_x": null,
      "overflow_y": null,
      "padding": null,
      "right": null,
      "top": null,
      "visibility": null,
      "width": null
     }
    },
    "6bc6ffc8c1294594b980d30c4452ceb4": {
     "model_module": "@jupyter-widgets/controls",
     "model_module_version": "1.5.0",
     "model_name": "ProgressStyleModel",
     "state": {
      "_model_module": "@jupyter-widgets/controls",
      "_model_module_version": "1.5.0",
      "_model_name": "ProgressStyleModel",
      "_view_count": null,
      "_view_module": "@jupyter-widgets/base",
      "_view_module_version": "1.2.0",
      "_view_name": "StyleView",
      "bar_color": null,
      "description_width": ""
     }
    },
    "6d7ddd4230934ac1ae826fcd4da10410": {
     "model_module": "@jupyter-widgets/base",
     "model_module_version": "1.2.0",
     "model_name": "LayoutModel",
     "state": {
      "_model_module": "@jupyter-widgets/base",
      "_model_module_version": "1.2.0",
      "_model_name": "LayoutModel",
      "_view_count": null,
      "_view_module": "@jupyter-widgets/base",
      "_view_module_version": "1.2.0",
      "_view_name": "LayoutView",
      "align_content": null,
      "align_items": null,
      "align_self": null,
      "border": null,
      "bottom": null,
      "display": null,
      "flex": null,
      "flex_flow": null,
      "grid_area": null,
      "grid_auto_columns": null,
      "grid_auto_flow": null,
      "grid_auto_rows": null,
      "grid_column": null,
      "grid_gap": null,
      "grid_row": null,
      "grid_template_areas": null,
      "grid_template_columns": null,
      "grid_template_rows": null,
      "height": null,
      "justify_content": null,
      "justify_items": null,
      "left": null,
      "margin": null,
      "max_height": null,
      "max_width": null,
      "min_height": null,
      "min_width": null,
      "object_fit": null,
      "object_position": null,
      "order": null,
      "overflow": null,
      "overflow_x": null,
      "overflow_y": null,
      "padding": null,
      "right": null,
      "top": null,
      "visibility": null,
      "width": null
     }
    },
    "70730f16899940359ac54f1d7d6db07d": {
     "model_module": "@jupyter-widgets/controls",
     "model_module_version": "1.5.0",
     "model_name": "HTMLModel",
     "state": {
      "_dom_classes": [],
      "_model_module": "@jupyter-widgets/controls",
      "_model_module_version": "1.5.0",
      "_model_name": "HTMLModel",
      "_view_count": null,
      "_view_module": "@jupyter-widgets/controls",
      "_view_module_version": "1.5.0",
      "_view_name": "HTMLView",
      "description": "",
      "description_tooltip": null,
      "layout": "IPY_MODEL_0154b2e08b274f64a6530d27e81bea80",
      "placeholder": "​",
      "style": "IPY_MODEL_da1fa5713a984054ba0fa7192f92f387",
      "value": "Downloading data: "
     }
    },
    "745d5b4dcc4649eaacaeb5e4f6efbe6f": {
     "model_module": "@jupyter-widgets/base",
     "model_module_version": "1.2.0",
     "model_name": "LayoutModel",
     "state": {
      "_model_module": "@jupyter-widgets/base",
      "_model_module_version": "1.2.0",
      "_model_name": "LayoutModel",
      "_view_count": null,
      "_view_module": "@jupyter-widgets/base",
      "_view_module_version": "1.2.0",
      "_view_name": "LayoutView",
      "align_content": null,
      "align_items": null,
      "align_self": null,
      "border": null,
      "bottom": null,
      "display": null,
      "flex": null,
      "flex_flow": null,
      "grid_area": null,
      "grid_auto_columns": null,
      "grid_auto_flow": null,
      "grid_auto_rows": null,
      "grid_column": null,
      "grid_gap": null,
      "grid_row": null,
      "grid_template_areas": null,
      "grid_template_columns": null,
      "grid_template_rows": null,
      "height": null,
      "justify_content": null,
      "justify_items": null,
      "left": null,
      "margin": null,
      "max_height": null,
      "max_width": null,
      "min_height": null,
      "min_width": null,
      "object_fit": null,
      "object_position": null,
      "order": null,
      "overflow": null,
      "overflow_x": null,
      "overflow_y": null,
      "padding": null,
      "right": null,
      "top": null,
      "visibility": null,
      "width": null
     }
    },
    "837c1db464b54ba193fcb62f9b9046b5": {
     "model_module": "@jupyter-widgets/base",
     "model_module_version": "1.2.0",
     "model_name": "LayoutModel",
     "state": {
      "_model_module": "@jupyter-widgets/base",
      "_model_module_version": "1.2.0",
      "_model_name": "LayoutModel",
      "_view_count": null,
      "_view_module": "@jupyter-widgets/base",
      "_view_module_version": "1.2.0",
      "_view_name": "LayoutView",
      "align_content": null,
      "align_items": null,
      "align_self": null,
      "border": null,
      "bottom": null,
      "display": null,
      "flex": null,
      "flex_flow": null,
      "grid_area": null,
      "grid_auto_columns": null,
      "grid_auto_flow": null,
      "grid_auto_rows": null,
      "grid_column": null,
      "grid_gap": null,
      "grid_row": null,
      "grid_template_areas": null,
      "grid_template_columns": null,
      "grid_template_rows": null,
      "height": null,
      "justify_content": null,
      "justify_items": null,
      "left": null,
      "margin": null,
      "max_height": null,
      "max_width": null,
      "min_height": null,
      "min_width": null,
      "object_fit": null,
      "object_position": null,
      "order": null,
      "overflow": null,
      "overflow_x": null,
      "overflow_y": null,
      "padding": null,
      "right": null,
      "top": null,
      "visibility": null,
      "width": null
     }
    },
    "853d094524454c1e8b834409f057938a": {
     "model_module": "@jupyter-widgets/controls",
     "model_module_version": "1.5.0",
     "model_name": "ProgressStyleModel",
     "state": {
      "_model_module": "@jupyter-widgets/controls",
      "_model_module_version": "1.5.0",
      "_model_name": "ProgressStyleModel",
      "_view_count": null,
      "_view_module": "@jupyter-widgets/base",
      "_view_module_version": "1.2.0",
      "_view_name": "StyleView",
      "bar_color": null,
      "description_width": ""
     }
    },
    "89f23f996a2b4a3193fe47ca5c9c65e1": {
     "model_module": "@jupyter-widgets/controls",
     "model_module_version": "1.5.0",
     "model_name": "DescriptionStyleModel",
     "state": {
      "_model_module": "@jupyter-widgets/controls",
      "_model_module_version": "1.5.0",
      "_model_name": "DescriptionStyleModel",
      "_view_count": null,
      "_view_module": "@jupyter-widgets/base",
      "_view_module_version": "1.2.0",
      "_view_name": "StyleView",
      "description_width": ""
     }
    },
    "8cb09e69bc5341f1961487f5a2a3dc87": {
     "model_module": "@jupyter-widgets/base",
     "model_module_version": "1.2.0",
     "model_name": "LayoutModel",
     "state": {
      "_model_module": "@jupyter-widgets/base",
      "_model_module_version": "1.2.0",
      "_model_name": "LayoutModel",
      "_view_count": null,
      "_view_module": "@jupyter-widgets/base",
      "_view_module_version": "1.2.0",
      "_view_name": "LayoutView",
      "align_content": null,
      "align_items": null,
      "align_self": null,
      "border": null,
      "bottom": null,
      "display": null,
      "flex": null,
      "flex_flow": null,
      "grid_area": null,
      "grid_auto_columns": null,
      "grid_auto_flow": null,
      "grid_auto_rows": null,
      "grid_column": null,
      "grid_gap": null,
      "grid_row": null,
      "grid_template_areas": null,
      "grid_template_columns": null,
      "grid_template_rows": null,
      "height": null,
      "justify_content": null,
      "justify_items": null,
      "left": null,
      "margin": null,
      "max_height": null,
      "max_width": null,
      "min_height": null,
      "min_width": null,
      "object_fit": null,
      "object_position": null,
      "order": null,
      "overflow": null,
      "overflow_x": null,
      "overflow_y": null,
      "padding": null,
      "right": null,
      "top": null,
      "visibility": null,
      "width": null
     }
    },
    "8f0ff23e751f491da2d10deaa30c5608": {
     "model_module": "@jupyter-widgets/base",
     "model_module_version": "1.2.0",
     "model_name": "LayoutModel",
     "state": {
      "_model_module": "@jupyter-widgets/base",
      "_model_module_version": "1.2.0",
      "_model_name": "LayoutModel",
      "_view_count": null,
      "_view_module": "@jupyter-widgets/base",
      "_view_module_version": "1.2.0",
      "_view_name": "LayoutView",
      "align_content": null,
      "align_items": null,
      "align_self": null,
      "border": null,
      "bottom": null,
      "display": null,
      "flex": null,
      "flex_flow": null,
      "grid_area": null,
      "grid_auto_columns": null,
      "grid_auto_flow": null,
      "grid_auto_rows": null,
      "grid_column": null,
      "grid_gap": null,
      "grid_row": null,
      "grid_template_areas": null,
      "grid_template_columns": null,
      "grid_template_rows": null,
      "height": null,
      "justify_content": null,
      "justify_items": null,
      "left": null,
      "margin": null,
      "max_height": null,
      "max_width": null,
      "min_height": null,
      "min_width": null,
      "object_fit": null,
      "object_position": null,
      "order": null,
      "overflow": null,
      "overflow_x": null,
      "overflow_y": null,
      "padding": null,
      "right": null,
      "top": null,
      "visibility": null,
      "width": null
     }
    },
    "8f462e5afe624f51b6ab807a299ad70d": {
     "model_module": "@jupyter-widgets/base",
     "model_module_version": "1.2.0",
     "model_name": "LayoutModel",
     "state": {
      "_model_module": "@jupyter-widgets/base",
      "_model_module_version": "1.2.0",
      "_model_name": "LayoutModel",
      "_view_count": null,
      "_view_module": "@jupyter-widgets/base",
      "_view_module_version": "1.2.0",
      "_view_name": "LayoutView",
      "align_content": null,
      "align_items": null,
      "align_self": null,
      "border": null,
      "bottom": null,
      "display": null,
      "flex": null,
      "flex_flow": null,
      "grid_area": null,
      "grid_auto_columns": null,
      "grid_auto_flow": null,
      "grid_auto_rows": null,
      "grid_column": null,
      "grid_gap": null,
      "grid_row": null,
      "grid_template_areas": null,
      "grid_template_columns": null,
      "grid_template_rows": null,
      "height": null,
      "justify_content": null,
      "justify_items": null,
      "left": null,
      "margin": null,
      "max_height": null,
      "max_width": null,
      "min_height": null,
      "min_width": null,
      "object_fit": null,
      "object_position": null,
      "order": null,
      "overflow": null,
      "overflow_x": null,
      "overflow_y": null,
      "padding": null,
      "right": null,
      "top": null,
      "visibility": null,
      "width": null
     }
    },
    "91af3c3e43e54e508b6f05d4158d95a0": {
     "model_module": "@jupyter-widgets/controls",
     "model_module_version": "1.5.0",
     "model_name": "ProgressStyleModel",
     "state": {
      "_model_module": "@jupyter-widgets/controls",
      "_model_module_version": "1.5.0",
      "_model_name": "ProgressStyleModel",
      "_view_count": null,
      "_view_module": "@jupyter-widgets/base",
      "_view_module_version": "1.2.0",
      "_view_name": "StyleView",
      "bar_color": null,
      "description_width": ""
     }
    },
    "9494713198cb4e16baab031505de163a": {
     "model_module": "@jupyter-widgets/controls",
     "model_module_version": "1.5.0",
     "model_name": "ProgressStyleModel",
     "state": {
      "_model_module": "@jupyter-widgets/controls",
      "_model_module_version": "1.5.0",
      "_model_name": "ProgressStyleModel",
      "_view_count": null,
      "_view_module": "@jupyter-widgets/base",
      "_view_module_version": "1.2.0",
      "_view_name": "StyleView",
      "bar_color": null,
      "description_width": ""
     }
    },
    "949d0a52a76d45dea435642c499f338a": {
     "model_module": "@jupyter-widgets/controls",
     "model_module_version": "1.5.0",
     "model_name": "ProgressStyleModel",
     "state": {
      "_model_module": "@jupyter-widgets/controls",
      "_model_module_version": "1.5.0",
      "_model_name": "ProgressStyleModel",
      "_view_count": null,
      "_view_module": "@jupyter-widgets/base",
      "_view_module_version": "1.2.0",
      "_view_name": "StyleView",
      "bar_color": null,
      "description_width": ""
     }
    },
    "97d7d554bb7741fcb22d2ad016bea459": {
     "model_module": "@jupyter-widgets/base",
     "model_module_version": "1.2.0",
     "model_name": "LayoutModel",
     "state": {
      "_model_module": "@jupyter-widgets/base",
      "_model_module_version": "1.2.0",
      "_model_name": "LayoutModel",
      "_view_count": null,
      "_view_module": "@jupyter-widgets/base",
      "_view_module_version": "1.2.0",
      "_view_name": "LayoutView",
      "align_content": null,
      "align_items": null,
      "align_self": null,
      "border": null,
      "bottom": null,
      "display": null,
      "flex": null,
      "flex_flow": null,
      "grid_area": null,
      "grid_auto_columns": null,
      "grid_auto_flow": null,
      "grid_auto_rows": null,
      "grid_column": null,
      "grid_gap": null,
      "grid_row": null,
      "grid_template_areas": null,
      "grid_template_columns": null,
      "grid_template_rows": null,
      "height": null,
      "justify_content": null,
      "justify_items": null,
      "left": null,
      "margin": null,
      "max_height": null,
      "max_width": null,
      "min_height": null,
      "min_width": null,
      "object_fit": null,
      "object_position": null,
      "order": null,
      "overflow": null,
      "overflow_x": null,
      "overflow_y": null,
      "padding": null,
      "right": null,
      "top": null,
      "visibility": null,
      "width": null
     }
    },
    "9aae26510c754c0aa46b60ee50b95d9b": {
     "model_module": "@jupyter-widgets/controls",
     "model_module_version": "1.5.0",
     "model_name": "HTMLModel",
     "state": {
      "_dom_classes": [],
      "_model_module": "@jupyter-widgets/controls",
      "_model_module_version": "1.5.0",
      "_model_name": "HTMLModel",
      "_view_count": null,
      "_view_module": "@jupyter-widgets/controls",
      "_view_module_version": "1.5.0",
      "_view_name": "HTMLView",
      "description": "",
      "description_tooltip": null,
      "layout": "IPY_MODEL_ee1a27bbf10a419fb1e2413a721f90bc",
      "placeholder": "​",
      "style": "IPY_MODEL_49f1063a12b94b0485e001add400819d",
      "value": " 5.10k/5.10k [00:00&lt;00:00, 118kB/s]"
     }
    },
    "a12ac58d362c4a469193a765b19b3157": {
     "model_module": "@jupyter-widgets/controls",
     "model_module_version": "1.5.0",
     "model_name": "DescriptionStyleModel",
     "state": {
      "_model_module": "@jupyter-widgets/controls",
      "_model_module_version": "1.5.0",
      "_model_name": "DescriptionStyleModel",
      "_view_count": null,
      "_view_module": "@jupyter-widgets/base",
      "_view_module_version": "1.2.0",
      "_view_name": "StyleView",
      "description_width": ""
     }
    },
    "a3550180543c42b3b7d2f3089312e63f": {
     "model_module": "@jupyter-widgets/controls",
     "model_module_version": "1.5.0",
     "model_name": "HBoxModel",
     "state": {
      "_dom_classes": [],
      "_model_module": "@jupyter-widgets/controls",
      "_model_module_version": "1.5.0",
      "_model_name": "HBoxModel",
      "_view_count": null,
      "_view_module": "@jupyter-widgets/controls",
      "_view_module_version": "1.5.0",
      "_view_name": "HBoxView",
      "box_style": "",
      "children": [
       "IPY_MODEL_07af95d23cf34f9bbe7b9e687dc24fdd",
       "IPY_MODEL_e9212d6a2cef4531a522889b2c3d4f0f",
       "IPY_MODEL_9aae26510c754c0aa46b60ee50b95d9b"
      ],
      "layout": "IPY_MODEL_8f0ff23e751f491da2d10deaa30c5608"
     }
    },
    "a441b3a70361410c96764326a2d53ecc": {
     "model_module": "@jupyter-widgets/controls",
     "model_module_version": "1.5.0",
     "model_name": "FloatProgressModel",
     "state": {
      "_dom_classes": [],
      "_model_module": "@jupyter-widgets/controls",
      "_model_module_version": "1.5.0",
      "_model_name": "FloatProgressModel",
      "_view_count": null,
      "_view_module": "@jupyter-widgets/controls",
      "_view_module_version": "1.5.0",
      "_view_name": "ProgressView",
      "bar_style": "success",
      "description": "",
      "description_tooltip": null,
      "layout": "IPY_MODEL_ade7808cc6e7443cac6271beb67c8fb3",
      "max": 1,
      "min": 0,
      "orientation": "horizontal",
      "style": "IPY_MODEL_24829c2324cc4239a455798ccf9b6b13",
      "value": 1
     }
    },
    "a7b376c6cc9443518e745e286441edbc": {
     "model_module": "@jupyter-widgets/base",
     "model_module_version": "1.2.0",
     "model_name": "LayoutModel",
     "state": {
      "_model_module": "@jupyter-widgets/base",
      "_model_module_version": "1.2.0",
      "_model_name": "LayoutModel",
      "_view_count": null,
      "_view_module": "@jupyter-widgets/base",
      "_view_module_version": "1.2.0",
      "_view_name": "LayoutView",
      "align_content": null,
      "align_items": null,
      "align_self": null,
      "border": null,
      "bottom": null,
      "display": null,
      "flex": null,
      "flex_flow": null,
      "grid_area": null,
      "grid_auto_columns": null,
      "grid_auto_flow": null,
      "grid_auto_rows": null,
      "grid_column": null,
      "grid_gap": null,
      "grid_row": null,
      "grid_template_areas": null,
      "grid_template_columns": null,
      "grid_template_rows": null,
      "height": null,
      "justify_content": null,
      "justify_items": null,
      "left": null,
      "margin": null,
      "max_height": null,
      "max_width": null,
      "min_height": null,
      "min_width": null,
      "object_fit": null,
      "object_position": null,
      "order": null,
      "overflow": null,
      "overflow_x": null,
      "overflow_y": null,
      "padding": null,
      "right": null,
      "top": null,
      "visibility": null,
      "width": null
     }
    },
    "a833f98b34bb4392aa16af70270328a9": {
     "model_module": "@jupyter-widgets/base",
     "model_module_version": "1.2.0",
     "model_name": "LayoutModel",
     "state": {
      "_model_module": "@jupyter-widgets/base",
      "_model_module_version": "1.2.0",
      "_model_name": "LayoutModel",
      "_view_count": null,
      "_view_module": "@jupyter-widgets/base",
      "_view_module_version": "1.2.0",
      "_view_name": "LayoutView",
      "align_content": null,
      "align_items": null,
      "align_self": null,
      "border": null,
      "bottom": null,
      "display": null,
      "flex": null,
      "flex_flow": null,
      "grid_area": null,
      "grid_auto_columns": null,
      "grid_auto_flow": null,
      "grid_auto_rows": null,
      "grid_column": null,
      "grid_gap": null,
      "grid_row": null,
      "grid_template_areas": null,
      "grid_template_columns": null,
      "grid_template_rows": null,
      "height": null,
      "justify_content": null,
      "justify_items": null,
      "left": null,
      "margin": null,
      "max_height": null,
      "max_width": null,
      "min_height": null,
      "min_width": null,
      "object_fit": null,
      "object_position": null,
      "order": null,
      "overflow": null,
      "overflow_x": null,
      "overflow_y": null,
      "padding": null,
      "right": null,
      "top": null,
      "visibility": "hidden",
      "width": null
     }
    },
    "abc90b650d3545008d711e209b9c5785": {
     "model_module": "@jupyter-widgets/controls",
     "model_module_version": "1.5.0",
     "model_name": "DescriptionStyleModel",
     "state": {
      "_model_module": "@jupyter-widgets/controls",
      "_model_module_version": "1.5.0",
      "_model_name": "DescriptionStyleModel",
      "_view_count": null,
      "_view_module": "@jupyter-widgets/base",
      "_view_module_version": "1.2.0",
      "_view_name": "StyleView",
      "description_width": ""
     }
    },
    "abe5208040fb4c60b6998905f13c6bfd": {
     "model_module": "@jupyter-widgets/controls",
     "model_module_version": "1.5.0",
     "model_name": "HTMLModel",
     "state": {
      "_dom_classes": [],
      "_model_module": "@jupyter-widgets/controls",
      "_model_module_version": "1.5.0",
      "_model_name": "HTMLModel",
      "_view_count": null,
      "_view_module": "@jupyter-widgets/controls",
      "_view_module_version": "1.5.0",
      "_view_name": "HTMLView",
      "description": "",
      "description_tooltip": null,
      "layout": "IPY_MODEL_103618d84dc64e779ea06a2dcc0d7689",
      "placeholder": "​",
      "style": "IPY_MODEL_d4ba96dcaecd44738a56259076b8e75f",
      "value": "Downloading (…)solve/main/vocab.txt: 100%"
     }
    },
    "ad695acc010d414b9411174547761420": {
     "model_module": "@jupyter-widgets/base",
     "model_module_version": "1.2.0",
     "model_name": "LayoutModel",
     "state": {
      "_model_module": "@jupyter-widgets/base",
      "_model_module_version": "1.2.0",
      "_model_name": "LayoutModel",
      "_view_count": null,
      "_view_module": "@jupyter-widgets/base",
      "_view_module_version": "1.2.0",
      "_view_name": "LayoutView",
      "align_content": null,
      "align_items": null,
      "align_self": null,
      "border": null,
      "bottom": null,
      "display": null,
      "flex": null,
      "flex_flow": null,
      "grid_area": null,
      "grid_auto_columns": null,
      "grid_auto_flow": null,
      "grid_auto_rows": null,
      "grid_column": null,
      "grid_gap": null,
      "grid_row": null,
      "grid_template_areas": null,
      "grid_template_columns": null,
      "grid_template_rows": null,
      "height": null,
      "justify_content": null,
      "justify_items": null,
      "left": null,
      "margin": null,
      "max_height": null,
      "max_width": null,
      "min_height": null,
      "min_width": null,
      "object_fit": null,
      "object_position": null,
      "order": null,
      "overflow": null,
      "overflow_x": null,
      "overflow_y": null,
      "padding": null,
      "right": null,
      "top": null,
      "visibility": null,
      "width": null
     }
    },
    "ade7808cc6e7443cac6271beb67c8fb3": {
     "model_module": "@jupyter-widgets/base",
     "model_module_version": "1.2.0",
     "model_name": "LayoutModel",
     "state": {
      "_model_module": "@jupyter-widgets/base",
      "_model_module_version": "1.2.0",
      "_model_name": "LayoutModel",
      "_view_count": null,
      "_view_module": "@jupyter-widgets/base",
      "_view_module_version": "1.2.0",
      "_view_name": "LayoutView",
      "align_content": null,
      "align_items": null,
      "align_self": null,
      "border": null,
      "bottom": null,
      "display": null,
      "flex": null,
      "flex_flow": null,
      "grid_area": null,
      "grid_auto_columns": null,
      "grid_auto_flow": null,
      "grid_auto_rows": null,
      "grid_column": null,
      "grid_gap": null,
      "grid_row": null,
      "grid_template_areas": null,
      "grid_template_columns": null,
      "grid_template_rows": null,
      "height": null,
      "justify_content": null,
      "justify_items": null,
      "left": null,
      "margin": null,
      "max_height": null,
      "max_width": null,
      "min_height": null,
      "min_width": null,
      "object_fit": null,
      "object_position": null,
      "order": null,
      "overflow": null,
      "overflow_x": null,
      "overflow_y": null,
      "padding": null,
      "right": null,
      "top": null,
      "visibility": null,
      "width": null
     }
    },
    "af654e273757484998b066f34321a126": {
     "model_module": "@jupyter-widgets/controls",
     "model_module_version": "1.5.0",
     "model_name": "DescriptionStyleModel",
     "state": {
      "_model_module": "@jupyter-widgets/controls",
      "_model_module_version": "1.5.0",
      "_model_name": "DescriptionStyleModel",
      "_view_count": null,
      "_view_module": "@jupyter-widgets/base",
      "_view_module_version": "1.2.0",
      "_view_name": "StyleView",
      "description_width": ""
     }
    },
    "b4f8dbe3bc78452489d9658e6337e617": {
     "model_module": "@jupyter-widgets/base",
     "model_module_version": "1.2.0",
     "model_name": "LayoutModel",
     "state": {
      "_model_module": "@jupyter-widgets/base",
      "_model_module_version": "1.2.0",
      "_model_name": "LayoutModel",
      "_view_count": null,
      "_view_module": "@jupyter-widgets/base",
      "_view_module_version": "1.2.0",
      "_view_name": "LayoutView",
      "align_content": null,
      "align_items": null,
      "align_self": null,
      "border": null,
      "bottom": null,
      "display": null,
      "flex": null,
      "flex_flow": null,
      "grid_area": null,
      "grid_auto_columns": null,
      "grid_auto_flow": null,
      "grid_auto_rows": null,
      "grid_column": null,
      "grid_gap": null,
      "grid_row": null,
      "grid_template_areas": null,
      "grid_template_columns": null,
      "grid_template_rows": null,
      "height": null,
      "justify_content": null,
      "justify_items": null,
      "left": null,
      "margin": null,
      "max_height": null,
      "max_width": null,
      "min_height": null,
      "min_width": null,
      "object_fit": null,
      "object_position": null,
      "order": null,
      "overflow": null,
      "overflow_x": null,
      "overflow_y": null,
      "padding": null,
      "right": null,
      "top": null,
      "visibility": null,
      "width": null
     }
    },
    "b69c235a7ced42cd85fd5dddae45d7fb": {
     "model_module": "@jupyter-widgets/controls",
     "model_module_version": "1.5.0",
     "model_name": "HBoxModel",
     "state": {
      "_dom_classes": [],
      "_model_module": "@jupyter-widgets/controls",
      "_model_module_version": "1.5.0",
      "_model_name": "HBoxModel",
      "_view_count": null,
      "_view_module": "@jupyter-widgets/controls",
      "_view_module_version": "1.5.0",
      "_view_name": "HBoxView",
      "box_style": "",
      "children": [
       "IPY_MODEL_36b6ad22e3464f718614c81ce5d5468e",
       "IPY_MODEL_bf27b207404b4c9188e8c1d0a3e2354b",
       "IPY_MODEL_ef740d2b46174ab3bc2b5e9c707a745e"
      ],
      "layout": "IPY_MODEL_28f2c271b4684e2481e5113eb72044bb"
     }
    },
    "b6f62bfaff32437aa221511c77c5df3b": {
     "model_module": "@jupyter-widgets/controls",
     "model_module_version": "1.5.0",
     "model_name": "DescriptionStyleModel",
     "state": {
      "_model_module": "@jupyter-widgets/controls",
      "_model_module_version": "1.5.0",
      "_model_name": "DescriptionStyleModel",
      "_view_count": null,
      "_view_module": "@jupyter-widgets/base",
      "_view_module_version": "1.2.0",
      "_view_name": "StyleView",
      "description_width": ""
     }
    },
    "b99214a5ac20415790198058454af8df": {
     "model_module": "@jupyter-widgets/base",
     "model_module_version": "1.2.0",
     "model_name": "LayoutModel",
     "state": {
      "_model_module": "@jupyter-widgets/base",
      "_model_module_version": "1.2.0",
      "_model_name": "LayoutModel",
      "_view_count": null,
      "_view_module": "@jupyter-widgets/base",
      "_view_module_version": "1.2.0",
      "_view_name": "LayoutView",
      "align_content": null,
      "align_items": null,
      "align_self": null,
      "border": null,
      "bottom": null,
      "display": null,
      "flex": null,
      "flex_flow": null,
      "grid_area": null,
      "grid_auto_columns": null,
      "grid_auto_flow": null,
      "grid_auto_rows": null,
      "grid_column": null,
      "grid_gap": null,
      "grid_row": null,
      "grid_template_areas": null,
      "grid_template_columns": null,
      "grid_template_rows": null,
      "height": null,
      "justify_content": null,
      "justify_items": null,
      "left": null,
      "margin": null,
      "max_height": null,
      "max_width": null,
      "min_height": null,
      "min_width": null,
      "object_fit": null,
      "object_position": null,
      "order": null,
      "overflow": null,
      "overflow_x": null,
      "overflow_y": null,
      "padding": null,
      "right": null,
      "top": null,
      "visibility": null,
      "width": null
     }
    },
    "bc3eb18e38724c5d8cb19228c74a2bae": {
     "model_module": "@jupyter-widgets/controls",
     "model_module_version": "1.5.0",
     "model_name": "DescriptionStyleModel",
     "state": {
      "_model_module": "@jupyter-widgets/controls",
      "_model_module_version": "1.5.0",
      "_model_name": "DescriptionStyleModel",
      "_view_count": null,
      "_view_module": "@jupyter-widgets/base",
      "_view_module_version": "1.2.0",
      "_view_name": "StyleView",
      "description_width": ""
     }
    },
    "beb4b013848549d9887afaf3ecc44555": {
     "model_module": "@jupyter-widgets/controls",
     "model_module_version": "1.5.0",
     "model_name": "HTMLModel",
     "state": {
      "_dom_classes": [],
      "_model_module": "@jupyter-widgets/controls",
      "_model_module_version": "1.5.0",
      "_model_name": "HTMLModel",
      "_view_count": null,
      "_view_module": "@jupyter-widgets/controls",
      "_view_module_version": "1.5.0",
      "_view_name": "HTMLView",
      "description": "",
      "description_tooltip": null,
      "layout": "IPY_MODEL_ea47cad676d14813a38a491bd9868491",
      "placeholder": "​",
      "style": "IPY_MODEL_fd9fb999aced4395893b4a8de1df1477",
      "value": "100%"
     }
    },
    "bf139637c29a4e579cb5ca6bc20c2c37": {
     "model_module": "@jupyter-widgets/controls",
     "model_module_version": "1.5.0",
     "model_name": "DescriptionStyleModel",
     "state": {
      "_model_module": "@jupyter-widgets/controls",
      "_model_module_version": "1.5.0",
      "_model_name": "DescriptionStyleModel",
      "_view_count": null,
      "_view_module": "@jupyter-widgets/base",
      "_view_module_version": "1.2.0",
      "_view_name": "StyleView",
      "description_width": ""
     }
    },
    "bf27b207404b4c9188e8c1d0a3e2354b": {
     "model_module": "@jupyter-widgets/controls",
     "model_module_version": "1.5.0",
     "model_name": "FloatProgressModel",
     "state": {
      "_dom_classes": [],
      "_model_module": "@jupyter-widgets/controls",
      "_model_module_version": "1.5.0",
      "_model_name": "FloatProgressModel",
      "_view_count": null,
      "_view_module": "@jupyter-widgets/controls",
      "_view_module_version": "1.5.0",
      "_view_name": "ProgressView",
      "bar_style": "success",
      "description": "",
      "description_tooltip": null,
      "layout": "IPY_MODEL_cb489ff644d943fd90ddf0dbc9cb214e",
      "max": 4142,
      "min": 0,
      "orientation": "horizontal",
      "style": "IPY_MODEL_91af3c3e43e54e508b6f05d4158d95a0",
      "value": 4142
     }
    },
    "c10aa44096cd4290a1927f369f6d1e0a": {
     "model_module": "@jupyter-widgets/base",
     "model_module_version": "1.2.0",
     "model_name": "LayoutModel",
     "state": {
      "_model_module": "@jupyter-widgets/base",
      "_model_module_version": "1.2.0",
      "_model_name": "LayoutModel",
      "_view_count": null,
      "_view_module": "@jupyter-widgets/base",
      "_view_module_version": "1.2.0",
      "_view_name": "LayoutView",
      "align_content": null,
      "align_items": null,
      "align_self": null,
      "border": null,
      "bottom": null,
      "display": null,
      "flex": null,
      "flex_flow": null,
      "grid_area": null,
      "grid_auto_columns": null,
      "grid_auto_flow": null,
      "grid_auto_rows": null,
      "grid_column": null,
      "grid_gap": null,
      "grid_row": null,
      "grid_template_areas": null,
      "grid_template_columns": null,
      "grid_template_rows": null,
      "height": null,
      "justify_content": null,
      "justify_items": null,
      "left": null,
      "margin": null,
      "max_height": null,
      "max_width": null,
      "min_height": null,
      "min_width": null,
      "object_fit": null,
      "object_position": null,
      "order": null,
      "overflow": null,
      "overflow_x": null,
      "overflow_y": null,
      "padding": null,
      "right": null,
      "top": null,
      "visibility": null,
      "width": null
     }
    },
    "c2c441ea89364d7c9a3eb193c24d3fbe": {
     "model_module": "@jupyter-widgets/controls",
     "model_module_version": "1.5.0",
     "model_name": "HTMLModel",
     "state": {
      "_dom_classes": [],
      "_model_module": "@jupyter-widgets/controls",
      "_model_module_version": "1.5.0",
      "_model_name": "HTMLModel",
      "_view_count": null,
      "_view_module": "@jupyter-widgets/controls",
      "_view_module_version": "1.5.0",
      "_view_name": "HTMLView",
      "description": "",
      "description_tooltip": null,
      "layout": "IPY_MODEL_f30e59cf07ce4f17b99a57b5e72d5fa5",
      "placeholder": "​",
      "style": "IPY_MODEL_4c5a2dce99744e8c8dbdf2ef1633ff34",
      "value": " 440M/440M [00:04&lt;00:00, 125MB/s]"
     }
    },
    "c4498e0b49704ce3841eb09411f9c28e": {
     "model_module": "@jupyter-widgets/controls",
     "model_module_version": "1.5.0",
     "model_name": "HTMLModel",
     "state": {
      "_dom_classes": [],
      "_model_module": "@jupyter-widgets/controls",
      "_model_module_version": "1.5.0",
      "_model_name": "HTMLModel",
      "_view_count": null,
      "_view_module": "@jupyter-widgets/controls",
      "_view_module_version": "1.5.0",
      "_view_name": "HTMLView",
      "description": "",
      "description_tooltip": null,
      "layout": "IPY_MODEL_b4f8dbe3bc78452489d9658e6337e617",
      "placeholder": "​",
      "style": "IPY_MODEL_cef12c9f012c477ba2ee4c0df869b3dd",
      "value": " 232k/232k [00:00&lt;00:00, 1.80MB/s]"
     }
    },
    "c6fd632e33744cabaf28de68fc55a4c6": {
     "model_module": "@jupyter-widgets/controls",
     "model_module_version": "1.5.0",
     "model_name": "FloatProgressModel",
     "state": {
      "_dom_classes": [],
      "_model_module": "@jupyter-widgets/controls",
      "_model_module_version": "1.5.0",
      "_model_name": "FloatProgressModel",
      "_view_count": null,
      "_view_module": "@jupyter-widgets/controls",
      "_view_module_version": "1.5.0",
      "_view_name": "ProgressView",
      "bar_style": "success",
      "description": "",
      "description_tooltip": null,
      "layout": "IPY_MODEL_3b03253ecf4945f5a8f5f90972c7fade",
      "max": 231508,
      "min": 0,
      "orientation": "horizontal",
      "style": "IPY_MODEL_9494713198cb4e16baab031505de163a",
      "value": 231508
     }
    },
    "c8cef20cc2cc41599bb15d9cb80b27b5": {
     "model_module": "@jupyter-widgets/controls",
     "model_module_version": "1.5.0",
     "model_name": "HTMLModel",
     "state": {
      "_dom_classes": [],
      "_model_module": "@jupyter-widgets/controls",
      "_model_module_version": "1.5.0",
      "_model_name": "HTMLModel",
      "_view_count": null,
      "_view_module": "@jupyter-widgets/controls",
      "_view_module_version": "1.5.0",
      "_view_name": "HTMLView",
      "description": "",
      "description_tooltip": null,
      "layout": "IPY_MODEL_6d7ddd4230934ac1ae826fcd4da10410",
      "placeholder": "​",
      "style": "IPY_MODEL_d63c6f3140ae49c389876f5c6068b6ad",
      "value": " 14.6k/14.6k [00:00&lt;00:00, 567kB/s]"
     }
    },
    "cb174b111c404592900042c4c508ac4d": {
     "model_module": "@jupyter-widgets/controls",
     "model_module_version": "1.5.0",
     "model_name": "FloatProgressModel",
     "state": {
      "_dom_classes": [],
      "_model_module": "@jupyter-widgets/controls",
      "_model_module_version": "1.5.0",
      "_model_name": "FloatProgressModel",
      "_view_count": null,
      "_view_module": "@jupyter-widgets/controls",
      "_view_module_version": "1.5.0",
      "_view_name": "ProgressView",
      "bar_style": "success",
      "description": "",
      "description_tooltip": null,
      "layout": "IPY_MODEL_5d207a55ed3048c898e91ad7d89cbba1",
      "max": 570,
      "min": 0,
      "orientation": "horizontal",
      "style": "IPY_MODEL_605d8282e7744120a12f01ce4965b2bd",
      "value": 570
     }
    },
    "cb42dcd3a05f4d2d9d25e5e0707aefa0": {
     "model_module": "@jupyter-widgets/controls",
     "model_module_version": "1.5.0",
     "model_name": "HBoxModel",
     "state": {
      "_dom_classes": [],
      "_model_module": "@jupyter-widgets/controls",
      "_model_module_version": "1.5.0",
      "_model_name": "HBoxModel",
      "_view_count": null,
      "_view_module": "@jupyter-widgets/controls",
      "_view_module_version": "1.5.0",
      "_view_name": "HBoxView",
      "box_style": "",
      "children": [
       "IPY_MODEL_eb28a04e06454142bdd0b9aa246e13bd",
       "IPY_MODEL_cb174b111c404592900042c4c508ac4d",
       "IPY_MODEL_31a8f583849747e4a9931baccaab61ba"
      ],
      "layout": "IPY_MODEL_d01f0f53848840e89ec3fe506cde6000"
     }
    },
    "cb489ff644d943fd90ddf0dbc9cb214e": {
     "model_module": "@jupyter-widgets/base",
     "model_module_version": "1.2.0",
     "model_name": "LayoutModel",
     "state": {
      "_model_module": "@jupyter-widgets/base",
      "_model_module_version": "1.2.0",
      "_model_name": "LayoutModel",
      "_view_count": null,
      "_view_module": "@jupyter-widgets/base",
      "_view_module_version": "1.2.0",
      "_view_name": "LayoutView",
      "align_content": null,
      "align_items": null,
      "align_self": null,
      "border": null,
      "bottom": null,
      "display": null,
      "flex": null,
      "flex_flow": null,
      "grid_area": null,
      "grid_auto_columns": null,
      "grid_auto_flow": null,
      "grid_auto_rows": null,
      "grid_column": null,
      "grid_gap": null,
      "grid_row": null,
      "grid_template_areas": null,
      "grid_template_columns": null,
      "grid_template_rows": null,
      "height": null,
      "justify_content": null,
      "justify_items": null,
      "left": null,
      "margin": null,
      "max_height": null,
      "max_width": null,
      "min_height": null,
      "min_width": null,
      "object_fit": null,
      "object_position": null,
      "order": null,
      "overflow": null,
      "overflow_x": null,
      "overflow_y": null,
      "padding": null,
      "right": null,
      "top": null,
      "visibility": null,
      "width": null
     }
    },
    "cb51553ad6c442e18d6ebc00ec62ab15": {
     "model_module": "@jupyter-widgets/controls",
     "model_module_version": "1.5.0",
     "model_name": "FloatProgressModel",
     "state": {
      "_dom_classes": [],
      "_model_module": "@jupyter-widgets/controls",
      "_model_module_version": "1.5.0",
      "_model_name": "FloatProgressModel",
      "_view_count": null,
      "_view_module": "@jupyter-widgets/controls",
      "_view_module_version": "1.5.0",
      "_view_name": "ProgressView",
      "bar_style": "success",
      "description": "",
      "description_tooltip": null,
      "layout": "IPY_MODEL_238577b31dfe4b7094730427d3b203d9",
      "max": 14615,
      "min": 0,
      "orientation": "horizontal",
      "style": "IPY_MODEL_949d0a52a76d45dea435642c499f338a",
      "value": 14615
     }
    },
    "ccd04b23dd60414d97a83b875c944da1": {
     "model_module": "@jupyter-widgets/controls",
     "model_module_version": "1.5.0",
     "model_name": "DescriptionStyleModel",
     "state": {
      "_model_module": "@jupyter-widgets/controls",
      "_model_module_version": "1.5.0",
      "_model_name": "DescriptionStyleModel",
      "_view_count": null,
      "_view_module": "@jupyter-widgets/base",
      "_view_module_version": "1.2.0",
      "_view_name": "StyleView",
      "description_width": ""
     }
    },
    "cef12c9f012c477ba2ee4c0df869b3dd": {
     "model_module": "@jupyter-widgets/controls",
     "model_module_version": "1.5.0",
     "model_name": "DescriptionStyleModel",
     "state": {
      "_model_module": "@jupyter-widgets/controls",
      "_model_module_version": "1.5.0",
      "_model_name": "DescriptionStyleModel",
      "_view_count": null,
      "_view_module": "@jupyter-widgets/base",
      "_view_module_version": "1.2.0",
      "_view_name": "StyleView",
      "description_width": ""
     }
    },
    "d01f0f53848840e89ec3fe506cde6000": {
     "model_module": "@jupyter-widgets/base",
     "model_module_version": "1.2.0",
     "model_name": "LayoutModel",
     "state": {
      "_model_module": "@jupyter-widgets/base",
      "_model_module_version": "1.2.0",
      "_model_name": "LayoutModel",
      "_view_count": null,
      "_view_module": "@jupyter-widgets/base",
      "_view_module_version": "1.2.0",
      "_view_name": "LayoutView",
      "align_content": null,
      "align_items": null,
      "align_self": null,
      "border": null,
      "bottom": null,
      "display": null,
      "flex": null,
      "flex_flow": null,
      "grid_area": null,
      "grid_auto_columns": null,
      "grid_auto_flow": null,
      "grid_auto_rows": null,
      "grid_column": null,
      "grid_gap": null,
      "grid_row": null,
      "grid_template_areas": null,
      "grid_template_columns": null,
      "grid_template_rows": null,
      "height": null,
      "justify_content": null,
      "justify_items": null,
      "left": null,
      "margin": null,
      "max_height": null,
      "max_width": null,
      "min_height": null,
      "min_width": null,
      "object_fit": null,
      "object_position": null,
      "order": null,
      "overflow": null,
      "overflow_x": null,
      "overflow_y": null,
      "padding": null,
      "right": null,
      "top": null,
      "visibility": null,
      "width": null
     }
    },
    "d18c290e64014ae4bd1237e367f56859": {
     "model_module": "@jupyter-widgets/controls",
     "model_module_version": "1.5.0",
     "model_name": "HTMLModel",
     "state": {
      "_dom_classes": [],
      "_model_module": "@jupyter-widgets/controls",
      "_model_module_version": "1.5.0",
      "_model_name": "HTMLModel",
      "_view_count": null,
      "_view_module": "@jupyter-widgets/controls",
      "_view_module_version": "1.5.0",
      "_view_name": "HTMLView",
      "description": "",
      "description_tooltip": null,
      "layout": "IPY_MODEL_5e5ecfe21a3d4c2090bde1d4abff5698",
      "placeholder": "​",
      "style": "IPY_MODEL_af654e273757484998b066f34321a126",
      "value": " 28.0/28.0 [00:00&lt;00:00, 284B/s]"
     }
    },
    "d24d4f8442214c7391ce88d65ab35617": {
     "model_module": "@jupyter-widgets/controls",
     "model_module_version": "1.5.0",
     "model_name": "DescriptionStyleModel",
     "state": {
      "_model_module": "@jupyter-widgets/controls",
      "_model_module_version": "1.5.0",
      "_model_name": "DescriptionStyleModel",
      "_view_count": null,
      "_view_module": "@jupyter-widgets/base",
      "_view_module_version": "1.2.0",
      "_view_name": "StyleView",
      "description_width": ""
     }
    },
    "d4ba96dcaecd44738a56259076b8e75f": {
     "model_module": "@jupyter-widgets/controls",
     "model_module_version": "1.5.0",
     "model_name": "DescriptionStyleModel",
     "state": {
      "_model_module": "@jupyter-widgets/controls",
      "_model_module_version": "1.5.0",
      "_model_name": "DescriptionStyleModel",
      "_view_count": null,
      "_view_module": "@jupyter-widgets/base",
      "_view_module_version": "1.2.0",
      "_view_name": "StyleView",
      "description_width": ""
     }
    },
    "d63c6f3140ae49c389876f5c6068b6ad": {
     "model_module": "@jupyter-widgets/controls",
     "model_module_version": "1.5.0",
     "model_name": "DescriptionStyleModel",
     "state": {
      "_model_module": "@jupyter-widgets/controls",
      "_model_module_version": "1.5.0",
      "_model_name": "DescriptionStyleModel",
      "_view_count": null,
      "_view_module": "@jupyter-widgets/base",
      "_view_module_version": "1.2.0",
      "_view_name": "StyleView",
      "description_width": ""
     }
    },
    "d980b6949c214e6d99227f8e0b1ef888": {
     "model_module": "@jupyter-widgets/controls",
     "model_module_version": "1.5.0",
     "model_name": "HTMLModel",
     "state": {
      "_dom_classes": [],
      "_model_module": "@jupyter-widgets/controls",
      "_model_module_version": "1.5.0",
      "_model_name": "HTMLModel",
      "_view_count": null,
      "_view_module": "@jupyter-widgets/controls",
      "_view_module_version": "1.5.0",
      "_view_name": "HTMLView",
      "description": "",
      "description_tooltip": null,
      "layout": "IPY_MODEL_3a91fdefe89f4113a1f59dd2d2475f31",
      "placeholder": "​",
      "style": "IPY_MODEL_4c1dabd33d6a4094aa6d3d42947caafd",
      "value": " 12.5M/? [00:00&lt;00:00, 84.1MB/s]"
     }
    },
    "da1fa5713a984054ba0fa7192f92f387": {
     "model_module": "@jupyter-widgets/controls",
     "model_module_version": "1.5.0",
     "model_name": "DescriptionStyleModel",
     "state": {
      "_model_module": "@jupyter-widgets/controls",
      "_model_module_version": "1.5.0",
      "_model_name": "DescriptionStyleModel",
      "_view_count": null,
      "_view_module": "@jupyter-widgets/base",
      "_view_module_version": "1.2.0",
      "_view_name": "StyleView",
      "description_width": ""
     }
    },
    "db01495f3bf043b2b8a669eaa6943d58": {
     "model_module": "@jupyter-widgets/base",
     "model_module_version": "1.2.0",
     "model_name": "LayoutModel",
     "state": {
      "_model_module": "@jupyter-widgets/base",
      "_model_module_version": "1.2.0",
      "_model_name": "LayoutModel",
      "_view_count": null,
      "_view_module": "@jupyter-widgets/base",
      "_view_module_version": "1.2.0",
      "_view_name": "LayoutView",
      "align_content": null,
      "align_items": null,
      "align_self": null,
      "border": null,
      "bottom": null,
      "display": null,
      "flex": null,
      "flex_flow": null,
      "grid_area": null,
      "grid_auto_columns": null,
      "grid_auto_flow": null,
      "grid_auto_rows": null,
      "grid_column": null,
      "grid_gap": null,
      "grid_row": null,
      "grid_template_areas": null,
      "grid_template_columns": null,
      "grid_template_rows": null,
      "height": null,
      "justify_content": null,
      "justify_items": null,
      "left": null,
      "margin": null,
      "max_height": null,
      "max_width": null,
      "min_height": null,
      "min_width": null,
      "object_fit": null,
      "object_position": null,
      "order": null,
      "overflow": null,
      "overflow_x": null,
      "overflow_y": null,
      "padding": null,
      "right": null,
      "top": null,
      "visibility": null,
      "width": null
     }
    },
    "dd92e5b120c245ebb30c00b600ce06f3": {
     "model_module": "@jupyter-widgets/controls",
     "model_module_version": "1.5.0",
     "model_name": "ProgressStyleModel",
     "state": {
      "_model_module": "@jupyter-widgets/controls",
      "_model_module_version": "1.5.0",
      "_model_name": "ProgressStyleModel",
      "_view_count": null,
      "_view_module": "@jupyter-widgets/base",
      "_view_module_version": "1.2.0",
      "_view_name": "StyleView",
      "bar_color": null,
      "description_width": ""
     }
    },
    "e601adfc78114cac9f978206c10e3e40": {
     "model_module": "@jupyter-widgets/base",
     "model_module_version": "1.2.0",
     "model_name": "LayoutModel",
     "state": {
      "_model_module": "@jupyter-widgets/base",
      "_model_module_version": "1.2.0",
      "_model_name": "LayoutModel",
      "_view_count": null,
      "_view_module": "@jupyter-widgets/base",
      "_view_module_version": "1.2.0",
      "_view_name": "LayoutView",
      "align_content": null,
      "align_items": null,
      "align_self": null,
      "border": null,
      "bottom": null,
      "display": null,
      "flex": null,
      "flex_flow": null,
      "grid_area": null,
      "grid_auto_columns": null,
      "grid_auto_flow": null,
      "grid_auto_rows": null,
      "grid_column": null,
      "grid_gap": null,
      "grid_row": null,
      "grid_template_areas": null,
      "grid_template_columns": null,
      "grid_template_rows": null,
      "height": null,
      "justify_content": null,
      "justify_items": null,
      "left": null,
      "margin": null,
      "max_height": null,
      "max_width": null,
      "min_height": null,
      "min_width": null,
      "object_fit": null,
      "object_position": null,
      "order": null,
      "overflow": null,
      "overflow_x": null,
      "overflow_y": null,
      "padding": null,
      "right": null,
      "top": null,
      "visibility": null,
      "width": null
     }
    },
    "e9212d6a2cef4531a522889b2c3d4f0f": {
     "model_module": "@jupyter-widgets/controls",
     "model_module_version": "1.5.0",
     "model_name": "FloatProgressModel",
     "state": {
      "_dom_classes": [],
      "_model_module": "@jupyter-widgets/controls",
      "_model_module_version": "1.5.0",
      "_model_name": "FloatProgressModel",
      "_view_count": null,
      "_view_module": "@jupyter-widgets/controls",
      "_view_module_version": "1.5.0",
      "_view_name": "ProgressView",
      "bar_style": "success",
      "description": "",
      "description_tooltip": null,
      "layout": "IPY_MODEL_37693f196b5340c99099d8658c35ef30",
      "max": 5104,
      "min": 0,
      "orientation": "horizontal",
      "style": "IPY_MODEL_6bc6ffc8c1294594b980d30c4452ceb4",
      "value": 5104
     }
    },
    "ea47cad676d14813a38a491bd9868491": {
     "model_module": "@jupyter-widgets/base",
     "model_module_version": "1.2.0",
     "model_name": "LayoutModel",
     "state": {
      "_model_module": "@jupyter-widgets/base",
      "_model_module_version": "1.2.0",
      "_model_name": "LayoutModel",
      "_view_count": null,
      "_view_module": "@jupyter-widgets/base",
      "_view_module_version": "1.2.0",
      "_view_name": "LayoutView",
      "align_content": null,
      "align_items": null,
      "align_self": null,
      "border": null,
      "bottom": null,
      "display": null,
      "flex": null,
      "flex_flow": null,
      "grid_area": null,
      "grid_auto_columns": null,
      "grid_auto_flow": null,
      "grid_auto_rows": null,
      "grid_column": null,
      "grid_gap": null,
      "grid_row": null,
      "grid_template_areas": null,
      "grid_template_columns": null,
      "grid_template_rows": null,
      "height": null,
      "justify_content": null,
      "justify_items": null,
      "left": null,
      "margin": null,
      "max_height": null,
      "max_width": null,
      "min_height": null,
      "min_width": null,
      "object_fit": null,
      "object_position": null,
      "order": null,
      "overflow": null,
      "overflow_x": null,
      "overflow_y": null,
      "padding": null,
      "right": null,
      "top": null,
      "visibility": null,
      "width": null
     }
    },
    "eb28a04e06454142bdd0b9aa246e13bd": {
     "model_module": "@jupyter-widgets/controls",
     "model_module_version": "1.5.0",
     "model_name": "HTMLModel",
     "state": {
      "_dom_classes": [],
      "_model_module": "@jupyter-widgets/controls",
      "_model_module_version": "1.5.0",
      "_model_name": "HTMLModel",
      "_view_count": null,
      "_view_module": "@jupyter-widgets/controls",
      "_view_module_version": "1.5.0",
      "_view_name": "HTMLView",
      "description": "",
      "description_tooltip": null,
      "layout": "IPY_MODEL_db01495f3bf043b2b8a669eaa6943d58",
      "placeholder": "​",
      "style": "IPY_MODEL_bc3eb18e38724c5d8cb19228c74a2bae",
      "value": "Downloading (…)lve/main/config.json: 100%"
     }
    },
    "ee1a27bbf10a419fb1e2413a721f90bc": {
     "model_module": "@jupyter-widgets/base",
     "model_module_version": "1.2.0",
     "model_name": "LayoutModel",
     "state": {
      "_model_module": "@jupyter-widgets/base",
      "_model_module_version": "1.2.0",
      "_model_name": "LayoutModel",
      "_view_count": null,
      "_view_module": "@jupyter-widgets/base",
      "_view_module_version": "1.2.0",
      "_view_name": "LayoutView",
      "align_content": null,
      "align_items": null,
      "align_self": null,
      "border": null,
      "bottom": null,
      "display": null,
      "flex": null,
      "flex_flow": null,
      "grid_area": null,
      "grid_auto_columns": null,
      "grid_auto_flow": null,
      "grid_auto_rows": null,
      "grid_column": null,
      "grid_gap": null,
      "grid_row": null,
      "grid_template_areas": null,
      "grid_template_columns": null,
      "grid_template_rows": null,
      "height": null,
      "justify_content": null,
      "justify_items": null,
      "left": null,
      "margin": null,
      "max_height": null,
      "max_width": null,
      "min_height": null,
      "min_width": null,
      "object_fit": null,
      "object_position": null,
      "order": null,
      "overflow": null,
      "overflow_x": null,
      "overflow_y": null,
      "padding": null,
      "right": null,
      "top": null,
      "visibility": null,
      "width": null
     }
    },
    "ef740d2b46174ab3bc2b5e9c707a745e": {
     "model_module": "@jupyter-widgets/controls",
     "model_module_version": "1.5.0",
     "model_name": "HTMLModel",
     "state": {
      "_dom_classes": [],
      "_model_module": "@jupyter-widgets/controls",
      "_model_module_version": "1.5.0",
      "_model_name": "HTMLModel",
      "_view_count": null,
      "_view_module": "@jupyter-widgets/controls",
      "_view_module_version": "1.5.0",
      "_view_name": "HTMLView",
      "description": "",
      "description_tooltip": null,
      "layout": "IPY_MODEL_62fb3a874ab64a7abcdd028393b9c74e",
      "placeholder": "​",
      "style": "IPY_MODEL_ccd04b23dd60414d97a83b875c944da1",
      "value": " 4.14k/4.14k [00:00&lt;00:00, 148kB/s]"
     }
    },
    "ef7f2774c547401194dd74f3bccb1658": {
     "model_module": "@jupyter-widgets/controls",
     "model_module_version": "1.5.0",
     "model_name": "HTMLModel",
     "state": {
      "_dom_classes": [],
      "_model_module": "@jupyter-widgets/controls",
      "_model_module_version": "1.5.0",
      "_model_name": "HTMLModel",
      "_view_count": null,
      "_view_module": "@jupyter-widgets/controls",
      "_view_module_version": "1.5.0",
      "_view_name": "HTMLView",
      "description": "",
      "description_tooltip": null,
      "layout": "IPY_MODEL_745d5b4dcc4649eaacaeb5e4f6efbe6f",
      "placeholder": "​",
      "style": "IPY_MODEL_a12ac58d362c4a469193a765b19b3157",
      "value": "Downloading pytorch_model.bin: 100%"
     }
    },
    "f30e59cf07ce4f17b99a57b5e72d5fa5": {
     "model_module": "@jupyter-widgets/base",
     "model_module_version": "1.2.0",
     "model_name": "LayoutModel",
     "state": {
      "_model_module": "@jupyter-widgets/base",
      "_model_module_version": "1.2.0",
      "_model_name": "LayoutModel",
      "_view_count": null,
      "_view_module": "@jupyter-widgets/base",
      "_view_module_version": "1.2.0",
      "_view_name": "LayoutView",
      "align_content": null,
      "align_items": null,
      "align_self": null,
      "border": null,
      "bottom": null,
      "display": null,
      "flex": null,
      "flex_flow": null,
      "grid_area": null,
      "grid_auto_columns": null,
      "grid_auto_flow": null,
      "grid_auto_rows": null,
      "grid_column": null,
      "grid_gap": null,
      "grid_row": null,
      "grid_template_areas": null,
      "grid_template_columns": null,
      "grid_template_rows": null,
      "height": null,
      "justify_content": null,
      "justify_items": null,
      "left": null,
      "margin": null,
      "max_height": null,
      "max_width": null,
      "min_height": null,
      "min_width": null,
      "object_fit": null,
      "object_position": null,
      "order": null,
      "overflow": null,
      "overflow_x": null,
      "overflow_y": null,
      "padding": null,
      "right": null,
      "top": null,
      "visibility": null,
      "width": null
     }
    },
    "f595aa1c908a45938b8edbf6bb938163": {
     "model_module": "@jupyter-widgets/base",
     "model_module_version": "1.2.0",
     "model_name": "LayoutModel",
     "state": {
      "_model_module": "@jupyter-widgets/base",
      "_model_module_version": "1.2.0",
      "_model_name": "LayoutModel",
      "_view_count": null,
      "_view_module": "@jupyter-widgets/base",
      "_view_module_version": "1.2.0",
      "_view_name": "LayoutView",
      "align_content": null,
      "align_items": null,
      "align_self": null,
      "border": null,
      "bottom": null,
      "display": null,
      "flex": null,
      "flex_flow": null,
      "grid_area": null,
      "grid_auto_columns": null,
      "grid_auto_flow": null,
      "grid_auto_rows": null,
      "grid_column": null,
      "grid_gap": null,
      "grid_row": null,
      "grid_template_areas": null,
      "grid_template_columns": null,
      "grid_template_rows": null,
      "height": null,
      "justify_content": null,
      "justify_items": null,
      "left": null,
      "margin": null,
      "max_height": null,
      "max_width": null,
      "min_height": null,
      "min_width": null,
      "object_fit": null,
      "object_position": null,
      "order": null,
      "overflow": null,
      "overflow_x": null,
      "overflow_y": null,
      "padding": null,
      "right": null,
      "top": null,
      "visibility": null,
      "width": null
     }
    },
    "f7355f3a35e647128595bebb82dae1dc": {
     "model_module": "@jupyter-widgets/controls",
     "model_module_version": "1.5.0",
     "model_name": "HTMLModel",
     "state": {
      "_dom_classes": [],
      "_model_module": "@jupyter-widgets/controls",
      "_model_module_version": "1.5.0",
      "_model_name": "HTMLModel",
      "_view_count": null,
      "_view_module": "@jupyter-widgets/controls",
      "_view_module_version": "1.5.0",
      "_view_name": "HTMLView",
      "description": "",
      "description_tooltip": null,
      "layout": "IPY_MODEL_120df7bbde9b4b3aacff62d49e4c4a98",
      "placeholder": "​",
      "style": "IPY_MODEL_23403539b5c74769aa55f163a2237665",
      "value": "Downloading (…)okenizer_config.json: 100%"
     }
    },
    "fbc20a137c7441c6a50007abde49c21c": {
     "model_module": "@jupyter-widgets/controls",
     "model_module_version": "1.5.0",
     "model_name": "ProgressStyleModel",
     "state": {
      "_model_module": "@jupyter-widgets/controls",
      "_model_module_version": "1.5.0",
      "_model_name": "ProgressStyleModel",
      "_view_count": null,
      "_view_module": "@jupyter-widgets/base",
      "_view_module_version": "1.2.0",
      "_view_name": "StyleView",
      "bar_color": null,
      "description_width": ""
     }
    },
    "fc1378e772d340ce950033c14e3a12ed": {
     "model_module": "@jupyter-widgets/controls",
     "model_module_version": "1.5.0",
     "model_name": "FloatProgressModel",
     "state": {
      "_dom_classes": [],
      "_model_module": "@jupyter-widgets/controls",
      "_model_module_version": "1.5.0",
      "_model_name": "FloatProgressModel",
      "_view_count": null,
      "_view_module": "@jupyter-widgets/controls",
      "_view_module_version": "1.5.0",
      "_view_name": "ProgressView",
      "bar_style": "success",
      "description": "",
      "description_tooltip": null,
      "layout": "IPY_MODEL_97d7d554bb7741fcb22d2ad016bea459",
      "max": 1344980,
      "min": 0,
      "orientation": "horizontal",
      "style": "IPY_MODEL_fbc20a137c7441c6a50007abde49c21c",
      "value": 1344980
     }
    },
    "fd9fb999aced4395893b4a8de1df1477": {
     "model_module": "@jupyter-widgets/controls",
     "model_module_version": "1.5.0",
     "model_name": "DescriptionStyleModel",
     "state": {
      "_model_module": "@jupyter-widgets/controls",
      "_model_module_version": "1.5.0",
      "_model_name": "DescriptionStyleModel",
      "_view_count": null,
      "_view_module": "@jupyter-widgets/base",
      "_view_module_version": "1.2.0",
      "_view_name": "StyleView",
      "description_width": ""
     }
    }
   }
  }
 },
 "nbformat": 4,
 "nbformat_minor": 4
}
